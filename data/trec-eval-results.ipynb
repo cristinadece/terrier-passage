{
 "cells": [
  {
   "cell_type": "code",
   "execution_count": 72,
   "metadata": {
    "collapsed": true
   },
   "outputs": [],
   "source": [
    "%matplotlib inline\n",
    "\n",
    "import matplotlib\n",
    "import numpy as np\n",
    "import matplotlib.pyplot as plt"
   ]
  },
  {
   "cell_type": "code",
   "execution_count": 73,
   "metadata": {},
   "outputs": [],
   "source": [
    "# Read from file\n",
    "ndcgPerQuery1 = list()\n",
    "with open('ndcg-bm25-0-per-query.txt', \"r\") as f:\n",
    "    for line in f:\n",
    "        lineCols = line.split()\n",
    "        ndcgPerQuery1.append(tuple([int(lineCols[1]), float(lineCols[2])]))  "
   ]
  },
  {
   "cell_type": "code",
   "execution_count": 74,
   "metadata": {
    "collapsed": true
   },
   "outputs": [],
   "source": [
    "ndcgPerQuery2 = list()\n",
    "with open('ndcg-bm25-11-per-query.txt', \"r\") as f:\n",
    "    for line in f:\n",
    "        lineCols = line.split()\n",
    "        ndcgPerQuery2.append(tuple([int(lineCols[1]), float(lineCols[2])]))  "
   ]
  },
  {
   "cell_type": "code",
   "execution_count": 75,
   "metadata": {},
   "outputs": [
    {
     "name": "stdout",
     "output_type": "stream",
     "text": [
      "[(51, 0.3394), (52, 0.54), (53, 0.2952), (54, 0.3886), (55, 0.3461), (56, 0.2102), (57, 0.2886), (58, 0.3618), (59, 0.1227), (60, 0.4187), (61, 0.2809), (62, 0.4688), (63, 0.4734), (64, 0.217), (65, 0.4632), (66, 0.0529), (67, 0.4134), (68, 0.1968), (69, 0.1073), (70, 0.0), (71, 0.0566), (72, 0.0113), (73, 0.4265), (74, 0.1884), (75, 0.5013), (76, 0.1986), (77, 0.2631), (78, 0.0599), (79, 0.3964), (80, 0.3347), (81, 0.1607), (82, 0.2284), (83, 0.0327), (84, 0.5485), (85, 0.1485), (86, 0.6171), (87, 0.1223), (88, 0.3733), (89, 0.4435), (90, 0.3307), (91, 0.1909), (92, 0.0129), (93, 0.3226), (94, 0.2059), (96, 0.4118), (97, 0.1195), (98, 0.1595), (99, 0.0181)]\n",
      "[(51, 0.3224), (52, 0.3988), (53, 0.2704), (54, 0.3233), (55, 0.4081), (56, 0.2649), (57, 0.2159), (58, 0.3271), (59, 0.1508), (60, 0.347), (61, 0.1102), (62, 0.4084), (63, 0.4533), (64, 0.2256), (65, 0.479), (66, 0.0578), (67, 0.3005), (68, 0.2309), (69, 0.0631), (70, 0.0), (71, 0.0781), (72, 0.0393), (73, 0.3853), (74, 0.1782), (75, 0.562), (76, 0.1834), (77, 0.1306), (78, 0.1123), (79, 0.4477), (80, 0.2291), (81, 0.0285), (82, 0.1802), (83, 0.0645), (84, 0.4287), (85, 0.0892), (86, 0.4175), (87, 0.0694), (88, 0.1917), (89, 0.4463), (90, 0.4251), (91, 0.2873), (92, 0.0), (93, 0.2411), (94, 0.053), (96, 0.3072), (97, 0.1055), (98, 0.0784), (99, 0.0239)]\n"
     ]
    }
   ],
   "source": [
    "print ndcgPerQuery1\n",
    "print ndcgPerQuery2"
   ]
  },
  {
   "cell_type": "code",
   "execution_count": 76,
   "metadata": {
    "collapsed": true
   },
   "outputs": [],
   "source": [
    "query_id1, ndcg1 = zip(*ndcgPerQuery1)\n",
    "query_id2, ndcg2 = zip(*ndcgPerQuery2)"
   ]
  },
  {
   "cell_type": "code",
   "execution_count": 77,
   "metadata": {},
   "outputs": [
    {
     "data": {
      "text/plain": [
       "<Container object of 48 artists>"
      ]
     },
     "execution_count": 77,
     "metadata": {},
     "output_type": "execute_result"
    },
    {
     "data": {
      "image/png": "[encoded data removed]",
      "text/plain": [
       "<matplotlib.figure.Figure at 0x1124f4490>"
      ]
     },
     "metadata": {},
     "output_type": "display_data"
    }
   ],
   "source": [
    "plt.bar(query_id1, ndcg1, width=1/1.5, color=\"blue\")\n"
   ]
  },
  {
   "cell_type": "code",
   "execution_count": 78,
   "metadata": {},
   "outputs": [
    {
     "data": {
      "text/plain": [
       "<Container object of 48 artists>"
      ]
     },
     "execution_count": 78,
     "metadata": {},
     "output_type": "execute_result"
    },
    {
     "data": {
      "image/png": "[encoded data removed]",
      "text/plain": [
       "<matplotlib.figure.Figure at 0x1121d2290>"
      ]
     },
     "metadata": {},
     "output_type": "display_data"
    }
   ],
   "source": [
    "plt.bar(query_id2, ndcg2, width=1/1.5, color=\"red\")"
   ]
  },
  {
   "cell_type": "code",
   "execution_count": 79,
   "metadata": {},
   "outputs": [
    {
     "data": {
      "text/plain": [
       "<Container object of 48 artists>"
      ]
     },
     "execution_count": 79,
     "metadata": {},
     "output_type": "execute_result"
    },
    {
     "data": {
      "image/png": "[encoded data removed]",
      "text/plain": [
       "<matplotlib.figure.Figure at 0x11305f350>"
      ]
     },
     "metadata": {},
     "output_type": "display_data"
    }
   ],
   "source": [
    "plt.bar(query_id2, np.array(ndcg2)-np.array(ndcg1), width=1/1.5, color=\"green\")"
   ]
  },
  {
   "cell_type": "code",
   "execution_count": 80,
   "metadata": {},
   "outputs": [],
   "source": [
    "import pandas as pd\n",
    "df1 = pd.DataFrame(ndcgPerQuery1, columns=['Query_id1', 'NDCG1'])\n",
    "df2 = pd.DataFrame(ndcgPerQuery2, columns=['Query_id2', 'NDCG2'])"
   ]
  },
  {
   "cell_type": "code",
   "execution_count": 81,
   "metadata": {},
   "outputs": [],
   "source": [
    "frames = [df1, df2[\"NDCG2\"]]\n",
    "result = pd.concat(frames,  axis=1, join='inner')"
   ]
  },
  {
   "cell_type": "code",
   "execution_count": 83,
   "metadata": {},
   "outputs": [
    {
     "data": {
      "text/html": [
       "<div>\n",
       "<style>\n",
       "    .dataframe thead tr:only-child th {\n",
       "        text-align: right;\n",
       "    }\n",
       "\n",
       "    .dataframe thead th {\n",
       "        text-align: left;\n",
       "    }\n",
       "\n",
       "    .dataframe tbody tr th {\n",
       "        vertical-align: top;\n",
       "    }\n",
       "</style>\n",
       "<table border=\"1\" class=\"dataframe\">\n",
       "  <thead>\n",
       "    <tr style=\"text-align: right;\">\n",
       "      <th></th>\n",
       "      <th>Query_id1</th>\n",
       "      <th>NDCG1</th>\n",
       "      <th>NDCG2</th>\n",
       "      <th>MaxNDCG</th>\n",
       "    </tr>\n",
       "  </thead>\n",
       "  <tbody>\n",
       "    <tr>\n",
       "      <th>0</th>\n",
       "      <td>51</td>\n",
       "      <td>0.3394</td>\n",
       "      <td>0.3224</td>\n",
       "      <td>0.3394</td>\n",
       "    </tr>\n",
       "    <tr>\n",
       "      <th>1</th>\n",
       "      <td>52</td>\n",
       "      <td>0.5400</td>\n",
       "      <td>0.3988</td>\n",
       "      <td>0.5400</td>\n",
       "    </tr>\n",
       "    <tr>\n",
       "      <th>2</th>\n",
       "      <td>53</td>\n",
       "      <td>0.2952</td>\n",
       "      <td>0.2704</td>\n",
       "      <td>0.2952</td>\n",
       "    </tr>\n",
       "    <tr>\n",
       "      <th>3</th>\n",
       "      <td>54</td>\n",
       "      <td>0.3886</td>\n",
       "      <td>0.3233</td>\n",
       "      <td>0.3886</td>\n",
       "    </tr>\n",
       "    <tr>\n",
       "      <th>4</th>\n",
       "      <td>55</td>\n",
       "      <td>0.3461</td>\n",
       "      <td>0.4081</td>\n",
       "      <td>0.4081</td>\n",
       "    </tr>\n",
       "    <tr>\n",
       "      <th>5</th>\n",
       "      <td>56</td>\n",
       "      <td>0.2102</td>\n",
       "      <td>0.2649</td>\n",
       "      <td>0.2649</td>\n",
       "    </tr>\n",
       "    <tr>\n",
       "      <th>6</th>\n",
       "      <td>57</td>\n",
       "      <td>0.2886</td>\n",
       "      <td>0.2159</td>\n",
       "      <td>0.2886</td>\n",
       "    </tr>\n",
       "    <tr>\n",
       "      <th>7</th>\n",
       "      <td>58</td>\n",
       "      <td>0.3618</td>\n",
       "      <td>0.3271</td>\n",
       "      <td>0.3618</td>\n",
       "    </tr>\n",
       "    <tr>\n",
       "      <th>8</th>\n",
       "      <td>59</td>\n",
       "      <td>0.1227</td>\n",
       "      <td>0.1508</td>\n",
       "      <td>0.1508</td>\n",
       "    </tr>\n",
       "    <tr>\n",
       "      <th>9</th>\n",
       "      <td>60</td>\n",
       "      <td>0.4187</td>\n",
       "      <td>0.3470</td>\n",
       "      <td>0.4187</td>\n",
       "    </tr>\n",
       "    <tr>\n",
       "      <th>10</th>\n",
       "      <td>61</td>\n",
       "      <td>0.2809</td>\n",
       "      <td>0.1102</td>\n",
       "      <td>0.2809</td>\n",
       "    </tr>\n",
       "    <tr>\n",
       "      <th>11</th>\n",
       "      <td>62</td>\n",
       "      <td>0.4688</td>\n",
       "      <td>0.4084</td>\n",
       "      <td>0.4688</td>\n",
       "    </tr>\n",
       "    <tr>\n",
       "      <th>12</th>\n",
       "      <td>63</td>\n",
       "      <td>0.4734</td>\n",
       "      <td>0.4533</td>\n",
       "      <td>0.4734</td>\n",
       "    </tr>\n",
       "    <tr>\n",
       "      <th>13</th>\n",
       "      <td>64</td>\n",
       "      <td>0.2170</td>\n",
       "      <td>0.2256</td>\n",
       "      <td>0.2256</td>\n",
       "    </tr>\n",
       "    <tr>\n",
       "      <th>14</th>\n",
       "      <td>65</td>\n",
       "      <td>0.4632</td>\n",
       "      <td>0.4790</td>\n",
       "      <td>0.4790</td>\n",
       "    </tr>\n",
       "    <tr>\n",
       "      <th>15</th>\n",
       "      <td>66</td>\n",
       "      <td>0.0529</td>\n",
       "      <td>0.0578</td>\n",
       "      <td>0.0578</td>\n",
       "    </tr>\n",
       "    <tr>\n",
       "      <th>16</th>\n",
       "      <td>67</td>\n",
       "      <td>0.4134</td>\n",
       "      <td>0.3005</td>\n",
       "      <td>0.4134</td>\n",
       "    </tr>\n",
       "    <tr>\n",
       "      <th>17</th>\n",
       "      <td>68</td>\n",
       "      <td>0.1968</td>\n",
       "      <td>0.2309</td>\n",
       "      <td>0.2309</td>\n",
       "    </tr>\n",
       "    <tr>\n",
       "      <th>18</th>\n",
       "      <td>69</td>\n",
       "      <td>0.1073</td>\n",
       "      <td>0.0631</td>\n",
       "      <td>0.1073</td>\n",
       "    </tr>\n",
       "    <tr>\n",
       "      <th>19</th>\n",
       "      <td>70</td>\n",
       "      <td>0.0000</td>\n",
       "      <td>0.0000</td>\n",
       "      <td>0.0000</td>\n",
       "    </tr>\n",
       "    <tr>\n",
       "      <th>20</th>\n",
       "      <td>71</td>\n",
       "      <td>0.0566</td>\n",
       "      <td>0.0781</td>\n",
       "      <td>0.0781</td>\n",
       "    </tr>\n",
       "    <tr>\n",
       "      <th>21</th>\n",
       "      <td>72</td>\n",
       "      <td>0.0113</td>\n",
       "      <td>0.0393</td>\n",
       "      <td>0.0393</td>\n",
       "    </tr>\n",
       "    <tr>\n",
       "      <th>22</th>\n",
       "      <td>73</td>\n",
       "      <td>0.4265</td>\n",
       "      <td>0.3853</td>\n",
       "      <td>0.4265</td>\n",
       "    </tr>\n",
       "    <tr>\n",
       "      <th>23</th>\n",
       "      <td>74</td>\n",
       "      <td>0.1884</td>\n",
       "      <td>0.1782</td>\n",
       "      <td>0.1884</td>\n",
       "    </tr>\n",
       "    <tr>\n",
       "      <th>24</th>\n",
       "      <td>75</td>\n",
       "      <td>0.5013</td>\n",
       "      <td>0.5620</td>\n",
       "      <td>0.5620</td>\n",
       "    </tr>\n",
       "    <tr>\n",
       "      <th>25</th>\n",
       "      <td>76</td>\n",
       "      <td>0.1986</td>\n",
       "      <td>0.1834</td>\n",
       "      <td>0.1986</td>\n",
       "    </tr>\n",
       "    <tr>\n",
       "      <th>26</th>\n",
       "      <td>77</td>\n",
       "      <td>0.2631</td>\n",
       "      <td>0.1306</td>\n",
       "      <td>0.2631</td>\n",
       "    </tr>\n",
       "    <tr>\n",
       "      <th>27</th>\n",
       "      <td>78</td>\n",
       "      <td>0.0599</td>\n",
       "      <td>0.1123</td>\n",
       "      <td>0.1123</td>\n",
       "    </tr>\n",
       "    <tr>\n",
       "      <th>28</th>\n",
       "      <td>79</td>\n",
       "      <td>0.3964</td>\n",
       "      <td>0.4477</td>\n",
       "      <td>0.4477</td>\n",
       "    </tr>\n",
       "    <tr>\n",
       "      <th>29</th>\n",
       "      <td>80</td>\n",
       "      <td>0.3347</td>\n",
       "      <td>0.2291</td>\n",
       "      <td>0.3347</td>\n",
       "    </tr>\n",
       "    <tr>\n",
       "      <th>30</th>\n",
       "      <td>81</td>\n",
       "      <td>0.1607</td>\n",
       "      <td>0.0285</td>\n",
       "      <td>0.1607</td>\n",
       "    </tr>\n",
       "    <tr>\n",
       "      <th>31</th>\n",
       "      <td>82</td>\n",
       "      <td>0.2284</td>\n",
       "      <td>0.1802</td>\n",
       "      <td>0.2284</td>\n",
       "    </tr>\n",
       "    <tr>\n",
       "      <th>32</th>\n",
       "      <td>83</td>\n",
       "      <td>0.0327</td>\n",
       "      <td>0.0645</td>\n",
       "      <td>0.0645</td>\n",
       "    </tr>\n",
       "    <tr>\n",
       "      <th>33</th>\n",
       "      <td>84</td>\n",
       "      <td>0.5485</td>\n",
       "      <td>0.4287</td>\n",
       "      <td>0.5485</td>\n",
       "    </tr>\n",
       "    <tr>\n",
       "      <th>34</th>\n",
       "      <td>85</td>\n",
       "      <td>0.1485</td>\n",
       "      <td>0.0892</td>\n",
       "      <td>0.1485</td>\n",
       "    </tr>\n",
       "    <tr>\n",
       "      <th>35</th>\n",
       "      <td>86</td>\n",
       "      <td>0.6171</td>\n",
       "      <td>0.4175</td>\n",
       "      <td>0.6171</td>\n",
       "    </tr>\n",
       "    <tr>\n",
       "      <th>36</th>\n",
       "      <td>87</td>\n",
       "      <td>0.1223</td>\n",
       "      <td>0.0694</td>\n",
       "      <td>0.1223</td>\n",
       "    </tr>\n",
       "    <tr>\n",
       "      <th>37</th>\n",
       "      <td>88</td>\n",
       "      <td>0.3733</td>\n",
       "      <td>0.1917</td>\n",
       "      <td>0.3733</td>\n",
       "    </tr>\n",
       "    <tr>\n",
       "      <th>38</th>\n",
       "      <td>89</td>\n",
       "      <td>0.4435</td>\n",
       "      <td>0.4463</td>\n",
       "      <td>0.4463</td>\n",
       "    </tr>\n",
       "    <tr>\n",
       "      <th>39</th>\n",
       "      <td>90</td>\n",
       "      <td>0.3307</td>\n",
       "      <td>0.4251</td>\n",
       "      <td>0.4251</td>\n",
       "    </tr>\n",
       "    <tr>\n",
       "      <th>40</th>\n",
       "      <td>91</td>\n",
       "      <td>0.1909</td>\n",
       "      <td>0.2873</td>\n",
       "      <td>0.2873</td>\n",
       "    </tr>\n",
       "    <tr>\n",
       "      <th>41</th>\n",
       "      <td>92</td>\n",
       "      <td>0.0129</td>\n",
       "      <td>0.0000</td>\n",
       "      <td>0.0129</td>\n",
       "    </tr>\n",
       "    <tr>\n",
       "      <th>42</th>\n",
       "      <td>93</td>\n",
       "      <td>0.3226</td>\n",
       "      <td>0.2411</td>\n",
       "      <td>0.3226</td>\n",
       "    </tr>\n",
       "    <tr>\n",
       "      <th>43</th>\n",
       "      <td>94</td>\n",
       "      <td>0.2059</td>\n",
       "      <td>0.0530</td>\n",
       "      <td>0.2059</td>\n",
       "    </tr>\n",
       "    <tr>\n",
       "      <th>44</th>\n",
       "      <td>96</td>\n",
       "      <td>0.4118</td>\n",
       "      <td>0.3072</td>\n",
       "      <td>0.4118</td>\n",
       "    </tr>\n",
       "    <tr>\n",
       "      <th>45</th>\n",
       "      <td>97</td>\n",
       "      <td>0.1195</td>\n",
       "      <td>0.1055</td>\n",
       "      <td>0.1195</td>\n",
       "    </tr>\n",
       "    <tr>\n",
       "      <th>46</th>\n",
       "      <td>98</td>\n",
       "      <td>0.1595</td>\n",
       "      <td>0.0784</td>\n",
       "      <td>0.1595</td>\n",
       "    </tr>\n",
       "    <tr>\n",
       "      <th>47</th>\n",
       "      <td>99</td>\n",
       "      <td>0.0181</td>\n",
       "      <td>0.0239</td>\n",
       "      <td>0.0239</td>\n",
       "    </tr>\n",
       "  </tbody>\n",
       "</table>\n",
       "</div>"
      ],
      "text/plain": [
       "    Query_id1   NDCG1   NDCG2  MaxNDCG\n",
       "0          51  0.3394  0.3224   0.3394\n",
       "1          52  0.5400  0.3988   0.5400\n",
       "2          53  0.2952  0.2704   0.2952\n",
       "3          54  0.3886  0.3233   0.3886\n",
       "4          55  0.3461  0.4081   0.4081\n",
       "5          56  0.2102  0.2649   0.2649\n",
       "6          57  0.2886  0.2159   0.2886\n",
       "7          58  0.3618  0.3271   0.3618\n",
       "8          59  0.1227  0.1508   0.1508\n",
       "9          60  0.4187  0.3470   0.4187\n",
       "10         61  0.2809  0.1102   0.2809\n",
       "11         62  0.4688  0.4084   0.4688\n",
       "12         63  0.4734  0.4533   0.4734\n",
       "13         64  0.2170  0.2256   0.2256\n",
       "14         65  0.4632  0.4790   0.4790\n",
       "15         66  0.0529  0.0578   0.0578\n",
       "16         67  0.4134  0.3005   0.4134\n",
       "17         68  0.1968  0.2309   0.2309\n",
       "18         69  0.1073  0.0631   0.1073\n",
       "19         70  0.0000  0.0000   0.0000\n",
       "20         71  0.0566  0.0781   0.0781\n",
       "21         72  0.0113  0.0393   0.0393\n",
       "22         73  0.4265  0.3853   0.4265\n",
       "23         74  0.1884  0.1782   0.1884\n",
       "24         75  0.5013  0.5620   0.5620\n",
       "25         76  0.1986  0.1834   0.1986\n",
       "26         77  0.2631  0.1306   0.2631\n",
       "27         78  0.0599  0.1123   0.1123\n",
       "28         79  0.3964  0.4477   0.4477\n",
       "29         80  0.3347  0.2291   0.3347\n",
       "30         81  0.1607  0.0285   0.1607\n",
       "31         82  0.2284  0.1802   0.2284\n",
       "32         83  0.0327  0.0645   0.0645\n",
       "33         84  0.5485  0.4287   0.5485\n",
       "34         85  0.1485  0.0892   0.1485\n",
       "35         86  0.6171  0.4175   0.6171\n",
       "36         87  0.1223  0.0694   0.1223\n",
       "37         88  0.3733  0.1917   0.3733\n",
       "38         89  0.4435  0.4463   0.4463\n",
       "39         90  0.3307  0.4251   0.4251\n",
       "40         91  0.1909  0.2873   0.2873\n",
       "41         92  0.0129  0.0000   0.0129\n",
       "42         93  0.3226  0.2411   0.3226\n",
       "43         94  0.2059  0.0530   0.2059\n",
       "44         96  0.4118  0.3072   0.4118\n",
       "45         97  0.1195  0.1055   0.1195\n",
       "46         98  0.1595  0.0784   0.1595\n",
       "47         99  0.0181  0.0239   0.0239"
      ]
     },
     "execution_count": 83,
     "metadata": {},
     "output_type": "execute_result"
    }
   ],
   "source": [
    "result[\"MaxNDCG\"] = result[[\"NDCG1\", \"NDCG2\"]].max(axis=1)\n",
    "result"
   ]
  },
  {
   "cell_type": "code",
   "execution_count": 84,
   "metadata": {},
   "outputs": [
    {
     "data": {
      "text/plain": [
       "0.28170833333333334"
      ]
     },
     "execution_count": 84,
     "metadata": {},
     "output_type": "execute_result"
    }
   ],
   "source": [
    "# mean MaxNDCG\n",
    "result[\"MaxNDCG\"].mean()"
   ]
  },
  {
   "cell_type": "code",
   "execution_count": 86,
   "metadata": {},
   "outputs": [
    {
     "data": {
      "image/png": "[encoded data removed]",
      "text/plain": [
       "<matplotlib.figure.Figure at 0x113f94690>"
      ]
     },
     "metadata": {},
     "output_type": "display_data"
    }
   ],
   "source": [
    "plt.style.use('ggplot')\n",
    "fig = plt.figure(figsize=(20,10)) # Create matplotlib figure\n",
    "\n",
    "ax = fig.add_subplot(111) # Create matplotlib axes\n",
    "ax2 = ax.twinx() # Create another axes that shares the same x-axis as ax.\n",
    "\n",
    "width = 0.4\n",
    "\n",
    "result.NDCG1.plot(kind='bar', color='blue', ax=ax, width=width, position=1)\n",
    "result.NDCG2.plot(kind='bar', color='red', ax=ax2, width=width, position=0)\n",
    "\n",
    "ax.set_ylabel('NDCG1')\n",
    "ax2.set_ylabel('NDCG2')\n",
    "\n",
    "plt.show()"
   ]
  },
  {
   "cell_type": "code",
   "execution_count": null,
   "metadata": {
    "collapsed": true
   },
   "outputs": [],
   "source": []
  }
 ],
 "metadata": {
  "kernelspec": {
   "display_name": "Python 2",
   "language": "python",
   "name": "python2"
  },
  "language_info": {
   "codemirror_mode": {
    "name": "ipython",
    "version": 2
   },
   "file_extension": ".py",
   "mimetype": "text/x-python",
   "name": "python",
   "nbconvert_exporter": "python",
   "pygments_lexer": "ipython2",
   "version": "2.7.13"
  }
 },
 "nbformat": 4,
 "nbformat_minor": 2
}
