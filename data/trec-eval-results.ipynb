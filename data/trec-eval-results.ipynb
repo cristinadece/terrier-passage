{
 "cells": [
  {
   "cell_type": "code",
   "execution_count": null,
   "metadata": {
    "collapsed": true
   },
   "outputs": [],
   "source": [
    "%matplotlib inline\n",
    "\n",
    "import matplotlib\n",
    "import numpy as np\n",
    "import matplotlib.pyplot as plt"
   ]
  },
  {
   "cell_type": "code",
   "execution_count": null,
   "metadata": {
    "collapsed": true
   },
   "outputs": [],
   "source": [
    "# Read from file\n",
    "ndcgPerQuery1 = list()\n",
    "with open('ndcg-bm25-0-per-query.txt', \"r\") as f:\n",
    "    for line in f:\n",
    "        lineCols = line.split()\n",
    "        ndcgPerQuery1.append(tuple([int(lineCols[1]), float(lineCols[2])]))  "
   ]
  },
  {
   "cell_type": "code",
   "execution_count": null,
   "metadata": {
    "collapsed": true
   },
   "outputs": [],
   "source": [
    "ndcgPerQuery2 = list()\n",
    "with open('ndcg-bm25-11-per-query.txt', \"r\") as f:\n",
    "    for line in f:\n",
    "        lineCols = line.split()\n",
    "        ndcgPerQuery2.append(tuple([int(lineCols[1]), float(lineCols[2])]))  "
   ]
  },
  {
   "cell_type": "code",
   "execution_count": null,
   "metadata": {
    "collapsed": true
   },
   "outputs": [],
   "source": [
    "print ndcgPerQuery1\n",
    "print ndcgPerQuery2"
   ]
  },
  {
   "cell_type": "code",
   "execution_count": null,
   "metadata": {
    "collapsed": true
   },
   "outputs": [],
   "source": [
    "query_id1, ndcg1 = zip(*ndcgPerQuery1)\n",
    "query_id2, ndcg2 = zip(*ndcgPerQuery2)"
   ]
  },
  {
   "cell_type": "code",
   "execution_count": null,
   "metadata": {
    "collapsed": true
   },
   "outputs": [],
   "source": [
    "plt.bar(query_id1, ndcg1, width=1/1.5, color=\"blue\")\n"
   ]
  },
  {
   "cell_type": "code",
   "execution_count": null,
   "metadata": {
    "collapsed": true
   },
   "outputs": [],
   "source": [
    "plt.bar(query_id2, ndcg2, width=1/1.5, color=\"red\")"
   ]
  },
  {
   "cell_type": "code",
   "execution_count": null,
   "metadata": {
    "collapsed": true
   },
   "outputs": [],
   "source": [
    "plt.bar(query_id2, np.array(ndcg2)-np.array(ndcg1), width=1/1.5, color=\"green\")"
   ]
  },
  {
   "cell_type": "code",
   "execution_count": null,
   "metadata": {
    "collapsed": true
   },
   "outputs": [],
   "source": [
    "import pandas as pd\n",
    "df1 = pd.DataFrame(ndcgPerQuery1, columns=['Query_id1', 'NDCG1'])\n",
    "df2 = pd.DataFrame(ndcgPerQuery2, columns=['Query_id2', 'NDCG2'])"
   ]
  },
  {
   "cell_type": "code",
   "execution_count": null,
   "metadata": {
    "collapsed": true
   },
   "outputs": [],
   "source": [
    "frames = [df1, df2[\"NDCG2\"]]\n",
    "result = pd.concat(frames,  axis=1, join='inner')"
   ]
  },
  {
   "cell_type": "code",
   "execution_count": null,
   "metadata": {
    "collapsed": true
   },
   "outputs": [],
   "source": [
    "result[\"MaxNDCG\"] = result[[\"NDCG1\", \"NDCG2\"]].max(axis=1)\n",
    "result"
   ]
  },
  {
   "cell_type": "code",
   "execution_count": null,
   "metadata": {
    "collapsed": true
   },
   "outputs": [],
   "source": [
    "# mean MaxNDCG\n",
    "result[\"MaxNDCG\"].mean()"
   ]
  },
  {
   "cell_type": "code",
   "execution_count": null,
   "metadata": {
    "collapsed": true
   },
   "outputs": [],
   "source": [
    "plt.style.use('ggplot')\n",
    "fig = plt.figure(figsize=(20,10)) # Create matplotlib figure\n",
    "\n",
    "ax = fig.add_subplot(111) # Create matplotlib axes\n",
    "ax2 = ax.twinx() # Create another axes that shares the same x-axis as ax.\n",
    "\n",
    "width = 0.4\n",
    "\n",
    "result.NDCG1.plot(kind='bar', color='blue', ax=ax, width=width, position=1)\n",
    "result.NDCG2.plot(kind='bar', color='red', ax=ax2, width=width, position=0)\n",
    "\n",
    "ax.set_ylabel('NDCG1')\n",
    "ax2.set_ylabel('NDCG2')\n",
    "\n",
    "plt.show()"
   ]
  },
  {
   "cell_type": "code",
   "execution_count": null,
   "metadata": {
    "collapsed": true
   },
   "outputs": [],
   "source": []
  }
 ],
 "metadata": {
  "kernelspec": {
   "display_name": "Python 2",
   "language": "python",
   "name": "python2"
  },
  "language_info": {
   "codemirror_mode": {
    "name": "ipython",
    "version": 3
   },
   "file_extension": ".py",
   "mimetype": "text/x-python",
   "name": "python",
   "nbconvert_exporter": "python",
   "pygments_lexer": "ipython3",
   "version": "3.6.3"
  }
 },
 "nbformat": 4,
 "nbformat_minor": 2
}
