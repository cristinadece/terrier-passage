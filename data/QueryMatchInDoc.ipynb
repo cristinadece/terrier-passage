{
 "cells": [
  {
   "cell_type": "code",
   "execution_count": null,
   "metadata": {
    "collapsed": true
   },
   "outputs": [],
   "source": [
    "%matplotlib inline\n",
    "\n",
    "import matplotlib\n",
    "import numpy as np\n",
    "import matplotlib.pyplot as plt\n",
    "import ast\n",
    "import os\n",
    "import xml.etree.ElementTree\n",
    "from collections import Counter, defaultdict\n",
    "import pandas as pd"
   ]
  },
  {
   "cell_type": "code",
   "execution_count": null,
   "metadata": {
    "collapsed": true
   },
   "outputs": [],
   "source": [
    "def loadQidInfo():\n",
    "    qidDict = dict()\n",
    "    for filename in os.listdir(os.curdir):\n",
    "        if filename.endswith(\".xml\"):\n",
    "            e = xml.etree.ElementTree.parse(filename).getroot()\n",
    "            for query in e.findall('topic'):\n",
    "                qidDict[int(query.get(\"number\"))] = tuple([int(query.get(\"number\")), query.get(\"type\"), query[0].text])\n",
    "    return qidDict"
   ]
  },
  {
   "cell_type": "code",
   "execution_count": null,
   "metadata": {
    "collapsed": true
   },
   "outputs": [],
   "source": [
    "qidInfo = loadQidInfo()\n",
    "print len(qidInfo)\n",
    "print qidInfo[6]"
   ]
  },
  {
   "cell_type": "code",
   "execution_count": null,
   "metadata": {
    "collapsed": true
   },
   "outputs": [],
   "source": [
    "# qid docid docno doclen rel positions\n",
    "def get2Distrib(paragraph_len=100):\n",
    "    qid2rel_points={}\n",
    "    qid2irr_points={}\n",
    "    i = 0\n",
    "    with open(\"wtall_qrels_pos.clean.txt\") as f:\n",
    "        for l in f:\n",
    "            fields=l.split(\"\\t\")\n",
    "\n",
    "            qid=int(fields[0])\n",
    "            flat_list = [item for sublist in ast.literal_eval(fields[5]) for item in sublist]\n",
    "            rel=int(fields[4])\n",
    "            doclen=int(fields[3])\n",
    "\n",
    "            qid2points = None\n",
    "            if rel > 0:\n",
    "                qid2points=qid2rel_points\n",
    "            else:\n",
    "                qid2points=qid2irr_points\n",
    "            if qid not in qid2points:\n",
    "                qid2points[qid]=[]\n",
    "            qid2points[qid].append([item//paragraph_len + 1 for item in flat_list])\n",
    "     \n",
    "    return qid2rel_points, qid2irr_points"
   ]
  },
  {
   "cell_type": "code",
   "execution_count": null,
   "metadata": {
    "collapsed": true
   },
   "outputs": [],
   "source": [
    "# qid docid docno doclen rel positions\n",
    "def get2Distrib2(paragraph_len=100):\n",
    "    qid2rel_points=defaultdict(list)\n",
    "    qid2irr_points=defaultdict(list)\n",
    "    qid2rel_numpar={}\n",
    "    qid2irr_numpar={}\n",
    "    \n",
    "    i = 0\n",
    "    with open(\"wtall_qrels_pos.clean.txt\") as f:\n",
    "        for l in f:\n",
    "            fields=l.split(\"\\t\")\n",
    "\n",
    "            qid=int(fields[0])\n",
    "            flat_list = [item for sublist in ast.literal_eval(fields[5]) for item in sublist]\n",
    "            rel=int(fields[4])\n",
    "            doclen=int(fields[3])\n",
    "            num_par = int(round(doclen/paragraph_len))\n",
    "\n",
    "            qid2points = None\n",
    "            qid2numpar = None\n",
    "            if rel > 0:\n",
    "                qid2points=qid2rel_points\n",
    "                qid2numpar=qid2rel_numpar\n",
    "            else:\n",
    "                qid2points=qid2irr_points\n",
    "                qid2numpar=qid2irr_numpar\n",
    "\n",
    "            if qid not in qid2numpar:\n",
    "                qid2numpar[qid]=defaultdict(int)\n",
    "            for p in range(1, num_par+1):\n",
    "                qid2numpar[qid][p]+=1\n",
    "                \n",
    "            qid2points[qid].append([item//paragraph_len + 1 for item in flat_list])\n",
    "     \n",
    "    return qid2rel_points, qid2rel_numpar, qid2irr_points, qid2irr_numpar"
   ]
  },
  {
   "cell_type": "code",
   "execution_count": null,
   "metadata": {
    "collapsed": true
   },
   "outputs": [],
   "source": [
    "qid2rel_points, qid2rel_numpar, qid2irr_points, qid2irr_numpar = get2Distrib2(250)"
   ]
  },
  {
   "cell_type": "code",
   "execution_count": null,
   "metadata": {
    "collapsed": true
   },
   "outputs": [],
   "source": [
    "print len(qid2rel_points[1])\n",
    "print len(qid2irr_points[1])\n",
    "\n",
    "type(qid2rel_numpar)"
   ]
  },
  {
   "cell_type": "code",
   "execution_count": null,
   "metadata": {
    "collapsed": true
   },
   "outputs": [],
   "source": [
    "def countRatio(queryID, qid2rel_points, qid2irr_points):\n",
    "    \n",
    "    ex = qid2rel_points[queryID]  \n",
    "    par2numdoc = defaultdict(int)\n",
    "    par2totfreq = defaultdict(int)\n",
    "    for x in ex:\n",
    "        for y in x:\n",
    "            par2totfreq[y]+=1\n",
    "        z=set(x)\n",
    "        for y in z:\n",
    "            par2numdoc[y]+=1\n",
    "\n",
    "    ex = qid2irr_points[queryID]\n",
    "    ipar2numdoc = defaultdict(int)\n",
    "    ipar2totfreq = defaultdict(int)\n",
    "    for x in ex:\n",
    "        for y in x:\n",
    "            ipar2totfreq[y]+=1\n",
    "        z=set(x)\n",
    "        for y in z:\n",
    "            ipar2numdoc[y]+=1\n",
    "    \n",
    "    return par2numdoc, par2totfreq, ipar2numdoc, ipar2totfreq"
   ]
  },
  {
   "cell_type": "code",
   "execution_count": null,
   "metadata": {
    "collapsed": true
   },
   "outputs": [],
   "source": [
    "def countRatio2(queryID, qid2rel_points, qid2irr_points):\n",
    "    \n",
    "    ex = qid2rel_points[queryID] #all the occurrences of all the query terms in all the rel docs for qid \n",
    "    par2totfreq = defaultdict(int)\n",
    "    for x in ex:\n",
    "        #x is a document\n",
    "        for y in x: # y is a list, the occurrences of a term in x\n",
    "            par2totfreq[y]+=1\n",
    "\n",
    "    ex = qid2irr_points[queryID]\n",
    "    ipar2totfreq = defaultdict(int)\n",
    "    for x in ex:\n",
    "        for y in x:\n",
    "            ipar2totfreq[y]+=1\n",
    "    \n",
    "    return par2totfreq, ipar2totfreq"
   ]
  },
  {
   "cell_type": "code",
   "execution_count": null,
   "metadata": {
    "collapsed": true
   },
   "outputs": [],
   "source": [
    "par2totfreq, ipar2totfreq = countRatio2(2, qid2rel_points, qid2irr_points)"
   ]
  },
  {
   "cell_type": "code",
   "execution_count": null,
   "metadata": {
    "collapsed": true
   },
   "outputs": [],
   "source": [
    "df = pd.DataFrame([par2totfreq, qid2rel_numpar[2], ipar2totfreq, qid2irr_numpar[2]]).T\n",
    "\n",
    "df['RelRation'] =  df[0]/df[1]\n",
    "df['IRelRation'] =  df[2]/df[3]\n",
    "\n",
    "# df[\"deriv\"] = np.diff(df[1], axis=1)\n",
    "df"
   ]
  },
  {
   "cell_type": "code",
   "execution_count": null,
   "metadata": {
    "collapsed": true
   },
   "outputs": [],
   "source": [
    "# 2 bar plot\n",
    "\n",
    "def plot4D(df, title, maxnumpoints=100):\n",
    "\n",
    "    plt.style.use('ggplot')\n",
    "    fig = plt.figure(figsize=(20,10)) \n",
    "\n",
    "    ax = fig.add_subplot(111) \n",
    "    barax = ax.twinx()\n",
    "    \n",
    "    a = [x-1 for x in df[1].keys().tolist()]\n",
    "    \n",
    "    barax.plot(a[:maxnumpoints], df[1].iloc[:maxnumpoints], \"ko-\", label=\"RelNumDoc\")\n",
    "    barax.plot(a[:maxnumpoints], df[3].iloc[:maxnumpoints], \"g*-\", label=\"IRelNumDoc\")\n",
    "\n",
    "    width = 0.4\n",
    "    \n",
    "    df.RelRation.iloc[:maxnumpoints].plot(kind='bar', color='red', width=width, position=1, ax = ax, label=\"RelRatio\")\n",
    "    df.IRelRation.iloc[:maxnumpoints].plot(kind='bar', color='blue', width=width, position=0, ax = ax, label=\"IRelRatio\")\n",
    "    \n",
    "    barax.legend(loc=2)\n",
    "    ax.legend(loc=1)\n",
    "#     plt.legend()\n",
    "    plt.title(title)\n",
    "    \n",
    "    plt.show()"
   ]
  },
  {
   "cell_type": "code",
   "execution_count": null,
   "metadata": {
    "collapsed": true
   },
   "outputs": [],
   "source": [
    "plot4D(df, \"Query 2\")"
   ]
  },
  {
   "cell_type": "code",
   "execution_count": null,
   "metadata": {
    "collapsed": true,
    "scrolled": false
   },
   "outputs": [],
   "source": [
    "# put everything together\n",
    "i=0\n",
    "for queryId, queryInfo in qidInfo.iteritems():\n",
    "    if queryId in qid2rel_points:\n",
    "    \n",
    "        par2totfreq, ipar2totfreq = countRatio2(queryId, qid2rel_points, qid2irr_points)\n",
    "\n",
    "        df = pd.DataFrame([par2totfreq, qid2rel_numpar[queryId], ipar2totfreq, qid2irr_numpar[queryId]]).T\n",
    "        df['RelRation'] =  df[0]/df[1]\n",
    "        df['IRelRation'] =  df[2]/df[3]\n",
    "        \n",
    "#         df['RelRation'] =  df[0]\n",
    "#         df['IRelRation'] =  df[2]\n",
    "\n",
    "        plot4D(df, queryInfo)\n",
    "        i+=1\n",
    "    #     if i>5:\n",
    "    #         break"
   ]
  },
  {
   "cell_type": "code",
   "execution_count": null,
   "metadata": {
    "collapsed": true
   },
   "outputs": [],
   "source": []
  },
  {
   "cell_type": "code",
   "execution_count": null,
   "metadata": {
    "collapsed": true
   },
   "outputs": [],
   "source": []
  }
 ],
 "metadata": {
  "kernelspec": {
   "display_name": "Python 2",
   "language": "python",
   "name": "python2"
  },
  "language_info": {
   "codemirror_mode": {
    "name": "ipython",
    "version": 2
   },
   "file_extension": ".py",
   "mimetype": "text/x-python",
   "name": "python",
   "nbconvert_exporter": "python",
   "pygments_lexer": "ipython2",
   "version": "2.7.14"
  }
 },
 "nbformat": 4,
 "nbformat_minor": 2
}
