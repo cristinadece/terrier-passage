{
 "cells": [
  {
   "cell_type": "code",
   "execution_count": 9,
   "metadata": {},
   "outputs": [],
   "source": [
    "%matplotlib inline\n",
    "\n",
    "import matplotlib\n",
    "import numpy as np\n",
    "import matplotlib.pyplot as plt\n",
    "from collections import Counter"
   ]
  },
  {
   "cell_type": "code",
   "execution_count": 5,
   "metadata": {},
   "outputs": [
    {
     "name": "stdout",
     "output_type": "stream",
     "text": [
      "50220423\n"
     ]
    }
   ],
   "source": [
    "# Read from file\n",
    "data = np.genfromtxt('docLen.txt', dtype=np.int32)\n",
    "print len(data)"
   ]
  },
  {
   "cell_type": "code",
   "execution_count": 6,
   "metadata": {},
   "outputs": [
    {
     "name": "stdout",
     "output_type": "stream",
     "text": [
      "50220423\n",
      "array([ 196,   62,   67, ..., 1251, 1460,  353], dtype=int32)\n",
      "<type 'numpy.ndarray'>\n"
     ]
    }
   ],
   "source": [
    "# Data format\n",
    "print repr(data)\n",
    "print type(data)"
   ]
  },
  {
   "cell_type": "code",
   "execution_count": 25,
   "metadata": {},
   "outputs": [],
   "source": [
    "# The result is a list of tuples\n",
    "# ordered per frequency\n",
    "sorted_per_freq = Counter(data).most_common()"
   ]
  },
  {
   "cell_type": "code",
   "execution_count": 33,
   "metadata": {},
   "outputs": [
    {
     "name": "stdout",
     "output_type": "stream",
     "text": [
      "[(13, 108598), (12, 105134), (8, 91853), (7, 85537), (10, 85311), (14, 83125), (9, 80787), (6, 79963), (11, 75993), (5, 75800), (4, 73188), (15, 67333), (3, 62261), (398, 57917), (16, 57779), (377, 56829), (399, 53780), (378, 53203), (403, 51571), (156, 51173)]\n",
      "[(0, 43184), (1, 14331), (2, 36704), (3, 62261), (4, 73188), (5, 75800), (6, 79963), (7, 85537), (8, 91853), (9, 80787), (10, 85311), (11, 75993), (12, 105134), (13, 108598), (14, 83125), (15, 67333), (16, 57779), (17, 47959), (18, 41446), (19, 39934)]\n"
     ]
    }
   ],
   "source": [
    "print sorted_per_freq[:20]\n",
    "\n",
    "# ordered per length\n",
    "sorted_per_length = sorted(sorted_per_freq, key=lambda i: i[0])\n",
    "print sorted_per_length[:20]"
   ]
  },
  {
   "cell_type": "code",
   "execution_count": 56,
   "metadata": {
    "collapsed": true
   },
   "outputs": [],
   "source": [
    "# Select axes\n",
    "subdata = sorted_per_length[:2000]\n",
    "doc_len, doc_len_freq = zip(*subdata)"
   ]
  },
  {
   "cell_type": "code",
   "execution_count": 59,
   "metadata": {},
   "outputs": [
    {
     "data": {
      "text/plain": [
       "[<matplotlib.lines.Line2D at 0x115ee3750>]"
      ]
     },
     "execution_count": 59,
     "metadata": {},
     "output_type": "execute_result"
    },
    {
     "data": {
      "image/png": "[encoded data removed]",
      "text/plain": [
       "<matplotlib.figure.Figure at 0x115dd2a50>"
      ]
     },
     "metadata": {},
     "output_type": "display_data"
    }
   ],
   "source": [
    "#Plot normal scale (ordered per freq)\n",
    "plt.plot(doc_len, doc_len_freq, 'r.')\n"
   ]
  },
  {
   "cell_type": "code",
   "execution_count": 37,
   "metadata": {},
   "outputs": [
    {
     "data": {
      "text/plain": [
       "[<matplotlib.lines.Line2D at 0x11248dc10>]"
      ]
     },
     "execution_count": 37,
     "metadata": {},
     "output_type": "execute_result"
    },
    {
     "data": {
      "image/png": "[encoded data removed]",
      "text/plain": [
       "<matplotlib.figure.Figure at 0x1123d2c50>"
      ]
     },
     "metadata": {},
     "output_type": "display_data"
    }
   ],
   "source": [
    "#Plot log scale (ordered per freq)\n",
    "plt.loglog(doc_len, doc_len_freq, 'ro')"
   ]
  },
  {
   "cell_type": "code",
   "execution_count": 44,
   "metadata": {},
   "outputs": [
    {
     "data": {
      "text/plain": [
       "DescribeResult(nobs=20896, minmax=(array([0, 1]), array([219460, 108598])), mean=array([ 11925.92725881,   2403.35102412]), variance=array([  1.21253264e+08,   6.75718146e+07]), skewness=array([ 5.14585217,  4.5974525 ]), kurtosis=array([ 55.79376312,  23.16073018]))"
      ]
     },
     "execution_count": 44,
     "metadata": {},
     "output_type": "execute_result"
    }
   ],
   "source": [
    "# Stats\n",
    "from scipy import stats\n",
    "stats.describe(sorted_per_freq)"
   ]
  },
  {
   "cell_type": "code",
   "execution_count": 60,
   "metadata": {},
   "outputs": [
    {
     "data": {
      "text/plain": [
       "581.0"
      ]
     },
     "execution_count": 60,
     "metadata": {},
     "output_type": "execute_result"
    }
   ],
   "source": [
    "np.median(data)"
   ]
  },
  {
   "cell_type": "code",
   "execution_count": 65,
   "metadata": {},
   "outputs": [
    {
     "data": {
      "text/plain": [
       "242.0"
      ]
     },
     "execution_count": 65,
     "metadata": {},
     "output_type": "execute_result"
    }
   ],
   "source": [
    "np.percentile(data, 20)\n"
   ]
  },
  {
   "cell_type": "code",
   "execution_count": 64,
   "metadata": {},
   "outputs": [
    {
     "data": {
      "text/plain": [
       "DescribeResult(nobs=50220423, minmax=(0, 219460), mean=963.90333753262098, variance=1664244.2128547411, skewness=6.043190974948491, kurtosis=213.64557286174863)"
      ]
     },
     "execution_count": 64,
     "metadata": {},
     "output_type": "execute_result"
    }
   ],
   "source": [
    "stats.describe(data)"
   ]
  },
  {
   "cell_type": "code",
   "execution_count": null,
   "metadata": {
    "collapsed": true
   },
   "outputs": [],
   "source": []
  }
 ],
 "metadata": {
  "kernelspec": {
   "display_name": "Python 2",
   "language": "python",
   "name": "python2"
  },
  "language_info": {
   "codemirror_mode": {
    "name": "ipython",
    "version": 2
   },
   "file_extension": ".py",
   "mimetype": "text/x-python",
   "name": "python",
   "nbconvert_exporter": "python",
   "pygments_lexer": "ipython2",
   "version": "2.7.13"
  }
 },
 "nbformat": 4,
 "nbformat_minor": 2
}
