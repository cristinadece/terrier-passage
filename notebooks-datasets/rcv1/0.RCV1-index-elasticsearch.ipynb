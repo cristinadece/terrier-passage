{
 "cells": [
  {
   "cell_type": "markdown",
   "metadata": {},
   "source": [
    "# Create and Index Signal dataset"
   ]
  },
  {
   "cell_type": "code",
   "execution_count": 2,
   "metadata": {
    "collapsed": true
   },
   "outputs": [],
   "source": [
    "import json\n",
    "import os\n",
    "import sys\n",
    "import time\n",
    "\n",
    "from elasticsearch import Elasticsearch, RequestError"
   ]
  },
  {
   "cell_type": "code",
   "execution_count": 3,
   "metadata": {},
   "outputs": [
    {
     "data": {
      "text/plain": [
       "<Elasticsearch([{'host': 'localhost'}])>"
      ]
     },
     "execution_count": 3,
     "metadata": {},
     "output_type": "execute_result"
    }
   ],
   "source": [
    "es = Elasticsearch(['http://localhost/'], \n",
    "                    #http_auth=('elastic', 'bm25p'),\n",
    "                    port=9200,\n",
    "                    timeout=30\n",
    "                    )\n",
    "es"
   ]
  },
  {
   "cell_type": "markdown",
   "metadata": {},
   "source": [
    "### Very important\n",
    "https://www.elastic.co/guide/en/elasticsearch/reference/current/index-modules-similarity.html\n",
    "\n",
    "the default for Elastic is BM25"
   ]
  },
  {
   "cell_type": "markdown",
   "metadata": {},
   "source": [
    "### Create and delete index"
   ]
  },
  {
   "cell_type": "code",
   "execution_count": 3,
   "metadata": {
    "collapsed": true
   },
   "outputs": [],
   "source": [
    "# es.indices.create(\"articles\", ignore=400)"
   ]
  },
  {
   "cell_type": "code",
   "execution_count": 4,
   "metadata": {
    "collapsed": true
   },
   "outputs": [],
   "source": [
    "# es.indices.delete(index='articles', ignore=[400, 404])"
   ]
  },
  {
   "cell_type": "code",
   "execution_count": 4,
   "metadata": {},
   "outputs": [
    {
     "data": {
      "text/plain": [
       "{'_shards': {'failed': 0, 'skipped': 0, 'successful': 5, 'total': 5},\n",
       " 'count': 804414}"
      ]
     },
     "execution_count": 4,
     "metadata": {},
     "output_type": "execute_result"
    }
   ],
   "source": [
    "es.count(index='rcv1')"
   ]
  },
  {
   "cell_type": "code",
   "execution_count": 9,
   "metadata": {
    "collapsed": true
   },
   "outputs": [],
   "source": [
    "def index_from_path(es, inputFile, indexName):\n",
    "    \"\"\"\n",
    "    We index tweet from file\n",
    "\n",
    "    :param es: the ES instance\n",
    "    :return:\n",
    "\n",
    "    Possible errors:\n",
    "    - elasticsearch.exceptions.RequestError: TransportError(400, u'mapper_parsing_exception',\n",
    "    u'failed to parse [bounding_box]')\n",
    "\n",
    "    - elasticsearch.exceptions.ConnectionTimeout: ConnectionTimeout caused by -\n",
    "    ReadTimeoutError(HTTPConnectionPool(host=u'localhost', port=9200): Read timed out. (read timeout=10))\n",
    "\n",
    "    - elasticsearch.exceptions.ConnectionError: ConnectionError(('Connection aborted.', error(104,\n",
    "    'Connection reset by peer'))) caused by: ProtocolError(('Connection aborted.',\n",
    "    error(104, 'Connection reset by peer')))\n",
    "    \"\"\"\n",
    "\n",
    "    i = 0\n",
    "    numIndex = 0\n",
    "    with open(inputFile, \"r\") as f:\n",
    "        for line in f:\n",
    "            i += 1\n",
    "            if i % 100000 == 0:\n",
    "                print(\"Processed tweets: \", i)\n",
    "                print(\"Indexed tweets: \", numIndex)\n",
    "\n",
    "            try:\n",
    "                article_dict = json.loads(line)\n",
    "                # added request_timeout to avoid elasticsearch.exceptions.ConnectionTimeout\n",
    "                es.index(index=\"articles\", doc_type='article', id=i, body=article_dict, \n",
    "                         request_timeout=30)\n",
    "                numIndex += 1\n",
    "            except RequestError as e:\n",
    "                print(\"Couldn't index article id: \", i)\n",
    "                print(e.status_code, e.message)\n",
    "                time.sleep(60)\n",
    "\n",
    "    print(\"Processed tweets: \", i)\n",
    "    print(\"Indexed tweets: \", numIndex)"
   ]
  },
  {
   "cell_type": "code",
   "execution_count": 62,
   "metadata": {
    "collapsed": true
   },
   "outputs": [],
   "source": [
    "# index_from_path(es, \"signalmedia-1m.jsonl\", \"articles\")"
   ]
  },
  {
   "cell_type": "code",
   "execution_count": 10,
   "metadata": {},
   "outputs": [
    {
     "data": {
      "text/plain": [
       "{'_shards': {'failed': 0, 'skipped': 0, 'successful': 5, 'total': 5},\n",
       " 'count': 1400}"
      ]
     },
     "execution_count": 10,
     "metadata": {},
     "output_type": "execute_result"
    }
   ],
   "source": [
    "es.count(index='rcv1',doc_type='article')"
   ]
  },
  {
   "cell_type": "code",
   "execution_count": 6,
   "metadata": {
    "scrolled": true
   },
   "outputs": [
    {
     "name": "stdout",
     "output_type": "stream",
     "text": [
      "{'_index': 'rcv1', '_type': 'article', '_id': '35085', '_score': 4.2212243, '_source': {'id': '38127', 'date': '1996-09-06', 'lang': 'en', 'title': 'USA: Greif Bros Q3 Class A, B shares fall.', 'headline': 'Greif Bros Q3 Class A, B shares fall.', 'content': 'NINE MONTHS ENDED JULY 31,\\n\\t\\t\\t\\t\\t\\t\\t1996\\t    1995\\n Net Sales\\t\\t\\t\\t$474,949,000   $539,086,000\\n Net Income\\t\\t\\t\\t 27,041,000     47,847,000\\nAverage Shares:\\n   Class A Common Stock\\t\\t 10,873,172     10,873,172\\n   Class B Common Stock\\t\\t 12,028,460     13,268,883\\nNet Income Per Share:\\n   Class A Common Stock\\t\\t\\t 1.00\\t     1.89\\n   Class B Common Stock\\t\\t\\t 1.15\\t     2.05\\n\\t\\t\\t\\t\\t   THREE MONTHS ENDED JULY 31,\\n\\t\\t\\t\\t\\t\\t\\t1996\\t     1995\\n Net Sales\\t\\t\\t\\t  $155,994,000 $184,159,000\\n Net Income\\t\\t\\t\\t    9,636,000   17,588,000\\nAverage Shares:\\n   Class A Common Stock\\t\\t   10,873,172   10,873,172\\n   Class B Common Stock\\t\\t   12,001,793   13,215,106\\nNet Income Per Share:\\n   Class A Common Stock\\t\\t\\t   0.36\\t   0.71\\n   Class B Common Stock\\t\\t\\t   0.40\\t   0.74\\n-- New York Newsdesk 212 859-1610', 'categories': ['C15', 'C151', 'CCAT']}}\n",
      "\n",
      "{'_index': 'rcv1', '_type': 'article', '_id': '82323', '_score': 4.219895, '_source': {'id': '85798', 'date': '1996-09-30', 'lang': 'en', 'title': 'USA: Finish Line splits stock two-for-one.', 'headline': 'Finish Line splits stock two-for-one.', 'content': \"Finish Line Inc, a specialty retailer, said Monday its directors approved a two-for-one stock split payable November 15, record October 18.  \\nIn order to implement the stock split, stockholders holding more than a majority of the votes of class A and class B common stock said they intend to approve an increase in the number of authorized shares to 43 million from 33 million, according to the company.\\nThe 43 million shares include 30 million shares of class A stock, 12 million shares of class B stock, and one million shares of preferred stock. The 33 million shares include 20 million shares of class A stock, 12 million shares of class B stock, and one million shares of preferred stock.\\nThe stock split should increase liquidity in the company's stock by making the stock price range attractive to a wider range of investors, said Alan Cohen, Finish Line chairman and chief executive officer, in a statement.\\nFinish Line A shares closed at 46 on September 27.\\nFinish Line currently operates 238 stores in 26 states, principally in the Midwest, South and Southeast.\\n\\t     Chicago newsdesk 312 408 8787\", 'categories': ['C17', 'C171', 'CCAT']}}\n",
      "\n",
      "{'_index': 'rcv1', '_type': 'article', '_id': '544961', '_score': 4.214435, '_source': {'id': '549160', 'date': '1997-04-30', 'lang': 'en', 'title': 'USA: Spieker Properties Inc Q1 net rises.', 'headline': 'Spieker Properties Inc Q1 net rises.', 'content': '(in thousands, except per share amounts)\\n\\t\\t\\t\\t\\t\\t\\t Three Months Ended\\n\\t\\t\\t\\t\\t\\t\\t\\t    March 31\\n\\t\\t\\t\\t\\t\\t\\t    1997\\t 1996\\n    Revenues\\t\\t\\t\\t\\t  $66,417   $45,315\\nIncome from operations before\\ndisposal of real estate properties\\n     and minority interests\\t\\t   $ 23,812   $ 14,979\\nNet income available to\\n     Common Stockholders (a)\\t\\t  $ 19,121     $9,859\\n    Average Common Stock shares outstanding 44,301     31,336\\nNet income per share available\\n     to Common Stockholders (b)\\t\\t    $.43\\t$.31\\n    Funds from Operations\\t\\t\\t $31,970   $20,839\\nAverage shares outstanding (fully diluted)\\n\\t\\t\\t\\t\\t\\t\\t   52,558    39,105\\n    Funds from Operations per share (c)\\t  $.61\\t$.53\\n    Occupancy rate\\t\\t\\t\\t    96.0%     96.7%\\n(a)  Net income after minority interests, less dividends\\non Series A and Series B Preferred Stock.\\n(b)  Calculated based on average Common Stock shares\\noutstanding, assuming conversion of Class B Common Stock, Class C Common Stock and Common Stock Equivalents.\\n(c)  Calculated based on average shares outstanding, assuming conversion of Series A Preferred Stock, Class B Common Stock, Class C Common Stock, Common Stock Equivalents and all Partnership Units outstanding.', 'categories': ['C15', 'C151', 'CCAT']}}\n",
      "\n",
      "<class 'str'>\n"
     ]
    }
   ],
   "source": [
    "res = es.search(index=\"rcv1\", \n",
    "                doc_type='article', \n",
    "                size=10, \n",
    "                body={\"query\": {\n",
    "                        \"match\": {\n",
    "                                \"content\": \"stock\"\n",
    "                        }}})\n",
    "\n",
    "\n",
    "\n",
    "# [x['_source'] for x in res['hits']['hits']]\n",
    "for r in res['hits']['hits'][:3]:\n",
    "    print(r)\n",
    "    print()\n",
    "    \n",
    "    \n",
    "retrieved_ordered =[res['hits']['hits'][i][\"_source\"][\"id\"] for i in range(len(res['hits']['hits'][:5]))]\n",
    "print(type(retrieved_ordered[0]))"
   ]
  },
  {
   "cell_type": "code",
   "execution_count": 13,
   "metadata": {},
   "outputs": [
    {
     "name": "stdout",
     "output_type": "stream",
     "text": [
      "9\n",
      "196\n",
      "4.3328924\n",
      "10\n",
      "{'_index': 'rcv1', '_type': 'article', '_id': '670', '_score': 4.054195, '_source': {'id': '3031', 'date': '1996-08-20', 'lang': 'en', 'title': 'USA: Paracelsus, Champion complete merger.', 'headline': 'Paracelsus, Champion complete merger.', 'content': 'Paracelsus Healthcare Corp and Champion Healthcare Corp said on Tuesday in a joint statement that they completed a merger on August 16, 1996, that makes Champion a subsidiary of Paracelsus.\\nEach Champion share was converted into one Paracelsus common share and each share of Champion preferred stock was converted into two shares of Paracelsus.\\nParacelsus issued 19.8 million shares of common stock in the merger, bringing the total shares outstanding to 54.7 million including 5.2 million from a recent public offering, the companies said.\\nPark Hospital GmbH, a German corporation wholly owned by chairman Dr. Manfred George Krukemeyer, owns 29,771,742 shares of Paracelsus common stock, the company said.\\nConcurrently with the merger, Paracelsus established a new senior credit facility in an amount of $400 million and Champion repurchased approximately $94.3 million in aggregate principal amount of its outstanding Series D and Series E Senior Subordinated Notes.\\nParacelsus also completed a public offering of $325.0 million in 10 percent senior subordinated notes due 2006.', 'categories': ['C18', 'C181', 'CCAT']}}\n"
     ]
    }
   ],
   "source": [
    "print(res[\"took\"]) \n",
    "print(res[\"hits\"][\"total\"])\n",
    "print(res[\"hits\"][\"max_score\"])\n",
    "print(len(res['hits']['hits']))\n",
    "print(res['hits']['hits'][2])"
   ]
  },
  {
   "cell_type": "code",
   "execution_count": 14,
   "metadata": {
    "collapsed": true
   },
   "outputs": [],
   "source": [
    "retrieved_ordered =[res['hits']['hits'][i][\"_source\"][\"id\"] for i in range(len(res['hits']['hits']))]"
   ]
  },
  {
   "cell_type": "code",
   "execution_count": null,
   "metadata": {
    "collapsed": true
   },
   "outputs": [],
   "source": []
  },
  {
   "cell_type": "code",
   "execution_count": null,
   "metadata": {
    "collapsed": true
   },
   "outputs": [],
   "source": []
  }
 ],
 "metadata": {
  "kernelspec": {
   "display_name": "Python 3",
   "language": "python",
   "name": "python3"
  },
  "language_info": {
   "codemirror_mode": {
    "name": "ipython",
    "version": 3
   },
   "file_extension": ".py",
   "mimetype": "text/x-python",
   "name": "python",
   "nbconvert_exporter": "python",
   "pygments_lexer": "ipython3",
   "version": "3.6.3"
  }
 },
 "nbformat": 4,
 "nbformat_minor": 2
}
