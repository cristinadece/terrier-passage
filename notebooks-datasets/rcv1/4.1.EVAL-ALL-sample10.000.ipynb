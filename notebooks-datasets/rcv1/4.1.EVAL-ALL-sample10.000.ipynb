{
 "cells": [
  {
   "cell_type": "code",
   "execution_count": 1,
   "metadata": {
    "collapsed": true
   },
   "outputs": [],
   "source": [
    "%load_ext autoreload\n",
    "%autoreload 2\n",
    "import json\n",
    "from scipy import sparse\n",
    "from time import time\n",
    "import pandas as pd\n",
    "import numpy as np\n",
    "import matplotlib.pyplot as plt\n",
    "from collections import defaultdict\n",
    "import string\n",
    "import scipy.stats as stats"
   ]
  },
  {
   "cell_type": "markdown",
   "metadata": {},
   "source": [
    "# We must run scripts on Terrier with the parameters!"
   ]
  },
  {
   "cell_type": "markdown",
   "metadata": {},
   "source": [
    "### So we run:\n",
    "\n",
    "* Run the weights and queries in Terrier to get the reuslts file\n",
    "    - bash rcv1-run-top5-idf-p-alpha.sh and variants (in terrier-core-4.2)\n",
    "    - bin/trec_terrier.sh -r -Dtrec.model=models.BM25PAlpha  -Dbm25p.p=\\$p -Dbm25p.alpha=\\$alpha -Dbm25p.w\n",
    "* Interpret the *.res file and see the position of the correct document for each query\n",
    "    - bash eval-all.sh which calls\n",
    "    - python eval-scoring-function-on-query-set-sample.py -i \\$FILENAME -o ../results/TerrierOutput/eval/\\$BASENAME.txt -t \\$QT"
   ]
  },
  {
   "cell_type": "markdown",
   "metadata": {},
   "source": [
    "# How we do it\n",
    "\n",
    "#### Scoring functions to evaluate:\n",
    "    - BM25 \n",
    "    - BM25P10-top5-idf \n",
    "    - BM25P10-top5-tfidf \n",
    "    - BM25P10-top10-idf \n",
    "    - BM25P10-top10-tfidf\n",
    "\n",
    "For each scoring function result file we evaluate the 4 query types (A,B,C and D). We have some intermediate files from which we read the position of the corrent doc match. We evaluate if in top 1,10,100.\n",
    "\n",
    "What are the metrics we are interested in?\n",
    "- Win/loss ratio\n",
    "- Average rank\n",
    "- Precision @ 1,10,100\n",
    "- MRR\n",
    "\n",
    "There might be some queries in the input files with no results"
   ]
  },
  {
   "cell_type": "code",
   "execution_count": 2,
   "metadata": {
    "collapsed": true
   },
   "outputs": [],
   "source": [
    "def loadJSON(sampleFilename):\n",
    "    with open(sampleFilename) as json_data:\n",
    "        sample_10000 = json.load(json_data)\n",
    "    return sample_10000"
   ]
  },
  {
   "cell_type": "markdown",
   "metadata": {},
   "source": [
    "## Metrics"
   ]
  },
  {
   "cell_type": "code",
   "execution_count": 3,
   "metadata": {
    "collapsed": true
   },
   "outputs": [],
   "source": [
    "def averageRank(rank_list):\n",
    "    return np.mean(rank_list)"
   ]
  },
  {
   "cell_type": "code",
   "execution_count": 4,
   "metadata": {
    "collapsed": true
   },
   "outputs": [],
   "source": [
    "def winLossRatio(rank_list, interval = [0,1]):\n",
    "    correct_class = [r for r in rank_list if r >= interval[0] and r < interval[1]]\n",
    "#     print(len(correct_class),len(rank_list))\n",
    "    if len(correct_class) == len(rank_list): return \"-\"\n",
    "    else: return len(correct_class)/(len(rank_list) - len(correct_class))"
   ]
  },
  {
   "cell_type": "code",
   "execution_count": 5,
   "metadata": {
    "collapsed": true
   },
   "outputs": [],
   "source": [
    "def precision(rank, at=10):\n",
    "    n_rel_retrieved = 0\n",
    "    if rank <= at:\n",
    "        n_rel_retrieved = 1\n",
    "    return n_rel_retrieved/at"
   ]
  },
  {
   "cell_type": "code",
   "execution_count": 6,
   "metadata": {
    "collapsed": true
   },
   "outputs": [],
   "source": [
    "def avgPrecision(rank_list, at=1):\n",
    "    prec_list = [precision(r, at) for r in rank_list]\n",
    "    return np.mean(prec_list)"
   ]
  },
  {
   "cell_type": "code",
   "execution_count": 7,
   "metadata": {
    "collapsed": true
   },
   "outputs": [],
   "source": [
    "def MRR(rank_list, at=None):\n",
    "    if at is not None:\n",
    "        inverse_ranks = [1./x for x in rank_list if x <= at]\n",
    "    else:\n",
    "        inverse_ranks = [1./x for x in rank_list]\n",
    "#     print(len(rank_list))\n",
    "    return np.mean(inverse_ranks)"
   ]
  },
  {
   "cell_type": "code",
   "execution_count": 8,
   "metadata": {
    "collapsed": true
   },
   "outputs": [],
   "source": [
    "def RR(rank_list, at=None):\n",
    "    if at is not None:\n",
    "        inverse_ranks = [1./x for x in rank_list if x <= at]\n",
    "    else:\n",
    "        inverse_ranks = [1./x for x in rank_list]\n",
    "#     print(len(rank_list))\n",
    "    return inverse_ranks"
   ]
  },
  {
   "cell_type": "code",
   "execution_count": 9,
   "metadata": {
    "collapsed": true
   },
   "outputs": [],
   "source": [
    "### http://hamelg.blogspot.com/2015/11/python-for-data-analysis-part-24.html"
   ]
  },
  {
   "cell_type": "code",
   "execution_count": 10,
   "metadata": {
    "collapsed": true
   },
   "outputs": [],
   "source": [
    "def two_sample_ttest_ind(a,b):\n",
    "    return stats.ttest_ind(a, b, equal_var=False)"
   ]
  },
  {
   "cell_type": "code",
   "execution_count": 11,
   "metadata": {
    "collapsed": true
   },
   "outputs": [],
   "source": [
    "def paired_ttest_rel(a, b):\n",
    "    return stats.ttest_rel(a, b)"
   ]
  },
  {
   "cell_type": "code",
   "execution_count": 12,
   "metadata": {
    "collapsed": true
   },
   "outputs": [],
   "source": [
    "intervals = [[0,1], [1,10], [10,100], [100,1000]]\n",
    "\n",
    "def getMetrics(ranks, positions, interval):\n",
    "    print(\"Avg. rank:\", averageRank(ranks))\n",
    "    print(\"Win/loss\", winLossRatio(positions, interval))\n",
    "    print(\"Avg. P@1\", avgPrecision(ranks, at=1))\n",
    "    print(\"Avg. P@10\", avgPrecision(ranks, at=10))\n",
    "    print(\"Avg. P@100\", avgPrecision(ranks, at=100))\n",
    "    print(\"Avg. P@1000\", avgPrecision(ranks, at=1000))\n",
    "    print(\"MRR\", MRR(ranks))"
   ]
  },
  {
   "cell_type": "markdown",
   "metadata": {},
   "source": [
    "# EVAL "
   ]
  },
  {
   "cell_type": "code",
   "execution_count": 13,
   "metadata": {
    "collapsed": true
   },
   "outputs": [],
   "source": [
    "queryTypes = [\"A\", \"B\", \"C\", \"D\"]"
   ]
  },
  {
   "cell_type": "code",
   "execution_count": 14,
   "metadata": {
    "collapsed": true
   },
   "outputs": [],
   "source": [
    "def getQueryTypeSets(positions):\n",
    "    A = [x for x in positions if x==0]\n",
    "    B = [x for x in positions if x>0 and x<10]\n",
    "    C = [x for x in positions if x>=10 and x<100]\n",
    "    D = [x for x in positions if x>=100 and x<1000]\n",
    "    print(\"A\",len(A))\n",
    "    print(\"B\", len(B))\n",
    "    print(\"C\",len(C))\n",
    "    print(\"D\", len(D))"
   ]
  },
  {
   "cell_type": "code",
   "execution_count": 15,
   "metadata": {
    "collapsed": true
   },
   "outputs": [],
   "source": [
    "def getQueryTypeSetsInline(positions):\n",
    "    A = [x for x in positions if x==0]\n",
    "    B = [x for x in positions if x>0 and x<10]\n",
    "    C = [x for x in positions if x>=10 and x<100]\n",
    "    D = [x for x in positions if x>=100 and x<1000]\n",
    "#     return \" , \".join([str(len(A)),str(len(B)),str(len(C)), str(len(D)), str(10000-len(A) -len(B)-len(C)-len(D))])\n",
    "    return len(A), len(B), len(C), len(D)\n"
   ]
  },
  {
   "cell_type": "markdown",
   "metadata": {},
   "source": [
    "### BM25"
   ]
  },
  {
   "cell_type": "code",
   "execution_count": 16,
   "metadata": {
    "collapsed": true
   },
   "outputs": [],
   "source": [
    "def evalBM25(filename, qt):\n",
    "    \n",
    "    Bm25queryRankDict = loadJSON(filename)\n",
    "\n",
    "    positions = list(Bm25queryRankDict.values())\n",
    "    ranks = [x+1 for x in positions]\n",
    "    \n",
    "    #pretty print, but no data\n",
    "    getMetrics(ranks, positions, interval=intervals[queryTypes.index(qt)])\n",
    "    getQueryTypeSets(positions)\n",
    "    \n",
    "    #get some data\n",
    "    bm25_mrr = MRR(ranks)\n",
    "    bm25_avg_ranks = np.mean(ranks)\n",
    "    bm25_query_class = getQueryTypeSetsInline(positions)\n",
    "#     print(bm25_mrr)\n",
    "#     print(bm25_query_class)\n",
    "    \n",
    "    return bm25_mrr, bm25_avg_ranks, bm25_query_class"
   ]
  },
  {
   "cell_type": "code",
   "execution_count": 17,
   "metadata": {},
   "outputs": [
    {
     "name": "stdout",
     "output_type": "stream",
     "text": [
      "A\n",
      "Avg. rank: 1.0\n",
      "Win/loss -\n",
      "Avg. P@1 1.0\n",
      "Avg. P@10 0.10000000000000002\n",
      "Avg. P@100 0.01\n",
      "Avg. P@1000 0.0010000000000000005\n",
      "MRR 1.0\n",
      "A 10000\n",
      "B 0\n",
      "C 0\n",
      "D 0\n",
      "\n",
      "B\n",
      "Avg. rank: 4.0607\n",
      "Win/loss -\n",
      "Avg. P@1 0.0\n",
      "Avg. P@10 0.10000000000000002\n",
      "Avg. P@100 0.01\n",
      "Avg. P@1000 0.0010000000000000005\n",
      "MRR 0.31975464285714283\n",
      "A 0\n",
      "B 10000\n",
      "C 0\n",
      "D 0\n",
      "\n",
      "C\n",
      "Avg. rank: 37.7498\n",
      "Win/loss -\n",
      "Avg. P@1 0.0\n",
      "Avg. P@10 0.0\n",
      "Avg. P@100 0.01\n",
      "Avg. P@1000 0.0010000000000000005\n",
      "MRR 0.03888721030318724\n",
      "A 0\n",
      "B 0\n",
      "C 10000\n",
      "D 0\n",
      "\n",
      "D\n",
      "Avg. rank: 338.6871\n",
      "Win/loss -\n",
      "Avg. P@1 0.0\n",
      "Avg. P@10 0.0\n",
      "Avg. P@100 0.0\n",
      "Avg. P@1000 0.0010000000000000005\n",
      "MRR 0.0042999992032543765\n",
      "A 0\n",
      "B 0\n",
      "C 0\n",
      "D 10000\n",
      "\n"
     ]
    }
   ],
   "source": [
    "bm25_mrr_dict = dict()\n",
    "bm25_avg_rank_dict = dict()\n",
    "for qt in queryTypes:\n",
    "    print(qt)\n",
    "    filename = \"../results/TerrierOutput/eval/BM25P-RCV1-bm25-plain-sample-10000-\"+qt+\"-p-10-alpha-0.txt\"\n",
    "    bm25_mrr, bm25_avg_ranks, bm25_query_class = evalBM25(filename, qt)\n",
    "    bm25_mrr_dict[(\"bm25-plain\", qt)] = bm25_mrr\n",
    "    bm25_avg_rank_dict[(\"bm25-plain\", qt)] = bm25_avg_ranks\n",
    "    print()"
   ]
  },
  {
   "cell_type": "code",
   "execution_count": 18,
   "metadata": {
    "scrolled": true
   },
   "outputs": [
    {
     "data": {
      "text/plain": [
       "{('bm25-plain', 'A'): 1.0,\n",
       " ('bm25-plain', 'B'): 0.31975464285714283,\n",
       " ('bm25-plain', 'C'): 0.03888721030318724,\n",
       " ('bm25-plain', 'D'): 0.0042999992032543765}"
      ]
     },
     "execution_count": 18,
     "metadata": {},
     "output_type": "execute_result"
    }
   ],
   "source": [
    "bm25_mrr_dict "
   ]
  },
  {
   "cell_type": "code",
   "execution_count": 19,
   "metadata": {},
   "outputs": [
    {
     "name": "stdout",
     "output_type": "stream",
     "text": [
      "95.3744\n"
     ]
    },
    {
     "data": {
      "text/plain": [
       "{('bm25-plain', 'A'): 1.0,\n",
       " ('bm25-plain', 'B'): 4.0607,\n",
       " ('bm25-plain', 'C'): 37.7498,\n",
       " ('bm25-plain', 'D'): 338.6871}"
      ]
     },
     "execution_count": 19,
     "metadata": {},
     "output_type": "execute_result"
    }
   ],
   "source": [
    "print(np.mean(list(bm25_avg_rank_dict.values())))\n",
    "bm25_avg_rank_dict"
   ]
  },
  {
   "cell_type": "markdown",
   "metadata": {},
   "source": [
    "### BM25P "
   ]
  },
  {
   "cell_type": "code",
   "execution_count": 121,
   "metadata": {
    "collapsed": true
   },
   "outputs": [],
   "source": [
    "# Settings\n",
    "dirEval = \"../results/TerrierOutput/eval/\"\n",
    "baseTypes = [\"top5-idf\", \n",
    "             \"top5-tfidf\",\n",
    "             \"top10-idf\",\n",
    "             \"top10-tfidf\"]\n",
    "queryTypes = [\"A\", \"B\", \"C\", \"D\"]\n",
    "ending = \".txt\" # sometimes res\n",
    "\n",
    "\n",
    "prettyNames={\"top5-idf\":\"BM25P Top-5-IDF\", \"top5-tfidf\":\"BM25P Top-5-TFIDF\", \n",
    "            \"top10-idf\":\"BM25P Top-10-IDF\", \"top10-tfidf\":\"BM25P Top-10-TFIDF\"}"
   ]
  },
  {
   "cell_type": "markdown",
   "metadata": {},
   "source": [
    "### MRR plots for different alpha"
   ]
  },
  {
   "cell_type": "code",
   "execution_count": 201,
   "metadata": {
    "collapsed": true,
    "scrolled": false
   },
   "outputs": [],
   "source": [
    "import os\n",
    "\n",
    "mrr_dict = defaultdict(list)\n",
    "rr_dict = defaultdict(list)\n",
    "average_rank_dict = defaultdict(list)\n",
    "rank_dict = defaultdict(list)\n",
    "for filename in os.listdir(dirEval):\n",
    "    if \"10000\" in filename:\n",
    "        name_items = filename.split(\"-\")\n",
    "        baseType = name_items[2]+\"-\"+name_items[3]\n",
    "        alpha = filename.split(\".\")[0].split(\"-\")[10]\n",
    "\n",
    "        queryRankDict = loadJSON(dirEval+filename)\n",
    "        positions = list(queryRankDict.values())\n",
    "        ranks = [x+1 for x in positions]\n",
    "        mrr_dict[(baseType, name_items[6])].append(((int(alpha)), MRR(ranks)))\n",
    "        rr_dict[(baseType, name_items[6])].append(((int(alpha)), RR(ranks)))\n",
    "        average_rank_dict[(baseType, name_items[6])].append(((int(alpha)), np.mean(ranks)))\n",
    "        rank_dict[(baseType, name_items[6])].append(((int(alpha)), ranks))"
   ]
  },
  {
   "cell_type": "code",
   "execution_count": 200,
   "metadata": {},
   "outputs": [
    {
     "name": "stdout",
     "output_type": "stream",
     "text": [
      "dict_keys([('top5-tfidf', 'A'), ('top5-idf', 'A'), ('top5-tfidf', 'C'), ('top10-idf', 'B'), ('top10-tfidf', 'A'), ('top5-tfidf', 'D'), ('top10-idf', 'C'), ('top10-tfidf', 'C'), ('top5-tfidf', 'B'), ('top5-idf', 'D'), ('bm25-plain', 'A'), ('top5-idf', 'B'), ('top10-tfidf', 'D'), ('top10-tfidf', 'B'), ('top10-idf', 'A'), ('top10-idf', 'D'), ('top5-idf', 'C'), ('bm25-plain', 'B'), ('bm25-plain', 'D'), ('bm25-plain', 'C')])\n",
      "(50, 0.016227999068986667)\n"
     ]
    }
   ],
   "source": [
    "print(mrr_dict.keys())\n",
    "\n",
    "print(mrr_dict[('top5-idf', 'D')][2])"
   ]
  },
  {
   "cell_type": "code",
   "execution_count": 138,
   "metadata": {},
   "outputs": [
    {
     "name": "stdout",
     "output_type": "stream",
     "text": [
      "0.930 & 0.424 & 0.087 & 0.012\n",
      "0.980 & 0.391 & 0.057 & 0.006\n",
      "0.965 & 0.393 & 0.060 & 0.007\n",
      "0.987 & 0.369 & 0.049 & 0.005\n",
      "\n",
      "0.941 & 0.429 & 0.091 & 0.014\n",
      "0.976 & 0.399 & 0.063 & 0.007\n",
      "0.965 & 0.400 & 0.066 & 0.008\n",
      "0.981 & 0.380 & 0.054 & 0.006\n",
      "\n",
      "0.940 & 0.428 & 0.092 & 0.015\n",
      "0.968 & 0.400 & 0.067 & 0.008\n",
      "0.960 & 0.404 & 0.069 & 0.009\n",
      "0.971 & 0.382 & 0.059 & 0.007\n",
      "\n",
      "0.936 & 0.424 & 0.092 & 0.015\n",
      "0.959 & 0.399 & 0.069 & 0.009\n",
      "0.952 & 0.401 & 0.071 & 0.010\n",
      "0.963 & 0.381 & 0.061 & 0.008\n",
      "\n"
     ]
    }
   ],
   "source": [
    "# # JUST FOR PRINTING \n",
    "\n",
    "for alpha in [10, 15, 20, 25]:\n",
    "    for baseType in baseTypes:\n",
    "#         print(alpha, baseType, end=\" \")\n",
    "        vals = []\n",
    "        for queryType in queryTypes:\n",
    "            key = (baseType, queryType)\n",
    "            mrr = [y for x,y in mrr_dict[baseType, queryType] if x==alpha]\n",
    "#             print(queryType, mrr, end=\" \")\n",
    "            vals.append(mrr[0])\n",
    "#         print()\n",
    "#         print(vals)\n",
    "#         print()\n",
    "        print(\" & \".join([str(\"{:.3f}\".format(i)) for i in vals]))\n",
    "#         print()\n",
    "    print()"
   ]
  },
  {
   "cell_type": "code",
   "execution_count": 145,
   "metadata": {
    "collapsed": true
   },
   "outputs": [],
   "source": [
    "def plot_and_sort(baseType, mrr_dict, bm25_mrr_dict, queryTypes):\n",
    "    for queryType in queryTypes:\n",
    "        key = (baseType, queryType)\n",
    "        mrr_list = mrr_dict[key]\n",
    "        #print(sorted(mrr_list, key=lambda tup: tup[0]))\n",
    "        x = [x for x,y in sorted(mrr_list, key=lambda tup: tup[0])]\n",
    "        y = [y for x,y in sorted(mrr_list, key=lambda tup: tup[0])]\n",
    "#         print(x)\n",
    "        print(y)\n",
    "        plt.plot(x,y , label=prettyNames[key[0]] + \" \" + key[1])\n",
    "        #print(max(y),x[y.index(max(y))])\n",
    "#         plt.plot(x[y.index(max(y))], max(y), \"or\")\n",
    "        # print bm25 as baseline\n",
    "        baseline_y = [bm25_mrr_dict[(\"bm25-plain\", queryType)]] * len(x)\n",
    "#         print(baseline_y)\n",
    "        plt.plot(x, baseline_y, label=\"BM25 \" + str(queryType), linestyle=\"--\")\n",
    "#         print()\n",
    "#     plt.legend(loc='center left', bbox_to_anchor=(1, 0.5))\n",
    "    plt.legend(loc='upper right')\n",
    "#     plt.title(\"BM25P varying alpha\")\n",
    "    plt.xlabel(\"Alpha\")\n",
    "    plt.ylabel(\"MRR@1000\")\n",
    "#     plt.axis([5,25,0,20]) # this is for zooming in\n",
    "    plt.savefig(\"RCV1-BM25-vary-alpha-\"+baseType+\".pdf\", bbox_inches='tight')\n",
    "    plt.show()\n",
    "    return plt"
   ]
  },
  {
   "cell_type": "code",
   "execution_count": 146,
   "metadata": {
    "scrolled": false
   },
   "outputs": [
    {
     "name": "stdout",
     "output_type": "stream",
     "text": [
      "[0.6969429953752484, 0.8928932032863102, 0.9303515645227802, 0.9405244448871701, 0.9401004282197227, 0.9355745418177454, 0.9307321125564832, 0.9263965536143647, 0.9205262151801428, 0.9158064183786567, 0.9112254130904097]\n",
      "[0.27404423470511813, 0.3969292574601577, 0.42400201589340103, 0.4285201363963482, 0.42787072322883185, 0.42446152738886933, 0.4216805240455147, 0.4186346430704314, 0.4136112136617573, 0.4104009053149764, 0.40758671133239716]\n",
      "[0.051865972684752105, 0.07738895634625959, 0.0870096414185562, 0.09069415622855856, 0.09185171743387048, 0.09168397017021886, 0.09069056093346055, 0.0901665106107094, 0.08977627645915442, 0.08866705541678892, 0.08826053008191165]\n",
      "[0.008317541660526674, 0.010101306513940138, 0.012432954389851538, 0.01387178988510765, 0.014721010625656186, 0.015372404614068944, 0.015781621127848998, 0.01598036381595481, 0.0160330102771146, 0.016149476814102198, 0.016227999068986667]\n"
     ]
    },
    {
     "data": {
      "image/png": "[encoded data removed]",
      "text/plain": [
       "<matplotlib.figure.Figure at 0x7f9ac5cd24e0>"
      ]
     },
     "metadata": {},
     "output_type": "display_data"
    },
    {
     "name": "stdout",
     "output_type": "stream",
     "text": [
      "[0.7493736007952624, 0.9530867352628449, 0.9799088045923058, 0.9760923862798707, 0.9678600099960238, 0.9593669387595548, 0.9508225023155843, 0.9439054298592038, 0.9369857558184154, 0.9312288419880966, 0.9262380230142584]\n",
      "[0.2488206395352086, 0.366941724863623, 0.3911080486302816, 0.39941539427664075, 0.3999305685934693, 0.3987383663874112, 0.3938223384539904, 0.3910197685262739, 0.388130834604488, 0.38224689088695446, 0.3801831505383189]\n",
      "[0.0378205502171341, 0.04959144006775628, 0.0571737198325924, 0.06334438778285395, 0.06692979101658927, 0.06860659334312032, 0.07000463153153719, 0.07023211191111005, 0.06983149859216978, 0.07008260139513252, 0.06968747454654403]\n",
      "[0.005988970562751816, 0.00560506275337137, 0.006354983612965656, 0.007396601190373296, 0.008253043098390256, 0.009029156340739117, 0.009980246642856459, 0.010490642744337988, 0.01080865998879193, 0.011268667213900867, 0.011410768187574806]\n"
     ]
    },
    {
     "data": {
      "image/png": "[encoded data removed]",
      "text/plain": [
       "<matplotlib.figure.Figure at 0x7f9abce18358>"
      ]
     },
     "metadata": {},
     "output_type": "display_data"
    },
    {
     "name": "stdout",
     "output_type": "stream",
     "text": [
      "[0.7213395002042271, 0.9331454676577545, 0.9649069243102784, 0.9653541983893299, 0.9596079077355393, 0.9521836534443606, 0.9453146875019293, 0.9379176501481852, 0.9308535649052873, 0.924559490394502, 0.9202010975842064]\n",
      "[0.24529526177532804, 0.3637918715705343, 0.3928821976604951, 0.40007937746549976, 0.4036329440115491, 0.4014722514654663, 0.3981647391472376, 0.3941199247919163, 0.3905634336646937, 0.3872717792135066, 0.38417073625942505]\n",
      "[0.03820149812002464, 0.051451777663139804, 0.060010035191452496, 0.06583487679325087, 0.0689359822039241, 0.0706365703192202, 0.07156940359132488, 0.07180233049956077, 0.07197852300955385, 0.07197211287254861, 0.07174563717532995]\n",
      "[0.0062552816822072045, 0.005995372342440165, 0.006914547454458267, 0.008046672933265359, 0.008896252467865778, 0.009695239413386328, 0.010664306421791565, 0.01104191473351539, 0.011501349066585998, 0.011724950284035167, 0.011924899815265915]\n"
     ]
    },
    {
     "data": {
      "image/png": "[encoded data removed]",
      "text/plain": [
       "<matplotlib.figure.Figure at 0x7f9afbc1c898>"
      ]
     },
     "metadata": {},
     "output_type": "display_data"
    },
    {
     "name": "stdout",
     "output_type": "stream",
     "text": [
      "[0.7439107535966777, 0.9571931963078072, 0.9868976970203286, 0.9808906701583017, 0.9713534277227984, 0.9629253280694696, 0.9538540286462379, 0.9455972941516593, 0.9387705099130194, 0.9330862463744317, 0.9280518071416396]\n",
      "[0.2359450768050619, 0.3443407641253256, 0.36903733764020524, 0.38031094591974796, 0.3818464721592416, 0.38082493081670216, 0.3787228008169089, 0.3754531041036752, 0.37117656816848626, 0.368845529040754, 0.36508595666821914]\n",
      "[0.03451087410634168, 0.04313392911172083, 0.04857835051853733, 0.054150002974047075, 0.058503977724385994, 0.061286121619543284, 0.06262273941236347, 0.06346064320049544, 0.06376076025626091, 0.06371700504156007, 0.06378641515768273]\n",
      "[0.005702066889748, 0.004904227358455488, 0.005425829423665181, 0.006210983773256986, 0.007040916151583675, 0.007701052952751618, 0.008268955356219864, 0.008924041275097475, 0.009547391626359585, 0.009935758061683045, 0.010152796871867065]\n"
     ]
    },
    {
     "data": {
      "image/png": "[encoded data removed]",
      "text/plain": [
       "<matplotlib.figure.Figure at 0x7f9ac5590978>"
      ]
     },
     "metadata": {},
     "output_type": "display_data"
    }
   ],
   "source": [
    "plt.style.use(\"ggplot\")\n",
    "for baseType in baseTypes:\n",
    "    plot_and_sort(baseType, mrr_dict, bm25_mrr_dict, queryTypes)"
   ]
  },
  {
   "cell_type": "code",
   "execution_count": 83,
   "metadata": {},
   "outputs": [
    {
     "name": "stdout",
     "output_type": "stream",
     "text": [
      "dict_keys([('top5-tfidf', 'A'), ('top5-idf', 'A'), ('top5-tfidf', 'C'), ('top10-idf', 'B'), ('top10-tfidf', 'A'), ('top5-tfidf', 'D'), ('top10-idf', 'C'), ('top10-tfidf', 'C'), ('top5-tfidf', 'B'), ('top5-idf', 'D'), ('bm25-plain', 'A'), ('top5-idf', 'B'), ('top10-tfidf', 'D'), ('top10-tfidf', 'B'), ('top10-idf', 'A'), ('top10-idf', 'D'), ('top5-idf', 'C'), ('bm25-plain', 'B'), ('bm25-plain', 'D'), ('bm25-plain', 'C')])\n"
     ]
    }
   ],
   "source": [
    "print(rr_dict.keys())"
   ]
  },
  {
   "cell_type": "code",
   "execution_count": 104,
   "metadata": {
    "collapsed": true
   },
   "outputs": [],
   "source": [
    "def check_statistical_significance_with_baseline(baseType, rr_dict, mrr_dict, queryTypes):\n",
    "    \"\"\"\n",
    "    base type : 'top5-idf' ...\n",
    "    query type : 'A', 'B' ...\n",
    "    \n",
    "    \"\"\"\n",
    "    for queryType in queryTypes:\n",
    "        key = (baseType, queryType)\n",
    "        print(\"\\x1b[0m \" + str(key))\n",
    "        \n",
    "        rr_list = rr_dict[key]\n",
    "        sorted_rr_list = sorted(rr_list, key=lambda tup: tup[0])\n",
    "#         print(sorted_rr_list) # list of (alpha, rr_list)\n",
    "#         print([x for x,y in sorted_rr_list])\n",
    "        \n",
    "        \n",
    "        base_rr_list = rr_dict[(\"bm25-plain\", queryType)]\n",
    "        sorted_base_rr_list = sorted(base_rr_list, key=lambda tup: tup[0])\n",
    "#         print(sorted_base_rr_list) # list of (alpha, rr_list) \n",
    "#         print([x for x,y in sorted_base_rr_list])\n",
    "        \n",
    "\n",
    "        \n",
    "        for first in sorted_rr_list:\n",
    "            print(\"\\x1b[0m \" + str(first[0]) + \" \" + str(sorted_base_rr_list[0][0]), end= \" \")\n",
    "            print(np.mean(first[1]), np.mean(sorted_base_rr_list[0][1]))\n",
    "            result = two_sample_ttest_ind(first[1], sorted_base_rr_list[0][1])\n",
    "            print(result)\n",
    "            print(\"\\x1b[31m Statistically diff\" if result[1]<0.05 else \"\\033[34m NOT statistically different\")\n",
    "        \n",
    "        print()\n"
   ]
  },
  {
   "cell_type": "code",
   "execution_count": 150,
   "metadata": {
    "scrolled": false
   },
   "outputs": [
    {
     "name": "stdout",
     "output_type": "stream",
     "text": [
      "\u001b[0m ('top5-idf', 'A')\n",
      "\u001b[0m 1 0 0.6969429953752484 1.0\n",
      "Ttest_indResult(statistic=-78.7940874418545, pvalue=0.0)\n",
      "\u001b[31m Statistically diff\n",
      "\u001b[0m 5 0 0.8928932032863102 1.0\n",
      "Ttest_indResult(statistic=-43.0247732917986, pvalue=0.0)\n",
      "\u001b[31m Statistically diff\n",
      "\u001b[0m 10 0 0.9303515645227802 1.0\n",
      "Ttest_indResult(statistic=-35.342507747195825, pvalue=6.205617719850299e-258)\n",
      "\u001b[31m Statistically diff\n",
      "\u001b[0m 15 0 0.9405244448871701 1.0\n",
      "Ttest_indResult(statistic=-32.90903839829872, pvalue=1.3183975392404797e-225)\n",
      "\u001b[31m Statistically diff\n",
      "\u001b[0m 20 0 0.9401004282197227 1.0\n",
      "Ttest_indResult(statistic=-32.903971848714995, pvalue=1.5326329942162498e-225)\n",
      "\u001b[31m Statistically diff\n",
      "\u001b[0m 25 0 0.9355745418177454 1.0\n",
      "Ttest_indResult(statistic=-34.218933166314415, pvalue=8.808948209888873e-243)\n",
      "\u001b[31m Statistically diff\n",
      "\u001b[0m 30 0 0.9307321125564832 1.0\n",
      "Ttest_indResult(statistic=-35.370452431093184, pvalue=2.576739209679496e-258)\n",
      "\u001b[31m Statistically diff\n",
      "\u001b[0m 35 0 0.9263965536143647 1.0\n",
      "Ttest_indResult(statistic=-36.32725724327365, pvalue=1.5890281291112876e-271)\n",
      "\u001b[31m Statistically diff\n",
      "\u001b[0m 40 0 0.9205262151801428 1.0\n",
      "Ttest_indResult(statistic=-37.732317677103104, pvalue=2.0721818440959863e-291)\n",
      "\u001b[31m Statistically diff\n",
      "\u001b[0m 45 0 0.9158064183786567 1.0\n",
      "Ttest_indResult(statistic=-38.73740819968206, pvalue=5.570575204910544e-306)\n",
      "\u001b[31m Statistically diff\n",
      "\u001b[0m 50 0 0.9112254130904097 1.0\n",
      "Ttest_indResult(statistic=-39.73762941844029, pvalue=0.0)\n",
      "\u001b[31m Statistically diff\n",
      "\n",
      "\u001b[0m ('top5-idf', 'B')\n",
      "\u001b[0m 1 0 0.27404423470511813 0.31975464285714283\n",
      "Ttest_indResult(statistic=-13.759549080060484, pvalue=8.329071322151134e-43)\n",
      "\u001b[31m Statistically diff\n",
      "\u001b[0m 5 0 0.3969292574601577 0.31975464285714283\n",
      "Ttest_indResult(statistic=22.502200437741685, pvalue=3.30952769575644e-110)\n",
      "\u001b[31m Statistically diff\n",
      "\u001b[0m 10 0 0.42400201589340103 0.31975464285714283\n",
      "Ttest_indResult(statistic=30.821172198880088, pvalue=5.006836812445825e-202)\n",
      "\u001b[31m Statistically diff\n",
      "\u001b[0m 15 0 0.4285201363963482 0.31975464285714283\n",
      "Ttest_indResult(statistic=32.246924707658174, pvalue=2.5666448298992942e-220)\n",
      "\u001b[31m Statistically diff\n",
      "\u001b[0m 20 0 0.42787072322883185 0.31975464285714283\n",
      "Ttest_indResult(statistic=31.859666419435186, pvalue=2.9789881335172473e-215)\n",
      "\u001b[31m Statistically diff\n",
      "\u001b[0m 25 0 0.42446152738886933 0.31975464285714283\n",
      "Ttest_indResult(statistic=30.826660574784526, pvalue=4.449538719553273e-202)\n",
      "\u001b[31m Statistically diff\n",
      "\u001b[0m 30 0 0.4216805240455147 0.31975464285714283\n",
      "Ttest_indResult(statistic=29.844212057182965, pvalue=6.942600407367218e-190)\n",
      "\u001b[31m Statistically diff\n",
      "\u001b[0m 35 0 0.4186346430704314 0.31975464285714283\n",
      "Ttest_indResult(statistic=28.807784016390126, pvalue=2.088421352522775e-177)\n",
      "\u001b[31m Statistically diff\n",
      "\u001b[0m 40 0 0.4136112136617573 0.31975464285714283\n",
      "Ttest_indResult(statistic=27.34127792844646, pvalue=1.907543252997493e-160)\n",
      "\u001b[31m Statistically diff\n",
      "\u001b[0m 45 0 0.4104009053149764 0.31975464285714283\n",
      "Ttest_indResult(statistic=26.322069577136183, pvalue=4.038498120246615e-149)\n",
      "\u001b[31m Statistically diff\n",
      "\u001b[0m 50 0 0.40758671133239716 0.31975464285714283\n",
      "Ttest_indResult(statistic=25.42020288894988, pvalue=2.0077313988776094e-139)\n",
      "\u001b[31m Statistically diff\n",
      "\n",
      "\u001b[0m ('top5-idf', 'C')\n",
      "\u001b[0m 1 0 0.051865972684752105 0.03888721030318724\n",
      "Ttest_indResult(statistic=11.46436395767323, pvalue=3.0286219155581377e-30)\n",
      "\u001b[31m Statistically diff\n",
      "\u001b[0m 5 0 0.07738895634625959 0.03888721030318724\n",
      "Ttest_indResult(statistic=29.885421715245986, pvalue=1.6194189007959856e-188)\n",
      "\u001b[31m Statistically diff\n",
      "\u001b[0m 10 0 0.0870096414185562 0.03888721030318724\n",
      "Ttest_indResult(statistic=32.81007798655395, pvalue=7.234976901455176e-225)\n",
      "\u001b[31m Statistically diff\n",
      "\u001b[0m 15 0 0.09069415622855856 0.03888721030318724\n",
      "Ttest_indResult(statistic=33.0742841813133, pvalue=3.1330544489204244e-228)\n",
      "\u001b[31m Statistically diff\n",
      "\u001b[0m 20 0 0.09185171743387048 0.03888721030318724\n",
      "Ttest_indResult(statistic=32.676539175986385, pvalue=4.7568074754827384e-223)\n",
      "\u001b[31m Statistically diff\n",
      "\u001b[0m 25 0 0.09168397017021886 0.03888721030318724\n",
      "Ttest_indResult(statistic=32.02049144331906, pvalue=1.1853952285168078e-214)\n",
      "\u001b[31m Statistically diff\n",
      "\u001b[0m 30 0 0.09069056093346055 0.03888721030318724\n",
      "Ttest_indResult(statistic=31.335135624202344, pvalue=4.8242112481914115e-206)\n",
      "\u001b[31m Statistically diff\n",
      "\u001b[0m 35 0 0.0901665106107094 0.03888721030318724\n",
      "Ttest_indResult(statistic=30.725024584984112, pvalue=1.672642764816715e-198)\n",
      "\u001b[31m Statistically diff\n",
      "\u001b[0m 40 0 0.08977627645915442 0.03888721030318724\n",
      "Ttest_indResult(statistic=30.241632688747142, pvalue=1.2870415867430776e-192)\n",
      "\u001b[31m Statistically diff\n",
      "\u001b[0m 45 0 0.08866705541678892 0.03888721030318724\n",
      "Ttest_indResult(statistic=29.716449735216816, pvalue=2.5531702268996362e-186)\n",
      "\u001b[31m Statistically diff\n",
      "\u001b[0m 50 0 0.08826053008191165 0.03888721030318724\n",
      "Ttest_indResult(statistic=29.322520912041814, pvalue=1.1908934875789016e-181)\n",
      "\u001b[31m Statistically diff\n",
      "\n",
      "\u001b[0m ('top5-idf', 'D')\n",
      "\u001b[0m 1 0 0.008317541660526674 0.0042999992032543765\n",
      "Ttest_indResult(statistic=12.684180514605593, pvalue=1.6983283200368195e-36)\n",
      "\u001b[31m Statistically diff\n",
      "\u001b[0m 5 0 0.010101306513940138 0.0042999992032543765\n",
      "Ttest_indResult(statistic=24.82243789452588, pvalue=8.985110149779995e-132)\n",
      "\u001b[31m Statistically diff\n",
      "\u001b[0m 10 0 0.012432954389851538 0.0042999992032543765\n",
      "Ttest_indResult(statistic=21.964315837298724, pvalue=2.3807726097330056e-104)\n",
      "\u001b[31m Statistically diff\n",
      "\u001b[0m 15 0 0.01387178988510765 0.0042999992032543765\n",
      "Ttest_indResult(statistic=20.327766628861358, pvalue=5.758678942366099e-90)\n",
      "\u001b[31m Statistically diff\n",
      "\u001b[0m 20 0 0.014721010625656186 0.0042999992032543765\n",
      "Ttest_indResult(statistic=19.215708948199246, pvalue=9.238517162013087e-81)\n",
      "\u001b[31m Statistically diff\n",
      "\u001b[0m 25 0 0.015372404614068944 0.0042999992032543765\n",
      "Ttest_indResult(statistic=18.808377620246464, pvalue=1.6919521445531589e-77)\n",
      "\u001b[31m Statistically diff\n",
      "\u001b[0m 30 0 0.015781621127848998 0.0042999992032543765\n",
      "Ttest_indResult(statistic=18.351812848766826, pvalue=6.338448515560026e-74)\n",
      "\u001b[31m Statistically diff\n",
      "\u001b[0m 35 0 0.01598036381595481 0.0042999992032543765\n",
      "Ttest_indResult(statistic=18.157577204206866, pvalue=1.99675191897245e-72)\n",
      "\u001b[31m Statistically diff\n",
      "\u001b[0m 40 0 0.0160330102771146 0.0042999992032543765\n",
      "Ttest_indResult(statistic=17.98431045042693, pvalue=4.224459675688564e-71)\n",
      "\u001b[31m Statistically diff\n",
      "\u001b[0m 45 0 0.016149476814102198 0.0042999992032543765\n",
      "Ttest_indResult(statistic=17.79236651178188, pvalue=1.2003534956099754e-69)\n",
      "\u001b[31m Statistically diff\n",
      "\u001b[0m 50 0 0.016227999068986667 0.0042999992032543765\n",
      "Ttest_indResult(statistic=17.672398233755573, pvalue=9.632691999196074e-69)\n",
      "\u001b[31m Statistically diff\n",
      "\n",
      "\u001b[0m ('top5-tfidf', 'A')\n",
      "\u001b[0m 1 0 0.7493736007952624 1.0\n",
      "Ttest_indResult(statistic=-70.04234537630906, pvalue=0.0)\n",
      "\u001b[31m Statistically diff\n",
      "\u001b[0m 5 0 0.9530867352628449 1.0\n",
      "Ttest_indResult(statistic=-28.9101010270791, pvalue=1.4281916892471816e-176)\n",
      "\u001b[31m Statistically diff\n",
      "\u001b[0m 10 0 0.9799088045923058 1.0\n",
      "Ttest_indResult(statistic=-19.576768662624175, pvalue=8.930069074876867e-84)\n",
      "\u001b[31m Statistically diff\n",
      "\u001b[0m 15 0 0.9760923862798707 1.0\n",
      "Ttest_indResult(statistic=-21.109647110088112, pvalue=8.234159679662272e-97)\n",
      "\u001b[31m Statistically diff\n",
      "\u001b[0m 20 0 0.9678600099960238 1.0\n",
      "Ttest_indResult(statistic=-24.258351771990508, pvalue=2.3095787534806005e-126)\n",
      "\u001b[31m Statistically diff\n",
      "\u001b[0m 25 0 0.9593669387595548 1.0\n",
      "Ttest_indResult(statistic=-27.018446140041444, pvalue=3.0733795718402305e-155)\n",
      "\u001b[31m Statistically diff\n",
      "\u001b[0m 30 0 0.9508225023155843 1.0\n",
      "Ttest_indResult(statistic=-29.653319782374606, pvalue=2.7528688204584316e-185)\n",
      "\u001b[31m Statistically diff\n",
      "\u001b[0m 35 0 0.9439054298592038 1.0\n",
      "Ttest_indResult(statistic=-31.36965071939297, pvalue=4.1001377990222046e-206)\n",
      "\u001b[31m Statistically diff\n",
      "\u001b[0m 40 0 0.9369857558184154 1.0\n",
      "Ttest_indResult(statistic=-33.08076121892599, pvalue=7.92354557470106e-228)\n",
      "\u001b[31m Statistically diff\n",
      "\u001b[0m 45 0 0.9312288419880966 1.0\n",
      "Ttest_indResult(statistic=-34.51664754319613, pvalue=9.277200288300536e-247)\n",
      "\u001b[31m Statistically diff\n",
      "\u001b[0m 50 0 0.9262380230142584 1.0\n",
      "Ttest_indResult(statistic=-35.59615183451253, pvalue=2.0870222540255594e-261)\n",
      "\u001b[31m Statistically diff\n",
      "\n",
      "\u001b[0m ('top5-tfidf', 'B')\n",
      "\u001b[0m 1 0 0.2488206395352086 0.31975464285714283\n",
      "Ttest_indResult(statistic=-23.577751958425058, pvalue=8.566898741263642e-121)\n",
      "\u001b[31m Statistically diff\n"
     ]
    },
    {
     "name": "stdout",
     "output_type": "stream",
     "text": [
      "\u001b[0m 5 0 0.366941724863623 0.31975464285714283\n",
      "Ttest_indResult(statistic=16.17236851149374, pvalue=2.296272843741755e-58)\n",
      "\u001b[31m Statistically diff\n",
      "\u001b[0m 10 0 0.3911080486302816 0.31975464285714283\n",
      "Ttest_indResult(statistic=24.97237409304917, pvalue=4.254057645285053e-135)\n",
      "\u001b[31m Statistically diff\n",
      "\u001b[0m 15 0 0.39941539427664075 0.31975464285714283\n",
      "Ttest_indResult(statistic=26.88925284245208, pvalue=9.265282504374859e-156)\n",
      "\u001b[31m Statistically diff\n",
      "\u001b[0m 20 0 0.3999305685934693 0.31975464285714283\n",
      "Ttest_indResult(statistic=26.418841810132854, pvalue=1.7581358164003416e-150)\n",
      "\u001b[31m Statistically diff\n",
      "\u001b[0m 25 0 0.3987383663874112 0.31975464285714283\n",
      "Ttest_indResult(statistic=25.45870418595806, pvalue=4.713076353681707e-140)\n",
      "\u001b[31m Statistically diff\n",
      "\u001b[0m 30 0 0.3938223384539904 0.31975464285714283\n",
      "Ttest_indResult(statistic=23.671665699768603, pvalue=1.1349830446348221e-121)\n",
      "\u001b[31m Statistically diff\n",
      "\u001b[0m 35 0 0.3910197685262739 0.31975464285714283\n",
      "Ttest_indResult(statistic=22.5196320697492, pvalue=1.7881329159829193e-110)\n",
      "\u001b[31m Statistically diff\n",
      "\u001b[0m 40 0 0.388130834604488 0.31975464285714283\n",
      "Ttest_indResult(statistic=21.4012445437559, pvalue=4.1509138208268706e-100)\n",
      "\u001b[31m Statistically diff\n",
      "\u001b[0m 45 0 0.38224689088695446 0.31975464285714283\n",
      "Ttest_indResult(statistic=19.60092606542742, pvalue=1.746970061468456e-84)\n",
      "\u001b[31m Statistically diff\n",
      "\u001b[0m 50 0 0.3801831505383189 0.31975464285714283\n",
      "Ttest_indResult(statistic=18.814522424669327, pvalue=4.634986225393606e-78)\n",
      "\u001b[31m Statistically diff\n",
      "\n",
      "\u001b[0m ('top5-tfidf', 'C')\n",
      "\u001b[0m 1 0 0.0378205502171341 0.03888721030318724\n",
      "Ttest_indResult(statistic=-1.199079333103294, pvalue=0.23052284591210595)\n",
      "\u001b[34m NOT statistically different\n",
      "\u001b[0m 5 0 0.04959144006775628 0.03888721030318724\n",
      "Ttest_indResult(statistic=17.699044225127476, pvalue=2.638810432693972e-69)\n",
      "\u001b[31m Statistically diff\n",
      "\u001b[0m 10 0 0.0571737198325924 0.03888721030318724\n",
      "Ttest_indResult(statistic=26.155198052184744, pvalue=7.745306761347614e-147)\n",
      "\u001b[31m Statistically diff\n",
      "\u001b[0m 15 0 0.06334438778285395 0.03888721030318724\n",
      "Ttest_indResult(statistic=26.07975183583694, pvalue=1.2025490588107086e-145)\n",
      "\u001b[31m Statistically diff\n",
      "\u001b[0m 20 0 0.06692979101658927 0.03888721030318724\n",
      "Ttest_indResult(statistic=25.91927581401687, pvalue=8.2357297465081e-144)\n",
      "\u001b[31m Statistically diff\n",
      "\u001b[0m 25 0 0.06860659334312032 0.03888721030318724\n",
      "Ttest_indResult(statistic=25.881309766430196, pvalue=2.297303690490097e-143)\n",
      "\u001b[31m Statistically diff\n",
      "\u001b[0m 30 0 0.07000463153153719 0.03888721030318724\n",
      "Ttest_indResult(statistic=25.33924293043178, pvalue=1.2430222822323821e-137)\n",
      "\u001b[31m Statistically diff\n",
      "\u001b[0m 35 0 0.07023211191111005 0.03888721030318724\n",
      "Ttest_indResult(statistic=24.945765578341597, pvalue=1.479398157282148e-133)\n",
      "\u001b[31m Statistically diff\n",
      "\u001b[0m 40 0 0.06983149859216978 0.03888721030318724\n",
      "Ttest_indResult(statistic=24.533441781771888, pvalue=2.3414704768876252e-129)\n",
      "\u001b[31m Statistically diff\n",
      "\u001b[0m 45 0 0.07008260139513252 0.03888721030318724\n",
      "Ttest_indResult(statistic=24.002537909802072, pvalue=4.953141796632327e-124)\n",
      "\u001b[31m Statistically diff\n",
      "\u001b[0m 50 0 0.06968747454654403 0.03888721030318724\n",
      "Ttest_indResult(statistic=23.60648547651983, pvalue=3.9084578432239226e-120)\n",
      "\u001b[31m Statistically diff\n",
      "\n",
      "\u001b[0m ('top5-tfidf', 'D')\n",
      "\u001b[0m 1 0 0.005988970562751816 0.0042999992032543765\n",
      "Ttest_indResult(statistic=5.99352343446813, pvalue=2.1494314445090805e-09)\n",
      "\u001b[31m Statistically diff\n",
      "\u001b[0m 5 0 0.00560506275337137 0.0042999992032543765\n",
      "Ttest_indResult(statistic=20.52854728407268, pvalue=3.752676591033369e-92)\n",
      "\u001b[31m Statistically diff\n",
      "\u001b[0m 10 0 0.006354983612965656 0.0042999992032543765\n",
      "Ttest_indResult(statistic=27.46433354682563, pvalue=3.801636498199282e-161)\n",
      "\u001b[31m Statistically diff\n",
      "\u001b[0m 15 0 0.007396601190373296 0.0042999992032543765\n",
      "Ttest_indResult(statistic=22.042677559780067, pvalue=2.867592918915362e-105)\n",
      "\u001b[31m Statistically diff\n",
      "\u001b[0m 20 0 0.008253043098390256 0.0042999992032543765\n",
      "Ttest_indResult(statistic=20.793765550818446, pvalue=4.849959464417789e-94)\n",
      "\u001b[31m Statistically diff\n",
      "\u001b[0m 25 0 0.009029156340739117 0.0042999992032543765\n",
      "Ttest_indResult(statistic=18.28697705911999, pvalue=1.8089910748481473e-73)\n",
      "\u001b[31m Statistically diff\n",
      "\u001b[0m 30 0 0.009980246642856459 0.0042999992032543765\n",
      "Ttest_indResult(statistic=14.943351319385702, pvalue=6.370745632490381e-50)\n",
      "\u001b[31m Statistically diff\n",
      "\u001b[0m 35 0 0.010490642744337988 0.0042999992032543765\n",
      "Ttest_indResult(statistic=14.784190143535973, pvalue=6.581938954132909e-49)\n",
      "\u001b[31m Statistically diff\n",
      "\u001b[0m 40 0 0.01080865998879193 0.0042999992032543765\n",
      "Ttest_indResult(statistic=14.635417260487667, pvalue=5.713905121481924e-48)\n",
      "\u001b[31m Statistically diff\n",
      "\u001b[0m 45 0 0.011268667213900867 0.0042999992032543765\n",
      "Ttest_indResult(statistic=14.042762333837365, pvalue=2.4480930265683227e-44)\n",
      "\u001b[31m Statistically diff\n",
      "\u001b[0m 50 0 0.011410768187574806 0.0042999992032543765\n",
      "Ttest_indResult(statistic=14.099616485954853, pvalue=1.1236432600798118e-44)\n",
      "\u001b[31m Statistically diff\n",
      "\n",
      "\u001b[0m ('top10-idf', 'A')\n",
      "\u001b[0m 1 0 0.7213395002042271 1.0\n",
      "Ttest_indResult(statistic=-75.17653055149755, pvalue=0.0)\n",
      "\u001b[31m Statistically diff\n",
      "\u001b[0m 5 0 0.9331454676577545 1.0\n",
      "Ttest_indResult(statistic=-34.474974834993816, pvalue=3.3558411192187715e-246)\n",
      "\u001b[31m Statistically diff\n",
      "\u001b[0m 10 0 0.9649069243102784 1.0\n",
      "Ttest_indResult(statistic=-25.59974600899449, pvalue=4.6693963976516135e-140)\n",
      "\u001b[31m Statistically diff\n",
      "\u001b[0m 15 0 0.9653541983893299 1.0\n",
      "Ttest_indResult(statistic=-25.484510445753628, pvalue=7.431632403391864e-139)\n",
      "\u001b[31m Statistically diff\n",
      "\u001b[0m 20 0 0.9596079077355393 1.0\n",
      "Ttest_indResult(statistic=-27.391668311238554, pvalue=2.378896425794608e-159)\n",
      "\u001b[31m Statistically diff\n",
      "\u001b[0m 25 0 0.9521836534443606 1.0\n",
      "Ttest_indResult(statistic=-29.48222406801868, pvalue=2.9006662068392704e-183)\n",
      "\u001b[31m Statistically diff\n",
      "\u001b[0m 30 0 0.9453146875019293 1.0\n",
      "Ttest_indResult(statistic=-31.293123210869098, pvalue=3.647401965436186e-205)\n",
      "\u001b[31m Statistically diff\n",
      "\u001b[0m 35 0 0.9379176501481852 1.0\n",
      "Ttest_indResult(statistic=-33.252696763993804, pvalue=4.632023032961573e-230)\n",
      "\u001b[31m Statistically diff\n",
      "\u001b[0m 40 0 0.9308535649052873 1.0\n",
      "Ttest_indResult(statistic=-35.051303836477416, pvalue=5.7090619091278594e-254)\n",
      "\u001b[31m Statistically diff\n",
      "\u001b[0m 45 0 0.924559490394502 1.0\n",
      "Ttest_indResult(statistic=-36.415783057589955, pvalue=9.230777738711032e-273)\n",
      "\u001b[31m Statistically diff\n",
      "\u001b[0m 50 0 0.9202010975842064 1.0\n",
      "Ttest_indResult(statistic=-37.32715764144776, pvalue=1.284822192259783e-285)\n",
      "\u001b[31m Statistically diff\n",
      "\n",
      "\u001b[0m ('top10-idf', 'B')\n",
      "\u001b[0m 1 0 0.24529526177532804 0.31975464285714283\n",
      "Ttest_indResult(statistic=-24.52611000634021, pvalue=2.4240089859043058e-130)\n",
      "\u001b[31m Statistically diff\n",
      "\u001b[0m 5 0 0.3637918715705343 0.31975464285714283\n",
      "Ttest_indResult(statistic=14.636465955420674, pvalue=3.4313602542488075e-48)\n",
      "\u001b[31m Statistically diff\n",
      "\u001b[0m 10 0 0.3928821976604951 0.31975464285714283\n",
      "Ttest_indResult(statistic=24.5913534785124, pvalue=4.595197578952241e-131)\n",
      "\u001b[31m Statistically diff\n",
      "\u001b[0m 15 0 0.40007937746549976 0.31975464285714283\n",
      "Ttest_indResult(statistic=26.41346801951989, pvalue=2.0381575923785713e-150)\n",
      "\u001b[31m Statistically diff\n",
      "\u001b[0m 20 0 0.4036329440115491 0.31975464285714283\n",
      "Ttest_indResult(statistic=26.797117462903657, pvalue=1.3794391513774181e-154)\n",
      "\u001b[31m Statistically diff\n",
      "\u001b[0m 25 0 0.4014722514654663 0.31975464285714283\n",
      "Ttest_indResult(statistic=25.778741930182417, pvalue=2.0063689921252738e-143)\n",
      "\u001b[31m Statistically diff\n",
      "\u001b[0m 30 0 0.3981647391472376 0.31975464285714283\n",
      "Ttest_indResult(statistic=24.48459309105005, pvalue=7.868702267555746e-130)\n",
      "\u001b[31m Statistically diff\n",
      "\u001b[0m 35 0 0.3941199247919163 0.31975464285714283\n",
      "Ttest_indResult(statistic=23.096607786150624, pvalue=5.532771666280315e-116)\n",
      "\u001b[31m Statistically diff\n",
      "\u001b[0m 40 0 0.3905634336646937 0.31975464285714283\n",
      "Ttest_indResult(statistic=21.847483530782252, pvalue=3.653276299797697e-104)\n",
      "\u001b[31m Statistically diff\n",
      "\u001b[0m 45 0 0.3872717792135066 0.31975464285714283\n",
      "Ttest_indResult(statistic=20.735490366960263, pvalue=3.6691536172947356e-94)\n",
      "\u001b[31m Statistically diff\n",
      "\u001b[0m 50 0 0.38417073625942505 0.31975464285714283\n",
      "Ttest_indResult(statistic=19.69698150579999, pvalue=2.88859557882325e-85)\n",
      "\u001b[31m Statistically diff\n",
      "\n",
      "\u001b[0m ('top10-idf', 'C')\n",
      "\u001b[0m 1 0 0.03820149812002464 0.03888721030318724\n",
      "Ttest_indResult(statistic=-0.7549499682548839, pvalue=0.4502952396165145)\n",
      "\u001b[34m NOT statistically different\n",
      "\u001b[0m 5 0 0.051451777663139804 0.03888721030318724\n",
      "Ttest_indResult(statistic=18.57399236746999, pvalue=5.369234876428893e-76)\n",
      "\u001b[31m Statistically diff\n",
      "\u001b[0m 10 0 0.060010035191452496 0.03888721030318724\n",
      "Ttest_indResult(statistic=26.140748976129462, pvalue=1.8021466774368454e-146)\n",
      "\u001b[31m Statistically diff\n",
      "\u001b[0m 15 0 0.06583487679325087 0.03888721030318724\n",
      "Ttest_indResult(statistic=26.49281477927112, pvalue=5.133932399815003e-150)\n",
      "\u001b[31m Statistically diff\n",
      "\u001b[0m 20 0 0.0689359822039241 0.03888721030318724\n",
      "Ttest_indResult(statistic=26.7027341767325, pvalue=3.2766091870073137e-152)\n",
      "\u001b[31m Statistically diff\n",
      "\u001b[0m 25 0 0.0706365703192202 0.03888721030318724\n",
      "Ttest_indResult(statistic=26.20001578977825, pvalue=1.0005678444426281e-146)\n",
      "\u001b[31m Statistically diff\n",
      "\u001b[0m 30 0 0.07156940359132488 0.03888721030318724\n",
      "Ttest_indResult(statistic=26.02438166996624, pvalue=7.899468636463732e-145)\n"
     ]
    },
    {
     "name": "stdout",
     "output_type": "stream",
     "text": [
      "\u001b[31m Statistically diff\n",
      "\u001b[0m 35 0 0.07180233049956077 0.03888721030318724\n",
      "Ttest_indResult(statistic=25.500687618838167, pvalue=2.7413905725257297e-139)\n",
      "\u001b[31m Statistically diff\n",
      "\u001b[0m 40 0 0.07197852300955385 0.03888721030318724\n",
      "Ttest_indResult(statistic=25.13881804879462, pvalue=1.6096008135582233e-135)\n",
      "\u001b[31m Statistically diff\n",
      "\u001b[0m 45 0 0.07197211287254861 0.03888721030318724\n",
      "Ttest_indResult(statistic=24.66218049312591, pvalue=1.2402886808870544e-130)\n",
      "\u001b[31m Statistically diff\n",
      "\u001b[0m 50 0 0.07174563717532995 0.03888721030318724\n",
      "Ttest_indResult(statistic=24.25642383596527, pvalue=1.5331099250709696e-126)\n",
      "\u001b[31m Statistically diff\n",
      "\n",
      "\u001b[0m ('top10-idf', 'D')\n",
      "\u001b[0m 1 0 0.0062552816822072045 0.0042999992032543765\n",
      "Ttest_indResult(statistic=6.39980238091508, pvalue=1.6519746473001082e-10)\n",
      "\u001b[31m Statistically diff\n",
      "\u001b[0m 5 0 0.005995372342440165 0.0042999992032543765\n",
      "Ttest_indResult(statistic=18.425000231951067, pvalue=1.144595790707078e-74)\n",
      "\u001b[31m Statistically diff\n",
      "\u001b[0m 10 0 0.006914547454458267 0.0042999992032543765\n",
      "Ttest_indResult(statistic=25.353672969867176, pvalue=8.14546035382777e-138)\n",
      "\u001b[31m Statistically diff\n",
      "\u001b[0m 15 0 0.008046672933265359 0.0042999992032543765\n",
      "Ttest_indResult(statistic=21.109776621996577, pvalue=7.993053506171813e-97)\n",
      "\u001b[31m Statistically diff\n",
      "\u001b[0m 20 0 0.008896252467865778 0.0042999992032543765\n",
      "Ttest_indResult(statistic=19.239289921216724, pvalue=5.402566946410676e-81)\n",
      "\u001b[31m Statistically diff\n",
      "\u001b[0m 25 0 0.009695239413386328 0.0042999992032543765\n",
      "Ttest_indResult(statistic=17.966030139856, pvalue=5.1862294354115834e-71)\n",
      "\u001b[31m Statistically diff\n",
      "\u001b[0m 30 0 0.010664306421791565 0.0042999992032543765\n",
      "Ttest_indResult(statistic=15.059600015881843, pvalue=1.15622867228876e-50)\n",
      "\u001b[31m Statistically diff\n",
      "\u001b[0m 35 0 0.01104191473351539 0.0042999992032543765\n",
      "Ttest_indResult(statistic=15.089743269941868, pvalue=7.501077775720531e-51)\n",
      "\u001b[31m Statistically diff\n",
      "\u001b[0m 40 0 0.011501349066585998 0.0042999992032543765\n",
      "Ttest_indResult(statistic=14.738562218218242, pvalue=1.2920991189065592e-48)\n",
      "\u001b[31m Statistically diff\n",
      "\u001b[0m 45 0 0.011724950284035167 0.0042999992032543765\n",
      "Ttest_indResult(statistic=14.804566836038939, pvalue=5.0156318223115866e-49)\n",
      "\u001b[31m Statistically diff\n",
      "\u001b[0m 50 0 0.011924899815265915 0.0042999992032543765\n",
      "Ttest_indResult(statistic=14.879623078043133, pvalue=1.7064945216234823e-49)\n",
      "\u001b[31m Statistically diff\n",
      "\n",
      "\u001b[0m ('top10-tfidf', 'A')\n",
      "\u001b[0m 1 0 0.7439107535966777 1.0\n",
      "Ttest_indResult(statistic=-71.00314604518155, pvalue=0.0)\n",
      "\u001b[31m Statistically diff\n",
      "\u001b[0m 5 0 0.9571931963078072 1.0\n",
      "Ttest_indResult(statistic=-27.562005333816984, pvalue=3.047490476514407e-161)\n",
      "\u001b[31m Statistically diff\n",
      "\u001b[0m 10 0 0.9868976970203286 1.0\n",
      "Ttest_indResult(statistic=-15.782111140947487, pvalue=1.9234604673947763e-55)\n",
      "\u001b[31m Statistically diff\n",
      "\u001b[0m 15 0 0.9808906701583017 1.0\n",
      "Ttest_indResult(statistic=-18.818567849206655, pvalue=1.158681252927084e-77)\n",
      "\u001b[31m Statistically diff\n",
      "\u001b[0m 20 0 0.9713534277227984 1.0\n",
      "Ttest_indResult(statistic=-22.92012995557387, pvalue=2.3615458174157614e-113)\n",
      "\u001b[31m Statistically diff\n",
      "\u001b[0m 25 0 0.9629253280694696 1.0\n",
      "Ttest_indResult(statistic=-25.74616028547707, pvalue=1.3659460711030248e-141)\n",
      "\u001b[31m Statistically diff\n",
      "\u001b[0m 30 0 0.9538540286462379 1.0\n",
      "Ttest_indResult(statistic=-28.502896477821835, pvalue=7.088634056417514e-172)\n",
      "\u001b[31m Statistically diff\n",
      "\u001b[0m 35 0 0.9455972941516593 1.0\n",
      "Ttest_indResult(statistic=-30.754285007115595, pvalue=1.5536128843103597e-198)\n",
      "\u001b[31m Statistically diff\n",
      "\u001b[0m 40 0 0.9387705099130194 1.0\n",
      "Ttest_indResult(statistic=-32.53274378358929, pvalue=9.008999538365233e-221)\n",
      "\u001b[31m Statistically diff\n",
      "\u001b[0m 45 0 0.9330862463744317 1.0\n",
      "Ttest_indResult(statistic=-33.89956044620496, pvalue=1.518963714382712e-238)\n",
      "\u001b[31m Statistically diff\n",
      "\u001b[0m 50 0 0.9280518071416396 1.0\n",
      "Ttest_indResult(statistic=-34.9920269196718, pvalue=3.6332458314057944e-253)\n",
      "\u001b[31m Statistically diff\n",
      "\n",
      "\u001b[0m ('top10-tfidf', 'B')\n",
      "\u001b[0m 1 0 0.2359450768050619 0.31975464285714283\n",
      "Ttest_indResult(statistic=-28.658252645082385, pvalue=3.745244738656625e-176)\n",
      "\u001b[31m Statistically diff\n",
      "\u001b[0m 5 0 0.3443407641253256 0.31975464285714283\n",
      "Ttest_indResult(statistic=8.973202644466259, pvalue=3.178131145371859e-19)\n",
      "\u001b[31m Statistically diff\n",
      "\u001b[0m 10 0 0.36903733764020524 0.31975464285714283\n",
      "Ttest_indResult(statistic=18.646162650168232, pvalue=7.662009214905107e-77)\n",
      "\u001b[31m Statistically diff\n",
      "\u001b[0m 15 0 0.38031094591974796 0.31975464285714283\n",
      "Ttest_indResult(statistic=21.681419116777615, pvalue=8.244279676007287e-103)\n",
      "\u001b[31m Statistically diff\n",
      "\u001b[0m 20 0 0.3818464721592416 0.31975464285714283\n",
      "Ttest_indResult(statistic=21.471359784483692, pvalue=7.472750027719118e-101)\n",
      "\u001b[31m Statistically diff\n",
      "\u001b[0m 25 0 0.38082493081670216 0.31975464285714283\n",
      "Ttest_indResult(statistic=20.61225096561855, pvalue=3.5827274212354156e-93)\n",
      "\u001b[31m Statistically diff\n",
      "\u001b[0m 30 0 0.3787228008169089 0.31975464285714283\n",
      "Ttest_indResult(statistic=19.56707906795681, pvalue=3.0249489603483194e-84)\n",
      "\u001b[31m Statistically diff\n",
      "\u001b[0m 35 0 0.3754531041036752 0.31975464285714283\n",
      "Ttest_indResult(statistic=18.308097157539112, pvalue=4.320961441836486e-74)\n",
      "\u001b[31m Statistically diff\n",
      "\u001b[0m 40 0 0.37117656816848626 0.31975464285714283\n",
      "Ttest_indResult(statistic=16.81462445654515, pvalue=6.935248110465103e-63)\n",
      "\u001b[31m Statistically diff\n",
      "\u001b[0m 45 0 0.368845529040754 0.31975464285714283\n",
      "Ttest_indResult(statistic=15.92107941633911, pvalue=1.2883786653646574e-56)\n",
      "\u001b[31m Statistically diff\n",
      "\u001b[0m 50 0 0.36508595666821914 0.31975464285714283\n",
      "Ttest_indResult(statistic=14.698889999015293, pvalue=1.4046937874013313e-48)\n",
      "\u001b[31m Statistically diff\n",
      "\n",
      "\u001b[0m ('top10-tfidf', 'C')\n",
      "\u001b[0m 1 0 0.03451087410634168 0.03888721030318724\n",
      "Ttest_indResult(statistic=-5.258913599895385, pvalue=1.4758903600729273e-07)\n",
      "\u001b[31m Statistically diff\n",
      "\u001b[0m 5 0 0.04313392911172083 0.03888721030318724\n",
      "Ttest_indResult(statistic=8.64137248131718, pvalue=6.0975991380386e-18)\n",
      "\u001b[31m Statistically diff\n",
      "\u001b[0m 10 0 0.04857835051853733 0.03888721030318724\n",
      "Ttest_indResult(statistic=19.58198884609406, pvalue=2.4021123219086123e-84)\n",
      "\u001b[31m Statistically diff\n",
      "\u001b[0m 15 0 0.054150002974047075 0.03888721030318724\n",
      "Ttest_indResult(statistic=22.357098094605277, pvalue=1.3332627559633233e-108)\n",
      "\u001b[31m Statistically diff\n",
      "\u001b[0m 20 0 0.058503977724385994 0.03888721030318724\n",
      "Ttest_indResult(statistic=22.422423334588697, pvalue=5.064789150457417e-109)\n",
      "\u001b[31m Statistically diff\n",
      "\u001b[0m 25 0 0.061286121619543284 0.03888721030318724\n",
      "Ttest_indResult(statistic=22.419339637861906, pvalue=6.426190395176521e-109)\n",
      "\u001b[31m Statistically diff\n",
      "\u001b[0m 30 0 0.06262273941236347 0.03888721030318724\n",
      "Ttest_indResult(statistic=22.33315251164507, pvalue=4.363520956058157e-108)\n",
      "\u001b[31m Statistically diff\n",
      "\u001b[0m 35 0 0.06346064320049544 0.03888721030318724\n",
      "Ttest_indResult(statistic=22.16306119774833, pvalue=1.710366131689331e-106)\n",
      "\u001b[31m Statistically diff\n",
      "\u001b[0m 40 0 0.06376076025626091 0.03888721030318724\n",
      "Ttest_indResult(statistic=21.752821797480355, pvalue=9.96876401805849e-103)\n",
      "\u001b[31m Statistically diff\n",
      "\u001b[0m 45 0 0.06371700504156007 0.03888721030318724\n",
      "Ttest_indResult(statistic=21.365650713930197, pvalue=3.075347325584447e-99)\n",
      "\u001b[31m Statistically diff\n",
      "\u001b[0m 50 0 0.06378641515768273 0.03888721030318724\n",
      "Ttest_indResult(statistic=21.058192320037186, pvalue=1.6552600367662972e-96)\n",
      "\u001b[31m Statistically diff\n",
      "\n",
      "\u001b[0m ('top10-tfidf', 'D')\n",
      "\u001b[0m 1 0 0.005702066889748 0.0042999992032543765\n",
      "Ttest_indResult(statistic=4.860249868379969, pvalue=1.198230209071108e-06)\n",
      "\u001b[31m Statistically diff\n",
      "\u001b[0m 5 0 0.004904227358455488 0.0042999992032543765\n",
      "Ttest_indResult(statistic=13.103749437461506, pvalue=4.9957352750617235e-39)\n",
      "\u001b[31m Statistically diff\n",
      "\u001b[0m 10 0 0.005425829423665181 0.0042999992032543765\n",
      "Ttest_indResult(statistic=19.544532729130925, pvalue=6.025133035193757e-84)\n",
      "\u001b[31m Statistically diff\n",
      "\u001b[0m 15 0 0.006210983773256986 0.0042999992032543765\n",
      "Ttest_indResult(statistic=20.88840843805471, pvalue=4.277486492741206e-95)\n",
      "\u001b[31m Statistically diff\n",
      "\u001b[0m 20 0 0.007040916151583675 0.0042999992032543765\n",
      "Ttest_indResult(statistic=18.933543431373607, pvalue=1.3325888556676348e-78)\n",
      "\u001b[31m Statistically diff\n",
      "\u001b[0m 25 0 0.007701052952751618 0.0042999992032543765\n",
      "Ttest_indResult(statistic=16.707720796612126, pvalue=8.254091724969637e-62)\n",
      "\u001b[31m Statistically diff\n",
      "\u001b[0m 30 0 0.008268955356219864 0.0042999992032543765\n",
      "Ttest_indResult(statistic=16.471697746345626, pvalue=3.91988668564378e-60)\n",
      "\u001b[31m Statistically diff\n",
      "\u001b[0m 35 0 0.008924041275097475 0.0042999992032543765\n",
      "Ttest_indResult(statistic=14.496949046500797, pvalue=4.0823291672721847e-47)\n",
      "\u001b[31m Statistically diff\n",
      "\u001b[0m 40 0 0.009547391626359585 0.0042999992032543765\n",
      "Ttest_indResult(statistic=13.33034235839277, pvalue=3.6082979589273882e-40)\n",
      "\u001b[31m Statistically diff\n",
      "\u001b[0m 45 0 0.009935758061683045 0.0042999992032543765\n",
      "Ttest_indResult(statistic=13.102347918463682, pvalue=7.117193560621907e-39)\n",
      "\u001b[31m Statistically diff\n",
      "\u001b[0m 50 0 0.010152796871867065 0.0042999992032543765\n"
     ]
    },
    {
     "name": "stdout",
     "output_type": "stream",
     "text": [
      "Ttest_indResult(statistic=13.066813609524461, pvalue=1.1336605880332138e-38)\n",
      "\u001b[31m Statistically diff\n",
      "\n"
     ]
    }
   ],
   "source": [
    "for baseType in baseTypes:\n",
    "    check_statistical_significance_with_baseline(baseType, rr_dict, mrr_dict, queryTypes)"
   ]
  },
  {
   "cell_type": "markdown",
   "metadata": {},
   "source": [
    "# Average RANK "
   ]
  },
  {
   "cell_type": "code",
   "execution_count": 137,
   "metadata": {
    "collapsed": true,
    "scrolled": false
   },
   "outputs": [],
   "source": [
    "# for baseType in baseTypes:\n",
    "#     a = plot_and_sort(baseType, average_rank_dict, bm25_avg_rank_dict, queryTypes)"
   ]
  },
  {
   "cell_type": "code",
   "execution_count": 118,
   "metadata": {
    "collapsed": true
   },
   "outputs": [],
   "source": [
    "def check_statistical_significance_with_baseline(baseType, rank_dict,  queryTypes):\n",
    "    \"\"\"\n",
    "    base type : 'top5-idf' ...\n",
    "    query type : 'A', 'B' ...\n",
    "    \n",
    "    \"\"\"\n",
    "    for queryType in queryTypes:\n",
    "        key = (baseType, queryType)\n",
    "        print(\"\\x1b[0m \" + str(key))\n",
    "        \n",
    "        r_list = rank_dict[key]\n",
    "        sorted_r_list = sorted(r_list, key=lambda tup: tup[0])\n",
    "#         print(sorted_r_list) # list of (alpha, rr_list)\n",
    "#         print([x for x,y in sorted_rr_list])\n",
    "        \n",
    "        \n",
    "        base_r_list = rank_dict[(\"bm25-plain\", queryType)]\n",
    "        sorted_base_r_list = sorted(base_r_list, key=lambda tup: tup[0])\n",
    "#         print(sorted_base_r_list) # list of (alpha, rr_list) \n",
    "#         print([x for x,y in sorted_base_rr_list])\n",
    "        \n",
    "\n",
    "        for first in sorted_r_list:\n",
    "            print(\"\\x1b[0m \" + str(first[0]) + \" \" + str(sorted_base_r_list[0][0]), end= \" \")\n",
    "            print(np.mean(first[1]), np.mean(sorted_base_r_list[0][1]))\n",
    "            result = two_sample_ttest_ind(first[1], sorted_base_r_list[0][1])\n",
    "            print(result)\n",
    "            print(\"\\x1b[31m Statistically diff\" if result[1]<0.05 else \"\\033[34m NOT statistically different\")\n",
    "        \n",
    "        print()\n"
   ]
  },
  {
   "cell_type": "code",
   "execution_count": null,
   "metadata": {
    "collapsed": true,
    "scrolled": false
   },
   "outputs": [],
   "source": [
    "for baseType in baseTypes:\n",
    "    check_statistical_significance_with_baseline(baseType, rank_dict, queryTypes)"
   ]
  },
  {
   "cell_type": "code",
   "execution_count": 39,
   "metadata": {},
   "outputs": [
    {
     "name": "stdout",
     "output_type": "stream",
     "text": [
      "\u001b[0m ('top5-idf', 'A') 10 1.3023 1.0\u001b[0m \n",
      "\u001b[0m ('top5-idf', 'A') 15 1.2131 1.0\u001b[0m \n",
      "\u001b[0m ('top5-idf', 'A') 20 1.2188 1.0\u001b[0m \n",
      "\u001b[0m ('top5-idf', 'A') 25 1.2339 1.0\u001b[0m \n",
      "\u001b[0m ('top5-idf', 'A') 30 1.2673 1.0\u001b[0m \n",
      "\n",
      "\u001b[0m ('top5-idf', 'B') 10 4.6595 4.0607\u001b[0m \n",
      "\u001b[0m ('top5-idf', 'B') 15 4.4058 4.0607\u001b[0m \n",
      "\u001b[0m ('top5-idf', 'B') 20 4.5222 4.0607\u001b[0m \n",
      "\u001b[0m ('top5-idf', 'B') 25 4.7526 4.0607\u001b[0m \n",
      "\u001b[0m ('top5-idf', 'B') 30 5.0312 4.0607\u001b[0m \n",
      "\n",
      "\u001b[0m ('top5-idf', 'C') 10 38.997199719971995 37.7498\u001b[0m \n",
      "\u001b[0m ('top5-idf', 'C') 15 37.9241 37.7498\u001b[0m \n",
      "\u001b[0m ('top5-idf', 'C') 20 39.4428 37.7498\u001b[0m \n",
      "\u001b[0m ('top5-idf', 'C') 25 41.8497 37.7498\u001b[0m \n",
      "\u001b[0m ('top5-idf', 'C') 30 44.5672 37.7498\u001b[0m \n",
      "\n",
      "\u001b[0m ('top5-idf', 'D') 10 252.894708994709 338.6871\u001b[31m WIN\n",
      "\u001b[0m ('top5-idf', 'D') 15 258.7388923983997 338.6871\u001b[31m WIN\n",
      "\u001b[0m ('top5-idf', 'D') 20 264.0038079119949 338.6871\u001b[31m WIN\n",
      "\u001b[0m ('top5-idf', 'D') 25 267.9310123878684 338.6871\u001b[31m WIN\n",
      "\u001b[0m ('top5-idf', 'D') 30 272.6380849919311 338.6871\u001b[31m WIN\n",
      "\n",
      "--------------------------------\n",
      "\u001b[0m ('top5-tfidf', 'A') 10 1.0572 1.0\u001b[0m \n",
      "\u001b[0m ('top5-tfidf', 'A') 15 1.0659 1.0\u001b[0m \n",
      "\u001b[0m ('top5-tfidf', 'A') 20 1.0948 1.0\u001b[0m \n",
      "\u001b[0m ('top5-tfidf', 'A') 25 1.1292 1.0\u001b[0m \n",
      "\u001b[0m ('top5-tfidf', 'A') 30 1.1733 1.0\u001b[0m \n",
      "\n",
      "\u001b[0m ('top5-tfidf', 'B') 10 3.7825 4.0607\u001b[31m WIN\n",
      "\u001b[0m ('top5-tfidf', 'B') 15 3.8497 4.0607\u001b[31m WIN\n",
      "\u001b[0m ('top5-tfidf', 'B') 20 4.1086 4.0607\u001b[0m \n",
      "\u001b[0m ('top5-tfidf', 'B') 25 4.4528 4.0607\u001b[0m \n",
      "\u001b[0m ('top5-tfidf', 'B') 30 4.8314 4.0607\u001b[0m \n",
      "\n",
      "\u001b[0m ('top5-tfidf', 'C') 10 32.9744 37.7498\u001b[31m WIN\n",
      "\u001b[0m ('top5-tfidf', 'C') 15 34.0843 37.7498\u001b[31m WIN\n",
      "\u001b[0m ('top5-tfidf', 'C') 20 36.8858 37.7498\u001b[31m WIN\n",
      "\u001b[0m ('top5-tfidf', 'C') 25 40.1865 37.7498\u001b[0m \n",
      "\u001b[0m ('top5-tfidf', 'C') 30 43.6626 37.7498\u001b[0m \n",
      "\n",
      "\u001b[0m ('top5-tfidf', 'D') 10 276.14053449852656 338.6871\u001b[31m WIN\n",
      "\u001b[0m ('top5-tfidf', 'D') 15 276.6497134670487 338.6871\u001b[31m WIN\n",
      "\u001b[0m ('top5-tfidf', 'D') 20 279.04268799335273 338.6871\u001b[31m WIN\n",
      "\u001b[0m ('top5-tfidf', 'D') 25 282.8036654729303 338.6871\u001b[31m WIN\n",
      "\u001b[0m ('top5-tfidf', 'D') 30 287.82633709780526 338.6871\u001b[31m WIN\n",
      "\n",
      "--------------------------------\n",
      "\u001b[0m ('top10-idf', 'A') 10 1.1066 1.0\u001b[0m \n",
      "\u001b[0m ('top10-idf', 'A') 15 1.0998 1.0\u001b[0m \n",
      "\u001b[0m ('top10-idf', 'A') 20 1.1157 1.0\u001b[0m \n",
      "\u001b[0m ('top10-idf', 'A') 25 1.1532 1.0\u001b[0m \n",
      "\u001b[0m ('top10-idf', 'A') 30 1.1919 1.0\u001b[0m \n",
      "\n",
      "\u001b[0m ('top10-idf', 'B') 10 4.0201 4.0607\u001b[31m WIN\n",
      "\u001b[0m ('top10-idf', 'B') 15 4.0228 4.0607\u001b[31m WIN\n",
      "\u001b[0m ('top10-idf', 'B') 20 4.2507 4.0607\u001b[0m \n",
      "\u001b[0m ('top10-idf', 'B') 25 4.5686 4.0607\u001b[0m \n",
      "\u001b[0m ('top10-idf', 'B') 30 4.9253 4.0607\u001b[0m \n",
      "\n",
      "\u001b[0m ('top10-idf', 'C') 10 34.9821 37.7498\u001b[31m WIN\n",
      "\u001b[0m ('top10-idf', 'C') 15 35.5167 37.7498\u001b[31m WIN\n",
      "\u001b[0m ('top10-idf', 'C') 20 38.0548 37.7498\u001b[0m \n",
      "\u001b[0m ('top10-idf', 'C') 25 41.185 37.7498\u001b[0m \n",
      "\u001b[0m ('top10-idf', 'C') 30 44.471 37.7498\u001b[0m \n",
      "\n",
      "\u001b[0m ('top10-idf', 'D') 10 272.2189465003608 338.6871\u001b[31m WIN\n",
      "\u001b[0m ('top10-idf', 'D') 15 275.83983488132094 338.6871\u001b[31m WIN\n",
      "\u001b[0m ('top10-idf', 'D') 20 278.6291653609109 338.6871\u001b[31m WIN\n",
      "\u001b[0m ('top10-idf', 'D') 25 284.30985024256483 338.6871\u001b[31m WIN\n",
      "\u001b[0m ('top10-idf', 'D') 30 287.54749199573104 338.6871\u001b[31m WIN\n",
      "\n",
      "--------------------------------\n",
      "\u001b[0m ('top10-tfidf', 'A') 10 1.035 1.0\u001b[0m \n",
      "\u001b[0m ('top10-tfidf', 'A') 15 1.0524 1.0\u001b[0m \n",
      "\u001b[0m ('top10-tfidf', 'A') 20 1.0813 1.0\u001b[0m \n",
      "\u001b[0m ('top10-tfidf', 'A') 25 1.1182 1.0\u001b[0m \n",
      "\u001b[0m ('top10-tfidf', 'A') 30 1.1598 1.0\u001b[0m \n",
      "\n",
      "\u001b[0m ('top10-tfidf', 'B') 10 3.8122 4.0607\u001b[31m WIN\n",
      "\u001b[0m ('top10-tfidf', 'B') 15 3.8946 4.0607\u001b[31m WIN\n",
      "\u001b[0m ('top10-tfidf', 'B') 20 4.1665 4.0607\u001b[0m \n",
      "\u001b[0m ('top10-tfidf', 'B') 25 4.5113 4.0607\u001b[0m \n",
      "\u001b[0m ('top10-tfidf', 'B') 30 4.9032 4.0607\u001b[0m \n",
      "\n",
      "\u001b[0m ('top10-tfidf', 'C') 10 33.7714 37.7498\u001b[31m WIN\n",
      "\u001b[0m ('top10-tfidf', 'C') 15 34.7641 37.7498\u001b[31m WIN\n",
      "\u001b[0m ('top10-tfidf', 'C') 20 37.4424 37.7498\u001b[31m WIN\n",
      "\u001b[0m ('top10-tfidf', 'C') 25 40.8449 37.7498\u001b[0m \n",
      "\u001b[0m ('top10-tfidf', 'C') 30 44.3207 37.7498\u001b[0m \n",
      "\n",
      "\u001b[0m ('top10-tfidf', 'D') 10 293.38783538430505 338.6871\u001b[31m WIN\n",
      "\u001b[0m ('top10-tfidf', 'D') 15 287.2158023683136 338.6871\u001b[31m WIN\n",
      "\u001b[0m ('top10-tfidf', 'D') 20 288.61874157769256 338.6871\u001b[31m WIN\n",
      "\u001b[0m ('top10-tfidf', 'D') 25 291.361531986532 338.6871\u001b[31m WIN\n",
      "\u001b[0m ('top10-tfidf', 'D') 30 294.692242114237 338.6871\u001b[31m WIN\n",
      "\n",
      "--------------------------------\n"
     ]
    }
   ],
   "source": [
    "for baseType in baseTypes:\n",
    "\n",
    "    for queryType in queryTypes:\n",
    "        key = (baseType, queryType)\n",
    "        avg_rank_list = average_rank_dict[key]\n",
    "        x = [x for x,y in sorted(avg_rank_list, key=lambda tup: tup[0])]\n",
    "        y = [y for x,y in sorted(avg_rank_list, key=lambda tup: tup[0])]\n",
    "\n",
    "        avg_rank_bm25 = bm25_avg_rank_dict[(\"bm25-plain\", queryType)]\n",
    "        #for i in range(len(y)):\n",
    "        for i in [2,3,4,5,6]:\n",
    "            \n",
    "            print(\"\\x1b[0m \"+str(key), x[i], y[i], avg_rank_bm25, end='')\n",
    "            print(\"\\x1b[31m WIN\" if y[i]<avg_rank_bm25 else \"\\x1b[0m \") \n",
    "        print()\n",
    "        \n",
    "    print(\"--------------------------------\")"
   ]
  },
  {
   "cell_type": "code",
   "execution_count": null,
   "metadata": {
    "collapsed": true
   },
   "outputs": [],
   "source": [
    "print(\"BM25 avg rank :\", np.mean(list(bm25_avg_rank_dict.values())))\n",
    "\n",
    "def plot_avg_rank():\n",
    "    for baseType in baseTypes:\n",
    "        all_avg_rank = np.zeros(11)\n",
    "        for queryType in queryTypes:\n",
    "            key = (baseType, queryType)\n",
    "            avg_rank_list = average_rank_dict[key]\n",
    "            x = [x for x,y in sorted(avg_rank_list, key=lambda tup: tup[0])]\n",
    "            y = [y for x,y in sorted(avg_rank_list, key=lambda tup: tup[0])]\n",
    "            all_avg_rank += np.array(y)\n",
    "        print(baseType+ \" avg rank[1-50] : \", all_avg_rank/4)\n",
    "        y_avg = all_avg_rank/4\n",
    "        \n",
    "        plt.plot(x,y_avg, label=prettyNames[baseType])\n",
    "        #print(max(y),x[y.index(max(y))])\n",
    "        plt.plot(x[list(y_avg).index(min(y_avg))], min(y_avg), \"or\")\n",
    "        # print bm25 as baseline\n",
    "    baseline_y = [np.mean(list(bm25_avg_rank_dict.values()))] * len(x)\n",
    "    plt.plot(x, baseline_y, label=\"BM25\", linestyle=\"--\")\n",
    "    plt.legend(loc='upper right')\n",
    "    plt.xlabel(\"Alpha\")\n",
    "    plt.ylabel(\"Average Rank\")\n",
    "    plt.savefig(\"RCV1-BM25-avg-rank.pdf\", bbox_inches='tight')\n",
    "    plt.show()\n",
    "    \n",
    "plot_avg_rank()  \n"
   ]
  },
  {
   "cell_type": "code",
   "execution_count": 202,
   "metadata": {},
   "outputs": [
    {
     "name": "stdout",
     "output_type": "stream",
     "text": [
      "BM25 avg mrr : 0.3407354630908961\n",
      "top5-idf avg rank[1-50] :  [0.258 0.344 0.363 0.368 0.369 0.367 0.365 0.363 0.36  0.358 0.356]\n",
      "top5-tfidf avg rank[1-50] :  [0.261 0.344 0.359 0.362 0.361 0.359 0.356 0.354 0.351 0.349 0.347]\n",
      "top10-idf avg rank[1-50] :  [0.253 0.339 0.356 0.36  0.36  0.358 0.356 0.354 0.351 0.349 0.347]\n",
      "top10-tfidf avg rank[1-50] :  [0.255 0.337 0.352 0.355 0.355 0.353 0.351 0.348 0.346 0.344 0.342]\n"
     ]
    },
    {
     "data": {
      "image/png": "[encoded data removed]",
      "text/plain": [
       "<matplotlib.figure.Figure at 0x7f9ab1930198>"
      ]
     },
     "metadata": {},
     "output_type": "display_data"
    }
   ],
   "source": [
    "print(\"BM25 avg mrr :\", np.mean(list(bm25_mrr_dict.values())))\n",
    "np.set_printoptions(precision=3)\n",
    "\n",
    "def plot_avg_mrr():\n",
    "    for baseType in baseTypes:\n",
    "        all_avg_mrr = np.zeros(11)\n",
    "        for queryType in queryTypes:\n",
    "            key = (baseType, queryType)\n",
    "            mrr_list = mrr_dict[key]\n",
    "            x = [x for x,y in sorted(mrr_list, key=lambda tup: tup[0])]\n",
    "            y = [y for x,y in sorted(mrr_list, key=lambda tup: tup[0])]\n",
    "            all_avg_mrr += np.array(y)\n",
    "        print(baseType+ \" avg rank[1-50] : \", all_avg_mrr/4)\n",
    "        y_avg = all_avg_mrr/4\n",
    "        \n",
    "        plt.plot(x[1:],y_avg[1:], label=prettyNames[baseType])\n",
    "        #print(max(y),x[y.index(max(y))])\n",
    "        plt.plot(x[list(y_avg).index(max(y_avg))], max(y_avg), \"or\")\n",
    "        # print bm25 as baseline\n",
    "    baseline_y = [np.mean(list(bm25_mrr_dict.values()))] * len(x)\n",
    "    plt.plot(x[1:], baseline_y[1:], label=\"BM25\", linestyle=\"--\")\n",
    "    plt.legend(loc='lower right')\n",
    "    plt.xlabel(\"Alpha\")\n",
    "    plt.ylabel(\"MRR\")\n",
    "    plt.savefig(\"RCV1-BM25-avg-mrr.pdf\", bbox_inches='tight')\n",
    "    plt.show()\n",
    "    \n",
    "plot_avg_mrr() "
   ]
  },
  {
   "cell_type": "code",
   "execution_count": 228,
   "metadata": {
    "collapsed": true
   },
   "outputs": [],
   "source": [
    "def check_statistical_significance_avg_with_baseline(baseType, rr_dict, mrr_dict, queryTypes, alpha):\n",
    "    \"\"\"\n",
    "    base type : 'top5-idf' ...\n",
    "    query type : 'A', 'B' ...\n",
    "    \n",
    "    \"\"\"\n",
    "    accumulator_method = []\n",
    "    accumulator_base = []\n",
    "    \n",
    "    print(\"\\x1b[0m \" + str(baseType) + \" \" + str(alpha))\n",
    "    for queryType in queryTypes:\n",
    "        key = (baseType, queryType)\n",
    "        \n",
    "        rr_list = rr_dict[key]\n",
    "        sorted_rr_list = sorted(rr_list, key=lambda tup: tup[0])\n",
    "#         print(sorted_rr_list) # list of (alpha, rr_list)\n",
    "#         print([x for x,y in sorted_rr_list])\n",
    "        accumulator_method.extend([y for x,y in sorted_rr_list if x == alpha][0])\n",
    "#         print(\"M: \", len(accumulator_method))\n",
    "        \n",
    "        \n",
    "        \n",
    "        base_rr_list = rr_dict[(\"bm25-plain\", queryType)]\n",
    "        sorted_base_rr_list = sorted(base_rr_list, key=lambda tup: tup[0])\n",
    "#         print(sorted_base_rr_list) # list of (alpha, rr_list) \n",
    "#         print([x for x,y in sorted_base_rr_list])\n",
    "        accumulator_base.extend([y for x,y in sorted_base_rr_list if x == 0][0])\n",
    "#         print(\"B: \", len(accumulator_base))\n",
    "\n",
    "        \n",
    "\n",
    "    result = two_sample_ttest_ind(accumulator_method, accumulator_base)\n",
    "    print(np.sum(accumulator_method)/40000, np.mean(accumulator_base))\n",
    "    print(result)\n",
    "    print(\"\\x1b[31m Statistically diff\" if result[1]<0.05 else \"\\033[34m NOT statistically different\")\n",
    "\n",
    "\n"
   ]
  },
  {
   "cell_type": "code",
   "execution_count": null,
   "metadata": {
    "scrolled": false
   },
   "outputs": [],
   "source": [
    "for baseType in baseTypes:\n",
    "    for alpha in [1, 5, 10, 15, 20, 25, 30, 35, 40, 45, 50]:\n",
    "        check_statistical_significance_avg_with_baseline(baseType, rr_dict, mrr_dict, queryTypes, alpha)"
   ]
  },
  {
   "cell_type": "markdown",
   "metadata": {},
   "source": [
    "\n",
    "# Statistical significance for MRR values"
   ]
  },
  {
   "cell_type": "code",
   "execution_count": 33,
   "metadata": {},
   "outputs": [
    {
     "name": "stdout",
     "output_type": "stream",
     "text": [
      "dict_keys([('top5-tfidf', 'A'), ('top5-idf', 'A'), ('top5-tfidf', 'C'), ('top10-idf', 'B'), ('top10-tfidf', 'A'), ('top5-tfidf', 'D'), ('top10-idf', 'C'), ('top10-tfidf', 'C'), ('top5-tfidf', 'B'), ('top5-idf', 'D'), ('bm25-plain', 'A'), ('top5-idf', 'B'), ('top10-tfidf', 'D'), ('top10-tfidf', 'B'), ('top10-idf', 'A'), ('top10-idf', 'D'), ('top5-idf', 'C'), ('bm25-plain', 'B'), ('bm25-plain', 'D'), ('bm25-plain', 'C')])\n"
     ]
    }
   ],
   "source": [
    "print(rr_dict.keys())"
   ]
  },
  {
   "cell_type": "markdown",
   "metadata": {},
   "source": [
    "## two pample paired - IND"
   ]
  },
  {
   "cell_type": "code",
   "execution_count": 34,
   "metadata": {
    "collapsed": true
   },
   "outputs": [],
   "source": [
    "def check_statistical_significance(baseType, rr_dict, mrr_dict, queryTypes):\n",
    "    \"\"\"\n",
    "    base type : 'top5-idf' ...\n",
    "    query type : 'A', 'B' ...\n",
    "    \n",
    "    \"\"\"\n",
    "    for queryType in queryTypes:\n",
    "        key = (baseType, queryType)\n",
    "        print(key)\n",
    "        \n",
    "        rr_list = rr_dict[key]\n",
    "        sorted_rr_list = sorted(rr_list, key=lambda tup: tup[0])\n",
    "        \n",
    "        mrr_list = mrr_dict[key]\n",
    "        #print(sorted(mrr_list, key=lambda tup: tup[0]))\n",
    "        x = [x for x,y in sorted(mrr_list, key=lambda tup: tup[0])]\n",
    "        y = [y for x,y in sorted(mrr_list, key=lambda tup: tup[0])]\n",
    "        max_index = x[y.index(max(y))]\n",
    "        \n",
    "        for first, second in zip(sorted_rr_list, sorted_rr_list[1:]):\n",
    "            print(first[0], second[0])\n",
    "            print(y[x.index(first[0])], y[x.index(second[0])])\n",
    "            print(two_sample_ttest_ind(first[1], second[1]))"
   ]
  },
  {
   "cell_type": "code",
   "execution_count": 35,
   "metadata": {
    "collapsed": true
   },
   "outputs": [],
   "source": [
    "def check_statistical_significance_with_max(baseType, rr_dict, mrr_dict, queryTypes):\n",
    "    \"\"\"\n",
    "    base type : 'top5-idf' ...\n",
    "    query type : 'A', 'B' ...\n",
    "    \n",
    "    \"\"\"\n",
    "    for queryType in queryTypes:\n",
    "        key = (baseType, queryType)\n",
    "        print(key)\n",
    "        \n",
    "        rr_list = rr_dict[key]\n",
    "        sorted_rr_list = sorted(rr_list, key=lambda tup: tup[0])\n",
    "        \n",
    "        mrr_list = mrr_dict[key]\n",
    "        #print(sorted(mrr_list, key=lambda tup: tup[0]))\n",
    "        x = [x for x,y in sorted(mrr_list, key=lambda tup: tup[0])]\n",
    "        y = [y for x,y in sorted(mrr_list, key=lambda tup: tup[0])]\n",
    "        max_alpha = x[y.index(max(y))]\n",
    "        print(max_alpha)\n",
    "        max_rrs = sorted_rr_list[x.index(max_alpha)][1]\n",
    "        \n",
    "        for first in sorted_rr_list:\n",
    "            print(first[0], max_alpha)\n",
    "            print(y[x.index(first[0])], y[x.index(max_alpha)])\n",
    "            print(two_sample_ttest_ind(first[1], max_rrs))"
   ]
  },
  {
   "cell_type": "code",
   "execution_count": null,
   "metadata": {
    "collapsed": true
   },
   "outputs": [],
   "source": [
    "check_statistical_significance_with_max('top5-idf', rr_dict, mrr_dict, queryTypes)"
   ]
  },
  {
   "cell_type": "code",
   "execution_count": null,
   "metadata": {
    "collapsed": true,
    "scrolled": false
   },
   "outputs": [],
   "source": [
    "for baseType in baseTypes:\n",
    "    check_statistical_significance_with_max(baseType, rr_dict, mrr_dict, queryTypes)"
   ]
  },
  {
   "cell_type": "markdown",
   "metadata": {},
   "source": [
    "# T-test for 2 related sample scores\n",
    "https://docs.scipy.org/doc/scipy/reference/generated/scipy.stats.ttest_rel.html#scipy.stats.ttest_rel"
   ]
  },
  {
   "cell_type": "code",
   "execution_count": 75,
   "metadata": {
    "collapsed": true
   },
   "outputs": [],
   "source": [
    "def check_statistical_significance_with_baseline(baseType, rr_dict, mrr_dict, queryTypes):\n",
    "    \"\"\"\n",
    "    base type : 'top5-idf' ...\n",
    "    query type : 'A', 'B' ...\n",
    "    \n",
    "    \"\"\"\n",
    "    for queryType in queryTypes:\n",
    "        key = (baseType, queryType)\n",
    "        print(key)\n",
    "        \n",
    "        rr_list = rr_dict[key]\n",
    "        sorted_rr_list = sorted(rr_list, key=lambda tup: tup[0])\n",
    "#         print(sorted_rr_list) # list of (alpha, rr_list)\n",
    "#         print([x for x,y in sorted_rr_list])\n",
    "        \n",
    "        \n",
    "        base_rr_list = rr_dict[(\"bm25-plain\", queryType)]\n",
    "        sorted_base_rr_list = sorted(base_rr_list, key=lambda tup: tup[0])\n",
    "#         print(sorted_base_rr_list) # list of (alpha, rr_list) \n",
    "#         print([x for x,y in sorted_base_rr_list])\n",
    "        \n",
    "\n",
    "        \n",
    "        for first in sorted_rr_list:\n",
    "            print(first[0], sorted_base_rr_list[0][0])\n",
    "            print(np.mean(first[1]), np.mean(sorted_base_rr_list[0][1]))\n",
    "            print(two_sample_ttest_ind(first[1], sorted_base_rr_list[0][1]))"
   ]
  },
  {
   "cell_type": "code",
   "execution_count": 125,
   "metadata": {
    "collapsed": true,
    "scrolled": false
   },
   "outputs": [],
   "source": [
    "# check_statistical_significance_with_baseline('top5-idf', rr_dict, mrr_dict, queryTypes)\n",
    "\n",
    "#### ALL are statistically different!!!"
   ]
  },
  {
   "cell_type": "markdown",
   "metadata": {},
   "source": [
    "### WIN/LOSS ratio for varying alpha"
   ]
  },
  {
   "cell_type": "code",
   "execution_count": 57,
   "metadata": {
    "collapsed": true
   },
   "outputs": [],
   "source": [
    "import os\n",
    "\n",
    "class_dict = defaultdict(list)\n",
    "for filename in os.listdir(dirEval):\n",
    "    if \"10000\" in filename:\n",
    "        name_items = filename.split(\"-\")\n",
    "        baseType = name_items[2]+\"-\"+name_items[3]\n",
    "        alpha = filename.split(\".\")[0].split(\"-\")[10]\n",
    "\n",
    "        queryRankDict = loadJSON(dirEval+filename)\n",
    "        positions = list(queryRankDict.values())\n",
    "        ranks = [x+1 for x in positions]\n",
    "        new_class = getQueryTypeSetsInline(positions)\n",
    "        class_dict[(baseType, name_items[6])].append(((int(alpha)), new_class))"
   ]
  },
  {
   "cell_type": "code",
   "execution_count": 58,
   "metadata": {
    "collapsed": true
   },
   "outputs": [],
   "source": [
    "def getWinLossRatio(baseType, queryType, alpha, class_dict):\n",
    "    line = [(x,y) for (x,y) in class_dict[(baseType, queryType)] if x == alpha][0]\n",
    "    if queryType == \"A\":\n",
    "        losses = sum(line[1][1:])\n",
    "        wins = []\n",
    "        for queryType in [\"B\",\"C\",\"D\"]:\n",
    "            line = [(x,y) for (x,y) in class_dict[(baseType, queryType)] if x == alpha][0]\n",
    "            wins.append(line[1][0])\n",
    "        return sum(wins)/losses\n",
    "    if queryType == \"B\":\n",
    "        losses = sum(line[1][2:])\n",
    "        wins = []\n",
    "        for queryType in [\"C\",\"D\"]:\n",
    "            line = [(x,y) for (x,y) in class_dict[(baseType, queryType)] if x == alpha][0]\n",
    "            wins.append(line[1][1])\n",
    "        return sum(wins)/losses\n",
    "    if queryType == \"C\":\n",
    "        losses = sum(line[1][3:])\n",
    "        wins = []\n",
    "        for queryType in [\"D\"]:\n",
    "            line = [(x,y) for (x,y) in class_dict[(baseType, queryType)] if x == alpha][0]\n",
    "            wins.append(line[1][2])\n",
    "        return sum(wins)/losses\n",
    "        "
   ]
  },
  {
   "cell_type": "code",
   "execution_count": 141,
   "metadata": {},
   "outputs": [
    {
     "data": {
      "text/plain": [
       "1.6786632390745502"
      ]
     },
     "execution_count": 141,
     "metadata": {},
     "output_type": "execute_result"
    }
   ],
   "source": [
    "getWinLossRatio(\"top5-idf\", \"A\", 10, class_dict)"
   ]
  },
  {
   "cell_type": "code",
   "execution_count": 60,
   "metadata": {
    "collapsed": true
   },
   "outputs": [],
   "source": [
    "win_loss_dict = defaultdict(list) ### the list contains WL for multiple alpha\n",
    "\n",
    "for baseType in baseTypes:\n",
    "    for queryType in queryTypes:\n",
    "        if queryType is not \"D\":\n",
    "            for alpha,_ in class_dict[(baseType, queryType)]:\n",
    "                wl = getWinLossRatio(baseType, queryType, alpha, class_dict)\n",
    "                win_loss_dict[(baseType, queryType)].append(((int(alpha)), wl))"
   ]
  },
  {
   "cell_type": "code",
   "execution_count": 61,
   "metadata": {},
   "outputs": [
    {
     "name": "stdout",
     "output_type": "stream",
     "text": [
      "defaultdict(<class 'list'>, {('top5-idf', 'A'): [(20, 2.015655577299413), (40, 1.5544554455445545), (1, 0.27850283181482394), (50, 1.4104166666666667), (30, 1.7611301369863013), (35, 1.684596577017115), (45, 1.4742193173565723), (25, 1.8652094717668488), (10, 1.6786632390745502), (15, 1.9657869012707723), (5, 1.0797101449275361)], ('top5-idf', 'B'): [(50, 1.62015503875969), (30, 2.32776617954071), (20, 2.880050505050505), (45, 1.756198347107438), (25, 2.6039260969976907), (15, 3.1966987620357634), (10, 2.844932844932845), (40, 1.8915343915343916), (1, 0.3241398143091207), (5, 1.5195086705202312), (35, 2.0636882129277567)], ('top5-idf', 'C'): [(5, 1.9134532990574122), (45, 1.4040178571428572), (30, 1.9396551724137931), (50, 1.3111268603827073), (1, 0.4286694101508916), (10, 2.9610894941634243), (20, 2.6649810366624527), (40, 1.5161799526440412), (35, 1.697934595524957), (25, 2.211087420042644), (15, 3.095435684647303)], ('top5-tfidf', 'A'): [(1, 0.221395881006865), (5, 1.2128712871287128), (35, 1.5382165605095541), (50, 1.2294117647058824), (45, 1.2862222222222222), (30, 1.6784869976359338), (10, 2.695767195767196), (25, 1.9619181946403386), (20, 2.285217391304348), (15, 2.7517084282460136), (40, 1.4153846153846155)], ('top5-tfidf', 'B'): [(15, 4.708206686930091), (25, 2.5392592592592593), (40, 1.6463878326996197), (35, 1.8449197860962567), (1, 0.19977298524404086), (20, 3.377016129032258), (30, 2.086060606060606), (5, 1.6441717791411044), (50, 1.3866995073891626), (45, 1.4908136482939633), (10, 6.299065420560748)], ('top5-tfidf', 'C'): [(45, 1.1796042617960427), (1, 0.20742559067198527), (35, 1.4715219421101775), (40, 1.3205020920502093), (5, 1.792763157894737), (20, 2.885662431941924), (25, 2.182926829268293), (15, 4.384393063583815), (50, 1.0762173606210304), (10, 5.669456066945607), (30, 1.7385120350109409)], ('top10-idf', 'A'): [(5, 0.9552772808586762), (10, 1.8362204724409448), (50, 1.211136890951276), (35, 1.4732313575525813), (25, 1.8079231692677071), (40, 1.349522983521249), (30, 1.6495176848874598), (20, 2.0138504155124655), (1, 0.20798538622129437), (45, 1.2645631067961165), (15, 2.0890302066772657)], ('top10-idf', 'B'): [(15, 3.572961373390558), (25, 2.351531291611185), (20, 2.9305084745762713), (45, 1.479463537300922), (10, 3.516509433962264), (50, 1.3712715855572999), (40, 1.6072727272727272), (1, 0.19832251082251082), (35, 1.7745490981963927), (5, 1.3152654867256637), (30, 2.013574660633484)], ('top10-idf', 'C'): [(35, 1.5076923076923077), (20, 2.6645468998410173), (40, 1.3480032599837002), (50, 1.1332398316970547), (5, 1.619949494949495), (25, 2.1603053435114505), (15, 3.7465437788018434), (30, 1.7358101135190918), (10, 4.101876675603217), (1, 0.21711711711711712), (45, 1.2396069538926682)], ('top10-tfidf', 'A'): [(5, 0.9621109607577808), (20, 2.00968992248062), (35, 1.319031903190319), (30, 1.4968233799237611), (10, 2.783132530120482), (15, 2.5568181818181817), (25, 1.7391975308641976), (40, 1.1982160555004955), (1, 0.18764044943820224), (50, 1.0528596187175043), (45, 1.1285583103764922)], ('top10-tfidf', 'B'): [(20, 2.8744769874476988), (45, 1.3626666666666667), (10, 6.104166666666667), (1, 0.16130775466090247), (50, 1.2566006600660067), (40, 1.478846153846154), (35, 1.615219721329046), (5, 1.027818448023426), (15, 4.160958904109589), (25, 2.2103658536585367), (30, 1.838071693448702)], ('top10-tfidf', 'C'): [(35, 1.3799043062200957), (10, 6.425531914893617), (45, 1.0866261398176291), (15, 3.96), (40, 1.2018425460636515), (25, 1.890560875512996), (30, 1.5590809628008753), (50, 1.0070871722182848), (20, 2.556840077071291), (1, 0.16309625821193943), (5, 1.0880597014925373)]})\n"
     ]
    }
   ],
   "source": [
    "print(win_loss_dict)"
   ]
  },
  {
   "cell_type": "code",
   "execution_count": 131,
   "metadata": {
    "collapsed": true
   },
   "outputs": [],
   "source": [
    "def plot_and_sort_WL(baseType, win_loss_dict, queryTypes):\n",
    "    for queryType in [\"A\",\"B\",\"C\"]:\n",
    "        key = (baseType, queryType)\n",
    "        wl_list = win_loss_dict[key]\n",
    "#         print(key)\n",
    "        #print(sorted(mrr_list, key=lambda tup: tup[0]))\n",
    "        x = [x for x,y in sorted(wl_list, key=lambda tup: tup[0])]\n",
    "#         print(x)\n",
    "        y = [y for x,y in sorted(wl_list, key=lambda tup: tup[0])]\n",
    "#         print(y)\n",
    "        plt.plot(x, y , label=prettyNames[key[0]]+\" \"+key[1])\n",
    "        #print(max(y),x[y.index(max(y))])\n",
    "#         plt.plot(x[y.index(max(y))], max(y), \"or\")\n",
    "    plt.plot(x, [1 for x in range(len(x))], \":k\", label=\"win-loss threshold\")\n",
    "#     plt.legend(loc='center left', bbox_to_anchor=(1, 0.5))\n",
    "    plt.legend(loc='upper right')\n",
    "    plt.xlabel(\"Alpha\")\n",
    "    plt.ylabel(\"WinLossRatio\")\n",
    "    plt.savefig(\"RCV1-BM25-win-loss-\"+baseType+\".pdf\", bbox_inches='tight')\n",
    "    plt.show()"
   ]
  },
  {
   "cell_type": "code",
   "execution_count": 132,
   "metadata": {},
   "outputs": [
    {
     "data": {
      "image/png": "[encoded data removed]",
      "text/plain": [
       "<matplotlib.figure.Figure at 0x7f9ac6781358>"
      ]
     },
     "metadata": {},
     "output_type": "display_data"
    },
    {
     "data": {
      "image/png": "[encoded data removed]",
      "text/plain": [
       "<matplotlib.figure.Figure at 0x7f9ac3913dd8>"
      ]
     },
     "metadata": {},
     "output_type": "display_data"
    },
    {
     "data": {
      "image/png": "[encoded data removed]",
      "text/plain": [
       "<matplotlib.figure.Figure at 0x7f9ac58e0588>"
      ]
     },
     "metadata": {},
     "output_type": "display_data"
    },
    {
     "data": {
      "image/png": "[encoded data removed]",
      "text/plain": [
       "<matplotlib.figure.Figure at 0x7f9ac4761e10>"
      ]
     },
     "metadata": {},
     "output_type": "display_data"
    }
   ],
   "source": [
    "for baseType in baseTypes:\n",
    "    plot_and_sort_WL(baseType, win_loss_dict, queryTypes)"
   ]
  },
  {
   "cell_type": "markdown",
   "metadata": {},
   "source": [
    "## Todo:\n",
    "\n",
    "- intersect qid from wins of C for alpha 10 with wins of C for alpha 40"
   ]
  },
  {
   "cell_type": "code",
   "execution_count": null,
   "metadata": {
    "collapsed": true
   },
   "outputs": [],
   "source": []
  }
 ],
 "metadata": {
  "kernelspec": {
   "display_name": "Python 3",
   "language": "python",
   "name": "python3"
  },
  "language_info": {
   "codemirror_mode": {
    "name": "ipython",
    "version": 3
   },
   "file_extension": ".py",
   "mimetype": "text/x-python",
   "name": "python",
   "nbconvert_exporter": "python",
   "pygments_lexer": "ipython3",
   "version": "3.6.3"
  }
 },
 "nbformat": 4,
 "nbformat_minor": 2
}
