{
 "cells": [
  {
   "cell_type": "code",
   "execution_count": 126,
   "metadata": {
    "collapsed": true
   },
   "outputs": [],
   "source": [
    "%matplotlib inline"
   ]
  },
  {
   "cell_type": "code",
   "execution_count": 158,
   "metadata": {
    "collapsed": true
   },
   "outputs": [],
   "source": [
    "import matplotlib.pyplot as plt"
   ]
  },
  {
   "cell_type": "code",
   "execution_count": 159,
   "metadata": {
    "collapsed": true
   },
   "outputs": [],
   "source": [
    "def get_fake_bm25_fun(doclen):\n",
    "    def fake_bm25(tf):\n",
    "        return tf / (tf + 1.2 * (1.0 - 0.75 + 0.75 * doclen/100.0))\n",
    "    return fake_bm25"
   ]
  },
  {
   "cell_type": "code",
   "execution_count": 171,
   "metadata": {
    "collapsed": true
   },
   "outputs": [],
   "source": [
    "tf = np.arange(1, 20)"
   ]
  },
  {
   "cell_type": "code",
   "execution_count": 187,
   "metadata": {
    "collapsed": true
   },
   "outputs": [],
   "source": [
    "f1 = get_fake_bm25_fun(50)\n",
    "f2 = get_fake_bm25_fun(50)"
   ]
  },
  {
   "cell_type": "code",
   "execution_count": 188,
   "metadata": {},
   "outputs": [
    {
     "data": {
      "text/plain": [
       "[<matplotlib.lines.Line2D at 0x7f4122878390>]"
      ]
     },
     "execution_count": 188,
     "metadata": {},
     "output_type": "execute_result"
    },
    {
     "data": {
      "image/png": "[encoded data removed]",
      "text/plain": [
       "<matplotlib.figure.Figure at 0x7f41226443c8>"
      ]
     },
     "metadata": {},
     "output_type": "display_data"
    }
   ],
   "source": [
    "plt.plot(x, f1(tf), c='b')\n",
    "plt.plot(x, f1(tf*0.1), c='b')\n",
    "\n",
    "plt.plot(x, f2(tf), c='r')\n",
    "plt.plot(x, f2(tf*0.1), c='r')"
   ]
  },
  {
   "cell_type": "code",
   "execution_count": 189,
   "metadata": {
    "collapsed": true
   },
   "outputs": [],
   "source": [
    "idf = np.log(np.arange(1, 20, 0.01))"
   ]
  },
  {
   "cell_type": "code",
   "execution_count": 190,
   "metadata": {
    "scrolled": true
   },
   "outputs": [
    {
     "data": {
      "text/plain": [
       "[<matplotlib.lines.Line2D at 0x7f4121bf1668>]"
      ]
     },
     "execution_count": 190,
     "metadata": {},
     "output_type": "execute_result"
    },
    {
     "data": {
      "image/png": "[encoded data removed]",
      "text/plain": [
       "<matplotlib.figure.Figure at 0x7f4121d51a58>"
      ]
     },
     "metadata": {},
     "output_type": "display_data"
    }
   ],
   "source": [
    "plt.plot(idf, f1(2) * idf + f1(3), c='b')\n",
    "plt.plot(idf, f1(0.2) * idf + f1(0.3), c='b')\n",
    "\n",
    "plt.plot(idf, f2(2) * idf + f2(3), c='r')\n",
    "plt.plot(idf, f2(0.2) * idf + f2(0.3), c='r')"
   ]
  },
  {
   "cell_type": "code",
   "execution_count": null,
   "metadata": {
    "collapsed": true
   },
   "outputs": [],
   "source": []
  },
  {
   "cell_type": "code",
   "execution_count": null,
   "metadata": {
    "collapsed": true
   },
   "outputs": [],
   "source": []
  },
  {
   "cell_type": "code",
   "execution_count": null,
   "metadata": {
    "collapsed": true
   },
   "outputs": [],
   "source": []
  },
  {
   "cell_type": "code",
   "execution_count": 166,
   "metadata": {},
   "outputs": [
    {
     "data": {
      "text/plain": [
       "0.1324110671936759"
      ]
     },
     "execution_count": 166,
     "metadata": {},
     "output_type": "execute_result"
    }
   ],
   "source": [
    "f2(0.1) * idf + f2(0.2)"
   ]
  },
  {
   "cell_type": "code",
   "execution_count": 208,
   "metadata": {},
   "outputs": [
    {
     "name": "stdout",
     "output_type": "stream",
     "text": [
      "The autoreload extension is already loaded. To reload it, use:\n",
      "  %reload_ext autoreload\n"
     ]
    }
   ],
   "source": [
    "%load_ext autoreload\n",
    "%autoreload 2\n",
    "import json\n",
    "import pandas as pd\n",
    "import numpy as np\n",
    "from collections import defaultdict\n"
   ]
  },
  {
   "cell_type": "code",
   "execution_count": 219,
   "metadata": {
    "collapsed": true
   },
   "outputs": [],
   "source": [
    "def loadDict(filename):\n",
    "    doc2list = defaultdict(list)\n",
    "    doc2score = defaultdict(list)\n",
    "    with open(filename) as f:\n",
    "        for line in f:\n",
    "            try:\n",
    "                docid, doclen, tf, tfk, factors, score = line.split(\"\\t\")\n",
    "            except:\n",
    "                print(docid, doclen, tf, tfk,factors, score)\n",
    "                print(\"Finished one query\")\n",
    "                break\n",
    "            doc2score[int(docid)].append(float(score))\n",
    "            doc2list[int(docid)].append((int(doclen), float(tf), float(tfk), factors, float(score)))\n",
    "    return doc2list, doc2score"
   ]
  },
  {
   "cell_type": "code",
   "execution_count": 220,
   "metadata": {},
   "outputs": [
    {
     "name": "stdout",
     "output_type": "stream",
     "text": [
      "999995 488 3.00 0.5849252682212259 1000000.0|93631.0|1.2|2.1288603228290746|8.0|1.0 4.214429587534843\n",
      "\n",
      "Finished one query\n"
     ]
    }
   ],
   "source": [
    "file10_doc2list, file10_doc2score = loadDict(\"/home/muntean/terrier-core-4.2/docid_doclen_tf_tfk_factors_score1.0.txt\")"
   ]
  },
  {
   "cell_type": "code",
   "execution_count": 221,
   "metadata": {},
   "outputs": [
    {
     "name": "stdout",
     "output_type": "stream",
     "text": [
      "999995 488 0.30 0.12351471889110843 1000000.0|93631.0|1.2|2.1288603228290746|8.0|1.0 0.889932635965147\n",
      "\n",
      "Finished one query\n"
     ]
    }
   ],
   "source": [
    "file01_doc2list, file01_doc2score = loadDict(\"/home/muntean/terrier-core-4.2/docid_doclen_tf_tfk_factors_score0.1.txt\")"
   ]
  },
  {
   "cell_type": "markdown",
   "metadata": {},
   "source": [
    "### Looking at TF - only aproximation errors"
   ]
  },
  {
   "cell_type": "code",
   "execution_count": 222,
   "metadata": {},
   "outputs": [
    {
     "name": "stdout",
     "output_type": "stream",
     "text": [
      "[(66931, 46.566317080636864), (340563, 46.566317080636864), (768155, 36.92471589634317), (217317, 36.8139723090684), (673474, 36.8139723090684), (814306, 36.78642051004854), (483832, 21.801244202807972), (85896, 21.7964135755377), (624132, 21.7964135755377), (666456, 21.75526712968312)]\n"
     ]
    }
   ],
   "source": [
    "file10_doc2score_summed = [(k, sum(v)) for (k, v) in file10_doc2score.items()]\n",
    "file10_doc2score_summed_sorted = sorted(file10_doc2score_summed, key=lambda x: x[1], reverse=True)\n",
    "print(file10_doc2score_summed_sorted[:10])\n",
    "file10_sorted_docs = [x for (x,y) in file10_doc2score_summed_sorted]"
   ]
  },
  {
   "cell_type": "code",
   "execution_count": 223,
   "metadata": {},
   "outputs": [
    {
     "data": {
      "text/plain": [
       "[66931, 340563, 768155, 217317, 673474, 814306, 483832, 85896, 624132, 666456]"
      ]
     },
     "execution_count": 223,
     "metadata": {},
     "output_type": "execute_result"
    }
   ],
   "source": [
    "file10_sorted_docs[:10]"
   ]
  },
  {
   "cell_type": "code",
   "execution_count": 224,
   "metadata": {},
   "outputs": [
    {
     "name": "stdout",
     "output_type": "stream",
     "text": [
      "[(66931, 15.655305697091801), (340563, 15.655305697091801), (768155, 14.623868037415676), (217317, 14.48343791851347), (673474, 14.48343791851347), (814306, 14.448762517944045), (677892, 9.081306170723883), (483832, 7.442261546410876), (656815, 7.074076381469659), (685753, 7.022892190917457)]\n"
     ]
    }
   ],
   "source": [
    "file01_doc2score_summed = [(k, sum(v)) for (k, v) in file01_doc2score.items()]\n",
    "file01_doc2score_summed_sorted = sorted(file01_doc2score_summed, key=lambda x: x[1], reverse=True)\n",
    "print(file01_doc2score_summed_sorted[:10])\n",
    "file01_sorted_docs = [x for (x,y) in file01_doc2score_summed_sorted]"
   ]
  },
  {
   "cell_type": "code",
   "execution_count": 225,
   "metadata": {},
   "outputs": [
    {
     "data": {
      "text/plain": [
       "[66931, 340563, 768155, 217317, 673474, 814306, 677892, 483832, 656815, 685753]"
      ]
     },
     "execution_count": 225,
     "metadata": {},
     "output_type": "execute_result"
    }
   ],
   "source": [
    "file01_sorted_docs[:10]"
   ]
  },
  {
   "cell_type": "code",
   "execution_count": 226,
   "metadata": {},
   "outputs": [
    {
     "data": {
      "text/plain": [
       "False"
      ]
     },
     "execution_count": 226,
     "metadata": {},
     "output_type": "execute_result"
    }
   ],
   "source": [
    "file01_sorted_docs[:8] == file10_sorted_docs[:8]"
   ]
  },
  {
   "cell_type": "code",
   "execution_count": 227,
   "metadata": {
    "scrolled": false
   },
   "outputs": [
    {
     "name": "stdout",
     "output_type": "stream",
     "text": [
      "(814306, 14.448762517944045) (814306, 36.78642051004854)\n",
      "\n",
      "(677892, 9.081306170723883) (483832, 21.801244202807972)\n",
      "\n",
      "(483832, 7.442261546410876) (85896, 21.7964135755377)\n",
      "\n",
      "(656815, 7.074076381469659) (624132, 21.7964135755377)\n",
      "\n",
      "(685753, 7.022892190917457) (666456, 21.75526712968312)\n",
      "\n"
     ]
    }
   ],
   "source": [
    "for i in range(5,10):\n",
    "    y = file01_sorted_docs[i]\n",
    "    x = file10_sorted_docs[i]\n",
    "\n",
    "    print(file01_doc2score_summed_sorted[i], file10_doc2score_summed_sorted[i] )\n",
    "    #print(file01_doc2list[y],  file10_doc2list[x] )\n",
    "    print()"
   ]
  },
  {
   "cell_type": "code",
   "execution_count": 228,
   "metadata": {},
   "outputs": [
    {
     "name": "stdout",
     "output_type": "stream",
     "text": [
      "[(303, 1.5, 0.5109788276309537, '1000000.0|25.0|1.2|1.4355423725762493|8.0|0.5', 9.081306170723883)]\n",
      "6\n",
      "68\n",
      "[(186, 0.2, 0.1670752192019683, '1000000.0|111847.0|1.2|0.9970656148487868|8.0|0.5', 0.5816936570391134), (186, 0.2, 0.1670752192019683, '1000000.0|56931.0|1.2|0.9970656148487868|8.0|0.5', 0.7881163007437094), (186, 0.5, 0.3339866970697228, '1000000.0|20817.0|1.2|0.9970656148487868|8.0|0.5', 2.1611506728635144), (186, 0.4, 0.2863143976550411, '1000000.0|294.0|1.2|0.9970656148487868|8.0|0.5', 3.911300915764539)]\n",
      "7\n",
      "6\n"
     ]
    }
   ],
   "source": [
    "for x in [677892, 483832]:\n",
    "    print(file01_doc2list[x])\n",
    "    print(file01_sorted_docs.index(x))\n",
    "    print(file10_sorted_docs.index(x))\n",
    "\n"
   ]
  },
  {
   "cell_type": "markdown",
   "metadata": {},
   "source": [
    "Doc len: 303\n",
    "\n",
    "Positions: [9, 19, 37, 45, 47, 75, 82, 96, 103, 146, 160, 162, 261, 283, 294]\n",
    "\n",
    "TF array: [1, 4, 2, 2, 1, 2, 0, 0, 2, 1]\n",
    "\n",
    "tf/(K+tf): 0.5109788276309537\n",
    "\n",
    "--"
   ]
  },
  {
   "cell_type": "markdown",
   "metadata": {},
   "source": [
    "Doc len: 186\n",
    "\n",
    "Positions: [66, 167]\n",
    "\n",
    "TF array: [0, 0, 0, 1, 0, 0, 0, 0, 1, 0]\n",
    "\n",
    "tf/(K+tf): 0.1670752192019683"
   ]
  },
  {
   "cell_type": "code",
   "execution_count": 231,
   "metadata": {
    "collapsed": true
   },
   "outputs": [],
   "source": [
    "\n",
    "import math\n",
    "def idf(N, df):\n",
    "    return math.log((N - df + 0.5) / (df + 0.5))\n",
    "def bm25(tf, df, doclen, N, avg_doclen, k1=1.2, b=0.75):\n",
    "    return idf(N, df) * ((tf * (k1 + 1)) / (tf + k1 * (1 - b + b * (doclen / avg_doclen))))"
   ]
  },
  {
   "cell_type": "code",
   "execution_count": 232,
   "metadata": {},
   "outputs": [
    {
     "data": {
      "text/plain": [
       "20.946058810063445"
      ]
     },
     "execution_count": 232,
     "metadata": {},
     "output_type": "execute_result"
    }
   ],
   "source": [
    "bm25(15, 25, 303, 1000000, 200)"
   ]
  },
  {
   "cell_type": "code",
   "execution_count": 233,
   "metadata": {},
   "outputs": [
    {
     "data": {
      "text/plain": [
       "11.033180053152906"
      ]
     },
     "execution_count": 233,
     "metadata": {},
     "output_type": "execute_result"
    }
   ],
   "source": [
    "bm25(1.5, 25, 303, 1000000, 200)"
   ]
  },
  {
   "cell_type": "code",
   "execution_count": 236,
   "metadata": {},
   "outputs": [
    {
     "data": {
      "text/plain": [
       "14.835178024927943"
      ]
     },
     "execution_count": 236,
     "metadata": {},
     "output_type": "execute_result"
    }
   ],
   "source": [
    "bm25(2, 25, 186, 1000000, 200)"
   ]
  },
  {
   "cell_type": "code",
   "execution_count": 235,
   "metadata": {},
   "outputs": [
    {
     "data": {
      "text/plain": [
       "3.4807743802691817"
      ]
     },
     "execution_count": 235,
     "metadata": {},
     "output_type": "execute_result"
    }
   ],
   "source": [
    "bm25(0.2, 25, 186, 1000000, 200)"
   ]
  },
  {
   "cell_type": "code",
   "execution_count": null,
   "metadata": {
    "collapsed": true
   },
   "outputs": [],
   "source": []
  }
 ],
 "metadata": {
  "kernelspec": {
   "display_name": "Python 3",
   "language": "python",
   "name": "python3"
  },
  "language_info": {
   "codemirror_mode": {
    "name": "ipython",
    "version": 3
   },
   "file_extension": ".py",
   "mimetype": "text/x-python",
   "name": "python",
   "nbconvert_exporter": "python",
   "pygments_lexer": "ipython3",
   "version": "3.6.3"
  }
 },
 "nbformat": 4,
 "nbformat_minor": 2
}
