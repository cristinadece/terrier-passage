{
 "cells": [
  {
   "cell_type": "code",
   "execution_count": 36,
   "metadata": {},
   "outputs": [
    {
     "name": "stdout",
     "output_type": "stream",
     "text": [
      "The autoreload extension is already loaded. To reload it, use:\n",
      "  %reload_ext autoreload\n"
     ]
    }
   ],
   "source": [
    "%load_ext autoreload\n",
    "%autoreload 2\n",
    "import json\n",
    "from scipy import sparse\n",
    "from time import time\n",
    "import pandas as pd\n",
    "import numpy as np\n",
    "import matplotlib.pyplot as plt\n",
    "import progress_bar\n",
    "import string\n",
    "\n",
    "from sklearn.feature_extraction.text import CountVectorizer\n",
    "from sklearn.feature_extraction.text import TfidfVectorizer"
   ]
  },
  {
   "cell_type": "markdown",
   "metadata": {},
   "source": [
    "# Reading the datatset with Pandas DF"
   ]
  },
  {
   "cell_type": "code",
   "execution_count": null,
   "metadata": {
    "collapsed": true
   },
   "outputs": [],
   "source": [
    "dataset1 = pd.read_json(\"signalmedia-1m.jsonl\", lines=True)"
   ]
  },
  {
   "cell_type": "code",
   "execution_count": 24,
   "metadata": {},
   "outputs": [
    {
     "data": {
      "text/html": [
       "<div>\n",
       "<style>\n",
       "    .dataframe thead tr:only-child th {\n",
       "        text-align: right;\n",
       "    }\n",
       "\n",
       "    .dataframe thead th {\n",
       "        text-align: left;\n",
       "    }\n",
       "\n",
       "    .dataframe tbody tr th {\n",
       "        vertical-align: top;\n",
       "    }\n",
       "</style>\n",
       "<table border=\"1\" class=\"dataframe\">\n",
       "  <thead>\n",
       "    <tr style=\"text-align: right;\">\n",
       "      <th></th>\n",
       "      <th>content</th>\n",
       "      <th>id</th>\n",
       "      <th>media-type</th>\n",
       "      <th>published</th>\n",
       "      <th>source</th>\n",
       "      <th>title</th>\n",
       "      <th>all_text</th>\n",
       "    </tr>\n",
       "  </thead>\n",
       "  <tbody>\n",
       "    <tr>\n",
       "      <th>0</th>\n",
       "      <td>VETERANS saluted Worcester's first ever breakf...</td>\n",
       "      <td>f7ca322d-c3e8-40d2-841f-9d7250ac72ca</td>\n",
       "      <td>News</td>\n",
       "      <td>2015-09-07T10:16:14Z</td>\n",
       "      <td>Redditch Advertiser</td>\n",
       "      <td>Worcester breakfast club for veterans gives hu...</td>\n",
       "      <td>Worcester breakfast club for veterans gives hu...</td>\n",
       "    </tr>\n",
       "    <tr>\n",
       "      <th>1</th>\n",
       "      <td>New Product Gives Marketers Access to Real Key...</td>\n",
       "      <td>609772bc-0672-4db5-8516-4c025cfd54ca</td>\n",
       "      <td>News</td>\n",
       "      <td>2015-09-17T15:00:00Z</td>\n",
       "      <td>Virtualization Conference &amp; Expo</td>\n",
       "      <td>Jumpshot Gives Marketers Renewed Visibility In...</td>\n",
       "      <td>Jumpshot Gives Marketers Renewed Visibility In...</td>\n",
       "    </tr>\n",
       "    <tr>\n",
       "      <th>2</th>\n",
       "      <td>Home »\\rStyle » The Return Of The Nike Air Max...</td>\n",
       "      <td>1aa9d1b0-e6ba-4a48-ad0c-66552d896aac</td>\n",
       "      <td>Blog</td>\n",
       "      <td>2015-09-22T22:54:37Z</td>\n",
       "      <td>Streets Connect</td>\n",
       "      <td>The Return Of The Nike Air Max Sensation Has 8...</td>\n",
       "      <td>The Return Of The Nike Air Max Sensation Has 8...</td>\n",
       "    </tr>\n",
       "    <tr>\n",
       "      <th>3</th>\n",
       "      <td>NYMag.com Daily Intelligencer Vulture The Cut ...</td>\n",
       "      <td>719699f9-47be-4bc7-969b-b53a881c95ae</td>\n",
       "      <td>Blog</td>\n",
       "      <td>2015-09-16T23:12:11Z</td>\n",
       "      <td>The Cut</td>\n",
       "      <td>This New Dating App Will Ruin Your Internet Game</td>\n",
       "      <td>This New Dating App Will Ruin Your Internet Ga...</td>\n",
       "    </tr>\n",
       "    <tr>\n",
       "      <th>4</th>\n",
       "      <td>KUALA LUMPUR, Sept 15 (MySinchew) -- The Kuala...</td>\n",
       "      <td>a080f99a-07d9-47d1-8244-26a540017b7a</td>\n",
       "      <td>News</td>\n",
       "      <td>2015-09-15T10:17:53Z</td>\n",
       "      <td>My Sinchew</td>\n",
       "      <td>Pay up or face legal action: DBKL</td>\n",
       "      <td>Pay up or face legal action: DBKL \\n KUALA LUM...</td>\n",
       "    </tr>\n",
       "    <tr>\n",
       "      <th>5</th>\n",
       "      <td>Mumbai, Sep 11 : Following were the indicative...</td>\n",
       "      <td>3c5636e8-06b7-43fd-8a80-0e8535f45cb2</td>\n",
       "      <td>News</td>\n",
       "      <td>2015-09-11T06:09:32Z</td>\n",
       "      <td>Newshence.com</td>\n",
       "      <td>Euro up; USD, Pound and Yen down</td>\n",
       "      <td>Euro up; USD, Pound and Yen down \\n Mumbai, Se...</td>\n",
       "    </tr>\n",
       "    <tr>\n",
       "      <th>6</th>\n",
       "      <td>Words kill or give life; they are usually eith...</td>\n",
       "      <td>ba44d0cd-bff2-4875-8036-86f37419b5e7</td>\n",
       "      <td>News</td>\n",
       "      <td>2015-09-28T23:21:00Z</td>\n",
       "      <td>Times of Swaziland</td>\n",
       "      <td>THE INFLUENCE OF OUR WORDS</td>\n",
       "      <td>THE INFLUENCE OF OUR WORDS \\n Words kill or gi...</td>\n",
       "    </tr>\n",
       "    <tr>\n",
       "      <th>7</th>\n",
       "      <td>Just in time for the holiday shopping seasons,...</td>\n",
       "      <td>402f6983-3300-4546-82c5-6f4eb08d0ba7</td>\n",
       "      <td>News</td>\n",
       "      <td>2015-09-10T03:25:04Z</td>\n",
       "      <td>South Coast Register</td>\n",
       "      <td>Hands on with Apple's iPhone 6s, iPad Pro and ...</td>\n",
       "      <td>Hands on with Apple's iPhone 6s, iPad Pro and ...</td>\n",
       "    </tr>\n",
       "    <tr>\n",
       "      <th>8</th>\n",
       "      <td>SOURCE Harwood Feffer LLP\\n\\nNEW YORK \\n\\nOn J...</td>\n",
       "      <td>286868ed-ab9a-4990-a4af-436df8c5bff2</td>\n",
       "      <td>News</td>\n",
       "      <td>2015-09-25T21:00:00Z</td>\n",
       "      <td>WAFB</td>\n",
       "      <td>Harwood Feffer LLP Announces Investigation of ...</td>\n",
       "      <td>Harwood Feffer LLP Announces Investigation of ...</td>\n",
       "    </tr>\n",
       "    <tr>\n",
       "      <th>9</th>\n",
       "      <td>Tony Abbott's last word  \\nWatch the last pres...</td>\n",
       "      <td>c5f8a528-cc0f-4f3e-aaef-b9e3b6b00325</td>\n",
       "      <td>News</td>\n",
       "      <td>2015-09-15T06:04:06Z</td>\n",
       "      <td>Brisbane Times</td>\n",
       "      <td>What will happen to Peta Credlin and Brian Lou...</td>\n",
       "      <td>What will happen to Peta Credlin and Brian Lou...</td>\n",
       "    </tr>\n",
       "    <tr>\n",
       "      <th>10</th>\n",
       "      <td>Alright, alright, alright… the time is now for...</td>\n",
       "      <td>005d3017-7e99-492b-ac40-7b0f56366f2c</td>\n",
       "      <td>Blog</td>\n",
       "      <td>2015-09-04T10:43:03Z</td>\n",
       "      <td>Pitt Blather</td>\n",
       "      <td>2015’s Opening Game Predictions</td>\n",
       "      <td>2015’s Opening Game Predictions \\n Alright, al...</td>\n",
       "    </tr>\n",
       "    <tr>\n",
       "      <th>11</th>\n",
       "      <td>(Marketintelligencecenter.com via COMTEX) -- \\...</td>\n",
       "      <td>feef579d-73aa-493a-a34f-4d31ed05663f</td>\n",
       "      <td>News</td>\n",
       "      <td>2015-09-04T15:11:01Z</td>\n",
       "      <td>TradingCharts.com</td>\n",
       "      <td>Semtech (SMTC) Trading Near $17.29 Resistance ...</td>\n",
       "      <td>Semtech (SMTC) Trading Near $17.29 Resistance ...</td>\n",
       "    </tr>\n",
       "    <tr>\n",
       "      <th>12</th>\n",
       "      <td>Official says 'small number' of Benghazi-relat...</td>\n",
       "      <td>b5bd25f7-ad0d-4933-b91f-d6cc3883de73</td>\n",
       "      <td>News</td>\n",
       "      <td>2015-09-26T00:10:34Z</td>\n",
       "      <td>MyEastTex</td>\n",
       "      <td>New Hillary Clinton email chain discovered</td>\n",
       "      <td>New Hillary Clinton email chain discovered \\n ...</td>\n",
       "    </tr>\n",
       "    <tr>\n",
       "      <th>13</th>\n",
       "      <td>Former St. Louis Cardinals pitcher Joaquin And...</td>\n",
       "      <td>9c957b52-513a-4b74-9f40-dd2db587153a</td>\n",
       "      <td>News</td>\n",
       "      <td>2015-09-08T18:03:05Z</td>\n",
       "      <td>News Channel 21</td>\n",
       "      <td>Former pitcher Andujar dies at 62</td>\n",
       "      <td>Former pitcher Andujar dies at 62 \\n Former St...</td>\n",
       "    </tr>\n",
       "    <tr>\n",
       "      <th>14</th>\n",
       "      <td>The Texas State football team scored 63 points...</td>\n",
       "      <td>6d899e17-59a0-4113-a86c-438ec499ac92</td>\n",
       "      <td>News</td>\n",
       "      <td>2015-09-13T03:36:40Z</td>\n",
       "      <td>University Star</td>\n",
       "      <td>Five key plays from Texas State's home opener</td>\n",
       "      <td>Five key plays from Texas State's home opener ...</td>\n",
       "    </tr>\n",
       "    <tr>\n",
       "      <th>15</th>\n",
       "      <td>Daily Mail  Sunday 27th September, 2015  \\n 'W...</td>\n",
       "      <td>29577f5d-b486-45a2-9953-7d0bcd3bd778</td>\n",
       "      <td>News</td>\n",
       "      <td>2015-09-27T16:23:51Z</td>\n",
       "      <td>The Sydney News</td>\n",
       "      <td>Police chiefs warn ministers Were too broke to...</td>\n",
       "      <td>Police chiefs warn ministers Were too broke to...</td>\n",
       "    </tr>\n",
       "    <tr>\n",
       "      <th>16</th>\n",
       "      <td>Listening to politicians campaigning you a pic...</td>\n",
       "      <td>0d2211a7-7dd4-49de-ae02-5737f8bff7fe</td>\n",
       "      <td>News</td>\n",
       "      <td>2015-09-30T11:49:04Z</td>\n",
       "      <td>Tanzania Citizen</td>\n",
       "      <td>MY TAKE ON THIS: Politicians should give us a ...</td>\n",
       "      <td>MY TAKE ON THIS: Politicians should give us a ...</td>\n",
       "    </tr>\n",
       "    <tr>\n",
       "      <th>17</th>\n",
       "      <td>Corbyn will not take part in weekly PM’s Quest...</td>\n",
       "      <td>54e47c81-a1db-4a0f-8bcd-dd0c4c91bdf6</td>\n",
       "      <td>News</td>\n",
       "      <td>2015-09-13T10:08:31Z</td>\n",
       "      <td>Bayou Buzz</td>\n",
       "      <td>The Tom and Jerry Show: 'PM; Watson will run t...</td>\n",
       "      <td>The Tom and Jerry Show: 'PM; Watson will run t...</td>\n",
       "    </tr>\n",
       "    <tr>\n",
       "      <th>18</th>\n",
       "      <td>The San Bernardino County Sheriff's Department...</td>\n",
       "      <td>b7d890c6-ac0c-4df1-80ce-f5cfd885fd71</td>\n",
       "      <td>News</td>\n",
       "      <td>2015-09-22T06:27:24Z</td>\n",
       "      <td>LocalNews7.com</td>\n",
       "      <td>Sheriff's department says San...</td>\n",
       "      <td>Sheriff's department says San... \\n The San Be...</td>\n",
       "    </tr>\n",
       "    <tr>\n",
       "      <th>19</th>\n",
       "      <td>WASHINGTON, Sept. 16, 2015 /PRNewswire-USNewsw...</td>\n",
       "      <td>0d07e617-00d4-4866-aee2-0ae197ae366f</td>\n",
       "      <td>News</td>\n",
       "      <td>2015-09-16T14:00:00Z</td>\n",
       "      <td>Freshnews.com</td>\n",
       "      <td>Thanking Research and Hope honorees for their ...</td>\n",
       "      <td>Thanking Research and Hope honorees for their ...</td>\n",
       "    </tr>\n",
       "    <tr>\n",
       "      <th>20</th>\n",
       "      <td>AKM-GSI   \\nWill the VMAs drama ever end? \\n\\n...</td>\n",
       "      <td>9842e4a1-3640-43c0-a92f-1726ab16c010</td>\n",
       "      <td>News</td>\n",
       "      <td>2015-09-04T20:35:39Z</td>\n",
       "      <td>UK E Online</td>\n",
       "      <td>PINK SLAMS DEMI?!</td>\n",
       "      <td>PINK SLAMS DEMI?! \\n AKM-GSI   \\nWill the VMAs...</td>\n",
       "    </tr>\n",
       "    <tr>\n",
       "      <th>21</th>\n",
       "      <td>Arjen Robben reacts during the UEFA Euro 2016 ...</td>\n",
       "      <td>8ac397e6-f25b-436c-bb1a-203b4f7f44f3</td>\n",
       "      <td>News</td>\n",
       "      <td>2015-09-06T16:05:22Z</td>\n",
       "      <td>NDTV</td>\n",
       "      <td>Bayern Munich's Arjen Robben Sidelined With Gr...</td>\n",
       "      <td>Bayern Munich's Arjen Robben Sidelined With Gr...</td>\n",
       "    </tr>\n",
       "    <tr>\n",
       "      <th>22</th>\n",
       "      <td>]]&gt; \\n\\nST. LOUIS , Sept. 18, 2015 /PRNewswire...</td>\n",
       "      <td>ba92b817-c59f-45e8-a97f-16a88fda3086</td>\n",
       "      <td>News</td>\n",
       "      <td>2015-09-18T15:13:46Z</td>\n",
       "      <td>Sys-Con Canada</td>\n",
       "      <td>Potts Law Firm Files 90 New GM Ignition Switch...</td>\n",
       "      <td>Potts Law Firm Files 90 New GM Ignition Switch...</td>\n",
       "    </tr>\n",
       "    <tr>\n",
       "      <th>23</th>\n",
       "      <td>Factional unanimity in the ALP could facilitat...</td>\n",
       "      <td>15d96c82-1705-431f-83ca-bac60a6efcf5</td>\n",
       "      <td>News</td>\n",
       "      <td>2015-09-18T21:45:32Z</td>\n",
       "      <td>The Australian</td>\n",
       "      <td>Coalition’s Shorten dividend</td>\n",
       "      <td>Coalition’s Shorten dividend \\n Factional unan...</td>\n",
       "    </tr>\n",
       "    <tr>\n",
       "      <th>24</th>\n",
       "      <td>Have you ever felt like trading in the politic...</td>\n",
       "      <td>ebcd41ea-e5b4-43a4-9e16-4406d81cfcda</td>\n",
       "      <td>News</td>\n",
       "      <td>2015-09-22T14:15:00Z</td>\n",
       "      <td>Daily Liberal</td>\n",
       "      <td>It's a Mad world at the Melbourne Bar, as long...</td>\n",
       "      <td>It's a Mad world at the Melbourne Bar, as long...</td>\n",
       "    </tr>\n",
       "    <tr>\n",
       "      <th>25</th>\n",
       "      <td>On Tuesday afternoon, Kim Davis, the Kentucky ...</td>\n",
       "      <td>7516303b-0db5-477d-9e5d-243a73865e39</td>\n",
       "      <td>Blog</td>\n",
       "      <td>2015-09-10T03:00:15Z</td>\n",
       "      <td>Latest News on One News Page [United States] -...</td>\n",
       "      <td>Survivor Upset Use of 'Eye of the Tiger' With ...</td>\n",
       "      <td>Survivor Upset Use of 'Eye of the Tiger' With ...</td>\n",
       "    </tr>\n",
       "    <tr>\n",
       "      <th>26</th>\n",
       "      <td>The leader of Iran's legislature has definite ...</td>\n",
       "      <td>e9c9d2d9-a5f0-45fa-89ca-bf8470bf87c6</td>\n",
       "      <td>News</td>\n",
       "      <td>2015-09-08T10:07:31Z</td>\n",
       "      <td>WAMC.org</td>\n",
       "      <td>Iran Parliament Chief: Nuclear Deal Is 'Accept...</td>\n",
       "      <td>Iran Parliament Chief: Nuclear Deal Is 'Accept...</td>\n",
       "    </tr>\n",
       "    <tr>\n",
       "      <th>27</th>\n",
       "      <td>Created: 09/08/2015 4:52 PM WNYT.com\\r\\n\\t\\t\\t...</td>\n",
       "      <td>c35a4d55-b487-406d-b806-abced6a8cd91</td>\n",
       "      <td>News</td>\n",
       "      <td>2015-09-08T21:16:54Z</td>\n",
       "      <td>WNYT</td>\n",
       "      <td>Meredith and Walt Disney are big market movers</td>\n",
       "      <td>Meredith and Walt Disney are big market movers...</td>\n",
       "    </tr>\n",
       "    <tr>\n",
       "      <th>28</th>\n",
       "      <td>NEW YORK, Sept. 11, 2015 /PRNewswire/ -- Weled...</td>\n",
       "      <td>92731f9a-dff6-4f0d-a4cc-28ccf861b4a3</td>\n",
       "      <td>News</td>\n",
       "      <td>2015-09-11T13:00:27Z</td>\n",
       "      <td>Virtualization Conference &amp; Expo</td>\n",
       "      <td>Weleda Announces Partnership Benefiting Whole ...</td>\n",
       "      <td>Weleda Announces Partnership Benefiting Whole ...</td>\n",
       "    </tr>\n",
       "    <tr>\n",
       "      <th>29</th>\n",
       "      <td>The Federal Savings Bank encourages all prospe...</td>\n",
       "      <td>7990d850-4055-48de-acbf-2db8d7d5a131</td>\n",
       "      <td>News</td>\n",
       "      <td>2015-09-15T08:00:32Z</td>\n",
       "      <td>PRWeb</td>\n",
       "      <td>America's Most Expensive Rental Markets</td>\n",
       "      <td>America's Most Expensive Rental Markets \\n The...</td>\n",
       "    </tr>\n",
       "    <tr>\n",
       "      <th>...</th>\n",
       "      <td>...</td>\n",
       "      <td>...</td>\n",
       "      <td>...</td>\n",
       "      <td>...</td>\n",
       "      <td>...</td>\n",
       "      <td>...</td>\n",
       "      <td>...</td>\n",
       "    </tr>\n",
       "    <tr>\n",
       "      <th>999970</th>\n",
       "      <td>Many straight men, as many a straight lady can...</td>\n",
       "      <td>e4f6485b-e120-4775-b1db-0a246052e5e6</td>\n",
       "      <td>Blog</td>\n",
       "      <td>2015-09-20T16:56:00Z</td>\n",
       "      <td>Yahoo Health</td>\n",
       "      <td>This Explains Why Men Always Think Women Are F...</td>\n",
       "      <td>This Explains Why Men Always Think Women Are F...</td>\n",
       "    </tr>\n",
       "    <tr>\n",
       "      <th>999971</th>\n",
       "      <td>It’s no surprise performance management is a h...</td>\n",
       "      <td>c9048744-73c4-4f37-ae4d-1b48a0199c3f</td>\n",
       "      <td>Blog</td>\n",
       "      <td>2015-09-09T15:48:09Z</td>\n",
       "      <td>SCN : All Content - SAP Business Trends</td>\n",
       "      <td>Performance Management Today - Technology Alon...</td>\n",
       "      <td>Performance Management Today - Technology Alon...</td>\n",
       "    </tr>\n",
       "    <tr>\n",
       "      <th>999972</th>\n",
       "      <td>The ratings for Hell on Wheels have dropped lo...</td>\n",
       "      <td>f318ac3f-7627-4fce-9058-6637a13d877d</td>\n",
       "      <td>Blog</td>\n",
       "      <td>2015-08-25T15:53:03Z</td>\n",
       "      <td>canceled TV shows - TV Series Finale</td>\n",
       "      <td>Hell on Wheels:  Season Five Ratings</td>\n",
       "      <td>Hell on Wheels:  Season Five Ratings \\n The ra...</td>\n",
       "    </tr>\n",
       "    <tr>\n",
       "      <th>999973</th>\n",
       "      <td>A MAN has had his sports car taken away after ...</td>\n",
       "      <td>dd7ff3c3-38ae-4c0c-bb2c-071042d84ded</td>\n",
       "      <td>News</td>\n",
       "      <td>2015-09-05T11:40:30Z</td>\n",
       "      <td>Tasmania Mercury</td>\n",
       "      <td>Speeding Vic man loses sports car</td>\n",
       "      <td>Speeding Vic man loses sports car \\n A MAN has...</td>\n",
       "    </tr>\n",
       "    <tr>\n",
       "      <th>999974</th>\n",
       "      <td>KUALA LUMPUR: The reporting of The Edge Weekly...</td>\n",
       "      <td>8265c96b-ad49-4b86-80ba-4699e1eee7bb</td>\n",
       "      <td>News</td>\n",
       "      <td>2015-09-07T13:01:20Z</td>\n",
       "      <td>DangoteNews.com</td>\n",
       "      <td>The Edge reporting was based on doubtful sourc...</td>\n",
       "      <td>The Edge reporting was based on doubtful sourc...</td>\n",
       "    </tr>\n",
       "    <tr>\n",
       "      <th>999975</th>\n",
       "      <td>IDEXX Web PACS introduces a ground-breaking so...</td>\n",
       "      <td>2a8e810f-6737-4522-9a0c-c54a79f4b543</td>\n",
       "      <td>News</td>\n",
       "      <td>2015-09-09T11:46:25Z</td>\n",
       "      <td>Reuters</td>\n",
       "      <td>IDEXX Releases New Web-Based Software for Radi...</td>\n",
       "      <td>IDEXX Releases New Web-Based Software for Radi...</td>\n",
       "    </tr>\n",
       "    <tr>\n",
       "      <th>999976</th>\n",
       "      <td>Apple is frequently bashed for not being first...</td>\n",
       "      <td>5278a72d-f10d-474e-b44f-2c04f8388a57</td>\n",
       "      <td>News</td>\n",
       "      <td>2015-09-12T04:03:06Z</td>\n",
       "      <td>Canadian News</td>\n",
       "      <td>→ Apple Apple responds to iPhone 6S privacy co...</td>\n",
       "      <td>→ Apple Apple responds to iPhone 6S privacy co...</td>\n",
       "    </tr>\n",
       "    <tr>\n",
       "      <th>999977</th>\n",
       "      <td>INDIANAPOLIS ( WISH ) – Visitors to the Auschw...</td>\n",
       "      <td>9bb6abd9-0331-4b53-a3d4-fdbce6bb1407</td>\n",
       "      <td>News</td>\n",
       "      <td>2015-09-02T03:26:44Z</td>\n",
       "      <td>WIAT TV</td>\n",
       "      <td>Auschwitz adds summer ‘shower’ system, angers ...</td>\n",
       "      <td>Auschwitz adds summer ‘shower’ system, angers ...</td>\n",
       "    </tr>\n",
       "    <tr>\n",
       "      <th>999978</th>\n",
       "      <td>Rugby World Cup interactive: your guide to eve...</td>\n",
       "      <td>1bf808b3-7dc4-4b00-be84-d779be56d78b</td>\n",
       "      <td>News</td>\n",
       "      <td>2015-09-18T01:43:18Z</td>\n",
       "      <td>Good Fruit &amp; Vegetables Magazine</td>\n",
       "      <td>Wallabies World Cup winners pick their Test team</td>\n",
       "      <td>Wallabies World Cup winners pick their Test te...</td>\n",
       "    </tr>\n",
       "    <tr>\n",
       "      <th>999979</th>\n",
       "      <td>This is a good article called Honda presents N...</td>\n",
       "      <td>6b078f1c-6ede-4d52-bc61-d4459147ae26</td>\n",
       "      <td>Blog</td>\n",
       "      <td>2015-09-30T20:40:11Z</td>\n",
       "      <td>Scott Briscoe Digital Marketing Blog</td>\n",
       "      <td>Honda presents Neowing tilting tricycle ahead ...</td>\n",
       "      <td>Honda presents Neowing tilting tricycle ahead ...</td>\n",
       "    </tr>\n",
       "    <tr>\n",
       "      <th>999980</th>\n",
       "      <td>News4u-Sports Desk- India’s limited overs capt...</td>\n",
       "      <td>17e72720-54c6-4055-88e8-c620c1c6316f</td>\n",
       "      <td>Blog</td>\n",
       "      <td>2015-09-22T02:09:11Z</td>\n",
       "      <td>:: News4u ::</td>\n",
       "      <td>Dhoni to lead T20 &amp; ODI squad against South Af...</td>\n",
       "      <td>Dhoni to lead T20 &amp; ODI squad against South Af...</td>\n",
       "    </tr>\n",
       "    <tr>\n",
       "      <th>999981</th>\n",
       "      <td>What's driving the Brumbies star through the N...</td>\n",
       "      <td>6c2ec712-2b42-488a-81cc-8dd1ffdbe2c6</td>\n",
       "      <td>News</td>\n",
       "      <td>2015-09-30T08:09:32Z</td>\n",
       "      <td>Southern Weekly</td>\n",
       "      <td>Christian Lealiifano not expecting to follow S...</td>\n",
       "      <td>Christian Lealiifano not expecting to follow S...</td>\n",
       "    </tr>\n",
       "    <tr>\n",
       "      <th>999982</th>\n",
       "      <td>Dr Tatsujiro Suzuki says the effects of the Fu...</td>\n",
       "      <td>edf2d669-026c-484d-95d1-d33dd14de9f8</td>\n",
       "      <td>News</td>\n",
       "      <td>2015-09-22T18:40:31Z</td>\n",
       "      <td>Eye Witness News</td>\n",
       "      <td>'85% of Japanese don't trust nuclear energy af...</td>\n",
       "      <td>'85% of Japanese don't trust nuclear energy af...</td>\n",
       "    </tr>\n",
       "    <tr>\n",
       "      <th>999983</th>\n",
       "      <td>Construction work has begun on the Pyeongchang...</td>\n",
       "      <td>478c11b4-0b55-4aec-ab3d-3a22a6faac72</td>\n",
       "      <td>News</td>\n",
       "      <td>2015-09-24T11:56:06Z</td>\n",
       "      <td>World Leisure News &amp; Jobs</td>\n",
       "      <td>Ground broken on Pyeongchang 2018 Olympic village</td>\n",
       "      <td>Ground broken on Pyeongchang 2018 Olympic vill...</td>\n",
       "    </tr>\n",
       "    <tr>\n",
       "      <th>999984</th>\n",
       "      <td>Two women were killed and three others were in...</td>\n",
       "      <td>1a0b0f26-80e7-424c-87e1-386b3f6453de</td>\n",
       "      <td>Blog</td>\n",
       "      <td>2015-09-12T17:47:18Z</td>\n",
       "      <td>CLJNews.com</td>\n",
       "      <td>Two women killed, three injured in SR 69 crash...</td>\n",
       "      <td>Two women killed, three injured in SR 69 crash...</td>\n",
       "    </tr>\n",
       "    <tr>\n",
       "      <th>999985</th>\n",
       "      <td>East Zone states back Amitabh Chaudhary,  join...</td>\n",
       "      <td>2a1958c7-d7cf-4011-bd31-2ab0d403e750</td>\n",
       "      <td>News</td>\n",
       "      <td>2015-09-22T18:30:00Z</td>\n",
       "      <td>Asian Age</td>\n",
       "      <td>East Zone  wants Amitabh Chaudhary as BCCI pre...</td>\n",
       "      <td>East Zone  wants Amitabh Chaudhary as BCCI pre...</td>\n",
       "    </tr>\n",
       "    <tr>\n",
       "      <th>999986</th>\n",
       "      <td>Illustration by Ben Wade In the U.S., turnin...</td>\n",
       "      <td>723e46b3-95bf-4fbf-9f4b-cefd9057edbb</td>\n",
       "      <td>Blog</td>\n",
       "      <td>2015-09-22T00:59:30Z</td>\n",
       "      <td>The Kentucky Kernel</td>\n",
       "      <td>Editorial: 18 should be legal drinking age, again</td>\n",
       "      <td>Editorial: 18 should be legal drinking age, ag...</td>\n",
       "    </tr>\n",
       "    <tr>\n",
       "      <th>999987</th>\n",
       "      <td>:54 \\n   \\n\\r\\nThe Premier Soccer League (PSL)...</td>\n",
       "      <td>3ecabc6c-9440-412a-abda-ebec6eb6f280</td>\n",
       "      <td>News</td>\n",
       "      <td>2015-09-16T10:58:16Z</td>\n",
       "      <td>SuperSport</td>\n",
       "      <td>PSL release statement on Abraw</td>\n",
       "      <td>PSL release statement on Abraw \\n :54 \\n   \\n\\...</td>\n",
       "    </tr>\n",
       "    <tr>\n",
       "      <th>999988</th>\n",
       "      <td>Sam Wood and Snezana Markoski were spotted jet...</td>\n",
       "      <td>7c792403-67bf-4d6a-9942-a8b6fe7c8145</td>\n",
       "      <td>News</td>\n",
       "      <td>2015-09-16T15:21:21Z</td>\n",
       "      <td>Mail Online UK</td>\n",
       "      <td>Sam Wood arrives at Sydney Airport just MINUTE...</td>\n",
       "      <td>Sam Wood arrives at Sydney Airport just MINUTE...</td>\n",
       "    </tr>\n",
       "    <tr>\n",
       "      <th>999989</th>\n",
       "      <td>MIL OSI – \\n \\nSource: Organization for Securi...</td>\n",
       "      <td>3c8e187a-d48c-49b0-adeb-65b5a5156246</td>\n",
       "      <td>News</td>\n",
       "      <td>2015-09-24T20:25:20Z</td>\n",
       "      <td>Foreign Affairs.co.nz</td>\n",
       "      <td>OSCE Special Co-ordinator visits Belarus ahead...</td>\n",
       "      <td>OSCE Special Co-ordinator visits Belarus ahead...</td>\n",
       "    </tr>\n",
       "    <tr>\n",
       "      <th>999990</th>\n",
       "      <td>The International Women's Insolvency and Restr...</td>\n",
       "      <td>b5253eeb-3142-44d0-9ce0-f0dae743fd90</td>\n",
       "      <td>News</td>\n",
       "      <td>2015-09-02T15:10:09Z</td>\n",
       "      <td>Individual.com</td>\n",
       "      <td>International Women's Insolvency and Restructu...</td>\n",
       "      <td>International Women's Insolvency and Restructu...</td>\n",
       "    </tr>\n",
       "    <tr>\n",
       "      <th>999991</th>\n",
       "      <td>Photo: DPA. \\n\\n Bayern Munich got off to a fl...</td>\n",
       "      <td>70cf1816-d8d8-4e2c-b8fd-e0ac73afc8d7</td>\n",
       "      <td>News</td>\n",
       "      <td>2015-09-17T07:55:19Z</td>\n",
       "      <td>The Local Germany</td>\n",
       "      <td>Bayern start campaign in emphatic form</td>\n",
       "      <td>Bayern start campaign in emphatic form \\n Phot...</td>\n",
       "    </tr>\n",
       "    <tr>\n",
       "      <th>999992</th>\n",
       "      <td>WH Ireland restated their buy rating on shares...</td>\n",
       "      <td>a7dc6786-664e-4eba-bc6b-93f08f1e091c</td>\n",
       "      <td>News</td>\n",
       "      <td>2015-09-25T05:25:50Z</td>\n",
       "      <td>Lulegacy.com</td>\n",
       "      <td>Avation PLC’s Buy Rating Reiterated at WH Irel...</td>\n",
       "      <td>Avation PLC’s Buy Rating Reiterated at WH Irel...</td>\n",
       "    </tr>\n",
       "    <tr>\n",
       "      <th>999993</th>\n",
       "      <td>The Wolverines got back on the winning track l...</td>\n",
       "      <td>05ce2ae3-5a75-42a5-851f-5e8daad9881d</td>\n",
       "      <td>News</td>\n",
       "      <td>2015-09-25T16:31:00Z</td>\n",
       "      <td>Sequoyah County Times</td>\n",
       "      <td>Wolverines notch first victory with 42-21 win ...</td>\n",
       "      <td>Wolverines notch first victory with 42-21 win ...</td>\n",
       "    </tr>\n",
       "    <tr>\n",
       "      <th>999994</th>\n",
       "      <td>Jess Hayes thought she'd found her perfect man...</td>\n",
       "      <td>a2f5e599-be9a-4916-8cd2-9cb10c90ff81</td>\n",
       "      <td>Blog</td>\n",
       "      <td>2015-09-08T16:03:02Z</td>\n",
       "      <td>Now magazine</td>\n",
       "      <td>Max Morley using Charlotte Crosby ‘for fame’, ...</td>\n",
       "      <td>Max Morley using Charlotte Crosby ‘for fame’, ...</td>\n",
       "    </tr>\n",
       "    <tr>\n",
       "      <th>999995</th>\n",
       "      <td>By Ryan Mayer, CBS Local Sports\\n\\nWeek 1 of t...</td>\n",
       "      <td>ad1dfe61-164b-4fd8-8ef3-38d676f41831</td>\n",
       "      <td>Blog</td>\n",
       "      <td>2015-09-17T17:28:13Z</td>\n",
       "      <td>CBS Baltimore</td>\n",
       "      <td>Thursday Night Football Q&amp;A: Tiki Barber \"Peyt...</td>\n",
       "      <td>Thursday Night Football Q&amp;A: Tiki Barber \"Peyt...</td>\n",
       "    </tr>\n",
       "    <tr>\n",
       "      <th>999996</th>\n",
       "      <td>©  \\r\\n Android Pay\\r \\nGoogle has made its mo...</td>\n",
       "      <td>383864ab-4880-46d0-8625-44ab43f489bc</td>\n",
       "      <td>News</td>\n",
       "      <td>2015-09-11T00:15:15Z</td>\n",
       "      <td>Malaysia MSN</td>\n",
       "      <td>Google takes on Apple with Android Pay</td>\n",
       "      <td>Google takes on Apple with Android Pay \\n ©  \\...</td>\n",
       "    </tr>\n",
       "    <tr>\n",
       "      <th>999997</th>\n",
       "      <td>For some time now, I've noticed that one of my...</td>\n",
       "      <td>36c044d8-4522-4a28-a92c-a8e994742188</td>\n",
       "      <td>Blog</td>\n",
       "      <td>2015-09-14T13:29:49Z</td>\n",
       "      <td>Jarred at the movies</td>\n",
       "      <td>Movie of the Week: Black Mass</td>\n",
       "      <td>Movie of the Week: Black Mass \\n For some time...</td>\n",
       "    </tr>\n",
       "    <tr>\n",
       "      <th>999998</th>\n",
       "      <td>The article below represents a preview only an...</td>\n",
       "      <td>374ff291-51c3-453e-ab06-c18dd2d880a0</td>\n",
       "      <td>News</td>\n",
       "      <td>2015-09-10T21:01:53Z</td>\n",
       "      <td>HT Syndication</td>\n",
       "      <td>C'garh decked for Modi's visit</td>\n",
       "      <td>C'garh decked for Modi's visit \\n The article ...</td>\n",
       "    </tr>\n",
       "    <tr>\n",
       "      <th>999999</th>\n",
       "      <td>Environment groups urge new Prime Minister Mal...</td>\n",
       "      <td>c463033c-21a8-4085-ba81-f894ab0ddf5d</td>\n",
       "      <td>News</td>\n",
       "      <td>2015-09-20T06:03:08Z</td>\n",
       "      <td>Wauchope Gazette</td>\n",
       "      <td>Green groups urge Malcolm Turnbull to drop Ton...</td>\n",
       "      <td>Green groups urge Malcolm Turnbull to drop Ton...</td>\n",
       "    </tr>\n",
       "  </tbody>\n",
       "</table>\n",
       "<p>1000000 rows × 7 columns</p>\n",
       "</div>"
      ],
      "text/plain": [
       "                                                  content  \\\n",
       "0       VETERANS saluted Worcester's first ever breakf...   \n",
       "1       New Product Gives Marketers Access to Real Key...   \n",
       "2       Home »\\rStyle » The Return Of The Nike Air Max...   \n",
       "3       NYMag.com Daily Intelligencer Vulture The Cut ...   \n",
       "4       KUALA LUMPUR, Sept 15 (MySinchew) -- The Kuala...   \n",
       "5       Mumbai, Sep 11 : Following were the indicative...   \n",
       "6       Words kill or give life; they are usually eith...   \n",
       "7       Just in time for the holiday shopping seasons,...   \n",
       "8       SOURCE Harwood Feffer LLP\\n\\nNEW YORK \\n\\nOn J...   \n",
       "9       Tony Abbott's last word  \\nWatch the last pres...   \n",
       "10      Alright, alright, alright… the time is now for...   \n",
       "11      (Marketintelligencecenter.com via COMTEX) -- \\...   \n",
       "12      Official says 'small number' of Benghazi-relat...   \n",
       "13      Former St. Louis Cardinals pitcher Joaquin And...   \n",
       "14      The Texas State football team scored 63 points...   \n",
       "15      Daily Mail  Sunday 27th September, 2015  \\n 'W...   \n",
       "16      Listening to politicians campaigning you a pic...   \n",
       "17      Corbyn will not take part in weekly PM’s Quest...   \n",
       "18      The San Bernardino County Sheriff's Department...   \n",
       "19      WASHINGTON, Sept. 16, 2015 /PRNewswire-USNewsw...   \n",
       "20      AKM-GSI   \\nWill the VMAs drama ever end? \\n\\n...   \n",
       "21      Arjen Robben reacts during the UEFA Euro 2016 ...   \n",
       "22      ]]> \\n\\nST. LOUIS , Sept. 18, 2015 /PRNewswire...   \n",
       "23      Factional unanimity in the ALP could facilitat...   \n",
       "24      Have you ever felt like trading in the politic...   \n",
       "25      On Tuesday afternoon, Kim Davis, the Kentucky ...   \n",
       "26      The leader of Iran's legislature has definite ...   \n",
       "27      Created: 09/08/2015 4:52 PM WNYT.com\\r\\n\\t\\t\\t...   \n",
       "28      NEW YORK, Sept. 11, 2015 /PRNewswire/ -- Weled...   \n",
       "29      The Federal Savings Bank encourages all prospe...   \n",
       "...                                                   ...   \n",
       "999970  Many straight men, as many a straight lady can...   \n",
       "999971  It’s no surprise performance management is a h...   \n",
       "999972  The ratings for Hell on Wheels have dropped lo...   \n",
       "999973  A MAN has had his sports car taken away after ...   \n",
       "999974  KUALA LUMPUR: The reporting of The Edge Weekly...   \n",
       "999975  IDEXX Web PACS introduces a ground-breaking so...   \n",
       "999976  Apple is frequently bashed for not being first...   \n",
       "999977  INDIANAPOLIS ( WISH ) – Visitors to the Auschw...   \n",
       "999978  Rugby World Cup interactive: your guide to eve...   \n",
       "999979  This is a good article called Honda presents N...   \n",
       "999980  News4u-Sports Desk- India’s limited overs capt...   \n",
       "999981  What's driving the Brumbies star through the N...   \n",
       "999982  Dr Tatsujiro Suzuki says the effects of the Fu...   \n",
       "999983  Construction work has begun on the Pyeongchang...   \n",
       "999984  Two women were killed and three others were in...   \n",
       "999985  East Zone states back Amitabh Chaudhary,  join...   \n",
       "999986    Illustration by Ben Wade In the U.S., turnin...   \n",
       "999987  :54 \\n   \\n\\r\\nThe Premier Soccer League (PSL)...   \n",
       "999988  Sam Wood and Snezana Markoski were spotted jet...   \n",
       "999989  MIL OSI – \\n \\nSource: Organization for Securi...   \n",
       "999990  The International Women's Insolvency and Restr...   \n",
       "999991  Photo: DPA. \\n\\n Bayern Munich got off to a fl...   \n",
       "999992  WH Ireland restated their buy rating on shares...   \n",
       "999993  The Wolverines got back on the winning track l...   \n",
       "999994  Jess Hayes thought she'd found her perfect man...   \n",
       "999995  By Ryan Mayer, CBS Local Sports\\n\\nWeek 1 of t...   \n",
       "999996  ©  \\r\\n Android Pay\\r \\nGoogle has made its mo...   \n",
       "999997  For some time now, I've noticed that one of my...   \n",
       "999998  The article below represents a preview only an...   \n",
       "999999  Environment groups urge new Prime Minister Mal...   \n",
       "\n",
       "                                          id media-type             published  \\\n",
       "0       f7ca322d-c3e8-40d2-841f-9d7250ac72ca       News  2015-09-07T10:16:14Z   \n",
       "1       609772bc-0672-4db5-8516-4c025cfd54ca       News  2015-09-17T15:00:00Z   \n",
       "2       1aa9d1b0-e6ba-4a48-ad0c-66552d896aac       Blog  2015-09-22T22:54:37Z   \n",
       "3       719699f9-47be-4bc7-969b-b53a881c95ae       Blog  2015-09-16T23:12:11Z   \n",
       "4       a080f99a-07d9-47d1-8244-26a540017b7a       News  2015-09-15T10:17:53Z   \n",
       "5       3c5636e8-06b7-43fd-8a80-0e8535f45cb2       News  2015-09-11T06:09:32Z   \n",
       "6       ba44d0cd-bff2-4875-8036-86f37419b5e7       News  2015-09-28T23:21:00Z   \n",
       "7       402f6983-3300-4546-82c5-6f4eb08d0ba7       News  2015-09-10T03:25:04Z   \n",
       "8       286868ed-ab9a-4990-a4af-436df8c5bff2       News  2015-09-25T21:00:00Z   \n",
       "9       c5f8a528-cc0f-4f3e-aaef-b9e3b6b00325       News  2015-09-15T06:04:06Z   \n",
       "10      005d3017-7e99-492b-ac40-7b0f56366f2c       Blog  2015-09-04T10:43:03Z   \n",
       "11      feef579d-73aa-493a-a34f-4d31ed05663f       News  2015-09-04T15:11:01Z   \n",
       "12      b5bd25f7-ad0d-4933-b91f-d6cc3883de73       News  2015-09-26T00:10:34Z   \n",
       "13      9c957b52-513a-4b74-9f40-dd2db587153a       News  2015-09-08T18:03:05Z   \n",
       "14      6d899e17-59a0-4113-a86c-438ec499ac92       News  2015-09-13T03:36:40Z   \n",
       "15      29577f5d-b486-45a2-9953-7d0bcd3bd778       News  2015-09-27T16:23:51Z   \n",
       "16      0d2211a7-7dd4-49de-ae02-5737f8bff7fe       News  2015-09-30T11:49:04Z   \n",
       "17      54e47c81-a1db-4a0f-8bcd-dd0c4c91bdf6       News  2015-09-13T10:08:31Z   \n",
       "18      b7d890c6-ac0c-4df1-80ce-f5cfd885fd71       News  2015-09-22T06:27:24Z   \n",
       "19      0d07e617-00d4-4866-aee2-0ae197ae366f       News  2015-09-16T14:00:00Z   \n",
       "20      9842e4a1-3640-43c0-a92f-1726ab16c010       News  2015-09-04T20:35:39Z   \n",
       "21      8ac397e6-f25b-436c-bb1a-203b4f7f44f3       News  2015-09-06T16:05:22Z   \n",
       "22      ba92b817-c59f-45e8-a97f-16a88fda3086       News  2015-09-18T15:13:46Z   \n",
       "23      15d96c82-1705-431f-83ca-bac60a6efcf5       News  2015-09-18T21:45:32Z   \n",
       "24      ebcd41ea-e5b4-43a4-9e16-4406d81cfcda       News  2015-09-22T14:15:00Z   \n",
       "25      7516303b-0db5-477d-9e5d-243a73865e39       Blog  2015-09-10T03:00:15Z   \n",
       "26      e9c9d2d9-a5f0-45fa-89ca-bf8470bf87c6       News  2015-09-08T10:07:31Z   \n",
       "27      c35a4d55-b487-406d-b806-abced6a8cd91       News  2015-09-08T21:16:54Z   \n",
       "28      92731f9a-dff6-4f0d-a4cc-28ccf861b4a3       News  2015-09-11T13:00:27Z   \n",
       "29      7990d850-4055-48de-acbf-2db8d7d5a131       News  2015-09-15T08:00:32Z   \n",
       "...                                      ...        ...                   ...   \n",
       "999970  e4f6485b-e120-4775-b1db-0a246052e5e6       Blog  2015-09-20T16:56:00Z   \n",
       "999971  c9048744-73c4-4f37-ae4d-1b48a0199c3f       Blog  2015-09-09T15:48:09Z   \n",
       "999972  f318ac3f-7627-4fce-9058-6637a13d877d       Blog  2015-08-25T15:53:03Z   \n",
       "999973  dd7ff3c3-38ae-4c0c-bb2c-071042d84ded       News  2015-09-05T11:40:30Z   \n",
       "999974  8265c96b-ad49-4b86-80ba-4699e1eee7bb       News  2015-09-07T13:01:20Z   \n",
       "999975  2a8e810f-6737-4522-9a0c-c54a79f4b543       News  2015-09-09T11:46:25Z   \n",
       "999976  5278a72d-f10d-474e-b44f-2c04f8388a57       News  2015-09-12T04:03:06Z   \n",
       "999977  9bb6abd9-0331-4b53-a3d4-fdbce6bb1407       News  2015-09-02T03:26:44Z   \n",
       "999978  1bf808b3-7dc4-4b00-be84-d779be56d78b       News  2015-09-18T01:43:18Z   \n",
       "999979  6b078f1c-6ede-4d52-bc61-d4459147ae26       Blog  2015-09-30T20:40:11Z   \n",
       "999980  17e72720-54c6-4055-88e8-c620c1c6316f       Blog  2015-09-22T02:09:11Z   \n",
       "999981  6c2ec712-2b42-488a-81cc-8dd1ffdbe2c6       News  2015-09-30T08:09:32Z   \n",
       "999982  edf2d669-026c-484d-95d1-d33dd14de9f8       News  2015-09-22T18:40:31Z   \n",
       "999983  478c11b4-0b55-4aec-ab3d-3a22a6faac72       News  2015-09-24T11:56:06Z   \n",
       "999984  1a0b0f26-80e7-424c-87e1-386b3f6453de       Blog  2015-09-12T17:47:18Z   \n",
       "999985  2a1958c7-d7cf-4011-bd31-2ab0d403e750       News  2015-09-22T18:30:00Z   \n",
       "999986  723e46b3-95bf-4fbf-9f4b-cefd9057edbb       Blog  2015-09-22T00:59:30Z   \n",
       "999987  3ecabc6c-9440-412a-abda-ebec6eb6f280       News  2015-09-16T10:58:16Z   \n",
       "999988  7c792403-67bf-4d6a-9942-a8b6fe7c8145       News  2015-09-16T15:21:21Z   \n",
       "999989  3c8e187a-d48c-49b0-adeb-65b5a5156246       News  2015-09-24T20:25:20Z   \n",
       "999990  b5253eeb-3142-44d0-9ce0-f0dae743fd90       News  2015-09-02T15:10:09Z   \n",
       "999991  70cf1816-d8d8-4e2c-b8fd-e0ac73afc8d7       News  2015-09-17T07:55:19Z   \n",
       "999992  a7dc6786-664e-4eba-bc6b-93f08f1e091c       News  2015-09-25T05:25:50Z   \n",
       "999993  05ce2ae3-5a75-42a5-851f-5e8daad9881d       News  2015-09-25T16:31:00Z   \n",
       "999994  a2f5e599-be9a-4916-8cd2-9cb10c90ff81       Blog  2015-09-08T16:03:02Z   \n",
       "999995  ad1dfe61-164b-4fd8-8ef3-38d676f41831       Blog  2015-09-17T17:28:13Z   \n",
       "999996  383864ab-4880-46d0-8625-44ab43f489bc       News  2015-09-11T00:15:15Z   \n",
       "999997  36c044d8-4522-4a28-a92c-a8e994742188       Blog  2015-09-14T13:29:49Z   \n",
       "999998  374ff291-51c3-453e-ab06-c18dd2d880a0       News  2015-09-10T21:01:53Z   \n",
       "999999  c463033c-21a8-4085-ba81-f894ab0ddf5d       News  2015-09-20T06:03:08Z   \n",
       "\n",
       "                                                   source  \\\n",
       "0                                     Redditch Advertiser   \n",
       "1                        Virtualization Conference & Expo   \n",
       "2                                         Streets Connect   \n",
       "3                                                 The Cut   \n",
       "4                                              My Sinchew   \n",
       "5                                           Newshence.com   \n",
       "6                                      Times of Swaziland   \n",
       "7                                    South Coast Register   \n",
       "8                                                    WAFB   \n",
       "9                                          Brisbane Times   \n",
       "10                                           Pitt Blather   \n",
       "11                                      TradingCharts.com   \n",
       "12                                              MyEastTex   \n",
       "13                                        News Channel 21   \n",
       "14                                        University Star   \n",
       "15                                        The Sydney News   \n",
       "16                                       Tanzania Citizen   \n",
       "17                                             Bayou Buzz   \n",
       "18                                         LocalNews7.com   \n",
       "19                                          Freshnews.com   \n",
       "20                                            UK E Online   \n",
       "21                                                   NDTV   \n",
       "22                                         Sys-Con Canada   \n",
       "23                                         The Australian   \n",
       "24                                          Daily Liberal   \n",
       "25      Latest News on One News Page [United States] -...   \n",
       "26                                               WAMC.org   \n",
       "27                                                   WNYT   \n",
       "28                       Virtualization Conference & Expo   \n",
       "29                                                  PRWeb   \n",
       "...                                                   ...   \n",
       "999970                                       Yahoo Health   \n",
       "999971            SCN : All Content - SAP Business Trends   \n",
       "999972               canceled TV shows - TV Series Finale   \n",
       "999973                                   Tasmania Mercury   \n",
       "999974                                    DangoteNews.com   \n",
       "999975                                            Reuters   \n",
       "999976                                      Canadian News   \n",
       "999977                                            WIAT TV   \n",
       "999978                   Good Fruit & Vegetables Magazine   \n",
       "999979               Scott Briscoe Digital Marketing Blog   \n",
       "999980                                       :: News4u ::   \n",
       "999981                                    Southern Weekly   \n",
       "999982                                   Eye Witness News   \n",
       "999983                          World Leisure News & Jobs   \n",
       "999984                                        CLJNews.com   \n",
       "999985                                          Asian Age   \n",
       "999986                                The Kentucky Kernel   \n",
       "999987                                         SuperSport   \n",
       "999988                                     Mail Online UK   \n",
       "999989                              Foreign Affairs.co.nz   \n",
       "999990                                     Individual.com   \n",
       "999991                                  The Local Germany   \n",
       "999992                                       Lulegacy.com   \n",
       "999993                              Sequoyah County Times   \n",
       "999994                                       Now magazine   \n",
       "999995                                      CBS Baltimore   \n",
       "999996                                       Malaysia MSN   \n",
       "999997                               Jarred at the movies   \n",
       "999998                                     HT Syndication   \n",
       "999999                                   Wauchope Gazette   \n",
       "\n",
       "                                                    title  \\\n",
       "0       Worcester breakfast club for veterans gives hu...   \n",
       "1       Jumpshot Gives Marketers Renewed Visibility In...   \n",
       "2       The Return Of The Nike Air Max Sensation Has 8...   \n",
       "3        This New Dating App Will Ruin Your Internet Game   \n",
       "4                       Pay up or face legal action: DBKL   \n",
       "5                        Euro up; USD, Pound and Yen down   \n",
       "6                              THE INFLUENCE OF OUR WORDS   \n",
       "7       Hands on with Apple's iPhone 6s, iPad Pro and ...   \n",
       "8       Harwood Feffer LLP Announces Investigation of ...   \n",
       "9       What will happen to Peta Credlin and Brian Lou...   \n",
       "10                        2015’s Opening Game Predictions   \n",
       "11      Semtech (SMTC) Trading Near $17.29 Resistance ...   \n",
       "12             New Hillary Clinton email chain discovered   \n",
       "13                      Former pitcher Andujar dies at 62   \n",
       "14          Five key plays from Texas State's home opener   \n",
       "15      Police chiefs warn ministers Were too broke to...   \n",
       "16      MY TAKE ON THIS: Politicians should give us a ...   \n",
       "17      The Tom and Jerry Show: 'PM; Watson will run t...   \n",
       "18                       Sheriff's department says San...   \n",
       "19      Thanking Research and Hope honorees for their ...   \n",
       "20                                      PINK SLAMS DEMI?!   \n",
       "21      Bayern Munich's Arjen Robben Sidelined With Gr...   \n",
       "22      Potts Law Firm Files 90 New GM Ignition Switch...   \n",
       "23                           Coalition’s Shorten dividend   \n",
       "24      It's a Mad world at the Melbourne Bar, as long...   \n",
       "25      Survivor Upset Use of 'Eye of the Tiger' With ...   \n",
       "26      Iran Parliament Chief: Nuclear Deal Is 'Accept...   \n",
       "27         Meredith and Walt Disney are big market movers   \n",
       "28      Weleda Announces Partnership Benefiting Whole ...   \n",
       "29                America's Most Expensive Rental Markets   \n",
       "...                                                   ...   \n",
       "999970  This Explains Why Men Always Think Women Are F...   \n",
       "999971  Performance Management Today - Technology Alon...   \n",
       "999972               Hell on Wheels:  Season Five Ratings   \n",
       "999973                  Speeding Vic man loses sports car   \n",
       "999974  The Edge reporting was based on doubtful sourc...   \n",
       "999975  IDEXX Releases New Web-Based Software for Radi...   \n",
       "999976  → Apple Apple responds to iPhone 6S privacy co...   \n",
       "999977  Auschwitz adds summer ‘shower’ system, angers ...   \n",
       "999978   Wallabies World Cup winners pick their Test team   \n",
       "999979  Honda presents Neowing tilting tricycle ahead ...   \n",
       "999980  Dhoni to lead T20 & ODI squad against South Af...   \n",
       "999981  Christian Lealiifano not expecting to follow S...   \n",
       "999982  '85% of Japanese don't trust nuclear energy af...   \n",
       "999983  Ground broken on Pyeongchang 2018 Olympic village   \n",
       "999984  Two women killed, three injured in SR 69 crash...   \n",
       "999985  East Zone  wants Amitabh Chaudhary as BCCI pre...   \n",
       "999986  Editorial: 18 should be legal drinking age, again   \n",
       "999987                     PSL release statement on Abraw   \n",
       "999988  Sam Wood arrives at Sydney Airport just MINUTE...   \n",
       "999989  OSCE Special Co-ordinator visits Belarus ahead...   \n",
       "999990  International Women's Insolvency and Restructu...   \n",
       "999991             Bayern start campaign in emphatic form   \n",
       "999992  Avation PLC’s Buy Rating Reiterated at WH Irel...   \n",
       "999993  Wolverines notch first victory with 42-21 win ...   \n",
       "999994  Max Morley using Charlotte Crosby ‘for fame’, ...   \n",
       "999995  Thursday Night Football Q&A: Tiki Barber \"Peyt...   \n",
       "999996             Google takes on Apple with Android Pay   \n",
       "999997                      Movie of the Week: Black Mass   \n",
       "999998                     C'garh decked for Modi's visit   \n",
       "999999  Green groups urge Malcolm Turnbull to drop Ton...   \n",
       "\n",
       "                                                 all_text  \n",
       "0       Worcester breakfast club for veterans gives hu...  \n",
       "1       Jumpshot Gives Marketers Renewed Visibility In...  \n",
       "2       The Return Of The Nike Air Max Sensation Has 8...  \n",
       "3       This New Dating App Will Ruin Your Internet Ga...  \n",
       "4       Pay up or face legal action: DBKL \\n KUALA LUM...  \n",
       "5       Euro up; USD, Pound and Yen down \\n Mumbai, Se...  \n",
       "6       THE INFLUENCE OF OUR WORDS \\n Words kill or gi...  \n",
       "7       Hands on with Apple's iPhone 6s, iPad Pro and ...  \n",
       "8       Harwood Feffer LLP Announces Investigation of ...  \n",
       "9       What will happen to Peta Credlin and Brian Lou...  \n",
       "10      2015’s Opening Game Predictions \\n Alright, al...  \n",
       "11      Semtech (SMTC) Trading Near $17.29 Resistance ...  \n",
       "12      New Hillary Clinton email chain discovered \\n ...  \n",
       "13      Former pitcher Andujar dies at 62 \\n Former St...  \n",
       "14      Five key plays from Texas State's home opener ...  \n",
       "15      Police chiefs warn ministers Were too broke to...  \n",
       "16      MY TAKE ON THIS: Politicians should give us a ...  \n",
       "17      The Tom and Jerry Show: 'PM; Watson will run t...  \n",
       "18      Sheriff's department says San... \\n The San Be...  \n",
       "19      Thanking Research and Hope honorees for their ...  \n",
       "20      PINK SLAMS DEMI?! \\n AKM-GSI   \\nWill the VMAs...  \n",
       "21      Bayern Munich's Arjen Robben Sidelined With Gr...  \n",
       "22      Potts Law Firm Files 90 New GM Ignition Switch...  \n",
       "23      Coalition’s Shorten dividend \\n Factional unan...  \n",
       "24      It's a Mad world at the Melbourne Bar, as long...  \n",
       "25      Survivor Upset Use of 'Eye of the Tiger' With ...  \n",
       "26      Iran Parliament Chief: Nuclear Deal Is 'Accept...  \n",
       "27      Meredith and Walt Disney are big market movers...  \n",
       "28      Weleda Announces Partnership Benefiting Whole ...  \n",
       "29      America's Most Expensive Rental Markets \\n The...  \n",
       "...                                                   ...  \n",
       "999970  This Explains Why Men Always Think Women Are F...  \n",
       "999971  Performance Management Today - Technology Alon...  \n",
       "999972  Hell on Wheels:  Season Five Ratings \\n The ra...  \n",
       "999973  Speeding Vic man loses sports car \\n A MAN has...  \n",
       "999974  The Edge reporting was based on doubtful sourc...  \n",
       "999975  IDEXX Releases New Web-Based Software for Radi...  \n",
       "999976  → Apple Apple responds to iPhone 6S privacy co...  \n",
       "999977  Auschwitz adds summer ‘shower’ system, angers ...  \n",
       "999978  Wallabies World Cup winners pick their Test te...  \n",
       "999979  Honda presents Neowing tilting tricycle ahead ...  \n",
       "999980  Dhoni to lead T20 & ODI squad against South Af...  \n",
       "999981  Christian Lealiifano not expecting to follow S...  \n",
       "999982  '85% of Japanese don't trust nuclear energy af...  \n",
       "999983  Ground broken on Pyeongchang 2018 Olympic vill...  \n",
       "999984  Two women killed, three injured in SR 69 crash...  \n",
       "999985  East Zone  wants Amitabh Chaudhary as BCCI pre...  \n",
       "999986  Editorial: 18 should be legal drinking age, ag...  \n",
       "999987  PSL release statement on Abraw \\n :54 \\n   \\n\\...  \n",
       "999988  Sam Wood arrives at Sydney Airport just MINUTE...  \n",
       "999989  OSCE Special Co-ordinator visits Belarus ahead...  \n",
       "999990  International Women's Insolvency and Restructu...  \n",
       "999991  Bayern start campaign in emphatic form \\n Phot...  \n",
       "999992  Avation PLC’s Buy Rating Reiterated at WH Irel...  \n",
       "999993  Wolverines notch first victory with 42-21 win ...  \n",
       "999994  Max Morley using Charlotte Crosby ‘for fame’, ...  \n",
       "999995  Thursday Night Football Q&A: Tiki Barber \"Peyt...  \n",
       "999996  Google takes on Apple with Android Pay \\n ©  \\...  \n",
       "999997  Movie of the Week: Black Mass \\n For some time...  \n",
       "999998  C'garh decked for Modi's visit \\n The article ...  \n",
       "999999  Green groups urge Malcolm Turnbull to drop Ton...  \n",
       "\n",
       "[1000000 rows x 7 columns]"
      ]
     },
     "execution_count": 24,
     "metadata": {},
     "output_type": "execute_result"
    }
   ],
   "source": [
    "dataset"
   ]
  },
  {
   "cell_type": "code",
   "execution_count": 4,
   "metadata": {
    "collapsed": true
   },
   "outputs": [],
   "source": [
    "dataset[\"all_text\"] = dataset[\"title\"].map(str) + \" \\n \" + dataset[\"content\"].map(str)"
   ]
  },
  {
   "cell_type": "code",
   "execution_count": null,
   "metadata": {
    "collapsed": true,
    "scrolled": false
   },
   "outputs": [],
   "source": [
    "for i in range(20):\n",
    "    print(dataset[\"content\"].iloc[i])\n",
    "    print(\"----------------------\")"
   ]
  },
  {
   "cell_type": "markdown",
   "metadata": {},
   "source": [
    "# Tokeninzing, computing IDF and TFIDF term-document matrix"
   ]
  },
  {
   "cell_type": "code",
   "execution_count": 6,
   "metadata": {},
   "outputs": [
    {
     "name": "stdout",
     "output_type": "stream",
     "text": [
      "FIT done in 490.092s.\n"
     ]
    }
   ],
   "source": [
    "#tfidf_vectorizer = TfidfVectorizer(max_df=0.95, min_df=2, stop_words='english')\n",
    "\n",
    "tfidf_vectorizer = TfidfVectorizer(min_df=2, norm=None, stop_words='english') \n",
    "t0 = time()\n",
    "features_idf = tfidf_vectorizer.fit(dataset[\"content\"])\n",
    "print(\"FIT done in %0.3fs.\" % (time() - t0))"
   ]
  },
  {
   "cell_type": "code",
   "execution_count": 7,
   "metadata": {},
   "outputs": [
    {
     "name": "stdout",
     "output_type": "stream",
     "text": [
      "FIT-TRANSFORM done in 1019.533s.\n"
     ]
    }
   ],
   "source": [
    "tfidf_matrix = tfidf_vectorizer.transform(dataset[\"content\"])\n",
    "print(\"FIT-TRANSFORM done in %0.3fs.\" % (time() - t0))"
   ]
  },
  {
   "cell_type": "code",
   "execution_count": 8,
   "metadata": {},
   "outputs": [
    {
     "name": "stdout",
     "output_type": "stream",
     "text": [
      "FIT-TRANSFORM done in 527.723s.\n"
     ]
    }
   ],
   "source": [
    "idf_vectorizer = TfidfVectorizer(min_df=2, binary=True, norm=None, stop_words='english')\n",
    "t0 = time()\n",
    "idf_matrix = idf_vectorizer.fit_transform(dataset[\"content\"])\n",
    "print(\"FIT-TRANSFORM done in %0.3fs.\" % (time() - t0))"
   ]
  },
  {
   "cell_type": "markdown",
   "metadata": {},
   "source": [
    "## Terms and IDF"
   ]
  },
  {
   "cell_type": "code",
   "execution_count": 9,
   "metadata": {
    "collapsed": true
   },
   "outputs": [],
   "source": [
    "inv_vocab = {v: k for k, v in features_idf.vocabulary_.items()}"
   ]
  },
  {
   "cell_type": "markdown",
   "metadata": {},
   "source": [
    "## Documents with high IDF or TFIDF"
   ]
  },
  {
   "cell_type": "markdown",
   "metadata": {},
   "source": [
    "### Look at top 10 IDF terms and their TFIDF  "
   ]
  },
  {
   "cell_type": "markdown",
   "metadata": {},
   "source": [
    "## Position of High terms in Docs"
   ]
  },
  {
   "cell_type": "code",
   "execution_count": 10,
   "metadata": {
    "collapsed": true
   },
   "outputs": [],
   "source": [
    "# do some regression to find alpha for each (buckets with freqs?)\n",
    "\n",
    "# as described here: https://www.nltk.org/_modules/nltk/tokenize.html\n",
    "# the default analyzer used in scikit is called \"word\": \n",
    "# https://towardsdatascience.com/hacking-scikit-learns-vectorizers-9ef26a7170af\n",
    "\n",
    "def find_positions_term(term, token_text):\n",
    "    pos = [k for k,v in enumerate(token_text) if v==term]\n",
    "    return pos\n",
    "\n",
    "def find_positions_termlist(terms, token_text):\n",
    "    term_set = set(terms)\n",
    "    pos = [k for k,v in enumerate(token_text) if v in term_set]\n",
    "    return pos"
   ]
  },
  {
   "cell_type": "code",
   "execution_count": 11,
   "metadata": {
    "collapsed": true
   },
   "outputs": [],
   "source": [
    "analyzer = tfidf_vectorizer.build_analyzer()"
   ]
  },
  {
   "cell_type": "markdown",
   "metadata": {},
   "source": [
    "#### Top 10 TFIDF terms per document"
   ]
  },
  {
   "cell_type": "markdown",
   "metadata": {},
   "source": [
    "### Average distribution for all docs"
   ]
  },
  {
   "cell_type": "code",
   "execution_count": 12,
   "metadata": {
    "collapsed": true
   },
   "outputs": [],
   "source": [
    "def getDistributionForRows(row_idxs, matrix, dataset, num_passage=10):\n",
    "    cum_sum = np.zeros(num_passage)\n",
    "    for i in progress_bar.iter_progress(row_idxs):\n",
    "\n",
    "        row = matrix.getrow(i) # this is a 1 x 659255 csr matrix\n",
    "        top10Terms_idx = row.data.argsort()[::-1][:10]\n",
    "\n",
    "        # find the positions of high idf/tfidf terms in the text\n",
    "        top_10_terms = [inv_vocab[term_id] for term_id in row.indices[top10Terms_idx]]\n",
    "\n",
    "        # inside the document\n",
    "        all_text = dataset[\"content\"].iloc[i]\n",
    "        token_text = analyzer(all_text.lower())\n",
    "\n",
    "        all_pos = find_positions_termlist(top_10_terms[:10], token_text) # THIS IS THE DIFFERENCE with the other notebook\n",
    "        all_pos.append(len(token_text))\n",
    "        n,_ = np.histogram(all_pos, bins=num_passage, density=False, weights=np.ones(len(all_pos)) / len(all_pos))\n",
    "        cum_sum += n\n",
    "\n",
    "    return cum_sum/len(row_idxs) "
   ]
  },
  {
   "cell_type": "markdown",
   "metadata": {},
   "source": [
    "#### IDF"
   ]
  },
  {
   "cell_type": "code",
   "execution_count": 13,
   "metadata": {},
   "outputs": [
    {
     "data": {
      "application/vnd.jupyter.widget-view+json": {
       "model_id": "29c00af1241d4a8dbe52ccac587e8e98",
       "version_major": 2,
       "version_minor": 0
      },
      "text/html": [
       "<p>Failed to display Jupyter Widget of type <code>VBox</code>.</p>\n",
       "<p>\n",
       "  If you're reading this message in the Jupyter Notebook or JupyterLab Notebook, it may mean\n",
       "  that the widgets JavaScript is still loading. If this message persists, it\n",
       "  likely means that the widgets JavaScript library is either not installed or\n",
       "  not enabled. See the <a href=\"https://ipywidgets.readthedocs.io/en/stable/user_install.html\">Jupyter\n",
       "  Widgets Documentation</a> for setup instructions.\n",
       "</p>\n",
       "<p>\n",
       "  If you're reading this message in another frontend (for example, a static\n",
       "  rendering on GitHub or <a href=\"https://nbviewer.jupyter.org/\">NBViewer</a>),\n",
       "  it may mean that your frontend doesn't currently support widgets.\n",
       "</p>\n"
      ],
      "text/plain": [
       "VBox(children=(HTML(value='0 / 1000000 items . Rate ?/s . Remaining ?s . Elapsed 0.0s'), IntProgress(value=0, max=1000000)))"
      ]
     },
     "metadata": {},
     "output_type": "display_data"
    },
    {
     "data": {
      "text/plain": [
       "array([ 0.15849338,  0.08654554,  0.08584007,  0.08343284,  0.08223365,\n",
       "        0.08589565,  0.08470705,  0.08382871,  0.08707116,  0.16195194])"
      ]
     },
     "execution_count": 13,
     "metadata": {},
     "output_type": "execute_result"
    }
   ],
   "source": [
    "getDistributionForRows(range(idf_matrix.shape[0]), idf_matrix, dataset)\n",
    "\n",
    "# [ 0.15849338,  0.08654554,  0.08584007,  0.08343284,  0.08223365,\n",
    "#         0.08589565,  0.08470705,  0.08382871,  0.08707116,  0.16195194]"
   ]
  },
  {
   "cell_type": "code",
   "execution_count": 14,
   "metadata": {
    "scrolled": false
   },
   "outputs": [
    {
     "data": {
      "application/vnd.jupyter.widget-view+json": {
       "model_id": "05f945d0f8d5451aa3c3cd4badac7263",
       "version_major": 2,
       "version_minor": 0
      },
      "text/html": [
       "<p>Failed to display Jupyter Widget of type <code>VBox</code>.</p>\n",
       "<p>\n",
       "  If you're reading this message in the Jupyter Notebook or JupyterLab Notebook, it may mean\n",
       "  that the widgets JavaScript is still loading. If this message persists, it\n",
       "  likely means that the widgets JavaScript library is either not installed or\n",
       "  not enabled. See the <a href=\"https://ipywidgets.readthedocs.io/en/stable/user_install.html\">Jupyter\n",
       "  Widgets Documentation</a> for setup instructions.\n",
       "</p>\n",
       "<p>\n",
       "  If you're reading this message in another frontend (for example, a static\n",
       "  rendering on GitHub or <a href=\"https://nbviewer.jupyter.org/\">NBViewer</a>),\n",
       "  it may mean that your frontend doesn't currently support widgets.\n",
       "</p>\n"
      ],
      "text/plain": [
       "VBox(children=(HTML(value='0 / 1000000 items . Rate ?/s . Remaining ?s . Elapsed 0.0s'), IntProgress(value=0, max=1000000)))"
      ]
     },
     "metadata": {},
     "output_type": "display_data"
    },
    {
     "name": "stdout",
     "output_type": "stream",
     "text": [
      "Num passage 2\n",
      "[ 0.49654548  0.50345452]\n"
     ]
    },
    {
     "data": {
      "application/vnd.jupyter.widget-view+json": {
       "model_id": "46d4aa886a924604a45db0cd25689a2c",
       "version_major": 2,
       "version_minor": 0
      },
      "text/html": [
       "<p>Failed to display Jupyter Widget of type <code>VBox</code>.</p>\n",
       "<p>\n",
       "  If you're reading this message in the Jupyter Notebook or JupyterLab Notebook, it may mean\n",
       "  that the widgets JavaScript is still loading. If this message persists, it\n",
       "  likely means that the widgets JavaScript library is either not installed or\n",
       "  not enabled. See the <a href=\"https://ipywidgets.readthedocs.io/en/stable/user_install.html\">Jupyter\n",
       "  Widgets Documentation</a> for setup instructions.\n",
       "</p>\n",
       "<p>\n",
       "  If you're reading this message in another frontend (for example, a static\n",
       "  rendering on GitHub or <a href=\"https://nbviewer.jupyter.org/\">NBViewer</a>),\n",
       "  it may mean that your frontend doesn't currently support widgets.\n",
       "</p>\n"
      ],
      "text/plain": [
       "VBox(children=(HTML(value='0 / 1000000 items . Rate ?/s . Remaining ?s . Elapsed 0.0s'), IntProgress(value=0, max=1000000)))"
      ]
     },
     "metadata": {},
     "output_type": "display_data"
    },
    {
     "name": "stdout",
     "output_type": "stream",
     "text": [
      "Num passage 4\n",
      "[ 0.28758976  0.20895572  0.21199177  0.29146275]\n"
     ]
    },
    {
     "data": {
      "application/vnd.jupyter.widget-view+json": {
       "model_id": "f14c46bd69094d99803ff929326862d1",
       "version_major": 2,
       "version_minor": 0
      },
      "text/html": [
       "<p>Failed to display Jupyter Widget of type <code>VBox</code>.</p>\n",
       "<p>\n",
       "  If you're reading this message in the Jupyter Notebook or JupyterLab Notebook, it may mean\n",
       "  that the widgets JavaScript is still loading. If this message persists, it\n",
       "  likely means that the widgets JavaScript library is either not installed or\n",
       "  not enabled. See the <a href=\"https://ipywidgets.readthedocs.io/en/stable/user_install.html\">Jupyter\n",
       "  Widgets Documentation</a> for setup instructions.\n",
       "</p>\n",
       "<p>\n",
       "  If you're reading this message in another frontend (for example, a static\n",
       "  rendering on GitHub or <a href=\"https://nbviewer.jupyter.org/\">NBViewer</a>),\n",
       "  it may mean that your frontend doesn't currently support widgets.\n",
       "</p>\n"
      ],
      "text/plain": [
       "VBox(children=(HTML(value='0 / 1000000 items . Rate ?/s . Remaining ?s . Elapsed 0.0s'), IntProgress(value=0, max=1000000)))"
      ]
     },
     "metadata": {},
     "output_type": "display_data"
    },
    {
     "name": "stdout",
     "output_type": "stream",
     "text": [
      "Num passage 8\n",
      "[ 0.18044142  0.10714835  0.10617002  0.10278569  0.10731395  0.10467781\n",
      "  0.10762003  0.18384271]\n"
     ]
    },
    {
     "data": {
      "application/vnd.jupyter.widget-view+json": {
       "model_id": "e5d26a7df5d248eca6c26b1a90424669",
       "version_major": 2,
       "version_minor": 0
      },
      "text/html": [
       "<p>Failed to display Jupyter Widget of type <code>VBox</code>.</p>\n",
       "<p>\n",
       "  If you're reading this message in the Jupyter Notebook or JupyterLab Notebook, it may mean\n",
       "  that the widgets JavaScript is still loading. If this message persists, it\n",
       "  likely means that the widgets JavaScript library is either not installed or\n",
       "  not enabled. See the <a href=\"https://ipywidgets.readthedocs.io/en/stable/user_install.html\">Jupyter\n",
       "  Widgets Documentation</a> for setup instructions.\n",
       "</p>\n",
       "<p>\n",
       "  If you're reading this message in another frontend (for example, a static\n",
       "  rendering on GitHub or <a href=\"https://nbviewer.jupyter.org/\">NBViewer</a>),\n",
       "  it may mean that your frontend doesn't currently support widgets.\n",
       "</p>\n"
      ],
      "text/plain": [
       "VBox(children=(HTML(value='0 / 1000000 items . Rate ?/s . Remaining ?s . Elapsed 0.0s'), IntProgress(value=0, max=1000000)))"
      ]
     },
     "metadata": {},
     "output_type": "display_data"
    },
    {
     "name": "stdout",
     "output_type": "stream",
     "text": [
      "Num passage 16\n",
      "[ 0.1250567   0.05538472  0.0544379   0.05271045  0.05400927  0.05216075\n",
      "  0.05271154  0.05007415  0.05484871  0.05246525  0.05285598  0.05182183\n",
      "  0.05380175  0.05381828  0.05552626  0.12831645]\n"
     ]
    }
   ],
   "source": [
    "for num_passage in [2,4,8,16]:\n",
    "    distrib = getDistributionForRows(range(idf_matrix.shape[0]), idf_matrix, dataset, num_passage)\n",
    "    print(\"Num passage\", num_passage)\n",
    "    print(distrib)"
   ]
  },
  {
   "cell_type": "markdown",
   "metadata": {},
   "source": [
    "#### TFIDF"
   ]
  },
  {
   "cell_type": "code",
   "execution_count": 15,
   "metadata": {},
   "outputs": [
    {
     "data": {
      "application/vnd.jupyter.widget-view+json": {
       "model_id": "43ad01804c6a44b9af6a973df2c986c7",
       "version_major": 2,
       "version_minor": 0
      },
      "text/html": [
       "<p>Failed to display Jupyter Widget of type <code>VBox</code>.</p>\n",
       "<p>\n",
       "  If you're reading this message in the Jupyter Notebook or JupyterLab Notebook, it may mean\n",
       "  that the widgets JavaScript is still loading. If this message persists, it\n",
       "  likely means that the widgets JavaScript library is either not installed or\n",
       "  not enabled. See the <a href=\"https://ipywidgets.readthedocs.io/en/stable/user_install.html\">Jupyter\n",
       "  Widgets Documentation</a> for setup instructions.\n",
       "</p>\n",
       "<p>\n",
       "  If you're reading this message in another frontend (for example, a static\n",
       "  rendering on GitHub or <a href=\"https://nbviewer.jupyter.org/\">NBViewer</a>),\n",
       "  it may mean that your frontend doesn't currently support widgets.\n",
       "</p>\n"
      ],
      "text/plain": [
       "VBox(children=(HTML(value='0 / 1000000 items . Rate ?/s . Remaining ?s . Elapsed 0.0s'), IntProgress(value=0, max=1000000)))"
      ]
     },
     "metadata": {},
     "output_type": "display_data"
    },
    {
     "data": {
      "text/plain": [
       "array([ 0.14250787,  0.0989011 ,  0.09575329,  0.09325474,  0.09129108,\n",
       "        0.09466752,  0.09278141,  0.08985508,  0.08810683,  0.11288108])"
      ]
     },
     "execution_count": 15,
     "metadata": {},
     "output_type": "execute_result"
    }
   ],
   "source": [
    "getDistributionForRows(range(tfidf_matrix.shape[0]), tfidf_matrix, dataset)\n",
    "\n",
    "# [ 0.16176254  0.09472742  0.09135097  0.08879455  0.0870066   0.09013596\n",
    "#  0.0879273   0.08500273  0.08299202  0.13029989]"
   ]
  },
  {
   "cell_type": "code",
   "execution_count": null,
   "metadata": {
    "collapsed": true
   },
   "outputs": [],
   "source": [
    "for num_passage in [2,4,8,16]:\n",
    "    distrib = getDistributionForRows(range(tfidf_matrix.shape[0]), tfidf_matrix, dataset, num_passage)\n",
    "    print(\"Num passage\", num_passage)\n",
    "    print(distrib)"
   ]
  },
  {
   "cell_type": "markdown",
   "metadata": {},
   "source": [
    "#### See the distribution of document lengths - histo with 20 bins? "
   ]
  },
  {
   "cell_type": "code",
   "execution_count": null,
   "metadata": {
    "collapsed": true
   },
   "outputs": [],
   "source": [
    "doc_len = []\n",
    "\n",
    "for i in progress_bar.iter_progress(range(idf_matrix.shape[0])):\n",
    "    # inside the document\n",
    "    all_text = dataset[\"content\"].iloc[i]\n",
    "    token_text = analyzer(all_text.lower())\n",
    "    doc_len.append(len(token_text))"
   ]
  },
  {
   "cell_type": "code",
   "execution_count": null,
   "metadata": {
    "collapsed": true
   },
   "outputs": [],
   "source": [
    "np.histogram(doc_len, bins=10)  #, density=False, weights=np.ones(len(doc_len)) / len(doc_len))"
   ]
  },
  {
   "cell_type": "code",
   "execution_count": null,
   "metadata": {
    "collapsed": true
   },
   "outputs": [],
   "source": [
    "#### see the distribution of articles with length smaller than 1000\n",
    "a_max1000 = [x for x in doc_len if x<=1000]\n",
    "np.histogram(a_max1000, bins=10)"
   ]
  },
  {
   "cell_type": "code",
   "execution_count": null,
   "metadata": {
    "collapsed": true
   },
   "outputs": [],
   "source": [
    "### Create a dict from doc length interval and index list\n",
    "from collections import defaultdict\n",
    "\n",
    "doc_len_index = defaultdict(list)\n",
    "for idx, length in enumerate(doc_len):\n",
    "    doc_len_index[int(length/100)].append(idx)"
   ]
  },
  {
   "cell_type": "code",
   "execution_count": null,
   "metadata": {
    "collapsed": true
   },
   "outputs": [],
   "source": [
    "doc_len_index.keys()"
   ]
  },
  {
   "cell_type": "code",
   "execution_count": null,
   "metadata": {
    "collapsed": true
   },
   "outputs": [],
   "source": [
    "result_dict=dict()\n",
    "for len_interval, idx_list in doc_len_index.items():\n",
    "    v = getDistributionForRows(idx_list, tfidf_matrix, dataset)\n",
    "    result_dict[len_interval]=v"
   ]
  },
  {
   "cell_type": "code",
   "execution_count": null,
   "metadata": {
    "collapsed": true,
    "scrolled": false
   },
   "outputs": [],
   "source": [
    "for k,v in result_dict.items():\n",
    "    interval = \"Interval: [\" + str(k*100) + \"-\" + str(k*100+100) +\")\"\n",
    "    print(interval, \"| #\", len(doc_len_index[k]), \"documents\")\n",
    "    print(v)\n",
    "    print()"
   ]
  },
  {
   "cell_type": "markdown",
   "metadata": {},
   "source": [
    "# PLOT distrib"
   ]
  },
  {
   "cell_type": "code",
   "execution_count": 18,
   "metadata": {
    "collapsed": true
   },
   "outputs": [],
   "source": [
    "#plot them\n",
    "ind = [x+0.5 for x in range(0,11)]\n",
    "vals = [x+1 for x in range(0,10)]"
   ]
  },
  {
   "cell_type": "code",
   "execution_count": 19,
   "metadata": {},
   "outputs": [
    {
     "name": "stdout",
     "output_type": "stream",
     "text": [
      "['bmh', 'grayscale', 'classic', 'seaborn-dark-palette', 'seaborn-ticks', 'seaborn-colorblind', 'seaborn-darkgrid', 'seaborn-notebook', 'seaborn-poster', 'seaborn-deep', 'seaborn-white', 'seaborn-pastel', 'seaborn-paper', '_classic_test', 'seaborn-dark', 'Solarize_Light2', 'seaborn-talk', 'seaborn-whitegrid', 'fast', 'dark_background', 'seaborn-muted', 'seaborn', 'fivethirtyeight', 'ggplot', 'seaborn-bright']\n"
     ]
    }
   ],
   "source": [
    "import matplotlib.pyplot as plt\n",
    "print(plt.style.available)"
   ]
  },
  {
   "cell_type": "code",
   "execution_count": 44,
   "metadata": {
    "collapsed": true
   },
   "outputs": [],
   "source": [
    "import matplotlib as mpl\n",
    "mpl.rcParams.update(mpl.rcParamsDefault)\n",
    "\n",
    "def plotSteps(style):\n",
    "    plt.style.use(style)\n",
    "    histogram=plt.figure()\n",
    "    \n",
    "    # we add the first element twice to make x,y match\n",
    "    top10_idf = [0.15849338,0.15849338,  0.08654554,  0.08584007,  0.08343284,  0.08223365, 0.08589565,  0.08470705,  0.08382871,  0.08707116,  0.16195194]\n",
    "    top10_tfidf = [ 0.14250787, 0.14250787,  0.0989011 ,  0.09575329,  0.09325474,  0.09129108, 0.09466752,  0.09278141,  0.08985508,  0.08810683,  0.11288108]\n",
    "\n",
    "    top5_idf = [0.21536741,0.21536741,0.07443482,0.0717614,0.06874424,0.06757452,0.0709799,0.06936171,0.06951786,0.07363883,0.21861932]\n",
    "    top5_tfidf = [0.16176254, 0.16176254,0.09472742,0.09135097,0.08879455,0.0870066,0.09013596,0.0879273,0.08500273,0.08299202,0.13029989]\n",
    "\n",
    "    plt.step(range(0,11),top10_idf, label=\"Top 10 IDF\", linewidth=2.0)\n",
    "    plt.step(range(0,11),top10_tfidf, label=\"Top 10 TFIDF\", linewidth=2.0)\n",
    "    plt.step(range(0,11),top5_idf, label=\"Top 5 IDF\", linewidth=2.0)\n",
    "    plt.step(range(0,11),top5_tfidf, label=\"Top 5 TFIDF\", linewidth=2.0)\n",
    "    plt.xticks(ind, vals)\n",
    "#     plt.title(\"Distribution of important terms in the documents\")\n",
    "    plt.xlabel(\"Passage ID\")\n",
    "    plt.ylabel(\"Probability\")\n",
    "    plt.legend(loc=\"best\")\n",
    "    plt.savefig(\"probabDistribSignal.pdf\", bbox_inches='tight')\n",
    "    #plt.grid(False)\n",
    "    plt.show()"
   ]
  },
  {
   "cell_type": "code",
   "execution_count": 45,
   "metadata": {
    "scrolled": false
   },
   "outputs": [
    {
     "data": {
      "image/png": "[encoded data removed]",
      "text/plain": [
       "<matplotlib.figure.Figure at 0x7fa95d0744e0>"
      ]
     },
     "metadata": {},
     "output_type": "display_data"
    }
   ],
   "source": [
    "for style in [\"ggplot\"]:\n",
    "    plotSteps(style)\n"
   ]
  },
  {
   "cell_type": "markdown",
   "metadata": {
    "collapsed": true
   },
   "source": [
    "# Distribution, mean, variance for title and content"
   ]
  },
  {
   "cell_type": "code",
   "execution_count": 34,
   "metadata": {
    "collapsed": true
   },
   "outputs": [],
   "source": [
    "# load stopwords\n",
    "stopwords = []\n",
    "with open(\"/home/muntean//terrier-core-4.2/share/stopword-list.txt\") as f:\n",
    "    for line in f:\n",
    "        stopwords.append(line.replace(\"\\n\",\"\"))\n",
    "# print(stopwords)"
   ]
  },
  {
   "cell_type": "code",
   "execution_count": 25,
   "metadata": {
    "collapsed": true
   },
   "outputs": [],
   "source": [
    "doc_len = []\n",
    "\n",
    "for i in range(dataset.shape[0]):\n",
    "    # inside the document\n",
    "    all_text = dataset[\"content\"].iloc[i]\n",
    "#     token_text = analyzer(all_text.lower())\n",
    "    token_text = [x for x in all_text.lower().split() if x not in stopwords]\n",
    "    token_text_split = all_text.split()\n",
    "    doc_len.append(((len(token_text)), len(token_text_split)))"
   ]
  },
  {
   "cell_type": "code",
   "execution_count": 46,
   "metadata": {},
   "outputs": [
    {
     "name": "stdout",
     "output_type": "stream",
     "text": [
      "DescribeResult(nobs=1000000, minmax=(0, 11228), mean=224.21557300000001, variance=67314.537393819046, skewness=7.750407097188341, kurtosis=141.034666048289)\n",
      "259.450322951\n",
      "DescribeResult(nobs=1000000, minmax=(1, 12450), mean=393.08864899999998, variance=202733.25051560518, skewness=6.644197093122161, kurtosis=97.52663166845048)\n"
     ]
    }
   ],
   "source": [
    "from scipy import stats\n",
    "\n",
    "x = [x for x,y in doc_len]\n",
    "y = [y for x,y in doc_len]\n",
    "print(stats.describe(x))\n",
    "print(np.std(x))\n",
    "\n",
    "print(stats.describe(y))"
   ]
  },
  {
   "cell_type": "code",
   "execution_count": 27,
   "metadata": {},
   "outputs": [
    {
     "data": {
      "image/png": "[encoded data removed]",
      "text/plain": [
       "<matplotlib.figure.Figure at 0x7fa95ca84ba8>"
      ]
     },
     "metadata": {},
     "output_type": "display_data"
    },
    {
     "data": {
      "image/png": "[encoded data removed]",
      "text/plain": [
       "<matplotlib.figure.Figure at 0x7fa95f801978>"
      ]
     },
     "metadata": {},
     "output_type": "display_data"
    }
   ],
   "source": [
    "plt.semilogx(sorted(x, reverse=True))\n",
    "plt.title(\"Doc len distribution - Without stopwords\")\n",
    "plt.xlabel(\"Doc ids\")\n",
    "plt.ylabel(\"Length\")\n",
    "plt.show()\n",
    "\n",
    "plt.semilogx(sorted(y, reverse=True))\n",
    "plt.title(\"Doc len distribution -  With stopwords\")\n",
    "plt.xlabel(\"Doc ids\")\n",
    "plt.ylabel(\"Length\")\n",
    "plt.show()"
   ]
  },
  {
   "cell_type": "code",
   "execution_count": 28,
   "metadata": {
    "collapsed": true
   },
   "outputs": [],
   "source": [
    "newTitle = dataset.title.str.replace('[^a-zA-Z ]', '')"
   ]
  },
  {
   "cell_type": "code",
   "execution_count": 29,
   "metadata": {
    "collapsed": true
   },
   "outputs": [],
   "source": [
    "title_len = []\n",
    "for i in range(newTitle.shape[0]):\n",
    "    # inside the document\n",
    "    all_text = newTitle.iloc[i]\n",
    "#     token_text = analyzer(all_text.lower()) # analyzer removes all token with df = 1\n",
    "    token_text = [x for x in all_text.lower().split() if x not in stopwords]\n",
    "    token_text_split = all_text.split()\n",
    "    title_len.append((len(token_text), len(token_text_split)))"
   ]
  },
  {
   "cell_type": "code",
   "execution_count": 47,
   "metadata": {},
   "outputs": [
    {
     "name": "stdout",
     "output_type": "stream",
     "text": [
      "DescribeResult(nobs=1000000, minmax=(0, 38), mean=6.6446880000000004, variance=8.7428341254901252, skewness=1.331263579921561, kurtosis=5.18234740730038)\n",
      "2.95682691118\n",
      "DescribeResult(nobs=1000000, minmax=(0, 56), mean=8.9840689999999999, variance=17.200636403875411, skewness=1.717428642102026, kurtosis=8.312279770736039)\n"
     ]
    }
   ],
   "source": [
    "x = [x for x,y in title_len]\n",
    "y = [y for x,y in title_len]\n",
    "print(stats.describe(x))\n",
    "\n",
    "print(np.std(x))\n",
    "\n",
    "print(stats.describe(y))"
   ]
  },
  {
   "cell_type": "code",
   "execution_count": 31,
   "metadata": {},
   "outputs": [
    {
     "data": {
      "image/png": "[encoded data removed]",
      "text/plain": [
       "<matplotlib.figure.Figure at 0x7fa95cf51ba8>"
      ]
     },
     "metadata": {},
     "output_type": "display_data"
    },
    {
     "data": {
      "image/png": "[encoded data removed]",
      "text/plain": [
       "<matplotlib.figure.Figure at 0x7fa95cdd6588>"
      ]
     },
     "metadata": {},
     "output_type": "display_data"
    }
   ],
   "source": [
    "plt.semilogx(sorted(x, reverse=True))\n",
    "plt.title(\"Doc len distribution - Without stopwords\")\n",
    "plt.xlabel(\"Doc ids\")\n",
    "plt.ylabel(\"Length\")\n",
    "plt.show()\n",
    "\n",
    "plt.semilogx(sorted(y, reverse=True))\n",
    "plt.title(\"Doc len distribution -  With stopwords\")\n",
    "plt.xlabel(\"Doc ids\")\n",
    "plt.ylabel(\"Length\")\n",
    "plt.show()"
   ]
  },
  {
   "cell_type": "markdown",
   "metadata": {
    "collapsed": true
   },
   "source": [
    "# 7. Computing hardness"
   ]
  },
  {
   "cell_type": "code",
   "execution_count": 38,
   "metadata": {
    "collapsed": true
   },
   "outputs": [],
   "source": [
    "# signal_query_hardness_dict = dict()\n",
    "# for i in range(dataset.shape[0]):\n",
    "#     # inside the document\n",
    "#     content = dataset[\"content\"].iloc[i]\n",
    "#     token_content = [x for x in content.lower().split() if x not in stopwords]\n",
    "#     # title\n",
    "#     title = newTitle.iloc[i]\n",
    "#     token_title = [x for x in title.lower().split() if x not in stopwords]\n",
    "    \n",
    "#     signal_query_hardness_dict[i] = float(len(token_title)) / len(token_content)"
   ]
  },
  {
   "cell_type": "code",
   "execution_count": 39,
   "metadata": {},
   "outputs": [
    {
     "data": {
      "text/plain": [
       "0.006560449859418931"
      ]
     },
     "execution_count": 39,
     "metadata": {},
     "output_type": "execute_result"
    }
   ],
   "source": [
    "signal_query_hardness_dict[3]"
   ]
  },
  {
   "cell_type": "code",
   "execution_count": 40,
   "metadata": {},
   "outputs": [
    {
     "data": {
      "image/png": "[encoded data removed]",
      "text/plain": [
       "<matplotlib.figure.Figure at 0x7fa95cf0e860>"
      ]
     },
     "metadata": {},
     "output_type": "display_data"
    },
    {
     "name": "stdout",
     "output_type": "stream",
     "text": [
      "DescribeResult(nobs=1000000, minmax=(0.0, 22.0), mean=0.072820824720862501, variance=0.014450736611689231, skewness=34.57848499930494, kurtosis=3722.811681257355)\n"
     ]
    }
   ],
   "source": [
    "plt.semilogx(sorted(list(signal_query_hardness_dict.values()), reverse=True))\n",
    "plt.show()\n",
    "\n",
    "print(stats.describe(list(signal_query_hardness_dict.values())))"
   ]
  },
  {
   "cell_type": "code",
   "execution_count": 43,
   "metadata": {},
   "outputs": [
    {
     "name": "stdout",
     "output_type": "stream",
     "text": [
      "Stored 'signal_query_hardness_dict' (dict)\n"
     ]
    }
   ],
   "source": [
    "%store signal_query_hardness_dict"
   ]
  },
  {
   "cell_type": "code",
   "execution_count": null,
   "metadata": {
    "collapsed": true
   },
   "outputs": [],
   "source": []
  }
 ],
 "metadata": {
  "kernelspec": {
   "display_name": "Python 2",
   "language": "python",
   "name": "python2"
  },
  "language_info": {
   "codemirror_mode": {
    "name": "ipython",
    "version": 3
   },
   "file_extension": ".py",
   "mimetype": "text/x-python",
   "name": "python",
   "nbconvert_exporter": "python",
   "pygments_lexer": "ipython3",
   "version": "3.6.3"
  }
 },
 "nbformat": 4,
 "nbformat_minor": 2
}
