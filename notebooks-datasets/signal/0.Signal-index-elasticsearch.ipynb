{
 "cells": [
  {
   "cell_type": "markdown",
   "metadata": {},
   "source": [
    "# Create and Index Signal dataset"
   ]
  },
  {
   "cell_type": "code",
   "execution_count": 3,
   "metadata": {
    "collapsed": true
   },
   "outputs": [],
   "source": [
    "import json\n",
    "import os\n",
    "import sys\n",
    "import time\n",
    "\n",
    "from elasticsearch import Elasticsearch, RequestError"
   ]
  },
  {
   "cell_type": "code",
   "execution_count": 4,
   "metadata": {
    "collapsed": true
   },
   "outputs": [],
   "source": [
    "es = Elasticsearch(['http://localhost/'], \n",
    "                    #http_auth=('elastic', 'bm25p'),\n",
    "                    port=9200,\n",
    "                    timeout=30\n",
    "                    )\n",
    "es"
   ]
  },
  {
   "cell_type": "markdown",
   "metadata": {},
   "source": [
    "### Very important\n",
    "https://www.elastic.co/guide/en/elasticsearch/reference/current/index-modules-similarity.html\n",
    "\n",
    "the default for Elastic is BM25"
   ]
  },
  {
   "cell_type": "markdown",
   "metadata": {},
   "source": [
    "### Create and delete index"
   ]
  },
  {
   "cell_type": "code",
   "execution_count": 58,
   "metadata": {},
   "outputs": [
    {
     "data": {
      "text/plain": [
       "{'acknowledged': True, 'index': 'articles', 'shards_acknowledged': True}"
      ]
     },
     "execution_count": 58,
     "metadata": {},
     "output_type": "execute_result"
    }
   ],
   "source": [
    "# es.indices.create(\"articles\", ignore=400)"
   ]
  },
  {
   "cell_type": "code",
   "execution_count": 57,
   "metadata": {},
   "outputs": [
    {
     "data": {
      "text/plain": [
       "{'acknowledged': True}"
      ]
     },
     "execution_count": 57,
     "metadata": {},
     "output_type": "execute_result"
    }
   ],
   "source": [
    "# es.indices.delete(index='articles', ignore=[400, 404])"
   ]
  },
  {
   "cell_type": "code",
   "execution_count": 48,
   "metadata": {},
   "outputs": [
    {
     "data": {
      "text/plain": [
       "{'_shards': {'failed': 0, 'skipped': 0, 'successful': 5, 'total': 5},\n",
       " 'count': 1000000}"
      ]
     },
     "execution_count": 48,
     "metadata": {},
     "output_type": "execute_result"
    }
   ],
   "source": [
    "es.count(index='articles')"
   ]
  },
  {
   "cell_type": "code",
   "execution_count": null,
   "metadata": {
    "collapsed": true
   },
   "outputs": [],
   "source": [
    "def index_from_path(es, inputFile, indexName):\n",
    "    \"\"\"\n",
    "    We index tweet from file\n",
    "\n",
    "    :param es: the ES instance\n",
    "    :return:\n",
    "\n",
    "    Possible errors:\n",
    "    - elasticsearch.exceptions.RequestError: TransportError(400, u'mapper_parsing_exception',\n",
    "    u'failed to parse [bounding_box]')\n",
    "\n",
    "    - elasticsearch.exceptions.ConnectionTimeout: ConnectionTimeout caused by -\n",
    "    ReadTimeoutError(HTTPConnectionPool(host=u'localhost', port=9200): Read timed out. (read timeout=10))\n",
    "\n",
    "    - elasticsearch.exceptions.ConnectionError: ConnectionError(('Connection aborted.', error(104,\n",
    "    'Connection reset by peer'))) caused by: ProtocolError(('Connection aborted.',\n",
    "    error(104, 'Connection reset by peer')))\n",
    "    \"\"\"\n",
    "\n",
    "    i = 0\n",
    "    numIndex = 0\n",
    "    with open(inputFile, \"r\") as f:\n",
    "        for line in f:\n",
    "            i += 1\n",
    "            if i % 100000 == 0:\n",
    "                print(\"Processed tweets: \", i)\n",
    "                print(\"Indexed tweets: \", numIndex)\n",
    "\n",
    "            try:\n",
    "                article_dict = json.loads(line)\n",
    "                # added request_timeout to avoid elasticsearch.exceptions.ConnectionTimeout\n",
    "                es.index(index=\"articles\", doc_type='article', id=i, body=article_dict, \n",
    "                         request_timeout=30)\n",
    "                numIndex += 1\n",
    "            except RequestError as e:\n",
    "                print(\"Couldn't index article id: \", i)\n",
    "                print(e.status_code, e.message)\n",
    "                time.sleep(60)\n",
    "\n",
    "    print(\"Processed tweets: \", i)\n",
    "    print(\"Indexed tweets: \", numIndex)"
   ]
  },
  {
   "cell_type": "code",
   "execution_count": 62,
   "metadata": {
    "collapsed": true
   },
   "outputs": [],
   "source": [
    "# index_from_path(es, \"signalmedia-1m.jsonl\", \"articles\")"
   ]
  },
  {
   "cell_type": "code",
   "execution_count": 7,
   "metadata": {},
   "outputs": [
    {
     "data": {
      "text/plain": [
       "{'_shards': {'failed': 0, 'skipped': 0, 'successful': 5, 'total': 5},\n",
       " 'count': 793111}"
      ]
     },
     "execution_count": 7,
     "metadata": {},
     "output_type": "execute_result"
    }
   ],
   "source": [
    "es.count(index='articles',doc_type='article')"
   ]
  },
  {
   "cell_type": "code",
   "execution_count": 29,
   "metadata": {
    "scrolled": true
   },
   "outputs": [
    {
     "name": "stdout",
     "output_type": "stream",
     "text": [
      "{'_index': 'articles', '_type': 'article', '_id': '207', '_score': 17.732721, '_source': {'title': 'Your picks for Kanye’s 2020 campaign slogan', 'media-type': 'Blog', 'content': 'After declaring he’s running for the White House – in 2020 that is – we asked for your #Kanye2020Slogan ideas, and you really came through. Alex Wagner shares the best of the best. \\n\\nRead more', 'source': 'msnbc.com Latest Headlines', 'published': '2015-09-01T02:31:03Z', 'id': '036ae957-779c-4bfd-a7b7-cf9a182baaa3'}}\n",
      "\n",
      "{'_index': 'articles', '_type': 'article', '_id': '97471', '_score': 17.554064, '_source': {'title': 'Rice rolls over Wagner 56-16', 'media-type': 'News', 'content': \"Darik Dillard scores twice, Rice rolls over Wagner   HOUSTON -  \\nDarik Dillard ran for two touchdowns and Rice rolled over Wagner 56-16 in the opener for both teams on Saturday in a game that was delayed at the start by foul weather. \\n\\nDillard finished with 93 yards on 15 carries and Austin Walter carried 12 times for 107 yards and a score. Driphus Jackson ran for a 43-yard touchdown and went 10 of 19 for 123 yards and a 35-yard touchdown pass to Samuel Stewart. Rice amassed 401 yards rushing. \\n\\nRice's opening drive went 9 plays and 72 yards, resulting in Dillard's 11-yard touchdown run. Luke Turner ran for a 3-yard score and Dillard added a 16-yard run in the second to conclude a 93-yard drive. Rice ran up a 35-3 score by halftime. \\n \\nWagner scored twice in the second half — a 34-yard pass from Chris Andrews to Andre Yevchinecz and a 50-yard strike from Alex Thomson to Lloyd Smith.\", 'source': 'Click2Houston.com', 'published': '2015-09-06T00:32:33Z', 'id': 'e2221b2d-04fb-45a4-ac5f-a614bcc39d58'}}\n",
      "\n",
      "{'_index': 'articles', '_type': 'article', '_id': '228457', '_score': 17.034681, '_source': {'title': 'M. Tennis. Green Wave Post Successful Day One at Rice Invitational', 'media-type': 'News', 'content': \"Sept. 18, 2015 \\n\\nRice Invitational Day 1 Results HOUSTON - While Tulane men's tennis senior Dominik Koepfer was advancing to the quarterfinals of the Oracle/ITA Master's Tournament, the rest of the Green Wave squad were making splashes of their own in day one action of the Rice Invitational on Friday. The day was highlighted by the Olive and Blue posting a perfect 7-0 mark in singles action in Draws A-D. In Draw A, Sebastian Rey cruised to a 6-3, 6-1 win over Texas' Nick Naumann and will now face Portland's Mathieu Garcia on Saturday. Constantin Schmitz joined Rey on the winner's side of the bracket after bouncing back with a 1-6, 7-5, 6-2 win over Portland's Mike Pervolaraskis, advancing to face Incarnate Word's Josip Smoljan. \\n\\nDraw B witnessed both Chi-Shan Jao and Alex Van Cott secure straight-set victories over their opponents. Jao dispatched Prairie View's Christian Waldron 6-2, 6-1, while Van Cott took down Lamar's Jeandre Hoogenboezem, 6-3, 6-4. Ian Van Cott was the lone Green Wave participant in Draw C. The senior quickly bested Incarnate Word's Ryan Hoverson, 6-2, 6-1 to advance to Saturday's matchup against Nichols State's Sam Meessen. Finally Tulane's two freshmen Eric Wagner and Tyler Schick occupied Draw D and rounded out the perfect day in singles. Wagner posted a 6-2, 6-2 win over Lamar's Steven McMullan, while Schick defeated Rice's Manny Llamas, 6-2, 6-3. \\n\\nRey and Jao highlighted the Green Wave's day in doubles, advancing to Draw A's semifinal round with a pair of victories Friday. First, Jao/Rey defeated Incarnate Word's Hoverson/Vatanadilok, 6-1, then bested Texas San Antonio's Moreiras/Rother, 6-4. Below is a complete list of Green Wave results from Friday's day one action of the Rice Invitational: \\n\\nSingles\\n\\nDraw A\\n\\nConstantin Schmitz (TU) def. Mike Pervolarakis (UP), 1-6, 7-5, 6-2\\n\\nSebastian Rey (TU) def. Nick Naumann (UT), 6-3, 6-1\\n\\nDraw B\\n\\nChi-Shan Jao (TU) def. Christian Waldron (PVAM), 6-2, 6-1\\n\\nAlex Van Cott (TU) def. Jeandre Hoogenboezem (LU), 6-3, 6-4\\n\\nDraw C\\n\\nIan Van Cott (TU) def. Ryan Hoverson (UIW), 6-2, 6-1\\n\\nDraw D\\n\\nEric Wagner (TU) def. Steven McMullan (LU), 6-2, 6-2\\n\\nTyler Schick (TU) def. Manny Llamas (RU), 6-2, 6-3\\n\\nDoubles\\n\\nDraw A\\n\\nJao/Rey (TU) def. Hoverson/Vatanadilok (UIW), 6-1\\n\\nJao/Rey (TU) def. Moreiras/Rother (UTSA), 6-4\\n\\nA. Van Cott/Schick (TU) def. Waldron/Boyogueno (PVAM), 6-2\\n\\nNaumann/Zlobinsky (UT) def. A. Van Cott/Schick (TU), 6-2\\n\\nDraw B\\n\\nKaratzas/Podgursky (NSU) def. I. Van Cott/Wagner (TU), 6-3\", 'source': 'Tulane University Green Wave', 'published': '2015-09-18T23:20:00Z', 'id': '3f78107e-be93-4f7e-b24c-3f6bda9ad7f8'}}\n",
      "\n"
     ]
    }
   ],
   "source": [
    "res = es.search(index=\"articles\", \n",
    "                doc_type='article', \n",
    "                size=10, \n",
    "                body={\"query\": {\n",
    "                        \"match\": {\n",
    "                                \"content\": \"Alex Wagner\"\n",
    "                        }}})\n",
    "\n",
    "\n",
    "\n",
    "# [x['_source'] for x in res['hits']['hits']]\n",
    "for r in res['hits']['hits'][:3]:\n",
    "    print(r)\n",
    "    print()"
   ]
  },
  {
   "cell_type": "code",
   "execution_count": 45,
   "metadata": {},
   "outputs": [
    {
     "name": "stdout",
     "output_type": "stream",
     "text": [
      "8\n",
      "11411\n",
      "17.732721\n",
      "10\n",
      "{'_index': 'articles', '_type': 'article', '_id': '228457', '_score': 17.034681, '_source': {'title': 'M. Tennis. Green Wave Post Successful Day One at Rice Invitational', 'media-type': 'News', 'content': \"Sept. 18, 2015 \\n\\nRice Invitational Day 1 Results HOUSTON - While Tulane men's tennis senior Dominik Koepfer was advancing to the quarterfinals of the Oracle/ITA Master's Tournament, the rest of the Green Wave squad were making splashes of their own in day one action of the Rice Invitational on Friday. The day was highlighted by the Olive and Blue posting a perfect 7-0 mark in singles action in Draws A-D. In Draw A, Sebastian Rey cruised to a 6-3, 6-1 win over Texas' Nick Naumann and will now face Portland's Mathieu Garcia on Saturday. Constantin Schmitz joined Rey on the winner's side of the bracket after bouncing back with a 1-6, 7-5, 6-2 win over Portland's Mike Pervolaraskis, advancing to face Incarnate Word's Josip Smoljan. \\n\\nDraw B witnessed both Chi-Shan Jao and Alex Van Cott secure straight-set victories over their opponents. Jao dispatched Prairie View's Christian Waldron 6-2, 6-1, while Van Cott took down Lamar's Jeandre Hoogenboezem, 6-3, 6-4. Ian Van Cott was the lone Green Wave participant in Draw C. The senior quickly bested Incarnate Word's Ryan Hoverson, 6-2, 6-1 to advance to Saturday's matchup against Nichols State's Sam Meessen. Finally Tulane's two freshmen Eric Wagner and Tyler Schick occupied Draw D and rounded out the perfect day in singles. Wagner posted a 6-2, 6-2 win over Lamar's Steven McMullan, while Schick defeated Rice's Manny Llamas, 6-2, 6-3. \\n\\nRey and Jao highlighted the Green Wave's day in doubles, advancing to Draw A's semifinal round with a pair of victories Friday. First, Jao/Rey defeated Incarnate Word's Hoverson/Vatanadilok, 6-1, then bested Texas San Antonio's Moreiras/Rother, 6-4. Below is a complete list of Green Wave results from Friday's day one action of the Rice Invitational: \\n\\nSingles\\n\\nDraw A\\n\\nConstantin Schmitz (TU) def. Mike Pervolarakis (UP), 1-6, 7-5, 6-2\\n\\nSebastian Rey (TU) def. Nick Naumann (UT), 6-3, 6-1\\n\\nDraw B\\n\\nChi-Shan Jao (TU) def. Christian Waldron (PVAM), 6-2, 6-1\\n\\nAlex Van Cott (TU) def. Jeandre Hoogenboezem (LU), 6-3, 6-4\\n\\nDraw C\\n\\nIan Van Cott (TU) def. Ryan Hoverson (UIW), 6-2, 6-1\\n\\nDraw D\\n\\nEric Wagner (TU) def. Steven McMullan (LU), 6-2, 6-2\\n\\nTyler Schick (TU) def. Manny Llamas (RU), 6-2, 6-3\\n\\nDoubles\\n\\nDraw A\\n\\nJao/Rey (TU) def. Hoverson/Vatanadilok (UIW), 6-1\\n\\nJao/Rey (TU) def. Moreiras/Rother (UTSA), 6-4\\n\\nA. Van Cott/Schick (TU) def. Waldron/Boyogueno (PVAM), 6-2\\n\\nNaumann/Zlobinsky (UT) def. A. Van Cott/Schick (TU), 6-2\\n\\nDraw B\\n\\nKaratzas/Podgursky (NSU) def. I. Van Cott/Wagner (TU), 6-3\", 'source': 'Tulane University Green Wave', 'published': '2015-09-18T23:20:00Z', 'id': '3f78107e-be93-4f7e-b24c-3f6bda9ad7f8'}}\n"
     ]
    }
   ],
   "source": [
    "print(res[\"took\"]) \n",
    "print(res[\"hits\"][\"total\"])\n",
    "print(res[\"hits\"][\"max_score\"])\n",
    "print(len(res['hits']['hits']))\n",
    "print(res['hits']['hits'][2])"
   ]
  },
  {
   "cell_type": "code",
   "execution_count": 46,
   "metadata": {
    "collapsed": true
   },
   "outputs": [],
   "source": [
    "retrieved_ordered =[res['hits']['hits'][i][\"_source\"][\"id\"] for i in range(len(res['hits']['hits']))]"
   ]
  },
  {
   "cell_type": "code",
   "execution_count": 47,
   "metadata": {},
   "outputs": [
    {
     "data": {
      "text/plain": [
       "2"
      ]
     },
     "execution_count": 47,
     "metadata": {},
     "output_type": "execute_result"
    }
   ],
   "source": [
    "retrieved_ordered.index(\"3f78107e-be93-4f7e-b24c-3f6bda9ad7f8\")"
   ]
  },
  {
   "cell_type": "code",
   "execution_count": null,
   "metadata": {},
   "outputs": [],
   "source": []
  }
 ],
 "metadata": {
  "kernelspec": {
   "display_name": "Python 3",
   "language": "python",
   "name": "python3"
  },
  "language_info": {
   "codemirror_mode": {
    "name": "ipython",
    "version": 3
   },
   "file_extension": ".py",
   "mimetype": "text/x-python",
   "name": "python",
   "nbconvert_exporter": "python",
   "pygments_lexer": "ipython3",
   "version": "3.6.3"
  }
 },
 "nbformat": 4,
 "nbformat_minor": 2
}
