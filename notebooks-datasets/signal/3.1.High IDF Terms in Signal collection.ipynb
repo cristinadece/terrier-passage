{
 "cells": [
  {
   "cell_type": "code",
   "execution_count": 1,
   "metadata": {
    "collapsed": true
   },
   "outputs": [],
   "source": [
    "%load_ext autoreload\n",
    "%autoreload 2\n",
    "import json\n",
    "from scipy import sparse\n",
    "from time import time\n",
    "import pandas as pd\n",
    "import numpy as np\n",
    "import matplotlib.pyplot as plt\n",
    "import progress_bar\n",
    "import string\n",
    "\n",
    "from sklearn.feature_extraction.text import CountVectorizer\n",
    "from sklearn.feature_extraction.text import TfidfVectorizer"
   ]
  },
  {
   "cell_type": "markdown",
   "metadata": {},
   "source": [
    "# Reading the datatset with Pandas DF"
   ]
  },
  {
   "cell_type": "code",
   "execution_count": 2,
   "metadata": {},
   "outputs": [
    {
     "name": "stdout",
     "output_type": "stream",
     "text": [
      "0.23.4\n"
     ]
    }
   ],
   "source": [
    "print(pd.__version__)\n",
    "dataset = pd.read_json(\"./data/signalmedia-1m.jsonl\", lines=True)"
   ]
  },
  {
   "cell_type": "code",
   "execution_count": 3,
   "metadata": {},
   "outputs": [
    {
     "name": "stdout",
     "output_type": "stream",
     "text": [
      "<class 'pandas.core.frame.DataFrame'>\n"
     ]
    }
   ],
   "source": [
    "print(type(dataset))"
   ]
  },
  {
   "cell_type": "code",
   "execution_count": 4,
   "metadata": {},
   "outputs": [
    {
     "data": {
      "text/html": [
       "<div>\n",
       "<style scoped>\n",
       "    .dataframe tbody tr th:only-of-type {\n",
       "        vertical-align: middle;\n",
       "    }\n",
       "\n",
       "    .dataframe tbody tr th {\n",
       "        vertical-align: top;\n",
       "    }\n",
       "\n",
       "    .dataframe thead th {\n",
       "        text-align: right;\n",
       "    }\n",
       "</style>\n",
       "<table border=\"1\" class=\"dataframe\">\n",
       "  <thead>\n",
       "    <tr style=\"text-align: right;\">\n",
       "      <th></th>\n",
       "      <th>content</th>\n",
       "      <th>id</th>\n",
       "      <th>media-type</th>\n",
       "      <th>published</th>\n",
       "      <th>source</th>\n",
       "      <th>title</th>\n",
       "    </tr>\n",
       "  </thead>\n",
       "  <tbody>\n",
       "    <tr>\n",
       "      <th>0</th>\n",
       "      <td>VETERANS saluted Worcester's first ever breakf...</td>\n",
       "      <td>f7ca322d-c3e8-40d2-841f-9d7250ac72ca</td>\n",
       "      <td>News</td>\n",
       "      <td>2015-09-07T10:16:14Z</td>\n",
       "      <td>Redditch Advertiser</td>\n",
       "      <td>Worcester breakfast club for veterans gives hu...</td>\n",
       "    </tr>\n",
       "    <tr>\n",
       "      <th>1</th>\n",
       "      <td>New Product Gives Marketers Access to Real Key...</td>\n",
       "      <td>609772bc-0672-4db5-8516-4c025cfd54ca</td>\n",
       "      <td>News</td>\n",
       "      <td>2015-09-17T15:00:00Z</td>\n",
       "      <td>Virtualization Conference &amp; Expo</td>\n",
       "      <td>Jumpshot Gives Marketers Renewed Visibility In...</td>\n",
       "    </tr>\n",
       "    <tr>\n",
       "      <th>2</th>\n",
       "      <td>Home »\\rStyle » The Return Of The Nike Air Max...</td>\n",
       "      <td>1aa9d1b0-e6ba-4a48-ad0c-66552d896aac</td>\n",
       "      <td>Blog</td>\n",
       "      <td>2015-09-22T22:54:37Z</td>\n",
       "      <td>Streets Connect</td>\n",
       "      <td>The Return Of The Nike Air Max Sensation Has 8...</td>\n",
       "    </tr>\n",
       "    <tr>\n",
       "      <th>3</th>\n",
       "      <td>NYMag.com Daily Intelligencer Vulture The Cut ...</td>\n",
       "      <td>719699f9-47be-4bc7-969b-b53a881c95ae</td>\n",
       "      <td>Blog</td>\n",
       "      <td>2015-09-16T23:12:11Z</td>\n",
       "      <td>The Cut</td>\n",
       "      <td>This New Dating App Will Ruin Your Internet Game</td>\n",
       "    </tr>\n",
       "    <tr>\n",
       "      <th>4</th>\n",
       "      <td>KUALA LUMPUR, Sept 15 (MySinchew) -- The Kuala...</td>\n",
       "      <td>a080f99a-07d9-47d1-8244-26a540017b7a</td>\n",
       "      <td>News</td>\n",
       "      <td>2015-09-15T10:17:53Z</td>\n",
       "      <td>My Sinchew</td>\n",
       "      <td>Pay up or face legal action: DBKL</td>\n",
       "    </tr>\n",
       "    <tr>\n",
       "      <th>5</th>\n",
       "      <td>Mumbai, Sep 11 : Following were the indicative...</td>\n",
       "      <td>3c5636e8-06b7-43fd-8a80-0e8535f45cb2</td>\n",
       "      <td>News</td>\n",
       "      <td>2015-09-11T06:09:32Z</td>\n",
       "      <td>Newshence.com</td>\n",
       "      <td>Euro up; USD, Pound and Yen down</td>\n",
       "    </tr>\n",
       "    <tr>\n",
       "      <th>6</th>\n",
       "      <td>Words kill or give life; they are usually eith...</td>\n",
       "      <td>ba44d0cd-bff2-4875-8036-86f37419b5e7</td>\n",
       "      <td>News</td>\n",
       "      <td>2015-09-28T23:21:00Z</td>\n",
       "      <td>Times of Swaziland</td>\n",
       "      <td>THE INFLUENCE OF OUR WORDS</td>\n",
       "    </tr>\n",
       "    <tr>\n",
       "      <th>7</th>\n",
       "      <td>Just in time for the holiday shopping seasons,...</td>\n",
       "      <td>402f6983-3300-4546-82c5-6f4eb08d0ba7</td>\n",
       "      <td>News</td>\n",
       "      <td>2015-09-10T03:25:04Z</td>\n",
       "      <td>South Coast Register</td>\n",
       "      <td>Hands on with Apple's iPhone 6s, iPad Pro and ...</td>\n",
       "    </tr>\n",
       "    <tr>\n",
       "      <th>8</th>\n",
       "      <td>SOURCE Harwood Feffer LLP\\n\\nNEW YORK \\n\\nOn J...</td>\n",
       "      <td>286868ed-ab9a-4990-a4af-436df8c5bff2</td>\n",
       "      <td>News</td>\n",
       "      <td>2015-09-25T21:00:00Z</td>\n",
       "      <td>WAFB</td>\n",
       "      <td>Harwood Feffer LLP Announces Investigation of ...</td>\n",
       "    </tr>\n",
       "    <tr>\n",
       "      <th>9</th>\n",
       "      <td>Tony Abbott's last word  \\nWatch the last pres...</td>\n",
       "      <td>c5f8a528-cc0f-4f3e-aaef-b9e3b6b00325</td>\n",
       "      <td>News</td>\n",
       "      <td>2015-09-15T06:04:06Z</td>\n",
       "      <td>Brisbane Times</td>\n",
       "      <td>What will happen to Peta Credlin and Brian Lou...</td>\n",
       "    </tr>\n",
       "    <tr>\n",
       "      <th>10</th>\n",
       "      <td>Alright, alright, alright… the time is now for...</td>\n",
       "      <td>005d3017-7e99-492b-ac40-7b0f56366f2c</td>\n",
       "      <td>Blog</td>\n",
       "      <td>2015-09-04T10:43:03Z</td>\n",
       "      <td>Pitt Blather</td>\n",
       "      <td>2015’s Opening Game Predictions</td>\n",
       "    </tr>\n",
       "    <tr>\n",
       "      <th>11</th>\n",
       "      <td>(Marketintelligencecenter.com via COMTEX) -- \\...</td>\n",
       "      <td>feef579d-73aa-493a-a34f-4d31ed05663f</td>\n",
       "      <td>News</td>\n",
       "      <td>2015-09-04T15:11:01Z</td>\n",
       "      <td>TradingCharts.com</td>\n",
       "      <td>Semtech (SMTC) Trading Near $17.29 Resistance ...</td>\n",
       "    </tr>\n",
       "    <tr>\n",
       "      <th>12</th>\n",
       "      <td>Official says 'small number' of Benghazi-relat...</td>\n",
       "      <td>b5bd25f7-ad0d-4933-b91f-d6cc3883de73</td>\n",
       "      <td>News</td>\n",
       "      <td>2015-09-26T00:10:34Z</td>\n",
       "      <td>MyEastTex</td>\n",
       "      <td>New Hillary Clinton email chain discovered</td>\n",
       "    </tr>\n",
       "    <tr>\n",
       "      <th>13</th>\n",
       "      <td>Former St. Louis Cardinals pitcher Joaquin And...</td>\n",
       "      <td>9c957b52-513a-4b74-9f40-dd2db587153a</td>\n",
       "      <td>News</td>\n",
       "      <td>2015-09-08T18:03:05Z</td>\n",
       "      <td>News Channel 21</td>\n",
       "      <td>Former pitcher Andujar dies at 62</td>\n",
       "    </tr>\n",
       "    <tr>\n",
       "      <th>14</th>\n",
       "      <td>The Texas State football team scored 63 points...</td>\n",
       "      <td>6d899e17-59a0-4113-a86c-438ec499ac92</td>\n",
       "      <td>News</td>\n",
       "      <td>2015-09-13T03:36:40Z</td>\n",
       "      <td>University Star</td>\n",
       "      <td>Five key plays from Texas State's home opener</td>\n",
       "    </tr>\n",
       "    <tr>\n",
       "      <th>15</th>\n",
       "      <td>Daily Mail  Sunday 27th September, 2015  \\n 'W...</td>\n",
       "      <td>29577f5d-b486-45a2-9953-7d0bcd3bd778</td>\n",
       "      <td>News</td>\n",
       "      <td>2015-09-27T16:23:51Z</td>\n",
       "      <td>The Sydney News</td>\n",
       "      <td>Police chiefs warn ministers Were too broke to...</td>\n",
       "    </tr>\n",
       "    <tr>\n",
       "      <th>16</th>\n",
       "      <td>Listening to politicians campaigning you a pic...</td>\n",
       "      <td>0d2211a7-7dd4-49de-ae02-5737f8bff7fe</td>\n",
       "      <td>News</td>\n",
       "      <td>2015-09-30T11:49:04Z</td>\n",
       "      <td>Tanzania Citizen</td>\n",
       "      <td>MY TAKE ON THIS: Politicians should give us a ...</td>\n",
       "    </tr>\n",
       "    <tr>\n",
       "      <th>17</th>\n",
       "      <td>Corbyn will not take part in weekly PM’s Quest...</td>\n",
       "      <td>54e47c81-a1db-4a0f-8bcd-dd0c4c91bdf6</td>\n",
       "      <td>News</td>\n",
       "      <td>2015-09-13T10:08:31Z</td>\n",
       "      <td>Bayou Buzz</td>\n",
       "      <td>The Tom and Jerry Show: 'PM; Watson will run t...</td>\n",
       "    </tr>\n",
       "    <tr>\n",
       "      <th>18</th>\n",
       "      <td>The San Bernardino County Sheriff's Department...</td>\n",
       "      <td>b7d890c6-ac0c-4df1-80ce-f5cfd885fd71</td>\n",
       "      <td>News</td>\n",
       "      <td>2015-09-22T06:27:24Z</td>\n",
       "      <td>LocalNews7.com</td>\n",
       "      <td>Sheriff's department says San...</td>\n",
       "    </tr>\n",
       "    <tr>\n",
       "      <th>19</th>\n",
       "      <td>WASHINGTON, Sept. 16, 2015 /PRNewswire-USNewsw...</td>\n",
       "      <td>0d07e617-00d4-4866-aee2-0ae197ae366f</td>\n",
       "      <td>News</td>\n",
       "      <td>2015-09-16T14:00:00Z</td>\n",
       "      <td>Freshnews.com</td>\n",
       "      <td>Thanking Research and Hope honorees for their ...</td>\n",
       "    </tr>\n",
       "    <tr>\n",
       "      <th>20</th>\n",
       "      <td>AKM-GSI   \\nWill the VMAs drama ever end? \\n\\n...</td>\n",
       "      <td>9842e4a1-3640-43c0-a92f-1726ab16c010</td>\n",
       "      <td>News</td>\n",
       "      <td>2015-09-04T20:35:39Z</td>\n",
       "      <td>UK E Online</td>\n",
       "      <td>PINK SLAMS DEMI?!</td>\n",
       "    </tr>\n",
       "    <tr>\n",
       "      <th>21</th>\n",
       "      <td>Arjen Robben reacts during the UEFA Euro 2016 ...</td>\n",
       "      <td>8ac397e6-f25b-436c-bb1a-203b4f7f44f3</td>\n",
       "      <td>News</td>\n",
       "      <td>2015-09-06T16:05:22Z</td>\n",
       "      <td>NDTV</td>\n",
       "      <td>Bayern Munich's Arjen Robben Sidelined With Gr...</td>\n",
       "    </tr>\n",
       "    <tr>\n",
       "      <th>22</th>\n",
       "      <td>]]&gt; \\n\\nST. LOUIS , Sept. 18, 2015 /PRNewswire...</td>\n",
       "      <td>ba92b817-c59f-45e8-a97f-16a88fda3086</td>\n",
       "      <td>News</td>\n",
       "      <td>2015-09-18T15:13:46Z</td>\n",
       "      <td>Sys-Con Canada</td>\n",
       "      <td>Potts Law Firm Files 90 New GM Ignition Switch...</td>\n",
       "    </tr>\n",
       "    <tr>\n",
       "      <th>23</th>\n",
       "      <td>Factional unanimity in the ALP could facilitat...</td>\n",
       "      <td>15d96c82-1705-431f-83ca-bac60a6efcf5</td>\n",
       "      <td>News</td>\n",
       "      <td>2015-09-18T21:45:32Z</td>\n",
       "      <td>The Australian</td>\n",
       "      <td>Coalition’s Shorten dividend</td>\n",
       "    </tr>\n",
       "    <tr>\n",
       "      <th>24</th>\n",
       "      <td>Have you ever felt like trading in the politic...</td>\n",
       "      <td>ebcd41ea-e5b4-43a4-9e16-4406d81cfcda</td>\n",
       "      <td>News</td>\n",
       "      <td>2015-09-22T14:15:00Z</td>\n",
       "      <td>Daily Liberal</td>\n",
       "      <td>It's a Mad world at the Melbourne Bar, as long...</td>\n",
       "    </tr>\n",
       "    <tr>\n",
       "      <th>25</th>\n",
       "      <td>On Tuesday afternoon, Kim Davis, the Kentucky ...</td>\n",
       "      <td>7516303b-0db5-477d-9e5d-243a73865e39</td>\n",
       "      <td>Blog</td>\n",
       "      <td>2015-09-10T03:00:15Z</td>\n",
       "      <td>Latest News on One News Page [United States] -...</td>\n",
       "      <td>Survivor Upset Use of 'Eye of the Tiger' With ...</td>\n",
       "    </tr>\n",
       "    <tr>\n",
       "      <th>26</th>\n",
       "      <td>The leader of Iran's legislature has definite ...</td>\n",
       "      <td>e9c9d2d9-a5f0-45fa-89ca-bf8470bf87c6</td>\n",
       "      <td>News</td>\n",
       "      <td>2015-09-08T10:07:31Z</td>\n",
       "      <td>WAMC.org</td>\n",
       "      <td>Iran Parliament Chief: Nuclear Deal Is 'Accept...</td>\n",
       "    </tr>\n",
       "    <tr>\n",
       "      <th>27</th>\n",
       "      <td>Created: 09/08/2015 4:52 PM WNYT.com\\r\\n\\t\\t\\t...</td>\n",
       "      <td>c35a4d55-b487-406d-b806-abced6a8cd91</td>\n",
       "      <td>News</td>\n",
       "      <td>2015-09-08T21:16:54Z</td>\n",
       "      <td>WNYT</td>\n",
       "      <td>Meredith and Walt Disney are big market movers</td>\n",
       "    </tr>\n",
       "    <tr>\n",
       "      <th>28</th>\n",
       "      <td>NEW YORK, Sept. 11, 2015 /PRNewswire/ -- Weled...</td>\n",
       "      <td>92731f9a-dff6-4f0d-a4cc-28ccf861b4a3</td>\n",
       "      <td>News</td>\n",
       "      <td>2015-09-11T13:00:27Z</td>\n",
       "      <td>Virtualization Conference &amp; Expo</td>\n",
       "      <td>Weleda Announces Partnership Benefiting Whole ...</td>\n",
       "    </tr>\n",
       "    <tr>\n",
       "      <th>29</th>\n",
       "      <td>The Federal Savings Bank encourages all prospe...</td>\n",
       "      <td>7990d850-4055-48de-acbf-2db8d7d5a131</td>\n",
       "      <td>News</td>\n",
       "      <td>2015-09-15T08:00:32Z</td>\n",
       "      <td>PRWeb</td>\n",
       "      <td>America's Most Expensive Rental Markets</td>\n",
       "    </tr>\n",
       "    <tr>\n",
       "      <th>...</th>\n",
       "      <td>...</td>\n",
       "      <td>...</td>\n",
       "      <td>...</td>\n",
       "      <td>...</td>\n",
       "      <td>...</td>\n",
       "      <td>...</td>\n",
       "    </tr>\n",
       "    <tr>\n",
       "      <th>999970</th>\n",
       "      <td>Many straight men, as many a straight lady can...</td>\n",
       "      <td>e4f6485b-e120-4775-b1db-0a246052e5e6</td>\n",
       "      <td>Blog</td>\n",
       "      <td>2015-09-20T16:56:00Z</td>\n",
       "      <td>Yahoo Health</td>\n",
       "      <td>This Explains Why Men Always Think Women Are F...</td>\n",
       "    </tr>\n",
       "    <tr>\n",
       "      <th>999971</th>\n",
       "      <td>It’s no surprise performance management is a h...</td>\n",
       "      <td>c9048744-73c4-4f37-ae4d-1b48a0199c3f</td>\n",
       "      <td>Blog</td>\n",
       "      <td>2015-09-09T15:48:09Z</td>\n",
       "      <td>SCN : All Content - SAP Business Trends</td>\n",
       "      <td>Performance Management Today - Technology Alon...</td>\n",
       "    </tr>\n",
       "    <tr>\n",
       "      <th>999972</th>\n",
       "      <td>The ratings for Hell on Wheels have dropped lo...</td>\n",
       "      <td>f318ac3f-7627-4fce-9058-6637a13d877d</td>\n",
       "      <td>Blog</td>\n",
       "      <td>2015-08-25T15:53:03Z</td>\n",
       "      <td>canceled TV shows - TV Series Finale</td>\n",
       "      <td>Hell on Wheels:  Season Five Ratings</td>\n",
       "    </tr>\n",
       "    <tr>\n",
       "      <th>999973</th>\n",
       "      <td>A MAN has had his sports car taken away after ...</td>\n",
       "      <td>dd7ff3c3-38ae-4c0c-bb2c-071042d84ded</td>\n",
       "      <td>News</td>\n",
       "      <td>2015-09-05T11:40:30Z</td>\n",
       "      <td>Tasmania Mercury</td>\n",
       "      <td>Speeding Vic man loses sports car</td>\n",
       "    </tr>\n",
       "    <tr>\n",
       "      <th>999974</th>\n",
       "      <td>KUALA LUMPUR: The reporting of The Edge Weekly...</td>\n",
       "      <td>8265c96b-ad49-4b86-80ba-4699e1eee7bb</td>\n",
       "      <td>News</td>\n",
       "      <td>2015-09-07T13:01:20Z</td>\n",
       "      <td>DangoteNews.com</td>\n",
       "      <td>The Edge reporting was based on doubtful sourc...</td>\n",
       "    </tr>\n",
       "    <tr>\n",
       "      <th>999975</th>\n",
       "      <td>IDEXX Web PACS introduces a ground-breaking so...</td>\n",
       "      <td>2a8e810f-6737-4522-9a0c-c54a79f4b543</td>\n",
       "      <td>News</td>\n",
       "      <td>2015-09-09T11:46:25Z</td>\n",
       "      <td>Reuters</td>\n",
       "      <td>IDEXX Releases New Web-Based Software for Radi...</td>\n",
       "    </tr>\n",
       "    <tr>\n",
       "      <th>999976</th>\n",
       "      <td>Apple is frequently bashed for not being first...</td>\n",
       "      <td>5278a72d-f10d-474e-b44f-2c04f8388a57</td>\n",
       "      <td>News</td>\n",
       "      <td>2015-09-12T04:03:06Z</td>\n",
       "      <td>Canadian News</td>\n",
       "      <td>→ Apple Apple responds to iPhone 6S privacy co...</td>\n",
       "    </tr>\n",
       "    <tr>\n",
       "      <th>999977</th>\n",
       "      <td>INDIANAPOLIS ( WISH ) – Visitors to the Auschw...</td>\n",
       "      <td>9bb6abd9-0331-4b53-a3d4-fdbce6bb1407</td>\n",
       "      <td>News</td>\n",
       "      <td>2015-09-02T03:26:44Z</td>\n",
       "      <td>WIAT TV</td>\n",
       "      <td>Auschwitz adds summer ‘shower’ system, angers ...</td>\n",
       "    </tr>\n",
       "    <tr>\n",
       "      <th>999978</th>\n",
       "      <td>Rugby World Cup interactive: your guide to eve...</td>\n",
       "      <td>1bf808b3-7dc4-4b00-be84-d779be56d78b</td>\n",
       "      <td>News</td>\n",
       "      <td>2015-09-18T01:43:18Z</td>\n",
       "      <td>Good Fruit &amp; Vegetables Magazine</td>\n",
       "      <td>Wallabies World Cup winners pick their Test team</td>\n",
       "    </tr>\n",
       "    <tr>\n",
       "      <th>999979</th>\n",
       "      <td>This is a good article called Honda presents N...</td>\n",
       "      <td>6b078f1c-6ede-4d52-bc61-d4459147ae26</td>\n",
       "      <td>Blog</td>\n",
       "      <td>2015-09-30T20:40:11Z</td>\n",
       "      <td>Scott Briscoe Digital Marketing Blog</td>\n",
       "      <td>Honda presents Neowing tilting tricycle ahead ...</td>\n",
       "    </tr>\n",
       "    <tr>\n",
       "      <th>999980</th>\n",
       "      <td>News4u-Sports Desk- India’s limited overs capt...</td>\n",
       "      <td>17e72720-54c6-4055-88e8-c620c1c6316f</td>\n",
       "      <td>Blog</td>\n",
       "      <td>2015-09-22T02:09:11Z</td>\n",
       "      <td>:: News4u ::</td>\n",
       "      <td>Dhoni to lead T20 &amp; ODI squad against South Af...</td>\n",
       "    </tr>\n",
       "    <tr>\n",
       "      <th>999981</th>\n",
       "      <td>What's driving the Brumbies star through the N...</td>\n",
       "      <td>6c2ec712-2b42-488a-81cc-8dd1ffdbe2c6</td>\n",
       "      <td>News</td>\n",
       "      <td>2015-09-30T08:09:32Z</td>\n",
       "      <td>Southern Weekly</td>\n",
       "      <td>Christian Lealiifano not expecting to follow S...</td>\n",
       "    </tr>\n",
       "    <tr>\n",
       "      <th>999982</th>\n",
       "      <td>Dr Tatsujiro Suzuki says the effects of the Fu...</td>\n",
       "      <td>edf2d669-026c-484d-95d1-d33dd14de9f8</td>\n",
       "      <td>News</td>\n",
       "      <td>2015-09-22T18:40:31Z</td>\n",
       "      <td>Eye Witness News</td>\n",
       "      <td>'85% of Japanese don't trust nuclear energy af...</td>\n",
       "    </tr>\n",
       "    <tr>\n",
       "      <th>999983</th>\n",
       "      <td>Construction work has begun on the Pyeongchang...</td>\n",
       "      <td>478c11b4-0b55-4aec-ab3d-3a22a6faac72</td>\n",
       "      <td>News</td>\n",
       "      <td>2015-09-24T11:56:06Z</td>\n",
       "      <td>World Leisure News &amp; Jobs</td>\n",
       "      <td>Ground broken on Pyeongchang 2018 Olympic village</td>\n",
       "    </tr>\n",
       "    <tr>\n",
       "      <th>999984</th>\n",
       "      <td>Two women were killed and three others were in...</td>\n",
       "      <td>1a0b0f26-80e7-424c-87e1-386b3f6453de</td>\n",
       "      <td>Blog</td>\n",
       "      <td>2015-09-12T17:47:18Z</td>\n",
       "      <td>CLJNews.com</td>\n",
       "      <td>Two women killed, three injured in SR 69 crash...</td>\n",
       "    </tr>\n",
       "    <tr>\n",
       "      <th>999985</th>\n",
       "      <td>East Zone states back Amitabh Chaudhary,  join...</td>\n",
       "      <td>2a1958c7-d7cf-4011-bd31-2ab0d403e750</td>\n",
       "      <td>News</td>\n",
       "      <td>2015-09-22T18:30:00Z</td>\n",
       "      <td>Asian Age</td>\n",
       "      <td>East Zone  wants Amitabh Chaudhary as BCCI pre...</td>\n",
       "    </tr>\n",
       "    <tr>\n",
       "      <th>999986</th>\n",
       "      <td>Illustration by Ben Wade In the U.S., turnin...</td>\n",
       "      <td>723e46b3-95bf-4fbf-9f4b-cefd9057edbb</td>\n",
       "      <td>Blog</td>\n",
       "      <td>2015-09-22T00:59:30Z</td>\n",
       "      <td>The Kentucky Kernel</td>\n",
       "      <td>Editorial: 18 should be legal drinking age, again</td>\n",
       "    </tr>\n",
       "    <tr>\n",
       "      <th>999987</th>\n",
       "      <td>:54 \\n   \\n\\r\\nThe Premier Soccer League (PSL)...</td>\n",
       "      <td>3ecabc6c-9440-412a-abda-ebec6eb6f280</td>\n",
       "      <td>News</td>\n",
       "      <td>2015-09-16T10:58:16Z</td>\n",
       "      <td>SuperSport</td>\n",
       "      <td>PSL release statement on Abraw</td>\n",
       "    </tr>\n",
       "    <tr>\n",
       "      <th>999988</th>\n",
       "      <td>Sam Wood and Snezana Markoski were spotted jet...</td>\n",
       "      <td>7c792403-67bf-4d6a-9942-a8b6fe7c8145</td>\n",
       "      <td>News</td>\n",
       "      <td>2015-09-16T15:21:21Z</td>\n",
       "      <td>Mail Online UK</td>\n",
       "      <td>Sam Wood arrives at Sydney Airport just MINUTE...</td>\n",
       "    </tr>\n",
       "    <tr>\n",
       "      <th>999989</th>\n",
       "      <td>MIL OSI – \\n \\nSource: Organization for Securi...</td>\n",
       "      <td>3c8e187a-d48c-49b0-adeb-65b5a5156246</td>\n",
       "      <td>News</td>\n",
       "      <td>2015-09-24T20:25:20Z</td>\n",
       "      <td>Foreign Affairs.co.nz</td>\n",
       "      <td>OSCE Special Co-ordinator visits Belarus ahead...</td>\n",
       "    </tr>\n",
       "    <tr>\n",
       "      <th>999990</th>\n",
       "      <td>The International Women's Insolvency and Restr...</td>\n",
       "      <td>b5253eeb-3142-44d0-9ce0-f0dae743fd90</td>\n",
       "      <td>News</td>\n",
       "      <td>2015-09-02T15:10:09Z</td>\n",
       "      <td>Individual.com</td>\n",
       "      <td>International Women's Insolvency and Restructu...</td>\n",
       "    </tr>\n",
       "    <tr>\n",
       "      <th>999991</th>\n",
       "      <td>Photo: DPA. \\n\\n Bayern Munich got off to a fl...</td>\n",
       "      <td>70cf1816-d8d8-4e2c-b8fd-e0ac73afc8d7</td>\n",
       "      <td>News</td>\n",
       "      <td>2015-09-17T07:55:19Z</td>\n",
       "      <td>The Local Germany</td>\n",
       "      <td>Bayern start campaign in emphatic form</td>\n",
       "    </tr>\n",
       "    <tr>\n",
       "      <th>999992</th>\n",
       "      <td>WH Ireland restated their buy rating on shares...</td>\n",
       "      <td>a7dc6786-664e-4eba-bc6b-93f08f1e091c</td>\n",
       "      <td>News</td>\n",
       "      <td>2015-09-25T05:25:50Z</td>\n",
       "      <td>Lulegacy.com</td>\n",
       "      <td>Avation PLC’s Buy Rating Reiterated at WH Irel...</td>\n",
       "    </tr>\n",
       "    <tr>\n",
       "      <th>999993</th>\n",
       "      <td>The Wolverines got back on the winning track l...</td>\n",
       "      <td>05ce2ae3-5a75-42a5-851f-5e8daad9881d</td>\n",
       "      <td>News</td>\n",
       "      <td>2015-09-25T16:31:00Z</td>\n",
       "      <td>Sequoyah County Times</td>\n",
       "      <td>Wolverines notch first victory with 42-21 win ...</td>\n",
       "    </tr>\n",
       "    <tr>\n",
       "      <th>999994</th>\n",
       "      <td>Jess Hayes thought she'd found her perfect man...</td>\n",
       "      <td>a2f5e599-be9a-4916-8cd2-9cb10c90ff81</td>\n",
       "      <td>Blog</td>\n",
       "      <td>2015-09-08T16:03:02Z</td>\n",
       "      <td>Now magazine</td>\n",
       "      <td>Max Morley using Charlotte Crosby ‘for fame’, ...</td>\n",
       "    </tr>\n",
       "    <tr>\n",
       "      <th>999995</th>\n",
       "      <td>By Ryan Mayer, CBS Local Sports\\n\\nWeek 1 of t...</td>\n",
       "      <td>ad1dfe61-164b-4fd8-8ef3-38d676f41831</td>\n",
       "      <td>Blog</td>\n",
       "      <td>2015-09-17T17:28:13Z</td>\n",
       "      <td>CBS Baltimore</td>\n",
       "      <td>Thursday Night Football Q&amp;A: Tiki Barber \"Peyt...</td>\n",
       "    </tr>\n",
       "    <tr>\n",
       "      <th>999996</th>\n",
       "      <td>©  \\r\\n Android Pay\\r \\nGoogle has made its mo...</td>\n",
       "      <td>383864ab-4880-46d0-8625-44ab43f489bc</td>\n",
       "      <td>News</td>\n",
       "      <td>2015-09-11T00:15:15Z</td>\n",
       "      <td>Malaysia MSN</td>\n",
       "      <td>Google takes on Apple with Android Pay</td>\n",
       "    </tr>\n",
       "    <tr>\n",
       "      <th>999997</th>\n",
       "      <td>For some time now, I've noticed that one of my...</td>\n",
       "      <td>36c044d8-4522-4a28-a92c-a8e994742188</td>\n",
       "      <td>Blog</td>\n",
       "      <td>2015-09-14T13:29:49Z</td>\n",
       "      <td>Jarred at the movies</td>\n",
       "      <td>Movie of the Week: Black Mass</td>\n",
       "    </tr>\n",
       "    <tr>\n",
       "      <th>999998</th>\n",
       "      <td>The article below represents a preview only an...</td>\n",
       "      <td>374ff291-51c3-453e-ab06-c18dd2d880a0</td>\n",
       "      <td>News</td>\n",
       "      <td>2015-09-10T21:01:53Z</td>\n",
       "      <td>HT Syndication</td>\n",
       "      <td>C'garh decked for Modi's visit</td>\n",
       "    </tr>\n",
       "    <tr>\n",
       "      <th>999999</th>\n",
       "      <td>Environment groups urge new Prime Minister Mal...</td>\n",
       "      <td>c463033c-21a8-4085-ba81-f894ab0ddf5d</td>\n",
       "      <td>News</td>\n",
       "      <td>2015-09-20T06:03:08Z</td>\n",
       "      <td>Wauchope Gazette</td>\n",
       "      <td>Green groups urge Malcolm Turnbull to drop Ton...</td>\n",
       "    </tr>\n",
       "  </tbody>\n",
       "</table>\n",
       "<p>1000000 rows × 6 columns</p>\n",
       "</div>"
      ],
      "text/plain": [
       "                                                  content  \\\n",
       "0       VETERANS saluted Worcester's first ever breakf...   \n",
       "1       New Product Gives Marketers Access to Real Key...   \n",
       "2       Home »\\rStyle » The Return Of The Nike Air Max...   \n",
       "3       NYMag.com Daily Intelligencer Vulture The Cut ...   \n",
       "4       KUALA LUMPUR, Sept 15 (MySinchew) -- The Kuala...   \n",
       "5       Mumbai, Sep 11 : Following were the indicative...   \n",
       "6       Words kill or give life; they are usually eith...   \n",
       "7       Just in time for the holiday shopping seasons,...   \n",
       "8       SOURCE Harwood Feffer LLP\\n\\nNEW YORK \\n\\nOn J...   \n",
       "9       Tony Abbott's last word  \\nWatch the last pres...   \n",
       "10      Alright, alright, alright… the time is now for...   \n",
       "11      (Marketintelligencecenter.com via COMTEX) -- \\...   \n",
       "12      Official says 'small number' of Benghazi-relat...   \n",
       "13      Former St. Louis Cardinals pitcher Joaquin And...   \n",
       "14      The Texas State football team scored 63 points...   \n",
       "15      Daily Mail  Sunday 27th September, 2015  \\n 'W...   \n",
       "16      Listening to politicians campaigning you a pic...   \n",
       "17      Corbyn will not take part in weekly PM’s Quest...   \n",
       "18      The San Bernardino County Sheriff's Department...   \n",
       "19      WASHINGTON, Sept. 16, 2015 /PRNewswire-USNewsw...   \n",
       "20      AKM-GSI   \\nWill the VMAs drama ever end? \\n\\n...   \n",
       "21      Arjen Robben reacts during the UEFA Euro 2016 ...   \n",
       "22      ]]> \\n\\nST. LOUIS , Sept. 18, 2015 /PRNewswire...   \n",
       "23      Factional unanimity in the ALP could facilitat...   \n",
       "24      Have you ever felt like trading in the politic...   \n",
       "25      On Tuesday afternoon, Kim Davis, the Kentucky ...   \n",
       "26      The leader of Iran's legislature has definite ...   \n",
       "27      Created: 09/08/2015 4:52 PM WNYT.com\\r\\n\\t\\t\\t...   \n",
       "28      NEW YORK, Sept. 11, 2015 /PRNewswire/ -- Weled...   \n",
       "29      The Federal Savings Bank encourages all prospe...   \n",
       "...                                                   ...   \n",
       "999970  Many straight men, as many a straight lady can...   \n",
       "999971  It’s no surprise performance management is a h...   \n",
       "999972  The ratings for Hell on Wheels have dropped lo...   \n",
       "999973  A MAN has had his sports car taken away after ...   \n",
       "999974  KUALA LUMPUR: The reporting of The Edge Weekly...   \n",
       "999975  IDEXX Web PACS introduces a ground-breaking so...   \n",
       "999976  Apple is frequently bashed for not being first...   \n",
       "999977  INDIANAPOLIS ( WISH ) – Visitors to the Auschw...   \n",
       "999978  Rugby World Cup interactive: your guide to eve...   \n",
       "999979  This is a good article called Honda presents N...   \n",
       "999980  News4u-Sports Desk- India’s limited overs capt...   \n",
       "999981  What's driving the Brumbies star through the N...   \n",
       "999982  Dr Tatsujiro Suzuki says the effects of the Fu...   \n",
       "999983  Construction work has begun on the Pyeongchang...   \n",
       "999984  Two women were killed and three others were in...   \n",
       "999985  East Zone states back Amitabh Chaudhary,  join...   \n",
       "999986    Illustration by Ben Wade In the U.S., turnin...   \n",
       "999987  :54 \\n   \\n\\r\\nThe Premier Soccer League (PSL)...   \n",
       "999988  Sam Wood and Snezana Markoski were spotted jet...   \n",
       "999989  MIL OSI – \\n \\nSource: Organization for Securi...   \n",
       "999990  The International Women's Insolvency and Restr...   \n",
       "999991  Photo: DPA. \\n\\n Bayern Munich got off to a fl...   \n",
       "999992  WH Ireland restated their buy rating on shares...   \n",
       "999993  The Wolverines got back on the winning track l...   \n",
       "999994  Jess Hayes thought she'd found her perfect man...   \n",
       "999995  By Ryan Mayer, CBS Local Sports\\n\\nWeek 1 of t...   \n",
       "999996  ©  \\r\\n Android Pay\\r \\nGoogle has made its mo...   \n",
       "999997  For some time now, I've noticed that one of my...   \n",
       "999998  The article below represents a preview only an...   \n",
       "999999  Environment groups urge new Prime Minister Mal...   \n",
       "\n",
       "                                          id media-type             published  \\\n",
       "0       f7ca322d-c3e8-40d2-841f-9d7250ac72ca       News  2015-09-07T10:16:14Z   \n",
       "1       609772bc-0672-4db5-8516-4c025cfd54ca       News  2015-09-17T15:00:00Z   \n",
       "2       1aa9d1b0-e6ba-4a48-ad0c-66552d896aac       Blog  2015-09-22T22:54:37Z   \n",
       "3       719699f9-47be-4bc7-969b-b53a881c95ae       Blog  2015-09-16T23:12:11Z   \n",
       "4       a080f99a-07d9-47d1-8244-26a540017b7a       News  2015-09-15T10:17:53Z   \n",
       "5       3c5636e8-06b7-43fd-8a80-0e8535f45cb2       News  2015-09-11T06:09:32Z   \n",
       "6       ba44d0cd-bff2-4875-8036-86f37419b5e7       News  2015-09-28T23:21:00Z   \n",
       "7       402f6983-3300-4546-82c5-6f4eb08d0ba7       News  2015-09-10T03:25:04Z   \n",
       "8       286868ed-ab9a-4990-a4af-436df8c5bff2       News  2015-09-25T21:00:00Z   \n",
       "9       c5f8a528-cc0f-4f3e-aaef-b9e3b6b00325       News  2015-09-15T06:04:06Z   \n",
       "10      005d3017-7e99-492b-ac40-7b0f56366f2c       Blog  2015-09-04T10:43:03Z   \n",
       "11      feef579d-73aa-493a-a34f-4d31ed05663f       News  2015-09-04T15:11:01Z   \n",
       "12      b5bd25f7-ad0d-4933-b91f-d6cc3883de73       News  2015-09-26T00:10:34Z   \n",
       "13      9c957b52-513a-4b74-9f40-dd2db587153a       News  2015-09-08T18:03:05Z   \n",
       "14      6d899e17-59a0-4113-a86c-438ec499ac92       News  2015-09-13T03:36:40Z   \n",
       "15      29577f5d-b486-45a2-9953-7d0bcd3bd778       News  2015-09-27T16:23:51Z   \n",
       "16      0d2211a7-7dd4-49de-ae02-5737f8bff7fe       News  2015-09-30T11:49:04Z   \n",
       "17      54e47c81-a1db-4a0f-8bcd-dd0c4c91bdf6       News  2015-09-13T10:08:31Z   \n",
       "18      b7d890c6-ac0c-4df1-80ce-f5cfd885fd71       News  2015-09-22T06:27:24Z   \n",
       "19      0d07e617-00d4-4866-aee2-0ae197ae366f       News  2015-09-16T14:00:00Z   \n",
       "20      9842e4a1-3640-43c0-a92f-1726ab16c010       News  2015-09-04T20:35:39Z   \n",
       "21      8ac397e6-f25b-436c-bb1a-203b4f7f44f3       News  2015-09-06T16:05:22Z   \n",
       "22      ba92b817-c59f-45e8-a97f-16a88fda3086       News  2015-09-18T15:13:46Z   \n",
       "23      15d96c82-1705-431f-83ca-bac60a6efcf5       News  2015-09-18T21:45:32Z   \n",
       "24      ebcd41ea-e5b4-43a4-9e16-4406d81cfcda       News  2015-09-22T14:15:00Z   \n",
       "25      7516303b-0db5-477d-9e5d-243a73865e39       Blog  2015-09-10T03:00:15Z   \n",
       "26      e9c9d2d9-a5f0-45fa-89ca-bf8470bf87c6       News  2015-09-08T10:07:31Z   \n",
       "27      c35a4d55-b487-406d-b806-abced6a8cd91       News  2015-09-08T21:16:54Z   \n",
       "28      92731f9a-dff6-4f0d-a4cc-28ccf861b4a3       News  2015-09-11T13:00:27Z   \n",
       "29      7990d850-4055-48de-acbf-2db8d7d5a131       News  2015-09-15T08:00:32Z   \n",
       "...                                      ...        ...                   ...   \n",
       "999970  e4f6485b-e120-4775-b1db-0a246052e5e6       Blog  2015-09-20T16:56:00Z   \n",
       "999971  c9048744-73c4-4f37-ae4d-1b48a0199c3f       Blog  2015-09-09T15:48:09Z   \n",
       "999972  f318ac3f-7627-4fce-9058-6637a13d877d       Blog  2015-08-25T15:53:03Z   \n",
       "999973  dd7ff3c3-38ae-4c0c-bb2c-071042d84ded       News  2015-09-05T11:40:30Z   \n",
       "999974  8265c96b-ad49-4b86-80ba-4699e1eee7bb       News  2015-09-07T13:01:20Z   \n",
       "999975  2a8e810f-6737-4522-9a0c-c54a79f4b543       News  2015-09-09T11:46:25Z   \n",
       "999976  5278a72d-f10d-474e-b44f-2c04f8388a57       News  2015-09-12T04:03:06Z   \n",
       "999977  9bb6abd9-0331-4b53-a3d4-fdbce6bb1407       News  2015-09-02T03:26:44Z   \n",
       "999978  1bf808b3-7dc4-4b00-be84-d779be56d78b       News  2015-09-18T01:43:18Z   \n",
       "999979  6b078f1c-6ede-4d52-bc61-d4459147ae26       Blog  2015-09-30T20:40:11Z   \n",
       "999980  17e72720-54c6-4055-88e8-c620c1c6316f       Blog  2015-09-22T02:09:11Z   \n",
       "999981  6c2ec712-2b42-488a-81cc-8dd1ffdbe2c6       News  2015-09-30T08:09:32Z   \n",
       "999982  edf2d669-026c-484d-95d1-d33dd14de9f8       News  2015-09-22T18:40:31Z   \n",
       "999983  478c11b4-0b55-4aec-ab3d-3a22a6faac72       News  2015-09-24T11:56:06Z   \n",
       "999984  1a0b0f26-80e7-424c-87e1-386b3f6453de       Blog  2015-09-12T17:47:18Z   \n",
       "999985  2a1958c7-d7cf-4011-bd31-2ab0d403e750       News  2015-09-22T18:30:00Z   \n",
       "999986  723e46b3-95bf-4fbf-9f4b-cefd9057edbb       Blog  2015-09-22T00:59:30Z   \n",
       "999987  3ecabc6c-9440-412a-abda-ebec6eb6f280       News  2015-09-16T10:58:16Z   \n",
       "999988  7c792403-67bf-4d6a-9942-a8b6fe7c8145       News  2015-09-16T15:21:21Z   \n",
       "999989  3c8e187a-d48c-49b0-adeb-65b5a5156246       News  2015-09-24T20:25:20Z   \n",
       "999990  b5253eeb-3142-44d0-9ce0-f0dae743fd90       News  2015-09-02T15:10:09Z   \n",
       "999991  70cf1816-d8d8-4e2c-b8fd-e0ac73afc8d7       News  2015-09-17T07:55:19Z   \n",
       "999992  a7dc6786-664e-4eba-bc6b-93f08f1e091c       News  2015-09-25T05:25:50Z   \n",
       "999993  05ce2ae3-5a75-42a5-851f-5e8daad9881d       News  2015-09-25T16:31:00Z   \n",
       "999994  a2f5e599-be9a-4916-8cd2-9cb10c90ff81       Blog  2015-09-08T16:03:02Z   \n",
       "999995  ad1dfe61-164b-4fd8-8ef3-38d676f41831       Blog  2015-09-17T17:28:13Z   \n",
       "999996  383864ab-4880-46d0-8625-44ab43f489bc       News  2015-09-11T00:15:15Z   \n",
       "999997  36c044d8-4522-4a28-a92c-a8e994742188       Blog  2015-09-14T13:29:49Z   \n",
       "999998  374ff291-51c3-453e-ab06-c18dd2d880a0       News  2015-09-10T21:01:53Z   \n",
       "999999  c463033c-21a8-4085-ba81-f894ab0ddf5d       News  2015-09-20T06:03:08Z   \n",
       "\n",
       "                                                   source  \\\n",
       "0                                     Redditch Advertiser   \n",
       "1                        Virtualization Conference & Expo   \n",
       "2                                         Streets Connect   \n",
       "3                                                 The Cut   \n",
       "4                                              My Sinchew   \n",
       "5                                           Newshence.com   \n",
       "6                                      Times of Swaziland   \n",
       "7                                    South Coast Register   \n",
       "8                                                    WAFB   \n",
       "9                                          Brisbane Times   \n",
       "10                                           Pitt Blather   \n",
       "11                                      TradingCharts.com   \n",
       "12                                              MyEastTex   \n",
       "13                                        News Channel 21   \n",
       "14                                        University Star   \n",
       "15                                        The Sydney News   \n",
       "16                                       Tanzania Citizen   \n",
       "17                                             Bayou Buzz   \n",
       "18                                         LocalNews7.com   \n",
       "19                                          Freshnews.com   \n",
       "20                                            UK E Online   \n",
       "21                                                   NDTV   \n",
       "22                                         Sys-Con Canada   \n",
       "23                                         The Australian   \n",
       "24                                          Daily Liberal   \n",
       "25      Latest News on One News Page [United States] -...   \n",
       "26                                               WAMC.org   \n",
       "27                                                   WNYT   \n",
       "28                       Virtualization Conference & Expo   \n",
       "29                                                  PRWeb   \n",
       "...                                                   ...   \n",
       "999970                                       Yahoo Health   \n",
       "999971            SCN : All Content - SAP Business Trends   \n",
       "999972               canceled TV shows - TV Series Finale   \n",
       "999973                                   Tasmania Mercury   \n",
       "999974                                    DangoteNews.com   \n",
       "999975                                            Reuters   \n",
       "999976                                      Canadian News   \n",
       "999977                                            WIAT TV   \n",
       "999978                   Good Fruit & Vegetables Magazine   \n",
       "999979               Scott Briscoe Digital Marketing Blog   \n",
       "999980                                       :: News4u ::   \n",
       "999981                                    Southern Weekly   \n",
       "999982                                   Eye Witness News   \n",
       "999983                          World Leisure News & Jobs   \n",
       "999984                                        CLJNews.com   \n",
       "999985                                          Asian Age   \n",
       "999986                                The Kentucky Kernel   \n",
       "999987                                         SuperSport   \n",
       "999988                                     Mail Online UK   \n",
       "999989                              Foreign Affairs.co.nz   \n",
       "999990                                     Individual.com   \n",
       "999991                                  The Local Germany   \n",
       "999992                                       Lulegacy.com   \n",
       "999993                              Sequoyah County Times   \n",
       "999994                                       Now magazine   \n",
       "999995                                      CBS Baltimore   \n",
       "999996                                       Malaysia MSN   \n",
       "999997                               Jarred at the movies   \n",
       "999998                                     HT Syndication   \n",
       "999999                                   Wauchope Gazette   \n",
       "\n",
       "                                                    title  \n",
       "0       Worcester breakfast club for veterans gives hu...  \n",
       "1       Jumpshot Gives Marketers Renewed Visibility In...  \n",
       "2       The Return Of The Nike Air Max Sensation Has 8...  \n",
       "3        This New Dating App Will Ruin Your Internet Game  \n",
       "4                       Pay up or face legal action: DBKL  \n",
       "5                        Euro up; USD, Pound and Yen down  \n",
       "6                              THE INFLUENCE OF OUR WORDS  \n",
       "7       Hands on with Apple's iPhone 6s, iPad Pro and ...  \n",
       "8       Harwood Feffer LLP Announces Investigation of ...  \n",
       "9       What will happen to Peta Credlin and Brian Lou...  \n",
       "10                        2015’s Opening Game Predictions  \n",
       "11      Semtech (SMTC) Trading Near $17.29 Resistance ...  \n",
       "12             New Hillary Clinton email chain discovered  \n",
       "13                      Former pitcher Andujar dies at 62  \n",
       "14          Five key plays from Texas State's home opener  \n",
       "15      Police chiefs warn ministers Were too broke to...  \n",
       "16      MY TAKE ON THIS: Politicians should give us a ...  \n",
       "17      The Tom and Jerry Show: 'PM; Watson will run t...  \n",
       "18                       Sheriff's department says San...  \n",
       "19      Thanking Research and Hope honorees for their ...  \n",
       "20                                      PINK SLAMS DEMI?!  \n",
       "21      Bayern Munich's Arjen Robben Sidelined With Gr...  \n",
       "22      Potts Law Firm Files 90 New GM Ignition Switch...  \n",
       "23                           Coalition’s Shorten dividend  \n",
       "24      It's a Mad world at the Melbourne Bar, as long...  \n",
       "25      Survivor Upset Use of 'Eye of the Tiger' With ...  \n",
       "26      Iran Parliament Chief: Nuclear Deal Is 'Accept...  \n",
       "27         Meredith and Walt Disney are big market movers  \n",
       "28      Weleda Announces Partnership Benefiting Whole ...  \n",
       "29                America's Most Expensive Rental Markets  \n",
       "...                                                   ...  \n",
       "999970  This Explains Why Men Always Think Women Are F...  \n",
       "999971  Performance Management Today - Technology Alon...  \n",
       "999972               Hell on Wheels:  Season Five Ratings  \n",
       "999973                  Speeding Vic man loses sports car  \n",
       "999974  The Edge reporting was based on doubtful sourc...  \n",
       "999975  IDEXX Releases New Web-Based Software for Radi...  \n",
       "999976  → Apple Apple responds to iPhone 6S privacy co...  \n",
       "999977  Auschwitz adds summer ‘shower’ system, angers ...  \n",
       "999978   Wallabies World Cup winners pick their Test team  \n",
       "999979  Honda presents Neowing tilting tricycle ahead ...  \n",
       "999980  Dhoni to lead T20 & ODI squad against South Af...  \n",
       "999981  Christian Lealiifano not expecting to follow S...  \n",
       "999982  '85% of Japanese don't trust nuclear energy af...  \n",
       "999983  Ground broken on Pyeongchang 2018 Olympic village  \n",
       "999984  Two women killed, three injured in SR 69 crash...  \n",
       "999985  East Zone  wants Amitabh Chaudhary as BCCI pre...  \n",
       "999986  Editorial: 18 should be legal drinking age, again  \n",
       "999987                     PSL release statement on Abraw  \n",
       "999988  Sam Wood arrives at Sydney Airport just MINUTE...  \n",
       "999989  OSCE Special Co-ordinator visits Belarus ahead...  \n",
       "999990  International Women's Insolvency and Restructu...  \n",
       "999991             Bayern start campaign in emphatic form  \n",
       "999992  Avation PLC’s Buy Rating Reiterated at WH Irel...  \n",
       "999993  Wolverines notch first victory with 42-21 win ...  \n",
       "999994  Max Morley using Charlotte Crosby ‘for fame’, ...  \n",
       "999995  Thursday Night Football Q&A: Tiki Barber \"Peyt...  \n",
       "999996             Google takes on Apple with Android Pay  \n",
       "999997                      Movie of the Week: Black Mass  \n",
       "999998                     C'garh decked for Modi's visit  \n",
       "999999  Green groups urge Malcolm Turnbull to drop Ton...  \n",
       "\n",
       "[1000000 rows x 6 columns]"
      ]
     },
     "execution_count": 4,
     "metadata": {},
     "output_type": "execute_result"
    }
   ],
   "source": [
    "dataset"
   ]
  },
  {
   "cell_type": "code",
   "execution_count": 5,
   "metadata": {
    "collapsed": true
   },
   "outputs": [],
   "source": [
    "dataset[\"all_text\"] = dataset[\"title\"].map(str) + \" \\n \" + dataset[\"content\"].map(str)"
   ]
  },
  {
   "cell_type": "code",
   "execution_count": 6,
   "metadata": {},
   "outputs": [
    {
     "data": {
      "text/plain": [
       "'Worcester breakfast club for veterans gives hunger its marching orders \\n VETERANS saluted Worcester\\'s first ever breakfast club for ex-soldiers which won over hearts, minds and bellies. \\n \\nThe Worcester Breakfast Club for HM Forces Veterans met at the Postal Order in Foregate Street at 10am on Saturday. \\n \\nThe club is designed to allow veterans a place to meet, socialise, eat and drink, giving hunger and loneliness their marching orders. \\n \\nFather-of-two Dave Carney, aged 43, of Merrimans Hill, Worcester, set up the club after being inspired by other similar clubs across the country. \\n \\nHe said: \"As you can see from the picture, we had a good response. Five out of the 10 that attended said they saw the article in the newspaper and turned up. \\n \\n\"We even had an old chap travel from Droitwich and he was late on parade by three hours. \\n \\n\"It\\'s generated a lot of interest and I estimate (from other veterans who saw the article) that next month\\'s meeting will attract about 20 people. Onwards and upwards.\" \\n \\nHe said the management at the pub had been extremely hospitable to them. \\n \\nMr Carney said: \"They bent over backwards for us. They really looked after us well. That is the best choice of venue I could have made. They even put \\'reserved for the armed forces\\'. \\n   Promoted stories   \\nThe reserve veteran with the Royal Engineers wanted to go to a breakfast club but found the nearest ones were in Bromsgrove and Gloucester so he decided to set up his own, closer to home. \\n \\nHe was influenced by Derek Hardman who set up a breakfast club for veterans in Hull and Andy Wilson who set one up in Newcastle. He said the idea has snowballed and there were now 70 similar clubs across the country and even some in Germany. \\n \\nMr Carney said with many Royal British Legion clubs closing he wanted veterans and serving personnel to feel they had somewhere they could go for good grub, beer and banter to recapture the comradery of being in the forces. \\n \\nThe Postal Order was chosen because of its central location and its proximity to the railway station and hotels and reasonably priced food and drink. \\n \\nThe management of the pub have even given the veterans a designated area within the pub. \\n   \\n Share article  \\n   \\nThe next meeting is at the Postal Order on Saturday, October 3 at 10am. \\n \\nThe breakfast club meets on the first Saturday of each month for those who want to attend in future.'"
      ]
     },
     "execution_count": 6,
     "metadata": {},
     "output_type": "execute_result"
    }
   ],
   "source": [
    "dataset[\"all_text\"].iloc[0]"
   ]
  },
  {
   "cell_type": "code",
   "execution_count": 7,
   "metadata": {
    "collapsed": true
   },
   "outputs": [],
   "source": [
    "# %store dataset\n",
    "# dataset"
   ]
  },
  {
   "cell_type": "code",
   "execution_count": 8,
   "metadata": {
    "collapsed": true
   },
   "outputs": [],
   "source": [
    "# np.mean(len(dataset.title.split(\" \")))"
   ]
  },
  {
   "cell_type": "markdown",
   "metadata": {},
   "source": [
    "# Tokeninzing, computing IDF and TFIDF term-document matrix"
   ]
  },
  {
   "cell_type": "code",
   "execution_count": 9,
   "metadata": {},
   "outputs": [
    {
     "name": "stdout",
     "output_type": "stream",
     "text": [
      "FIT done in 503.520s.\n"
     ]
    }
   ],
   "source": [
    "#tfidf_vectorizer = TfidfVectorizer(max_df=0.95, min_df=2, stop_words='english')\n",
    "\n",
    "tfidf_vectorizer = TfidfVectorizer(min_df=2, norm=None, stop_words='english') \n",
    "t0 = time()\n",
    "features_idf = tfidf_vectorizer.fit(dataset[\"content\"])\n",
    "print(\"FIT done in %0.3fs.\" % (time() - t0))"
   ]
  },
  {
   "cell_type": "code",
   "execution_count": 10,
   "metadata": {},
   "outputs": [
    {
     "name": "stdout",
     "output_type": "stream",
     "text": [
      "FIT-TRANSFORM done in 1017.236s.\n"
     ]
    }
   ],
   "source": [
    "tfidf_matrix = tfidf_vectorizer.transform(dataset[\"content\"])\n",
    "print(\"FIT-TRANSFORM done in %0.3fs.\" % (time() - t0))"
   ]
  },
  {
   "cell_type": "code",
   "execution_count": 11,
   "metadata": {},
   "outputs": [
    {
     "name": "stdout",
     "output_type": "stream",
     "text": [
      "FIT-TRANSFORM done in 515.483s.\n"
     ]
    }
   ],
   "source": [
    "idf_vectorizer = TfidfVectorizer(min_df=2, binary=True, norm=None, stop_words='english')\n",
    "t0 = time()\n",
    "idf_matrix = idf_vectorizer.fit_transform(dataset[\"content\"])\n",
    "print(\"FIT-TRANSFORM done in %0.3fs.\" % (time() - t0))"
   ]
  },
  {
   "cell_type": "code",
   "execution_count": 12,
   "metadata": {},
   "outputs": [
    {
     "name": "stdout",
     "output_type": "stream",
     "text": [
      "Stored 'features_idf' (TfidfVectorizer)\n",
      "Stored 'tfidf_matrix' (csr_matrix)\n",
      "Stored 'idf_matrix' (csr_matrix)\n"
     ]
    }
   ],
   "source": [
    "# print(idf_matrix[:,0])\n",
    "# print(idf_vectorizer.idf_)\n",
    "\n",
    "%store features_idf\n",
    "%store tfidf_matrix\n",
    "%store idf_matrix"
   ]
  },
  {
   "cell_type": "markdown",
   "metadata": {},
   "source": [
    "## Terms and IDF"
   ]
  },
  {
   "cell_type": "code",
   "execution_count": 13,
   "metadata": {},
   "outputs": [
    {
     "name": "stdout",
     "output_type": "stream",
     "text": [
      "Number of terms in dictionary: 653710\n",
      "\n",
      "veterans 614078 5.909118150905408 5.909118150905408\n",
      "saluted 515640 9.224524577452918 9.224524577452918\n",
      "worcester 633683 7.460509636858518 7.460509636858518\n",
      "breakfast 137990 5.721367980390103 5.721367980390103\n",
      "club 169694 4.225700050215826 4.225700050215826\n",
      "ex 233677 5.054394346719373 5.054394346719373\n",
      "soldiers 546594 5.7741817287218735 5.7741817287218735\n",
      "won 633083 3.50602506103342 3.50602506103342\n",
      "hearts 286502 5.876061695799535 5.876061695799535\n",
      "minds 396627 5.877373687590986 5.877373687590986\n",
      "bellies 120826 9.431016495174685 9.431016495174685\n",
      "hm 292829 8.369791738578195 8.369791738578195\n",
      "forces 249202 4.769093176238611 4.769093176238611\n",
      "met 391875 4.394332009244378 4.394332009244378\n",
      "postal 469930 7.427802318882733 7.427802318882733\n",
      "order 441293 3.661162844221874 3.661162844221874\n",
      "foregate 249327 11.41431417630162 11.41431417630162\n",
      "street 559305 3.9152045301682956 3.9152045301682956\n",
      "10am 5574 6.769282456888397 6.769282456888397\n",
      "saturday 519068 3.5984481975357654 3.5984481975357654\n"
     ]
    }
   ],
   "source": [
    "print(\"Number of terms in dictionary:\", len(features_idf.idf_))\n",
    "print()\n",
    "\n",
    "i=0\n",
    "for term, idTerm in features_idf.vocabulary_.items():\n",
    "    i+=1\n",
    "    print(term, idTerm, features_idf.idf_[idTerm], idf_matrix[0,idTerm])\n",
    "    # the values of IDF should be the same\n",
    "    if i%20==0:\n",
    "        break\n",
    "        "
   ]
  },
  {
   "cell_type": "code",
   "execution_count": 14,
   "metadata": {},
   "outputs": [
    {
     "name": "stdout",
     "output_type": "stream",
     "text": [
      "[653709 335768 335823 335825 335828 335831 335835 335837 335847 335857\n",
      " 335863 335867 335868 335879 335884 335885 335886 335821 335820 335819\n",
      " 335785 335773 335775 335776 335780 335782 335783 335800 335815 335805\n",
      " 335808 335809 335810 335812 335813 335889 335896 335898 335988 335971\n",
      " 335973 335975 335976 335978 335985 335991 335961 335993 335994 336002\n",
      " 336006 336010 336013 335969 335957 335902 335914 335903 335904 335906\n",
      " 335910 335912 335913 335916 335955 335922 335926 335931 335932 335941\n",
      " 335954 335770 335766 334513 335765 335568 335570 335578 335580 335584\n",
      " 335586 335588 335591 335593 335595 335603 335609 335614 335622 335624\n",
      " 335567 335565 335564 335545 335520 335522 335529 335536 335543 335544]\n",
      "[13.71689927 13.71689927 13.71689927 13.71689927 13.71689927 13.71689927\n",
      " 13.71689927 13.71689927 13.71689927 13.71689927 13.71689927 13.71689927\n",
      " 13.71689927 13.71689927 13.71689927 13.71689927 13.71689927 13.71689927\n",
      " 13.71689927 13.71689927 13.71689927 13.71689927 13.71689927 13.71689927\n",
      " 13.71689927 13.71689927 13.71689927 13.71689927 13.71689927 13.71689927\n",
      " 13.71689927 13.71689927 13.71689927 13.71689927 13.71689927 13.71689927\n",
      " 13.71689927 13.71689927 13.71689927 13.71689927 13.71689927 13.71689927\n",
      " 13.71689927 13.71689927 13.71689927 13.71689927 13.71689927 13.71689927\n",
      " 13.71689927 13.71689927 13.71689927 13.71689927 13.71689927 13.71689927\n",
      " 13.71689927 13.71689927 13.71689927 13.71689927 13.71689927 13.71689927\n",
      " 13.71689927 13.71689927 13.71689927 13.71689927 13.71689927 13.71689927\n",
      " 13.71689927 13.71689927 13.71689927 13.71689927 13.71689927 13.71689927\n",
      " 13.71689927 13.71689927 13.71689927 13.71689927 13.71689927 13.71689927\n",
      " 13.71689927 13.71689927 13.71689927 13.71689927 13.71689927 13.71689927\n",
      " 13.71689927 13.71689927 13.71689927 13.71689927 13.71689927 13.71689927\n",
      " 13.71689927 13.71689927 13.71689927 13.71689927 13.71689927 13.71689927\n",
      " 13.71689927 13.71689927 13.71689927 13.71689927]\n"
     ]
    }
   ],
   "source": [
    "top10IDFTerm_idx = features_idf.idf_.argsort()[::-1][:100]\n",
    "print(top10IDFTerm_idx)\n",
    "print(features_idf.idf_[top10IDFTerm_idx])"
   ]
  },
  {
   "cell_type": "code",
   "execution_count": 15,
   "metadata": {
    "collapsed": true
   },
   "outputs": [],
   "source": [
    "inv_vocab = {v: k for k, v in features_idf.vocabulary_.items()}"
   ]
  },
  {
   "cell_type": "code",
   "execution_count": 16,
   "metadata": {
    "scrolled": true
   },
   "outputs": [
    {
     "data": {
      "application/vnd.jupyter.widget-view+json": {
       "model_id": "9a9b01af2e21442184ace2d63d737e7c",
       "version_major": 2,
       "version_minor": 0
      },
      "text/html": [
       "<p>Failed to display Jupyter Widget of type <code>VBox</code>.</p>\n",
       "<p>\n",
       "  If you're reading this message in the Jupyter Notebook or JupyterLab Notebook, it may mean\n",
       "  that the widgets JavaScript is still loading. If this message persists, it\n",
       "  likely means that the widgets JavaScript library is either not installed or\n",
       "  not enabled. See the <a href=\"https://ipywidgets.readthedocs.io/en/stable/user_install.html\">Jupyter\n",
       "  Widgets Documentation</a> for setup instructions.\n",
       "</p>\n",
       "<p>\n",
       "  If you're reading this message in another frontend (for example, a static\n",
       "  rendering on GitHub or <a href=\"https://nbviewer.jupyter.org/\">NBViewer</a>),\n",
       "  it may mean that your frontend doesn't currently support widgets.\n",
       "</p>\n"
      ],
      "text/plain": [
       "VBox(children=(HTML(value='0 / 100 items . Rate ?/s . Remaining ?s . Elapsed 0.0s'), IntProgress(value=0)))"
      ]
     },
     "metadata": {},
     "output_type": "display_data"
    },
    {
     "name": "stdout",
     "output_type": "stream",
     "text": [
      "ﾀﾙs 13.716899269295665\n",
      "kemperle 13.716899269295665\n",
      "kenagy 13.716899269295665\n",
      "kenal 13.716899269295665\n",
      "kenana 13.716899269295665\n",
      "kenangalem 13.716899269295665\n",
      "kenardo 13.716899269295665\n",
      "kenary 13.716899269295665\n",
      "kencho 13.716899269295665\n",
      "kendallrayburn 13.716899269295665\n",
      "kendeigh 13.716899269295665\n",
      "kendelle 13.716899269295665\n",
      "kendemann 13.716899269295665\n",
      "kendon 13.716899269295665\n",
      "kendre 13.716899269295665\n",
      "kendrew 13.716899269295665\n",
      "kendri 13.716899269295665\n",
      "kenady 13.716899269295665\n",
      "kenadi 13.716899269295665\n",
      "kenadee 13.716899269295665\n",
      "kempo 13.716899269295665\n",
      "kempff 13.716899269295665\n",
      "kemphospice 13.716899269295665\n",
      "kempic 13.716899269295665\n",
      "kemplay 13.716899269295665\n",
      "kempler 13.716899269295665\n",
      "kempley 13.716899269295665\n",
      "kemptville 13.716899269295665\n",
      "ken10 13.716899269295665\n",
      "kemski 13.716899269295665\n",
      "kemuel 13.716899269295665\n",
      "kemunduran 13.716899269295665\n",
      "kemungilannya 13.716899269295665\n",
      "kemvet 13.716899269295665\n",
      "kemwell 13.716899269295665\n",
      "kendricklamar 13.716899269295665\n",
      "kendy 13.716899269295665\n",
      "kendzior 13.716899269295665\n",
      "kenmuir 13.716899269295665\n",
      "kenkichi 13.716899269295665\n",
      "kenkre 13.716899269295665\n",
      "kenkyusho 13.716899269295665\n",
      "kenland 13.716899269295665\n",
      "kenline 13.716899269295665\n",
      "kenmon 13.716899269295665\n",
      "kennack 13.716899269295665\n",
      "kenjie 13.716899269295665\n",
      "kennadi 13.716899269295665\n",
      "kennadie 13.716899269295665\n",
      "kenndy 13.716899269295665\n",
      "kennebecasis 13.716899269295665\n",
      "kenned 13.716899269295665\n",
      "kennedie 13.716899269295665\n",
      "kenkeller 13.716899269295665\n",
      "kenites 13.716899269295665\n",
      "kenearlys 13.716899269295665\n",
      "keneric 13.716899269295665\n",
      "keneba 13.716899269295665\n",
      "kenebrew 13.716899269295665\n",
      "kenedi 13.716899269295665\n",
      "kenen 13.716899269295665\n",
      "kenepuru 13.716899269295665\n",
      "kenergy 13.716899269295665\n",
      "kenerson 13.716899269295665\n",
      "kenishirotie 13.716899269295665\n",
      "kenesu 13.716899269295665\n",
      "keneş 13.716899269295665\n",
      "kengera 13.716899269295665\n",
      "kengeramon 13.716899269295665\n",
      "kenh 13.716899269295665\n",
      "keniqua 13.716899269295665\n",
      "kempetch 13.716899269295665\n",
      "kempenfelt 13.716899269295665\n",
      "kcmgroup 13.716899269295665\n",
      "kempendidikan 13.716899269295665\n",
      "kellyladyga 13.716899269295665\n",
      "kellylynch 13.716899269295665\n",
      "kellyoubrejr 13.716899269295665\n",
      "kellyraeroberts 13.716899269295665\n",
      "kellysatsouthbridge 13.716899269295665\n",
      "kellyservices 13.716899269295665\n",
      "kellysue 13.716899269295665\n",
      "kellyxxfitz 13.716899269295665\n",
      "kelma 13.716899269295665\n",
      "kelmarsh 13.716899269295665\n",
      "kelon 13.716899269295665\n",
      "kelpsch 13.716899269295665\n",
      "kelsallhill 13.716899269295665\n",
      "kelser 13.716899269295665\n",
      "kelseyjenks 13.716899269295665\n",
      "kellyhines 13.716899269295665\n",
      "kellygissendaner 13.716899269295665\n",
      "kellyegancolumn 13.716899269295665\n",
      "kellstadt 13.716899269295665\n",
      "kellinahandbasket 13.716899269295665\n",
      "kellington 13.716899269295665\n",
      "kello 13.716899269295665\n",
      "kelloggserialreports 13.716899269295665\n",
      "kellsey 13.716899269295665\n",
      "kellsie 13.716899269295665\n"
     ]
    }
   ],
   "source": [
    "for term_id in progress_bar.iter_progress(top10IDFTerm_idx):\n",
    "    print(inv_vocab[term_id], features_idf.idf_[term_id])"
   ]
  },
  {
   "cell_type": "code",
   "execution_count": 17,
   "metadata": {},
   "outputs": [
    {
     "name": "stdout",
     "output_type": "stream",
     "text": [
      "kalkaji 330286 12.042922835723992 0.0 0.0\n"
     ]
    }
   ],
   "source": [
    "print(inv_vocab[330286], 330286, features_idf.idf_[330286], idf_matrix[1,330286], tfidf_matrix[1, 330286])"
   ]
  },
  {
   "cell_type": "code",
   "execution_count": 18,
   "metadata": {},
   "outputs": [
    {
     "data": {
      "image/png": "[encoded data removed]",
      "text/plain": [
       "<matplotlib.figure.Figure at 0x7fb2a110bb00>"
      ]
     },
     "metadata": {},
     "output_type": "display_data"
    }
   ],
   "source": [
    "plt.plot(sorted(features_idf.idf_, reverse=True))\n",
    "plt.show()"
   ]
  },
  {
   "cell_type": "markdown",
   "metadata": {},
   "source": [
    "## Documents with high IDF or TFIDF"
   ]
  },
  {
   "cell_type": "code",
   "execution_count": 19,
   "metadata": {},
   "outputs": [
    {
     "name": "stdout",
     "output_type": "stream",
     "text": [
      "<class 'scipy.sparse.csr.csr_matrix'>\n",
      "(1000000, 653710)\n",
      "145.109437\n",
      "145.109437\n"
     ]
    }
   ],
   "source": [
    "print(type(tfidf_matrix))\n",
    "print(tfidf_matrix.shape)\n",
    "\n",
    "print(len(tfidf_matrix.data)/1000000)\n",
    "print(len(idf_matrix.data)/1000000)"
   ]
  },
  {
   "cell_type": "code",
   "execution_count": 20,
   "metadata": {},
   "outputs": [
    {
     "name": "stdout",
     "output_type": "stream",
     "text": [
      "  (11, 0)\t4.144094080424015\n",
      "  (66, 0)\t4.144094080424015\n",
      "  (67, 0)\t4.144094080424015\n",
      "  (78, 0)\t4.144094080424015\n",
      "  (86, 0)\t4.144094080424015\n",
      "  (105, 0)\t4.144094080424015\n",
      "  (115, 0)\t4.144094080424015\n",
      "  (119, 0)\t4.144094080424015\n",
      "  (147, 0)\t4.144094080424015\n",
      "  (197, 0)\t4.144094080424015\n",
      "  (223, 0)\t4.144094080424015\n",
      "  (237, 0)\t4.144094080424015\n",
      "  (244, 0)\t4.144094080424015\n",
      "  (263, 0)\t4.144094080424015\n",
      "  (264, 0)\t4.144094080424015\n",
      "  (310, 0)\t4.144094080424015\n",
      "  (323, 0)\t4.144094080424015\n",
      "  (366, 0)\t4.144094080424015\n",
      "  (374, 0)\t4.144094080424015\n",
      "  (376, 0)\t4.144094080424015\n",
      "  (394, 0)\t4.144094080424015\n",
      "  (397, 0)\t4.144094080424015\n",
      "  (406, 0)\t4.144094080424015\n",
      "  (430, 0)\t4.144094080424015\n",
      "  (436, 0)\t4.144094080424015\n",
      "  :\t:\n",
      "  (999385, 0)\t4.144094080424015\n",
      "  (999406, 0)\t4.144094080424015\n",
      "  (999409, 0)\t4.144094080424015\n",
      "  (999418, 0)\t4.144094080424015\n",
      "  (999438, 0)\t4.144094080424015\n",
      "  (999453, 0)\t4.144094080424015\n",
      "  (999480, 0)\t4.144094080424015\n",
      "  (999482, 0)\t4.144094080424015\n",
      "  (999489, 0)\t4.144094080424015\n",
      "  (999493, 0)\t4.144094080424015\n",
      "  (999538, 0)\t4.144094080424015\n",
      "  (999540, 0)\t4.144094080424015\n",
      "  (999545, 0)\t4.144094080424015\n",
      "  (999553, 0)\t4.144094080424015\n",
      "  (999609, 0)\t4.144094080424015\n",
      "  (999693, 0)\t4.144094080424015\n",
      "  (999697, 0)\t4.144094080424015\n",
      "  (999725, 0)\t4.144094080424015\n",
      "  (999762, 0)\t4.144094080424015\n",
      "  (999770, 0)\t4.144094080424015\n",
      "  (999807, 0)\t4.144094080424015\n",
      "  (999836, 0)\t4.144094080424015\n",
      "  (999886, 0)\t4.144094080424015\n",
      "  (999918, 0)\t4.144094080424015\n",
      "  (999943, 0)\t4.144094080424015\n",
      "  (0, 614078)\t5.909118150905408\n",
      "  (0, 515640)\t9.224524577452918\n",
      "  (0, 633683)\t7.460509636858518\n",
      "  (0, 137990)\t5.721367980390103\n",
      "  (0, 169694)\t4.225700050215826\n",
      "  (0, 233677)\t5.054394346719373\n",
      "  (0, 546594)\t5.7741817287218735\n",
      "  (0, 633083)\t3.50602506103342\n",
      "  (0, 286502)\t5.876061695799535\n",
      "  (0, 396627)\t5.877373687590986\n",
      "  (0, 120826)\t9.431016495174685\n",
      "  (0, 292829)\t8.369791738578195\n",
      "  (0, 249202)\t4.769093176238611\n",
      "  (0, 391875)\t4.394332009244378\n",
      "  (0, 469930)\t7.427802318882733\n",
      "  (0, 441293)\t3.661162844221874\n",
      "  (0, 249327)\t11.41431417630162\n",
      "  (0, 559305)\t3.9152045301682956\n",
      "  (0, 5574)\t6.769282456888397\n",
      "  (0, 519068)\t3.5984481975357654\n",
      "  (0, 199683)\t4.148558165958748\n",
      "  (0, 87568)\t4.114606903691904\n",
      "  (0, 464502)\t3.0516017191746214\n",
      "  (0, 388727)\t3.8400295146638284\n",
      "  (0, 545650)\t9.759265752615466\n",
      "  :\t:\n",
      "  (0, 240739)\t3.7074463840404284\n",
      "  (0, 275401)\t8.841701946094513\n",
      "  (0, 119684)\t5.799605810665348\n",
      "  (0, 114401)\t8.048168432698382\n",
      "  (0, 493441)\t8.544523126105474\n",
      "  (0, 174941)\t11.289151033347613\n",
      "  (0, 164284)\t5.333847180148628\n",
      "  (0, 157007)\t4.001188124236455\n",
      "  (0, 365168)\t4.55925668631993\n",
      "  (0, 477167)\t6.831389599260847\n",
      "  (0, 488647)\t6.253153814593163\n",
      "  (0, 555334)\t4.693290162602136\n",
      "  (0, 296335)\t5.981320239761703\n",
      "  (0, 493059)\t6.872083790087402\n",
      "  (0, 473908)\t5.9781207024190754\n",
      "  (0, 248722)\t3.913232052041747\n",
      "  (0, 266258)\t3.5322131166656177\n",
      "  (0, 199663)\t6.244967191050542\n",
      "  (0, 98504)\t3.4983576975119046\n",
      "  (0, 532015)\t2.975284348521618\n",
      "  (0, 434323)\t3.786088421110646\n",
      "  (0, 388769)\t5.614312843904875\n",
      "  (0, 622284)\t3.031826399737714\n",
      "  (0, 105368)\t4.988743075841051\n",
      "  (0, 255617)\t3.363228214963107\n"
     ]
    }
   ],
   "source": [
    "print(idf_matrix[:,0])\n",
    "print(idf_matrix[0,:])"
   ]
  },
  {
   "cell_type": "markdown",
   "metadata": {},
   "source": [
    "### Look at top 10 IDF terms and their TFIDF  "
   ]
  },
  {
   "cell_type": "code",
   "execution_count": 21,
   "metadata": {
    "scrolled": false
   },
   "outputs": [
    {
     "data": {
      "application/vnd.jupyter.widget-view+json": {
       "model_id": "306b58f7c5674a1a8686141cc32a5613",
       "version_major": 2,
       "version_minor": 0
      },
      "text/html": [
       "<p>Failed to display Jupyter Widget of type <code>VBox</code>.</p>\n",
       "<p>\n",
       "  If you're reading this message in the Jupyter Notebook or JupyterLab Notebook, it may mean\n",
       "  that the widgets JavaScript is still loading. If this message persists, it\n",
       "  likely means that the widgets JavaScript library is either not installed or\n",
       "  not enabled. See the <a href=\"https://ipywidgets.readthedocs.io/en/stable/user_install.html\">Jupyter\n",
       "  Widgets Documentation</a> for setup instructions.\n",
       "</p>\n",
       "<p>\n",
       "  If you're reading this message in another frontend (for example, a static\n",
       "  rendering on GitHub or <a href=\"https://nbviewer.jupyter.org/\">NBViewer</a>),\n",
       "  it may mean that your frontend doesn't currently support widgets.\n",
       "</p>\n"
      ],
      "text/plain": [
       "VBox(children=(HTML(value='0 / 1000000 items . Rate ?/s . Remaining ?s . Elapsed 0.0s'), IntProgress(value=0, max=1000000)))"
      ]
     },
     "metadata": {},
     "output_type": "display_data"
    },
    {
     "name": "stdout",
     "output_type": "stream",
     "text": [
      "-----------------\n",
      "Document:  0\n",
      "\n",
      "Top 10 Highest IDF\n",
      "[ 16 119 106  24 100  93  56  10  73   1]\n",
      "['foregate', 'comradery', 'snowballed', 'socialise', 'hardman', 'bromsgrove', 'droitwich', 'bellies', 'hospitable', 'saluted']\n",
      "[249327 174941 545111 545650 282975 140287 212377 120826 296116 515640]\n",
      "IDF values:  [11.41431418 11.28915103  9.88825787  9.75926575  9.72176136  9.59515573\n",
      "  9.55282137  9.4310165   9.22452458  9.22452458]\n",
      "TFIDF values:  [ 9.88825787  2.87996237 11.28915103 11.32035389  4.14855817  4.84137917\n",
      "  5.61431284  4.45634118  5.98132024  3.50602506]\n",
      "\n",
      "Top 10 Highest TFIDF\n",
      "[  5 108 118 115   0  37  33 107  89 137]\n",
      "['veterans', 'club', 'breakfast', 'carney', 'worcester', 'postal', 'pub', 'clubs', 'forces', '10am']\n",
      "[614078 169694 137990 152153 633683 469930 480946 169758 249202   5574]\n",
      "TFIDF values:  [41.36382706 29.57990035 28.6068399  24.80187737 22.38152891 22.28340696\n",
      " 19.87796834 17.23847664 14.30727953 13.53856491]\n",
      "IDF values:  [5.05439435 4.66301779 8.54452313 8.84170195 5.90911815 5.06926278\n",
      " 5.71409359 4.45298654 5.88435613 4.98874308]\n",
      "\n",
      "-----------------\n",
      "Document:  1\n",
      "\n",
      "Top 10 Highest IDF\n",
      "[ 28 197 142  78 200 196 100  61 130  96]\n",
      "['jumpshot', 'bulleit', 'lookback', 'deren', '8845', 'mayes', 'cobble', 'injects', 'searchers', 'adwords']\n",
      "[327580 143097 366519 199020  67314 384445 170791 309722 525073  79590]\n",
      "IDF values:  [12.86960141 12.2505622  12.10746136 11.87107258 11.7244691   9.86675167\n",
      "  9.73410719  9.55282137  9.15951975  9.13193179]\n",
      "TFIDF values:  [ 3.96092613 11.14676863 11.58637787  7.20862703  9.92127337  6.80117582\n",
      "  7.50162473 11.22830063 10.94653223  7.28771757]\n",
      "\n",
      "Top 10 Highest TFIDF\n",
      "[103  89 150  99  43  56 156 166  74  76]\n",
      "['jumpshot', 'marketers', 'data', 'keywords', 'search', 'real', 'conversions', 'clicks', 'organic', 'online']\n",
      "[327580 380271 191926 337264 525046 492676 177806 168673 441530 439095]\n",
      "TFIDF values:  [180.17441972  47.34473435  42.02957856  38.28759172  31.23422243\n",
      "  24.05914525  22.76354718  22.6988895   17.99064399  17.59147426]\n",
      "IDF values:  [6.08159538 5.02580879 4.77369788 8.46812235 5.79318894 4.24838288\n",
      " 5.39580207 4.79495233 8.93218917 7.06489683]\n",
      "\n",
      "-----------------\n",
      "Document:  2\n",
      "\n",
      "Top 10 Highest IDF\n",
      "[51 49 17 43 39 11 14 23 27 16]\n",
      "['googlefacebooktwitter', 'kicksonfire', 'hyped', 'retro', 'footwear', 'nike', 'sensation', '80s', '90s', 'babies']\n",
      "[270387 338706 300332 500198 249060 424667 527902  65151  68507 110521]\n",
      "IDF values:  [10.21034137  9.57376454  8.26586082  7.37712803  7.2775489   7.17924195\n",
      "  7.10665196  6.81181422  6.73961793  6.23478035]\n",
      "TFIDF values:  [ 2.08239945  4.48868624  4.08890175  4.47328532  4.71276339  4.46737024\n",
      "  3.85016215  4.03225204 11.57003163  3.81389517]\n",
      "\n",
      "Top 10 Highest TFIDF\n",
      "[41 26 12 27 34 37 29 30 46 15]\n",
      "['basketball', 'nike', 'sensation', 'max', 'googlefacebooktwitter', 'fan', 'kicksonfire', 'hyped', 'air', 'retro']\n",
      "[116364 424667 527902 384089 270387 237947 338706 300332  83253 500198]\n",
      "TFIDF values:  [18.30332459 14.35848391 14.21330391 11.57003163 10.21034137  9.88868121\n",
      "  9.57376454  8.26586082  7.95511885  7.37712803]\n",
      "IDF values:  [4.91412621 5.22413539 3.97755942 6.73961793 5.10816055 4.09831986\n",
      " 3.07884272 4.03225204 5.01433362 4.48868624]\n",
      "\n",
      "-----------------\n",
      "Document:  3\n",
      "\n",
      "Top 10 Highest IDF\n",
      "[203 197 131 201 119 213 438 206 156 263]\n",
      "['warmore', 'tindering', 'westend61', 'springwise', 'allisonpdavis', 'hyperreal', 'famewhore', 'theallet', 'timestamps', 'bmis']\n",
      "[622668 585050 626926 552276  87425 300495 237795 579409 584793 131509]\n",
      "IDF values:  [13.71689927 13.20607365 13.02375209 12.86960141 12.86960141 12.73607002\n",
      " 11.98229821 11.9251398  11.7244691  11.59663573]\n",
      "TFIDF values:  [7.51234151 9.13533895 9.62662106 4.32986425 5.22800864 3.88659191\n",
      " 8.31572452 6.22006187 4.07564266 5.87278923]\n",
      "\n",
      "Top 10 Highest TFIDF\n",
      "[394 349  46 113 114  84 390 177  86   4]\n",
      "['cut', 'fashion', 'tweet', 'shares', 'share', 'style', 'dating', 'polly', 'street', 'yeezy']\n",
      "[187126 238989 597894 532130 532015 560623 192254 467824 559305 640171]\n",
      "TFIDF values:  [213.6105213   73.92306302  59.4729647   44.89707897  44.62926523\n",
      "  39.67781442  35.66487932  35.59723798  35.23684077  34.92404858]\n",
      "IDF values:  [ 4.35469655  6.9870752   3.83698745  4.72161028  7.25386981 11.00884907\n",
      "  4.62455446  3.8593335   7.02895975  2.61624704]\n",
      "\n",
      "-----------------\n",
      "Document:  4\n",
      "\n",
      "Top 10 Highest IDF\n",
      "[24  9 27 29 40 25 14 13 26 30]\n",
      "['loga', 'mysinchew', 'jaganathan', 'rm61', 'dbkl', 'bala', 'bersih', 'ultimatum', 'mohan', '840']\n",
      "[365517 412343 318369 504648 193259 112531 122923 601107 401317  65912]\n",
      "IDF values:  [13.20607365 13.02375209 12.86960141 12.73607002 11.2601635   9.08217028\n",
      "  8.98951145  8.54831101  8.4185819   8.07735906]\n",
      "TFIDF values:  [ 4.04173533  3.28249919  4.99442783  7.88403975  8.05278205  4.58625167\n",
      " 14.38471698  4.08727855  3.73066498  5.98161162]\n",
      "\n",
      "Top 10 Highest TFIDF\n",
      "[37 14 17 15  8 18  5 28 39  0]\n",
      "['bersih', 'lumpur', 'kuala', 'loga', 'mysinchew', 'jaganathan', 'rm61', 'dbkl', 'bala', 'ultimatum']\n",
      "[122923 369597 347594 365517 412343 318369 504648 193259 112531 601107]\n",
      "TFIDF values:  [17.9790229  14.38471698 14.31456806 13.20607365 13.02375209 12.86960141\n",
      " 12.73607002 11.2601635   9.08217028  8.54831101]\n",
      "IDF values:  [5.81688036 8.98951145 4.37074677 3.93884267 3.29595811 3.81251212\n",
      " 3.73066498 8.05278205 4.73400335 1.88672565]\n",
      "\n",
      "-----------------\n",
      "Document:  5\n",
      "\n",
      "Top 10 Highest IDF\n",
      "[ 92 131  99 110 113 118 103  85 111  65]\n",
      "['ringitt', '8807', '5749', '5835', '8627', '9515', '0173', '9568', '6864', '8139']\n",
      "[503286  67241  56104  56336  66591  69795   1240  69894  60189  65257]\n",
      "IDF values:  [13.71689927 13.02375209 12.86960141 12.86960141 12.86960141 12.73607002\n",
      " 12.73607002 12.73607002 12.73607002 12.2505622 ]\n",
      "TFIDF values:  [12.86960141  6.41835544  4.65027532 11.15194991 11.7244691   7.4903626\n",
      " 11.9251398   5.36717843 11.9251398  13.02375209]\n",
      "\n",
      "Top 10 Highest TFIDF\n",
      "[ 21  45  19  47  36 127  20  65  89  66]\n",
      "['rial', 'dollar', 'rupee', 'dinar', 'krone', '16', 'ringitt', '8807', '5835', '8627']\n",
      "[501876 208455 511084 204087 346884  11039 503286  67241  56336  66591]\n",
      "TFIDF values:  [33.53377619 29.95647666 24.17573751 21.61635675 19.91139831 13.75747391\n",
      " 13.71689927 13.02375209 12.86960141 12.86960141]\n",
      "IDF values:  [ 7.22769434  5.0759557   5.45977298 11.87107258 11.07784194  9.17715689\n",
      "  4.93565094 12.2505622  11.59663573  5.61906729]\n",
      "\n",
      "-----------------\n",
      "Document:  6\n",
      "\n",
      "Top 10 Highest IDF\n",
      "[157 245 138 243  66  68 156 161 135  59]\n",
      "['demoralise', 'hearers', 'doctoring', 'edifying', 'circulates', 'ceaseless', 'belittle', 'comings', 'flattery', 'augustus']\n",
      "[197798 286380 207833 219428 166515 156020 120651 173510 246132 106267]\n",
      "IDF values:  [11.68001734 10.84521964 10.79015987 10.65662847 10.03638806 10.01972101\n",
      "  9.89553063  9.89553063  9.79163104  9.673848  ]\n",
      "TFIDF values:  [ 4.76909318  3.50647864  4.81150017  3.72002763  6.52949409  4.65467228\n",
      " 11.83292625  5.4152122   7.8743215   6.40190268]\n",
      "\n",
      "Top 10 Highest TFIDF\n",
      "[  4 130 110  64 189  15  41 126 159  69]\n",
      "['words', 'influence', 'life', 'proverbs', 'death', 'use', 'speak', 'input', 'flo', 'power']\n",
      "[633751 308816 360873 476997 194222 607605 549878 310317 246810 470809]\n",
      "TFIDF values:  [132.64648292  56.99044724  42.8417683   26.58680467  20.55336428\n",
      "  20.43136837  18.48503676  18.36604465  18.23683614  18.19981369]\n",
      "IDF values:  [2.85071461 5.09624737 4.63265136 5.35208056 4.18793548 4.25168415\n",
      " 3.78433847 4.59732276 6.98111926 6.15041574]\n",
      "\n",
      "-----------------\n",
      "Document:  7\n",
      "\n",
      "Top 10 Highest IDF\n",
      "[ 68 198  77 107 209 190 193 197 115 176]\n",
      "['increaseall', 'comity', 'exerting', 'exerted', 'cushions', 'spaceship', 'inexperience', 'misunderstood', 'shortcuts', 'scrolling']\n",
      "[307477 173542 234241 234240 186979 549331 308511 398634 535350 524148]\n",
      "IDF values:  [12.86960141 10.80817837  9.27033411  8.85967419  8.68211351  8.63756744\n",
      "  8.57914197  8.1808782   8.14095017  8.09288176]\n",
      "TFIDF values:  [ 4.08083375  5.08399927  4.69784048  5.78501581  3.35689445 11.31103512\n",
      "  6.14731549  5.22133838  4.73105699  7.14741785]\n",
      "\n",
      "Top 10 Highest TFIDF\n",
      "[121 202  48  64  70 119  19  21 204  99]\n",
      "['ipad', 'apple', 'siri', 'screen', 'remote', 'iphone', 'tv', 'touch', 'app', 'movies']\n",
      "[313801  96611 539647 523938 497404 313918 597609 589514  96345 406095]\n",
      "TFIDF values:  [71.7531404  67.37810526 36.91513875 33.56466634 33.36348182 32.43792196\n",
      " 28.97076198 23.91881363 23.60805139 21.72285522]\n",
      "IDF values:  [4.68852052 5.76440141 5.97942837 4.13868028 3.35689445 2.69506761\n",
      " 5.68605591 3.56256221 6.9167292  7.25856099]\n",
      "\n",
      "-----------------\n",
      "Document:  8\n",
      "\n",
      "Top 10 Highest IDF\n",
      "[77 59 68 67 25 42 24 29 41 55]\n",
      "['300149371', 'hfesq', 'mm54604logo', '20120215', 'feffer', 'mismanaged', 'harwood', 'vasco', 'grossly', 'esq']\n",
      "[ 41703 290160 399716  17441 240800 398216 283961 611229 275023 230648]\n",
      "IDF values:  [13.71689927 10.32687519 10.32687519 10.32687519 10.28291206  9.45421939\n",
      "  9.15951975  8.90742862  8.29341876  7.88893452]\n",
      "TFIDF values:  [ 4.16479889  5.26009323  7.10508343  4.55673001  4.46676143  9.06389017\n",
      "  7.87496647  5.46567015  3.90792388 41.13164826]\n",
      "\n",
      "Top 10 Highest TFIDF\n",
      "[48 55  6 39 75 37 35 47 78 36]\n",
      "['harwood', 'feffer', 'vasco', 'llp', '300149371', 'matter', 'mm54604logo', 'hfesq', '20120215', 'mismanaged']\n",
      "[283961 240800 611229 364556  41703 383446 399716 290160  17441 398216]\n",
      "TFIDF values:  [45.79759874 41.13164826 26.72228586 19.85970597 13.71689927 12.26183565\n",
      " 10.32687519 10.32687519 10.32687519  9.45421939]\n",
      "IDF values:  [4.67908855 7.88893452 2.76342377 5.83056727 3.85055991 7.41550204\n",
      " 3.90158741 4.8686772  3.92495799 5.26009323]\n",
      "\n",
      "-----------------\n",
      "Document:  9\n",
      "\n",
      "Top 10 Highest IDF\n",
      "[ 82 104 103 264 108 176 252 137 254 142]\n",
      "['pt6m11s', 'midwinter', 'loughnane', 'massola', 'ellinghausen', 'nutt', 'tributaries', 'lieutenants', 'gatekeeper', 'hirst']\n",
      "[480769 394936 367333 382352 223329 431424 593150 360845 259641 292129]\n",
      "IDF values:  [13.4292172  11.15194991 10.62585682 10.56701632 10.09701269 10.0033272\n",
      "  9.74660736  9.63372801  9.51719419  9.41734886]\n",
      "TFIDF values:  [13.4292172   4.80420152 40.4990551   3.94561066  3.12185747  7.22668168\n",
      "  5.64651415  6.71292513  5.60887805  5.03052605]\n",
      "\n",
      "Top 10 Highest TFIDF\n",
      "[201 127 255 113  86  15 118 103 112 186]\n",
      "['credlin', 'loughnane', 'abbott', 'mr', 'prime', 'turnbull', 'minister', 'opposition', 'ms', 'ellinghausen']\n",
      "[182816 367333  73723 406672 474124 597174 397049 440591 407033 223329]\n",
      "TFIDF values:  [102.36735543  74.38099771  64.6006815   61.21692819  50.5050389\n",
      "  43.4401743   42.75862759  40.4990551   40.47028309  40.38805075]\n",
      "IDF values:  [ 3.88512256  5.79912008  8.5521133   4.19233227  4.80420152  3.85016215\n",
      "  4.78746399 10.62585682  5.05878539  8.61703284]\n",
      "\n"
     ]
    }
   ],
   "source": [
    "# length_list = []\n",
    "# Row -> Document, Column -> Term\n",
    "\n",
    "for i in progress_bar.iter_progress(range(idf_matrix.shape[0])):\n",
    "    if i==10:\n",
    "        break\n",
    "    idf_row = idf_matrix.getrow(i) # this is a 1 x 659255 csr matrix\n",
    "    tfidf_row = tfidf_matrix.getrow(i) # this is a 1 x 659255 csr matrix\n",
    "    top10Terms_tfidf_idx = tfidf_row.data.argsort()[::-1][:10] # index of top 10 terms in the small array with nonzeros \n",
    "    top10Terms_idf_idx = idf_row.data.argsort()[::-1][:10]\n",
    "    \n",
    "#     print(row.data) # give only nonzero values so the array is much less than 659255, e.g. 30\n",
    "#     print(row.indices) # gives the actual indices of the non zero terms\n",
    "    \n",
    "    print(\"-----------------\")\n",
    "    print(\"Document: \",i)\n",
    "    print()\n",
    "    \n",
    "    print(\"Top 10 Highest IDF\")\n",
    "    print(top10Terms_idf_idx)\n",
    "    print([inv_vocab[term_id] for term_id in idf_row.indices[top10Terms_idf_idx]])\n",
    "    print(idf_row.indices[top10Terms_idf_idx])\n",
    "    print(\"IDF values: \",idf_row.data[top10Terms_idf_idx])\n",
    "    print(\"TFIDF values: \", tfidf_row.data[top10Terms_idf_idx])\n",
    "    print()\n",
    "    \n",
    "    print(\"Top 10 Highest TFIDF\")\n",
    "    print(top10Terms_tfidf_idx)\n",
    "    print([inv_vocab[term_id] for term_id in tfidf_row.indices[top10Terms_tfidf_idx]])\n",
    "    print(tfidf_row.indices[top10Terms_tfidf_idx])\n",
    "    print(\"TFIDF values: \", tfidf_row.data[top10Terms_tfidf_idx])\n",
    "    print(\"IDF values: \", idf_row.data[top10Terms_tfidf_idx])\n",
    "    print()"
   ]
  },
  {
   "cell_type": "markdown",
   "metadata": {},
   "source": [
    "###### this is the list with the length of each document! 1000000\n",
    "len(length_list)\n",
    "np.mean(length_list)\n",
    "np.std(length_list)\n",
    "\n",
    "MEAN: 146.929484\n",
    "\n",
    "STD DEV: 125.54370629184781"
   ]
  },
  {
   "cell_type": "markdown",
   "metadata": {},
   "source": [
    "## Position of High terms in Docs"
   ]
  },
  {
   "cell_type": "code",
   "execution_count": 22,
   "metadata": {
    "collapsed": true
   },
   "outputs": [],
   "source": [
    "# do some regression to find alpha for each (buckets with freqs?)\n",
    "\n",
    "# as described here: https://www.nltk.org/_modules/nltk/tokenize.html\n",
    "# the default analyzer used in scikit is called \"word\": \n",
    "# https://towardsdatascience.com/hacking-scikit-learns-vectorizers-9ef26a7170af\n",
    "\n",
    "def find_positions_term(term, token_text):\n",
    "    pos = [k for k,v in enumerate(token_text) if v==term]\n",
    "    return pos\n",
    "\n",
    "def find_positions_termlist(terms, token_text):\n",
    "    term_set = set(terms)\n",
    "    pos = [k for k,v in enumerate(token_text) if v in term_set]\n",
    "    return pos"
   ]
  },
  {
   "cell_type": "code",
   "execution_count": 23,
   "metadata": {
    "collapsed": true
   },
   "outputs": [],
   "source": [
    "analyzer = tfidf_vectorizer.build_analyzer()"
   ]
  },
  {
   "cell_type": "markdown",
   "metadata": {},
   "source": [
    "#### Top 10 TFIDF terms per document"
   ]
  },
  {
   "cell_type": "code",
   "execution_count": 24,
   "metadata": {
    "scrolled": false
   },
   "outputs": [
    {
     "data": {
      "application/vnd.jupyter.widget-view+json": {
       "model_id": "8599983ffae64cfdb6e800f6886c64c8",
       "version_major": 2,
       "version_minor": 0
      },
      "text/html": [
       "<p>Failed to display Jupyter Widget of type <code>VBox</code>.</p>\n",
       "<p>\n",
       "  If you're reading this message in the Jupyter Notebook or JupyterLab Notebook, it may mean\n",
       "  that the widgets JavaScript is still loading. If this message persists, it\n",
       "  likely means that the widgets JavaScript library is either not installed or\n",
       "  not enabled. See the <a href=\"https://ipywidgets.readthedocs.io/en/stable/user_install.html\">Jupyter\n",
       "  Widgets Documentation</a> for setup instructions.\n",
       "</p>\n",
       "<p>\n",
       "  If you're reading this message in another frontend (for example, a static\n",
       "  rendering on GitHub or <a href=\"https://nbviewer.jupyter.org/\">NBViewer</a>),\n",
       "  it may mean that your frontend doesn't currently support widgets.\n",
       "</p>\n"
      ],
      "text/plain": [
       "VBox(children=(HTML(value='0 / 1000000 items . Rate ?/s . Remaining ?s . Elapsed 0.0s'), IntProgress(value=0, max=1000000)))"
      ]
     },
     "metadata": {},
     "output_type": "display_data"
    },
    {
     "name": "stdout",
     "output_type": "stream",
     "text": [
      "['veterans', 'club', 'breakfast', 'carney', 'worcester', 'postal', 'pub', 'clubs', 'forces', '10am']\n",
      "0\n",
      "194\n",
      "[0, 16, 27, 73, 124, 147, 174]\n",
      "[4, 13, 24, 47, 109, 123, 187]\n",
      "[3, 12, 108, 122, 186]\n",
      "[40, 89, 139]\n",
      "[2, 11, 45]\n",
      "\n",
      "\n",
      "['jumpshot', 'marketers', 'data', 'keywords', 'search', 'real', 'conversions', 'clicks', 'organic', 'online']\n",
      "1\n",
      "349\n",
      "[20, 37, 59, 94, 130, 142, 160, 210, 251, 270, 271, 291, 304, 313]\n",
      "[3, 40, 48, 77, 100, 215, 293]\n",
      "[12, 26, 104, 119, 126, 147, 167, 216, 220, 232, 259, 268]\n",
      "[6, 68, 79, 88, 179, 198]\n",
      "[52, 62, 72, 75, 82, 139, 150]\n",
      "\n",
      "\n",
      "['basketball', 'nike', 'sensation', 'max', 'googlefacebooktwitter', 'fan', 'kicksonfire', 'hyped', 'air', 'retro']\n",
      "2\n",
      "59\n",
      "[14, 22, 26]\n",
      "[3, 42]\n",
      "[6, 45]\n",
      "[5, 44]\n",
      "[58]\n",
      "\n",
      "\n",
      "['cut', 'fashion', 'tweet', 'shares', 'share', 'style', 'dating', 'polly', 'street', 'yeezy']\n",
      "3\n",
      "976\n",
      "[5, 54, 384, 616, 621, 627, 631, 639, 644, 652, 659, 666, 672, 677, 685, 692, 700, 707, 712, 719, 724, 732, 738, 743, 749, 755, 761, 768, 769, 775, 783, 787, 793, 799, 805, 811, 817, 823, 829, 834, 842, 848, 858, 864, 869, 877, 884, 890, 895, 903, 909, 915]\n",
      "[255, 319, 327, 334, 354, 618, 698, 730, 752, 758, 770, 865, 912, 921, 925]\n",
      "[114, 238, 267, 275, 286, 295, 305, 313, 324, 333, 341, 351]\n",
      "[111, 265, 273, 284, 293, 303, 311, 322, 331, 339, 349]\n",
      "[112, 115, 117, 120, 236, 266, 274, 285, 294, 304, 312, 323, 332, 340, 350]\n",
      "\n",
      "\n",
      "['bersih', 'lumpur', 'kuala', 'loga', 'mysinchew', 'jaganathan', 'rm61', 'dbkl', 'bala', 'ultimatum']\n",
      "4\n",
      "49\n",
      "[12, 46]\n",
      "[1, 6]\n",
      "[0, 5]\n",
      "[24]\n",
      "[4]\n",
      "\n",
      "\n",
      "['rial', 'dollar', 'rupee', 'dinar', 'krone', '16', 'ringitt', '8807', '5835', '8627']\n",
      "5\n",
      "159\n",
      "[114, 124, 130]\n",
      "[24, 40, 74, 108, 140, 149]\n",
      "[89, 103, 120]\n",
      "[34, 82]\n",
      "[57, 99]\n",
      "\n",
      "\n",
      "['words', 'influence', 'life', 'proverbs', 'death', 'use', 'speak', 'input', 'flo', 'power']\n",
      "6\n",
      "380\n",
      "[0, 7, 40, 46, 50, 68, 96, 101, 108, 112, 119, 125, 144, 151, 152, 157, 180, 185, 188, 193, 202, 209, 224, 251, 260, 267, 271, 322, 334, 374, 377]\n",
      "[20, 39, 45, 158, 166, 178, 205, 223, 231, 250, 275]\n",
      "[2, 18, 41, 53, 60, 70, 75, 94, 122, 150, 288, 292, 333, 347]\n",
      "[55, 126, 244]\n",
      "[17, 54, 59, 76, 102]\n",
      "\n",
      "\n",
      "['ipad', 'apple', 'siri', 'screen', 'remote', 'iphone', 'tv', 'touch', 'app', 'movies']\n",
      "7\n",
      "349\n",
      "[11, 32, 67, 76, 172, 173, 185, 187, 192, 197, 219, 227]\n",
      "[5, 12, 19, 26, 33, 50, 61, 168, 228, 230, 243, 260, 275, 330]\n",
      "[259, 271, 280, 298, 313]\n",
      "[49, 72, 93, 176, 194, 207, 218]\n",
      "[59, 247, 263, 295, 322, 332]\n",
      "\n",
      "\n",
      "['harwood', 'feffer', 'vasco', 'llp', '300149371', 'matter', 'mm54604logo', 'hfesq', '20120215', 'mismanaged']\n",
      "8\n",
      "104\n",
      "[1, 45, 47, 53, 88]\n",
      "[2, 48, 54, 89]\n",
      "[10, 32, 93]\n",
      "[3, 55, 90]\n",
      "[97]\n",
      "\n",
      "\n",
      "['credlin', 'loughnane', 'abbott', 'mr', 'prime', 'turnbull', 'minister', 'opposition', 'ms', 'ellinghausen']\n",
      "9\n",
      "474\n",
      "[35, 44, 68, 88, 122, 135, 168, 190, 235, 347, 366]\n",
      "[46, 65, 244, 276, 297, 324, 368]\n",
      "[1, 10, 24, 91, 101, 117, 130, 152, 188, 216, 254]\n",
      "[85, 100, 151, 187, 215, 253, 275, 294, 296, 299, 323, 367, 370, 390, 413, 418]\n",
      "[7, 26, 95, 201, 225, 310, 333, 407, 420, 433, 440, 454]\n",
      "\n",
      "\n"
     ]
    }
   ],
   "source": [
    "for i in progress_bar.iter_progress(range(idf_matrix.shape[0])):\n",
    "    if i==10:\n",
    "        break\n",
    "    idf_row = idf_matrix.getrow(i) # this is a 1 x 659255 csr matrix\n",
    "    tfidf_row = tfidf_matrix.getrow(i) # this is a 1 x 659255 csr matrix\n",
    "    top10Terms_tfidf_idx = tfidf_row.data.argsort()[::-1][:10] # index of top 10 terms in the small array with nonzeros \n",
    "    top10Terms_idf_idx = idf_row.data.argsort()[::-1][:10]\n",
    "    \n",
    "    # find the positions of high idf/tfidf terms in the text\n",
    "    top_10_terms = [inv_vocab[term_id] for term_id in tfidf_row.indices[top10Terms_tfidf_idx]]\n",
    "    print(top_10_terms)\n",
    "    \n",
    "    # inside the document\n",
    "    print(i) # i is the document index\n",
    "    all_text = dataset[\"content\"].iloc[i]\n",
    "    token_text = analyzer(all_text.lower())  \n",
    "    print(len(token_text))\n",
    "    \n",
    "    all_pos = []\n",
    "    for term in top_10_terms[:5]:\n",
    "        pos = find_positions_term(term, token_text)\n",
    "        print(pos)\n",
    "        all_pos.extend(pos)\n",
    "   \n",
    "    print()\n",
    "    print()"
   ]
  },
  {
   "cell_type": "markdown",
   "metadata": {},
   "source": [
    "#### Histograms for top 5 TFIDF terms per document\n",
    "\n",
    "DENSITY:\n",
    "\n",
    "n, bins, patches = plt.hist(values, 10, density=True)\n",
    "\n",
    "assert np.sum(n*np.diff(bins)) == 1"
   ]
  },
  {
   "cell_type": "code",
   "execution_count": 25,
   "metadata": {
    "collapsed": true
   },
   "outputs": [],
   "source": [
    "def plot_hist(values, n_bins=10, show=False):\n",
    "\n",
    "\n",
    "    n, bins, patches = plt.hist(values, n_bins, density=False, weights=np.ones(len(values)) / len(values))\n",
    "#     assert sum(n)==1.0\n",
    "    print(\"SUM:\", sum(n))\n",
    "\n",
    "    plt.xlabel('Position')\n",
    "    plt.ylabel('Probability')\n",
    "    plt.title('Histogram')\n",
    "    plt.grid(True)\n",
    "    if show:\n",
    "        plt.show()\n",
    "    \n",
    "    return n, bins"
   ]
  },
  {
   "cell_type": "code",
   "execution_count": 26,
   "metadata": {
    "scrolled": false
   },
   "outputs": [
    {
     "data": {
      "application/vnd.jupyter.widget-view+json": {
       "model_id": "fddff6638a6148b7869013071a03df90",
       "version_major": 2,
       "version_minor": 0
      },
      "text/html": [
       "<p>Failed to display Jupyter Widget of type <code>VBox</code>.</p>\n",
       "<p>\n",
       "  If you're reading this message in the Jupyter Notebook or JupyterLab Notebook, it may mean\n",
       "  that the widgets JavaScript is still loading. If this message persists, it\n",
       "  likely means that the widgets JavaScript library is either not installed or\n",
       "  not enabled. See the <a href=\"https://ipywidgets.readthedocs.io/en/stable/user_install.html\">Jupyter\n",
       "  Widgets Documentation</a> for setup instructions.\n",
       "</p>\n",
       "<p>\n",
       "  If you're reading this message in another frontend (for example, a static\n",
       "  rendering on GitHub or <a href=\"https://nbviewer.jupyter.org/\">NBViewer</a>),\n",
       "  it may mean that your frontend doesn't currently support widgets.\n",
       "</p>\n"
      ],
      "text/plain": [
       "VBox(children=(HTML(value='0 / 1000000 items . Rate ?/s . Remaining ?s . Elapsed 0.0s'), IntProgress(value=0, max=1000000)))"
      ]
     },
     "metadata": {},
     "output_type": "display_data"
    },
    {
     "name": "stdout",
     "output_type": "stream",
     "text": [
      "0\n",
      "['veterans', 'club', 'breakfast', 'carney', 'worcester']\n",
      "SUM: 1.0\n"
     ]
    },
    {
     "data": {
      "image/png": "[encoded data removed]",
      "text/plain": [
       "<matplotlib.figure.Figure at 0x7fb2a116fe80>"
      ]
     },
     "metadata": {},
     "output_type": "display_data"
    },
    {
     "name": "stdout",
     "output_type": "stream",
     "text": [
      "[0.32 0.08 0.12 0.04 0.04 0.08 0.12 0.08 0.   0.12] 1.0\n",
      "\n",
      "1\n",
      "['jumpshot', 'marketers', 'data', 'keywords', 'search']\n",
      "SUM: 1.0\n"
     ]
    },
    {
     "data": {
      "image/png": "[encoded data removed]",
      "text/plain": [
       "<matplotlib.figure.Figure at 0x7fb2a1146a20>"
      ]
     },
     "metadata": {},
     "output_type": "display_data"
    },
    {
     "name": "stdout",
     "output_type": "stream",
     "text": [
      "[0.10869565 0.13043478 0.17391304 0.08695652 0.10869565 0.06521739\n",
      " 0.08695652 0.04347826 0.10869565 0.08695652] 1.0\n",
      "\n",
      "2\n",
      "['basketball', 'nike', 'sensation', 'max', 'googlefacebooktwitter']\n",
      "SUM: 1.0\n"
     ]
    },
    {
     "data": {
      "image/png": "[encoded data removed]",
      "text/plain": [
       "<matplotlib.figure.Figure at 0x7fb2a1125128>"
      ]
     },
     "metadata": {},
     "output_type": "display_data"
    },
    {
     "name": "stdout",
     "output_type": "stream",
     "text": [
      "[0.3 0.  0.1 0.1 0.1 0.  0.  0.3 0.  0.1] 1.0\n",
      "\n",
      "3\n",
      "['cut', 'fashion', 'tweet', 'shares', 'share']\n",
      "SUM: 0.9999999999999998\n"
     ]
    },
    {
     "data": {
      "image/png": "[encoded data removed]",
      "text/plain": [
       "<matplotlib.figure.Figure at 0x7fb2a103dfd0>"
      ]
     },
     "metadata": {},
     "output_type": "display_data"
    },
    {
     "name": "stdout",
     "output_type": "stream",
     "text": [
      "[0.01904762 0.05714286 0.08571429 0.26666667 0.00952381 0.\n",
      " 0.06666667 0.15238095 0.18095238 0.16190476] 0.9999999999999998\n",
      "\n",
      "4\n",
      "['bersih', 'lumpur', 'kuala', 'loga', 'mysinchew']\n",
      "SUM: 1.0\n"
     ]
    },
    {
     "data": {
      "image/png": "[encoded data removed]",
      "text/plain": [
       "<matplotlib.figure.Figure at 0x7fb2a1079b00>"
      ]
     },
     "metadata": {},
     "output_type": "display_data"
    },
    {
     "name": "stdout",
     "output_type": "stream",
     "text": [
      "[0.375 0.25  0.125 0.    0.    0.125 0.    0.    0.    0.125] 1.0\n",
      "\n",
      "5\n",
      "['rial', 'dollar', 'rupee', 'dinar', 'krone']\n",
      "SUM: 1.0\n"
     ]
    },
    {
     "data": {
      "image/png": "[encoded data removed]",
      "text/plain": [
       "<matplotlib.figure.Figure at 0x7fb2a11951d0>"
      ]
     },
     "metadata": {},
     "output_type": "display_data"
    },
    {
     "name": "stdout",
     "output_type": "stream",
     "text": [
      "[0.125  0.0625 0.0625 0.     0.125  0.0625 0.1875 0.125  0.125  0.125 ] 1.0\n",
      "\n",
      "6\n",
      "['words', 'influence', 'life', 'proverbs', 'death']\n",
      "SUM: 1.0\n"
     ]
    },
    {
     "data": {
      "image/png": "[encoded data removed]",
      "text/plain": [
       "<matplotlib.figure.Figure at 0x7fb2a1224b70>"
      ]
     },
     "metadata": {},
     "output_type": "display_data"
    },
    {
     "name": "stdout",
     "output_type": "stream",
     "text": [
      "[0.09375  0.21875  0.109375 0.09375  0.140625 0.09375  0.078125 0.078125\n",
      " 0.046875 0.046875] 1.0\n",
      "\n",
      "7\n",
      "['ipad', 'apple', 'siri', 'screen', 'remote']\n",
      "SUM: 1.0\n"
     ]
    },
    {
     "data": {
      "image/png": "[encoded data removed]",
      "text/plain": [
       "<matplotlib.figure.Figure at 0x7fb2a0ffab00>"
      ]
     },
     "metadata": {},
     "output_type": "display_data"
    },
    {
     "name": "stdout",
     "output_type": "stream",
     "text": [
      "[0.15909091 0.11363636 0.06818182 0.         0.02272727 0.18181818\n",
      " 0.13636364 0.11363636 0.11363636 0.09090909] 1.0\n",
      "\n",
      "8\n",
      "['harwood', 'feffer', 'vasco', 'llp', '300149371']\n",
      "SUM: 1.0\n"
     ]
    },
    {
     "data": {
      "image/png": "[encoded data removed]",
      "text/plain": [
       "<matplotlib.figure.Figure at 0x7fb2a0fc1a90>"
      ]
     },
     "metadata": {},
     "output_type": "display_data"
    },
    {
     "name": "stdout",
     "output_type": "stream",
     "text": [
      "[0.25   0.     0.     0.0625 0.1875 0.1875 0.     0.     0.     0.3125] 1.0\n",
      "\n",
      "9\n",
      "['credlin', 'loughnane', 'abbott', 'mr', 'prime']\n",
      "SUM: 1.0\n"
     ]
    },
    {
     "data": {
      "image/png": "[encoded data removed]",
      "text/plain": [
       "<matplotlib.figure.Figure at 0x7fb2a0fad7f0>"
      ]
     },
     "metadata": {},
     "output_type": "display_data"
    },
    {
     "name": "stdout",
     "output_type": "stream",
     "text": [
      "[0.14035088 0.0877193  0.12280702 0.05263158 0.12280702 0.07017544\n",
      " 0.12280702 0.07017544 0.10526316 0.10526316] 1.0\n",
      "\n",
      "10\n",
      "['pitt', 'narduzzi', 'game', 'ysu', 'll']\n",
      "SUM: 1.0\n"
     ]
    },
    {
     "data": {
      "image/png": "[encoded data removed]",
      "text/plain": [
       "<matplotlib.figure.Figure at 0x7fb2a0fc1f60>"
      ]
     },
     "metadata": {},
     "output_type": "display_data"
    },
    {
     "name": "stdout",
     "output_type": "stream",
     "text": [
      "[0.04878049 0.07317073 0.07317073 0.17073171 0.09756098 0.04878049\n",
      " 0.07317073 0.09756098 0.19512195 0.12195122] 1.0\n",
      "\n",
      "11\n",
      "['tradingcharts', 'data', 'market', 'exchange', 'marketintelligencecenter']\n",
      "SUM: 1.0\n"
     ]
    },
    {
     "data": {
      "image/png": "[encoded data removed]",
      "text/plain": [
       "<matplotlib.figure.Figure at 0x7fb2a0fa8748>"
      ]
     },
     "metadata": {},
     "output_type": "display_data"
    },
    {
     "name": "stdout",
     "output_type": "stream",
     "text": [
      "[0.06060606 0.         0.         0.03030303 0.09090909 0.21212121\n",
      " 0.18181818 0.21212121 0.15151515 0.06060606] 1.0\n",
      "\n",
      "12\n",
      "['emails', 'clinton', 'petraeus', 'department', 'chain']\n",
      "SUM: 1.0\n"
     ]
    },
    {
     "data": {
      "image/png": "[encoded data removed]",
      "text/plain": [
       "<matplotlib.figure.Figure at 0x7fb2a0fce710>"
      ]
     },
     "metadata": {},
     "output_type": "display_data"
    },
    {
     "name": "stdout",
     "output_type": "stream",
     "text": [
      "[0.06122449 0.10204082 0.08163265 0.16326531 0.10204082 0.10204082\n",
      " 0.12244898 0.04081633 0.12244898 0.10204082] 1.0\n",
      "\n",
      "13\n",
      "['andujar', 'dominican', 'cardinals', 'joaquin', 'league']\n",
      "SUM: 1.0\n"
     ]
    },
    {
     "data": {
      "image/png": "[encoded data removed]",
      "text/plain": [
       "<matplotlib.figure.Figure at 0x7fb2a0ed9ac8>"
      ]
     },
     "metadata": {},
     "output_type": "display_data"
    },
    {
     "name": "stdout",
     "output_type": "stream",
     "text": [
      "[0.2  0.04 0.04 0.04 0.08 0.08 0.04 0.16 0.2  0.12] 1.0\n",
      "\n",
      "14\n",
      "['texas', 'nutall', 'mcdowell', 'touchdown', 'yard']\n",
      "SUM: 1.0\n"
     ]
    },
    {
     "data": {
      "image/png": "[encoded data removed]",
      "text/plain": [
       "<matplotlib.figure.Figure at 0x7fb2a0e92b38>"
      ]
     },
     "metadata": {},
     "output_type": "display_data"
    },
    {
     "name": "stdout",
     "output_type": "stream",
     "text": [
      "[0.03703704 0.14814815 0.14814815 0.07407407 0.07407407 0.14814815\n",
      " 0.11111111 0.14814815 0.         0.11111111] 1.0\n",
      "\n",
      "15\n",
      "['mail', 'rioters', 'patrols', 'daily', 'warn']\n",
      "SUM: 0.9999999999999999\n"
     ]
    },
    {
     "data": {
      "image/png": "[encoded data removed]",
      "text/plain": [
       "<matplotlib.figure.Figure at 0x7fb2a0e48828>"
      ]
     },
     "metadata": {},
     "output_type": "display_data"
    },
    {
     "name": "stdout",
     "output_type": "stream",
     "text": [
      "[0.28571429 0.         0.         0.14285714 0.         0.\n",
      " 0.14285714 0.         0.14285714 0.28571429] 0.9999999999999999\n",
      "\n",
      "16\n",
      "['promises', 'tanzanians', 'candidates', 'politicians', 'money']\n",
      "SUM: 1.0\n"
     ]
    },
    {
     "data": {
      "image/png": "[encoded data removed]",
      "text/plain": [
       "<matplotlib.figure.Figure at 0x7fb2a0ecdf60>"
      ]
     },
     "metadata": {},
     "output_type": "display_data"
    },
    {
     "name": "stdout",
     "output_type": "stream",
     "text": [
      "[0.20833333 0.04166667 0.125      0.08333333 0.08333333 0.\n",
      " 0.08333333 0.125      0.125      0.125     ] 1.0\n",
      "\n",
      "17\n",
      "['corbyn', 'watson', 'tory', 'est', 'sniggers']\n",
      "SUM: 1.0\n"
     ]
    },
    {
     "data": {
      "image/png": "[encoded data removed]",
      "text/plain": [
       "<matplotlib.figure.Figure at 0x7fb2a0e3b320>"
      ]
     },
     "metadata": {},
     "output_type": "display_data"
    },
    {
     "name": "stdout",
     "output_type": "stream",
     "text": [
      "[0.18181818 0.         0.09090909 0.18181818 0.         0.09090909\n",
      " 0.09090909 0.18181818 0.         0.18181818] 1.0\n",
      "\n",
      "18\n",
      "['deputies', 'helicopter', 'sheriff', 'suspect', 'freeway']\n",
      "SUM: 1.0000000000000002\n"
     ]
    },
    {
     "data": {
      "image/png": "[encoded data removed]",
      "text/plain": [
       "<matplotlib.figure.Figure at 0x7fb2a0f494a8>"
      ]
     },
     "metadata": {},
     "output_type": "display_data"
    },
    {
     "name": "stdout",
     "output_type": "stream",
     "text": [
      "[0.23076923 0.03846154 0.07692308 0.03846154 0.03846154 0.15384615\n",
      " 0.11538462 0.07692308 0.03846154 0.19230769] 1.0000000000000002\n",
      "\n",
      "19\n",
      "['cancer', 'research', 'phrma', 'alex', 'foundation']\n",
      "SUM: 0.9999999999999999\n"
     ]
    },
    {
     "data": {
      "image/png": "[encoded data removed]",
      "text/plain": [
       "<matplotlib.figure.Figure at 0x7fb2a0fe0390>"
      ]
     },
     "metadata": {},
     "output_type": "display_data"
    },
    {
     "name": "stdout",
     "output_type": "stream",
     "text": [
      "[0.11627907 0.04651163 0.06976744 0.06976744 0.06976744 0.06976744\n",
      " 0.18604651 0.11627907 0.20930233 0.04651163] 0.9999999999999999\n",
      "\n",
      "[0.16607486 0.07450914 0.08365212 0.08485583 0.0746513  0.08857872\n",
      " 0.09727493 0.10607315 0.09325648 0.13107348]\n",
      "1.0\n"
     ]
    }
   ],
   "source": [
    "cum_sum = np.zeros(10)\n",
    "\n",
    "for i in progress_bar.iter_progress(range(idf_matrix.shape[0])):\n",
    "    if i==20:\n",
    "        break\n",
    "    print(i) # i is the document index\n",
    "        \n",
    "    #idf_row = idf_matrix.getrow(i) # this is a 1 x 659255 csr matrix\n",
    "    tfidf_row = tfidf_matrix.getrow(i) # this is a 1 x 659255 csr matrix\n",
    "    top10Terms_tfidf_idx = tfidf_row.data.argsort()[::-1][:10] # index of top 10 terms in the small array with nonzeros \n",
    "    #top10Terms_idf_idx = idf_row.data.argsort()[::-1][:10]\n",
    "    \n",
    "    # find the positions of high idf/tfidf terms in the text\n",
    "    top_10_terms = [inv_vocab[term_id] for term_id in tfidf_row.indices[top10Terms_tfidf_idx]]\n",
    "    print(top_10_terms[:5])\n",
    "    \n",
    "    # inside the document\n",
    "    all_text = dataset[\"content\"].iloc[i]\n",
    "    token_text = analyzer(all_text.lower())\n",
    "    \n",
    "    all_pos = []\n",
    "    for term in top_10_terms[:5]:\n",
    "        pos = find_positions_term(term, token_text)\n",
    "        all_pos.extend(pos)\n",
    "    \n",
    "    n, bins = plot_hist(np.array(sorted(all_pos)), show=True)\n",
    "    cum_sum += n\n",
    "    print(n,sum(n))\n",
    "    print()\n",
    "    \n",
    "print(cum_sum/20)\n",
    "print(sum(cum_sum/20))"
   ]
  },
  {
   "cell_type": "markdown",
   "metadata": {},
   "source": [
    "### Average distribution for all docs"
   ]
  },
  {
   "cell_type": "code",
   "execution_count": 27,
   "metadata": {
    "collapsed": true
   },
   "outputs": [],
   "source": [
    "def getDistributionForRows(row_idxs, matrix, dataset, num_passage=10):\n",
    "    cum_sum = np.zeros(num_passage)\n",
    "    #for i in progress_bar.iter_progress(row_idxs):\n",
    "    for i in row_idxs:\n",
    "\n",
    "        row = matrix.getrow(i) # this is a 1 x 659255 csr matrix\n",
    "        top10Terms_idx = row.data.argsort()[::-1][:10]\n",
    "\n",
    "        # find the positions of high idf/tfidf terms in the text\n",
    "        top_10_terms = [inv_vocab[term_id] for term_id in row.indices[top10Terms_idx]]\n",
    "\n",
    "        # inside the document\n",
    "        all_text = dataset[\"content\"].iloc[i]\n",
    "        token_text = analyzer(all_text.lower())\n",
    "\n",
    "        all_pos = find_positions_termlist(top_10_terms[:5], token_text)\n",
    "        all_pos.append(len(token_text))\n",
    "        n,_ = np.histogram(all_pos, bins=num_passage, density=False, weights=np.ones(len(all_pos)) / len(all_pos))\n",
    "        cum_sum += n\n",
    "\n",
    "    return cum_sum/len(row_idxs) "
   ]
  },
  {
   "cell_type": "markdown",
   "metadata": {},
   "source": [
    "#### IDF"
   ]
  },
  {
   "cell_type": "code",
   "execution_count": 28,
   "metadata": {},
   "outputs": [
    {
     "data": {
      "text/plain": [
       "array([0.21536741, 0.07443482, 0.0717614 , 0.06874424, 0.06757452,\n",
       "       0.0709799 , 0.06936171, 0.06951786, 0.07363883, 0.21861932])"
      ]
     },
     "execution_count": 28,
     "metadata": {},
     "output_type": "execute_result"
    }
   ],
   "source": [
    "getDistributionForRows(range(idf_matrix.shape[0]), idf_matrix, dataset)\n",
    "\n",
    "# [ 0.21536741  0.07443482  0.0717614   0.06874424  0.06757452  0.0709799\n",
    "#  0.06936171  0.06951786  0.07363883  0.21861932]"
   ]
  },
  {
   "cell_type": "code",
   "execution_count": 29,
   "metadata": {},
   "outputs": [
    {
     "name": "stdout",
     "output_type": "stream",
     "text": [
      "Num passage 16\n",
      "[0.18571483 0.04908335 0.04662304 0.04408456 0.04492105 0.04306409\n",
      " 0.04319432 0.04119713 0.04532807 0.04318855 0.04320062 0.04283702\n",
      " 0.04489028 0.04546786 0.04808368 0.18912153]\n"
     ]
    }
   ],
   "source": [
    "# for num_passage in [2,4,8,16]:\n",
    "for num_passage in [16]:\n",
    "    distrib = getDistributionForRows(range(idf_matrix.shape[0]), idf_matrix, dataset, num_passage)\n",
    "    print(\"Num passage\", num_passage)\n",
    "    print(distrib)"
   ]
  },
  {
   "cell_type": "markdown",
   "metadata": {},
   "source": [
    "#### TFIDF"
   ]
  },
  {
   "cell_type": "code",
   "execution_count": 41,
   "metadata": {},
   "outputs": [
    {
     "data": {
      "text/plain": [
       "array([0.16176254, 0.09472742, 0.09135097, 0.08879455, 0.0870066 ,\n",
       "       0.09013596, 0.0879273 , 0.08500273, 0.08299202, 0.13029989])"
      ]
     },
     "execution_count": 41,
     "metadata": {},
     "output_type": "execute_result"
    }
   ],
   "source": [
    "getDistributionForRows(range(tfidf_matrix.shape[0]), tfidf_matrix, dataset)\n",
    "\n",
    "# [ 0.16176254  0.09472742  0.09135097  0.08879455  0.0870066   0.09013596\n",
    "#  0.0879273   0.08500273  0.08299202  0.13029989]"
   ]
  },
  {
   "cell_type": "code",
   "execution_count": 42,
   "metadata": {
    "collapsed": true
   },
   "outputs": [],
   "source": [
    "# for num_passage in [8,16]:\n",
    "# #     distrib = getDistributionForRows(range(tfidf_matrix.shape[0]), tfidf_matrix, dataset, num_passage)\n",
    "#     print(\"Num passage\", num_passage)\n",
    "#     print(distrib)"
   ]
  },
  {
   "cell_type": "markdown",
   "metadata": {},
   "source": [
    "#### See the distribution of document lengths - histo with 20 bins? "
   ]
  },
  {
   "cell_type": "code",
   "execution_count": 43,
   "metadata": {},
   "outputs": [
    {
     "data": {
      "application/vnd.jupyter.widget-view+json": {
       "model_id": "9e205862b3e64cf1b94c0f020b1576e9",
       "version_major": 2,
       "version_minor": 0
      },
      "text/html": [
       "<p>Failed to display Jupyter Widget of type <code>VBox</code>.</p>\n",
       "<p>\n",
       "  If you're reading this message in the Jupyter Notebook or JupyterLab Notebook, it may mean\n",
       "  that the widgets JavaScript is still loading. If this message persists, it\n",
       "  likely means that the widgets JavaScript library is either not installed or\n",
       "  not enabled. See the <a href=\"https://ipywidgets.readthedocs.io/en/stable/user_install.html\">Jupyter\n",
       "  Widgets Documentation</a> for setup instructions.\n",
       "</p>\n",
       "<p>\n",
       "  If you're reading this message in another frontend (for example, a static\n",
       "  rendering on GitHub or <a href=\"https://nbviewer.jupyter.org/\">NBViewer</a>),\n",
       "  it may mean that your frontend doesn't currently support widgets.\n",
       "</p>\n"
      ],
      "text/plain": [
       "VBox(children=(HTML(value='0 / 1000000 items . Rate ?/s . Remaining ?s . Elapsed 0.0s'), IntProgress(value=0, max=1000000)))"
      ]
     },
     "metadata": {},
     "output_type": "display_data"
    }
   ],
   "source": [
    "doc_len = []\n",
    "\n",
    "for i in progress_bar.iter_progress(range(idf_matrix.shape[0])):\n",
    "    # inside the document\n",
    "    all_text = dataset[\"content\"].iloc[i]\n",
    "    token_text = analyzer(all_text.lower())\n",
    "    doc_len.append(len(token_text))"
   ]
  },
  {
   "cell_type": "code",
   "execution_count": 44,
   "metadata": {},
   "outputs": [
    {
     "name": "stdout",
     "output_type": "stream",
     "text": [
      "Average document length:  224.215573\n"
     ]
    }
   ],
   "source": [
    "print(\"Average document length: \",np.mean(doc_len))"
   ]
  },
  {
   "cell_type": "code",
   "execution_count": 45,
   "metadata": {},
   "outputs": [
    {
     "data": {
      "image/png": "[encoded data removed]",
      "text/plain": [
       "<matplotlib.figure.Figure at 0x7fb2a0c74a90>"
      ]
     },
     "metadata": {},
     "output_type": "display_data"
    }
   ],
   "source": [
    "plt.semilogx(sorted(doc_len, reverse=True))\n",
    "plt.title(\"Doc len distribution\")\n",
    "plt.xlabel(\"Doc ids\")\n",
    "plt.ylabel(\"Length\")\n",
    "plt.show()"
   ]
  },
  {
   "cell_type": "code",
   "execution_count": 46,
   "metadata": {},
   "outputs": [
    {
     "data": {
      "text/plain": [
       "(array([991198,   7015,   1071,    335,    185,    138,     35,      9,\n",
       "             9,      5]),\n",
       " array([    0. ,  1122.8,  2245.6,  3368.4,  4491.2,  5614. ,  6736.8,\n",
       "         7859.6,  8982.4, 10105.2, 11228. ]))"
      ]
     },
     "execution_count": 46,
     "metadata": {},
     "output_type": "execute_result"
    }
   ],
   "source": [
    "np.histogram(doc_len, bins=10)  #, density=False, weights=np.ones(len(doc_len)) / len(doc_len))"
   ]
  },
  {
   "cell_type": "code",
   "execution_count": 47,
   "metadata": {},
   "outputs": [
    {
     "data": {
      "text/plain": [
       "(array([334203, 237057, 180391, 110374,  57140,  30897,  19895,   9028,\n",
       "          5687,   3702]),\n",
       " array([   0.,  100.,  200.,  300.,  400.,  500.,  600.,  700.,  800.,\n",
       "         900., 1000.]))"
      ]
     },
     "execution_count": 47,
     "metadata": {},
     "output_type": "execute_result"
    }
   ],
   "source": [
    "#### see the distribution of articles with length smaller than 1000\n",
    "a_max1000 = [x for x in doc_len if x<=1000]\n",
    "np.histogram(a_max1000, bins=10)"
   ]
  },
  {
   "cell_type": "code",
   "execution_count": 37,
   "metadata": {
    "collapsed": true
   },
   "outputs": [],
   "source": [
    "### Create a dict from doc length interval and index list\n",
    "from collections import defaultdict\n",
    "\n",
    "doc_len_index = defaultdict(list)\n",
    "for idx, length in enumerate(doc_len):\n",
    "    doc_len_index[int(length/100)].append(idx)"
   ]
  },
  {
   "cell_type": "code",
   "execution_count": 38,
   "metadata": {},
   "outputs": [
    {
     "data": {
      "text/plain": [
       "dict_keys([1, 3, 0, 9, 4, 2, 10, 6, 17, 12, 11, 7, 8, 5, 27, 16, 52, 14, 26, 29, 13, 20, 15, 31, 19, 18, 33, 23, 57, 24, 30, 50, 28, 25, 61, 32, 21, 38, 22, 39, 34, 65, 40, 48, 72, 42, 58, 73, 47, 69, 36, 54, 49, 80, 37, 43, 35, 53, 44, 41, 100, 46, 66, 56, 70, 59, 51, 101, 55, 63, 68, 64, 75, 104, 62, 60, 45, 74, 77, 82, 90, 83, 71, 67, 107, 95, 112, 78, 99, 92])"
      ]
     },
     "execution_count": 38,
     "metadata": {},
     "output_type": "execute_result"
    }
   ],
   "source": [
    "doc_len_index.keys()"
   ]
  },
  {
   "cell_type": "code",
   "execution_count": 39,
   "metadata": {
    "collapsed": true
   },
   "outputs": [],
   "source": [
    "result_dict=dict()\n",
    "for len_interval, idx_list in doc_len_index.items():\n",
    "    v = getDistributionForRows(idx_list, tfidf_matrix, dataset)\n",
    "    result_dict[len_interval]=v"
   ]
  },
  {
   "cell_type": "code",
   "execution_count": 40,
   "metadata": {
    "scrolled": false
   },
   "outputs": [
    {
     "name": "stdout",
     "output_type": "stream",
     "text": [
      "Interval: [100-200) | # 237057 documents\n",
      "[0.16136574 0.09785744 0.09301447 0.09004245 0.08899131 0.0912055\n",
      " 0.0877989  0.08481957 0.08222813 0.12267649]\n",
      "\n",
      "Interval: [300-400) | # 110374 documents\n",
      "[0.14087671 0.10060016 0.09636052 0.09558817 0.09410044 0.09506545\n",
      " 0.09429025 0.0920869  0.0866107  0.1044207 ]\n",
      "\n",
      "Interval: [0-100) | # 334203 documents\n",
      "[0.189193   0.08520249 0.08329569 0.07932924 0.07643277 0.08290069\n",
      " 0.08007387 0.07681443 0.07928606 0.16747177]\n",
      "\n",
      "Interval: [900-1000) | # 3681 documents\n",
      "[0.12167941 0.10047539 0.10125426 0.10073969 0.09891918 0.09852337\n",
      " 0.09656944 0.09372878 0.09109698 0.09701351]\n",
      "\n",
      "Interval: [400-500) | # 57140 documents\n",
      "[0.13570972 0.10062411 0.09806977 0.09719599 0.09540273 0.09630073\n",
      " 0.09475363 0.09219446 0.08774726 0.10200161]\n",
      "\n",
      "Interval: [200-300) | # 180391 documents\n",
      "[0.14845057 0.10004219 0.0951859  0.09319213 0.09185818 0.09344167\n",
      " 0.09280031 0.09034853 0.08439229 0.11028822]\n",
      "\n",
      "Interval: [1000-1100) | # 2448 documents\n",
      "[0.11972221 0.10038947 0.10259283 0.10034801 0.0977827  0.0974509\n",
      " 0.09635264 0.0943335  0.09237317 0.09865459]\n",
      "\n",
      "Interval: [600-700) | # 19895 documents\n",
      "[0.12483194 0.10028129 0.09833465 0.09949687 0.10009788 0.09887894\n",
      " 0.09648811 0.09289984 0.08889889 0.09979159]\n",
      "\n",
      "Interval: [1700-1800) | # 396 documents\n",
      "[0.11749781 0.0997875  0.0966981  0.09952589 0.09483317 0.09774211\n",
      " 0.09936499 0.09463168 0.09781076 0.102108  ]\n",
      "\n",
      "Interval: [1200-1300) | # 1264 documents\n",
      "[0.11592046 0.09921361 0.10029061 0.09993663 0.09718003 0.09941617\n",
      " 0.1006704  0.09776408 0.09130082 0.09830717]\n",
      "\n",
      "Interval: [1100-1200) | # 1607 documents\n",
      "[0.12273643 0.10112517 0.10205477 0.10379186 0.10044959 0.09805059\n",
      " 0.09534037 0.09196721 0.0895477  0.09493631]\n",
      "\n",
      "Interval: [700-800) | # 9028 documents\n",
      "[0.12552778 0.10306635 0.10003596 0.09775248 0.09824443 0.09920134\n",
      " 0.09637041 0.0913815  0.0891877  0.09923205]\n",
      "\n",
      "Interval: [800-900) | # 5687 documents\n",
      "[0.12262198 0.10039084 0.10096516 0.10268014 0.09946775 0.10144917\n",
      " 0.09670081 0.09018677 0.08835847 0.09717892]\n",
      "\n",
      "Interval: [500-600) | # 30897 documents\n",
      "[0.13214738 0.10109375 0.09950243 0.09828308 0.09696422 0.09708981\n",
      " 0.09557873 0.09225783 0.08755491 0.09952786]\n",
      "\n",
      "Interval: [2700-2800) | # 94 documents\n",
      "[0.10525712 0.11333597 0.11658002 0.10523876 0.1047476  0.1048001\n",
      " 0.10067267 0.09213168 0.08381672 0.07341936]\n",
      "\n",
      "Interval: [1600-1700) | # 497 documents\n",
      "[0.10976482 0.09906521 0.10025889 0.09690016 0.09875956 0.09946586\n",
      " 0.09899181 0.09599811 0.09518233 0.10561325]\n",
      "\n",
      "Interval: [5200-5300) | # 17 documents\n",
      "[0.11806661 0.09967532 0.09031079 0.12179639 0.11996675 0.09588178\n",
      " 0.11826884 0.07948272 0.0829524  0.0735984 ]\n",
      "\n",
      "Interval: [1400-1500) | # 816 documents\n",
      "[0.11490968 0.09795316 0.1008074  0.10312801 0.10255274 0.10035196\n",
      " 0.09441164 0.09376718 0.09511111 0.09700712]\n",
      "\n",
      "Interval: [2600-2700) | # 112 documents\n",
      "[0.1090991  0.10437561 0.10378194 0.09818551 0.10287648 0.10043969\n",
      " 0.1065169  0.09265537 0.08859578 0.09347361]\n",
      "\n",
      "Interval: [2900-3000) | # 60 documents\n",
      "[0.10522766 0.0830953  0.08865508 0.10042912 0.09929839 0.09529534\n",
      " 0.1044025  0.10531403 0.11544048 0.1028421 ]\n",
      "\n",
      "Interval: [1300-1400) | # 986 documents\n",
      "[0.11650578 0.09718453 0.09791769 0.1006685  0.10174674 0.10077324\n",
      " 0.0955672  0.09622536 0.09391786 0.09949309]\n",
      "\n",
      "Interval: [2000-2100) | # 246 documents\n",
      "[0.11473592 0.10453605 0.09926828 0.09789765 0.09994852 0.10280589\n",
      " 0.09875703 0.09972057 0.09017443 0.09215567]\n",
      "\n",
      "Interval: [1500-1600) | # 593 documents\n",
      "[0.11274698 0.09886186 0.09728602 0.09694375 0.10011632 0.09838935\n",
      " 0.09855664 0.09799891 0.10024327 0.09885689]\n",
      "\n",
      "Interval: [3100-3200) | # 71 documents\n",
      "[0.10814725 0.09601691 0.10372622 0.10008526 0.09556877 0.1000236\n",
      " 0.11390705 0.09327055 0.08438488 0.10486951]\n",
      "\n",
      "Interval: [1900-2000) | # 289 documents\n",
      "[0.11655575 0.10391315 0.10535114 0.09594339 0.09267906 0.09970982\n",
      " 0.09853478 0.09665676 0.09295523 0.09770091]\n",
      "\n",
      "Interval: [1800-1900) | # 410 documents\n",
      "[0.11555343 0.09944349 0.09824953 0.10291143 0.09775305 0.10125363\n",
      " 0.10299507 0.09362396 0.09459122 0.09362518]\n",
      "\n",
      "Interval: [3300-3400) | # 48 documents\n",
      "[0.10678825 0.09566807 0.09116498 0.10179732 0.09190268 0.1056404\n",
      " 0.10127867 0.10024833 0.09162317 0.11388814]\n",
      "\n",
      "Interval: [2300-2400) | # 150 documents\n",
      "[0.1138439  0.10516515 0.09745012 0.09257289 0.10038963 0.10611177\n",
      " 0.09409669 0.0960917  0.09372276 0.1005554 ]\n",
      "\n",
      "Interval: [5700-5800) | # 20 documents\n",
      "[0.11699932 0.09548159 0.11304492 0.11411424 0.09513006 0.09310617\n",
      " 0.10390372 0.09910302 0.08916271 0.07995425]\n",
      "\n",
      "Interval: [2400-2500) | # 144 documents\n",
      "[0.11997466 0.11540041 0.10203478 0.09494229 0.09309442 0.09585268\n",
      " 0.09905295 0.09862367 0.08737913 0.09364501]\n",
      "\n",
      "Interval: [3000-3100) | # 56 documents\n",
      "[0.12111705 0.09939482 0.10436553 0.10078215 0.1124335  0.10138998\n",
      " 0.09148782 0.09437423 0.09682401 0.0778309 ]\n",
      "\n",
      "Interval: [5000-5100) | # 14 documents\n",
      "[0.09950703 0.09493434 0.09426452 0.10838221 0.10598845 0.1112326\n",
      " 0.09691226 0.09872978 0.10056991 0.08947889]\n",
      "\n",
      "Interval: [2800-2900) | # 92 documents\n",
      "[0.10778047 0.09701492 0.10334305 0.09791188 0.10116296 0.09506701\n",
      " 0.10313635 0.10439443 0.09755547 0.09263346]\n",
      "\n",
      "Interval: [2500-2600) | # 112 documents\n",
      "[0.11010728 0.10217317 0.10787577 0.09979955 0.09899114 0.09222916\n",
      " 0.09910925 0.09789553 0.0993005  0.09251865]\n",
      "\n",
      "Interval: [6100-6200) | # 15 documents\n",
      "[0.13317169 0.10166175 0.08363083 0.09244282 0.09458263 0.10710401\n",
      " 0.09548104 0.10428074 0.09983968 0.0878048 ]\n",
      "\n",
      "Interval: [3200-3300) | # 64 documents\n",
      "[0.11235901 0.10347766 0.09967724 0.10320454 0.10860132 0.09073173\n",
      " 0.09645745 0.09225924 0.09237929 0.10085251]\n",
      "\n",
      "Interval: [2100-2200) | # 209 documents\n",
      "[0.11718379 0.10244383 0.10380444 0.09747461 0.09688147 0.09998626\n",
      " 0.10106312 0.09343796 0.09838986 0.08933468]\n",
      "\n",
      "Interval: [3800-3900) | # 31 documents\n",
      "[0.10517767 0.09488678 0.10346011 0.10051031 0.09918546 0.09304984\n",
      " 0.09268714 0.1081829  0.10380202 0.09905775]\n",
      "\n",
      "Interval: [2200-2300) | # 185 documents\n",
      "[0.11210246 0.10675385 0.09564921 0.09237421 0.10131332 0.10005709\n",
      " 0.09779909 0.10222119 0.09475153 0.09697805]\n",
      "\n",
      "Interval: [3900-4000) | # 28 documents\n",
      "[0.12609498 0.10726005 0.11060818 0.1095822  0.10144229 0.10226795\n",
      " 0.09525923 0.09252889 0.08097448 0.07398175]\n",
      "\n",
      "Interval: [3400-3500) | # 36 documents\n",
      "[0.09316023 0.09752165 0.09739964 0.11497107 0.10143104 0.1028962\n",
      " 0.09727444 0.10095977 0.0967793  0.09760665]\n",
      "\n",
      "Interval: [6500-6600) | # 10 documents\n",
      "[0.09072803 0.07038526 0.08453109 0.11018912 0.13583318 0.09712914\n",
      " 0.10182261 0.10828272 0.08740176 0.11369707]\n",
      "\n",
      "Interval: [4000-4100) | # 23 documents\n",
      "[0.11001237 0.0917542  0.08502358 0.09131552 0.09637694 0.1054263\n",
      " 0.11778203 0.10240438 0.10101408 0.09889061]\n",
      "\n",
      "Interval: [4800-4900) | # 16 documents\n",
      "[0.10974596 0.10784125 0.09207014 0.08932841 0.08353319 0.1110297\n",
      " 0.11008303 0.10550699 0.09211824 0.09874309]\n",
      "\n",
      "Interval: [7200-7300) | # 4 documents\n",
      "[0.10775984 0.08793764 0.09390621 0.10151059 0.10171623 0.08860283\n",
      " 0.10153009 0.09865756 0.10999287 0.10838613]\n",
      "\n",
      "Interval: [4200-4300) | # 13 documents\n",
      "[0.13424644 0.10426479 0.10559242 0.09872902 0.12210535 0.10684239\n",
      " 0.08544964 0.0712345  0.08117936 0.0903561 ]\n",
      "\n",
      "Interval: [5800-5900) | # 17 documents\n",
      "[0.10196394 0.09344658 0.11028014 0.10505103 0.11399164 0.11722262\n",
      " 0.1045806  0.08261648 0.09862662 0.07222036]\n",
      "\n",
      "Interval: [7300-7400) | # 2 documents\n",
      "[0.10919566 0.13099175 0.11181965 0.11879682 0.08452262 0.06738553\n",
      " 0.08843784 0.10670004 0.08855488 0.0935952 ]\n",
      "\n",
      "Interval: [4700-4800) | # 26 documents\n",
      "[0.09912695 0.09108396 0.10224258 0.10183989 0.10871326 0.09980517\n",
      " 0.11068017 0.09989471 0.09388025 0.09273306]\n",
      "\n",
      "Interval: [6900-7000) | # 7 documents\n",
      "[0.10726703 0.11134727 0.09876254 0.10818848 0.10484009 0.08934355\n",
      " 0.0930348  0.09774349 0.09904998 0.09042278]\n",
      "\n",
      "Interval: [3600-3700) | # 42 documents\n",
      "[0.09695324 0.08611742 0.09480971 0.11391259 0.10196661 0.10572682\n",
      " 0.10004951 0.10325834 0.09545614 0.10174962]\n",
      "\n",
      "Interval: [5400-5500) | # 18 documents\n",
      "[0.10706507 0.09125359 0.09720216 0.09621378 0.10672732 0.08936228\n",
      " 0.10190091 0.10513597 0.10356058 0.10157834]\n",
      "\n",
      "Interval: [4900-5000) | # 14 documents\n",
      "[0.11047801 0.11703535 0.11493165 0.11187045 0.08565687 0.09400826\n",
      " 0.08111035 0.10211333 0.09856994 0.08422579]\n",
      "\n",
      "Interval: [8000-8100) | # 2 documents\n",
      "[0.06814957 0.09760922 0.08698872 0.10009863 0.09934084 0.10692561\n",
      " 0.11180353 0.1131915  0.11049572 0.10539666]\n",
      "\n",
      "Interval: [3700-3800) | # 26 documents\n",
      "[0.11418579 0.10539297 0.08309944 0.07844215 0.09001888 0.091025\n",
      " 0.10845756 0.114498   0.10147084 0.11340936]\n",
      "\n",
      "Interval: [4300-4400) | # 18 documents\n",
      "[0.08502956 0.0931695  0.10900856 0.0962546  0.09982848 0.10701274\n",
      " 0.11212622 0.1005716  0.10729708 0.08970167]\n",
      "\n",
      "Interval: [3500-3600) | # 44 documents\n",
      "[0.09674537 0.09055614 0.08454324 0.09009914 0.09191917 0.11006524\n",
      " 0.11096289 0.09175032 0.1023836  0.13097488]\n",
      "\n",
      "Interval: [5300-5400) | # 15 documents\n",
      "[0.10480606 0.09189128 0.11034867 0.08930291 0.08728356 0.10399695\n",
      " 0.10555292 0.09427297 0.10525743 0.10728726]\n",
      "\n",
      "Interval: [4400-4500) | # 28 documents\n",
      "[0.11266129 0.0946364  0.10567989 0.09788219 0.0777492  0.10658657\n",
      " 0.10409773 0.10386937 0.09558592 0.10125144]\n",
      "\n",
      "Interval: [4100-4200) | # 31 documents\n",
      "[0.10110496 0.09160416 0.08645452 0.09475793 0.09604838 0.10376485\n",
      " 0.11000883 0.10988849 0.09946128 0.1069066 ]\n",
      "\n",
      "Interval: [10000-10100) | # 3 documents\n",
      "[0.00757074 0.00332062 0.20104017 0.19512617 0.17093738 0.14897855\n",
      " 0.26010585 0.01125908 0.00110762 0.00055381]\n",
      "\n",
      "Interval: [4600-4700) | # 15 documents\n",
      "[0.07927663 0.09268311 0.10480241 0.09391093 0.09526111 0.09686586\n",
      " 0.12221533 0.11450782 0.09731141 0.10316539]\n",
      "\n",
      "Interval: [6600-6700) | # 4 documents\n",
      "[0.08576996 0.06048691 0.07505628 0.13754986 0.14031002 0.09682724\n",
      " 0.07512825 0.09393488 0.11030271 0.12463391]\n",
      "\n",
      "Interval: [5600-5700) | # 8 documents\n",
      "[0.1338993  0.09552054 0.10555525 0.07893698 0.0911299  0.08232672\n",
      " 0.08439788 0.11448774 0.11453735 0.09920834]\n",
      "\n",
      "Interval: [7000-7100) | # 3 documents\n",
      "[0.09489341 0.08916372 0.08398062 0.11826292 0.0684767  0.10092072\n",
      " 0.12439774 0.11006822 0.12277748 0.08705846]\n",
      "\n",
      "Interval: [5900-6000) | # 25 documents\n",
      "[0.10752532 0.0874719  0.07861814 0.08875791 0.09898936 0.12497933\n",
      " 0.11703655 0.10308202 0.11482431 0.07871516]\n",
      "\n",
      "Interval: [5100-5200) | # 20 documents\n",
      "[0.10016559 0.09845359 0.10689397 0.10367494 0.09233685 0.10598428\n",
      " 0.10839919 0.10303427 0.09552988 0.08552742]\n",
      "\n",
      "Interval: [10100-10200) | # 3 documents\n",
      "[0.00756769 0.00333077 0.19206067 0.19227577 0.18271191 0.13481062\n",
      " 0.2587782  0.026802   0.00110824 0.00055412]\n",
      "\n",
      "Interval: [5500-5600) | # 11 documents\n",
      "[0.11200473 0.10163048 0.09004302 0.0960507  0.09290356 0.0897717\n",
      " 0.08770124 0.08558119 0.11455608 0.12975731]\n",
      "\n",
      "Interval: [6300-6400) | # 10 documents\n",
      "[0.10320831 0.09564354 0.08420183 0.07781496 0.06590689 0.15674298\n",
      " 0.12963763 0.09675456 0.1000733  0.09001601]\n",
      "\n",
      "Interval: [6800-6900) | # 3 documents\n",
      "[0.06141695 0.10834848 0.10424416 0.14074151 0.10448325 0.1079297\n",
      " 0.08100325 0.09511115 0.09195572 0.10476583]\n",
      "\n",
      "Interval: [6400-6500) | # 9 documents\n",
      "[0.12298026 0.10567296 0.09356955 0.11902091 0.09532936 0.08347034\n",
      " 0.08254345 0.09950088 0.1016773  0.09623501]\n",
      "\n",
      "Interval: [7500-7600) | # 3 documents\n",
      "[0.09050694 0.1086963  0.12620892 0.0963358  0.09027739 0.08964664\n",
      " 0.1288745  0.08744571 0.09502431 0.08698349]\n",
      "\n",
      "Interval: [10400-10500) | # 1 documents\n",
      "[0.04636234 0.05563481 0.09343795 0.10271041 0.08131241 0.09843081\n",
      " 0.14764622 0.13980029 0.11982882 0.11483595]\n",
      "\n",
      "Interval: [6200-6300) | # 9 documents\n",
      "[0.11909044 0.12833859 0.12386538 0.10248244 0.10388078 0.07489154\n",
      " 0.10307009 0.09608658 0.08672367 0.06157049]\n",
      "\n",
      "Interval: [6000-6100) | # 8 documents\n",
      "[0.12140194 0.10728259 0.09485397 0.08837452 0.12688124 0.11253576\n",
      " 0.09270917 0.09242408 0.09719854 0.06633818]\n",
      "\n",
      "Interval: [4500-4600) | # 15 documents\n",
      "[0.12001156 0.09752609 0.09572367 0.10429683 0.122923   0.09902325\n",
      " 0.0946841  0.08715758 0.09308693 0.08556697]\n",
      "\n",
      "Interval: [7400-7500) | # 4 documents\n",
      "[0.13515587 0.11755146 0.11319918 0.0809206  0.13103725 0.11582224\n",
      " 0.0639201  0.10773075 0.08095587 0.05370668]\n",
      "\n",
      "Interval: [7700-7800) | # 1 documents\n",
      "[0.22358176 0.1996663  0.1996663  0.12068966 0.04783092 0.05784205\n",
      " 0.04060067 0.02780868 0.03225806 0.05005562]\n",
      "\n",
      "Interval: [8200-8300) | # 3 documents\n",
      "[0.10191091 0.09952371 0.10031736 0.10282822 0.10482416 0.10405885\n",
      " 0.09407528 0.11147206 0.08713786 0.0938516 ]\n",
      "\n",
      "Interval: [9000-9100) | # 1 documents\n",
      "[0.11178615 0.08019441 0.11178615 0.09477521 0.06682868 0.10692588\n",
      " 0.10935601 0.09234508 0.10328068 0.12272175]\n",
      "\n",
      "Interval: [8300-8400) | # 4 documents\n",
      "[0.08448375 0.11432054 0.114558   0.11536134 0.0962258  0.10616646\n",
      " 0.11010636 0.09637488 0.08490449 0.07749838]\n",
      "\n",
      "Interval: [7100-7200) | # 2 documents\n",
      "[0.089588   0.10261979 0.14467085 0.10340349 0.07384684 0.080206\n",
      " 0.11233766 0.08278101 0.06377071 0.14677564]\n",
      "\n",
      "Interval: [6700-6800) | # 9 documents\n",
      "[0.10403029 0.10455687 0.10212719 0.10608458 0.09855697 0.09292206\n",
      " 0.09633789 0.08847263 0.09861383 0.10829769]\n",
      "\n",
      "Interval: [10700-10800) | # 1 documents\n",
      "[0.10207864 0.09996028 0.09757712 0.09744472 0.09943069 0.10168145\n",
      " 0.10843373 0.09691513 0.10512379 0.09135443]\n",
      "\n",
      "Interval: [9500-9600) | # 1 documents\n",
      "[0.09259962 0.0914611  0.09108159 0.08918406 0.11499051 0.11574953\n",
      " 0.11650854 0.11005693 0.08728653 0.09108159]\n",
      "\n",
      "Interval: [11200-11300) | # 1 documents\n",
      "[0.09663738 0.09784914 0.10330203 0.10178734 0.09663738 0.10118146\n",
      " 0.10481672 0.10360497 0.0975462  0.09663738]\n",
      "\n",
      "Interval: [7800-7900) | # 1 documents\n",
      "[0.0918239  0.08679245 0.08050314 0.08176101 0.12830189 0.09811321\n",
      " 0.12327044 0.09937107 0.09937107 0.11069182]\n",
      "\n",
      "Interval: [9900-10000) | # 2 documents\n",
      "[0.00747677 0.00359712 0.19961814 0.19601243 0.1713685  0.15172023\n",
      " 0.26135021 0.00719547 0.00110742 0.00055371]\n",
      "\n",
      "Interval: [9200-9300) | # 1 documents\n",
      "[0.10778016 0.07566024 0.09921485 0.11206281 0.08422555 0.09992862\n",
      " 0.10278373 0.12491078 0.12776588 0.06566738]\n",
      "\n"
     ]
    }
   ],
   "source": [
    "for k,v in result_dict.items():\n",
    "    interval = \"Interval: [\" + str(k*100) + \"-\" + str(k*100+100) +\")\"\n",
    "    print(interval, \"| #\", len(doc_len_index[k]), \"documents\")\n",
    "    print(v)\n",
    "    print()"
   ]
  },
  {
   "cell_type": "code",
   "execution_count": null,
   "metadata": {
    "collapsed": true
   },
   "outputs": [],
   "source": []
  }
 ],
 "metadata": {
  "kernelspec": {
   "display_name": "Python 3",
   "language": "python",
   "name": "python3"
  },
  "language_info": {
   "codemirror_mode": {
    "name": "ipython",
    "version": 3
   },
   "file_extension": ".py",
   "mimetype": "text/x-python",
   "name": "python",
   "nbconvert_exporter": "python",
   "pygments_lexer": "ipython3",
   "version": "3.6.3"
  }
 },
 "nbformat": 4,
 "nbformat_minor": 2
}
