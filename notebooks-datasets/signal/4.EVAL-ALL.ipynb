{
 "cells": [
  {
   "cell_type": "code",
   "execution_count": 81,
   "metadata": {},
   "outputs": [
    {
     "name": "stdout",
     "output_type": "stream",
     "text": [
      "The autoreload extension is already loaded. To reload it, use:\n",
      "  %reload_ext autoreload\n"
     ]
    }
   ],
   "source": [
    "%load_ext autoreload\n",
    "%autoreload 2\n",
    "import json\n",
    "from scipy import sparse\n",
    "from time import time\n",
    "import pandas as pd\n",
    "import numpy as np\n",
    "import matplotlib.pyplot as plt\n",
    "import progress_bar\n",
    "from collections import defaultdict\n",
    "import string\n",
    "import scipy.stats as stats"
   ]
  },
  {
   "cell_type": "markdown",
   "metadata": {},
   "source": [
    "## Loading query lists"
   ]
  },
  {
   "cell_type": "code",
   "execution_count": 43,
   "metadata": {
    "collapsed": true
   },
   "outputs": [],
   "source": [
    "with open('queryTypeGlobal.json') as json_data:\n",
    "    qTypeGlobal = json.load(json_data)"
   ]
  },
  {
   "cell_type": "code",
   "execution_count": 44,
   "metadata": {
    "collapsed": true
   },
   "outputs": [],
   "source": [
    "def loadJSON(sampleFilename):\n",
    "    with open(sampleFilename) as json_data:\n",
    "        sample_10000 = json.load(json_data)\n",
    "    return sample_10000"
   ]
  },
  {
   "cell_type": "code",
   "execution_count": 45,
   "metadata": {
    "collapsed": true
   },
   "outputs": [],
   "source": [
    "# Sample 10000 A\n",
    "sample_10000_A = loadJSON(\"sample-v2-10000-A.txt\")"
   ]
  },
  {
   "cell_type": "code",
   "execution_count": 46,
   "metadata": {
    "collapsed": true
   },
   "outputs": [],
   "source": [
    "# Sample 10000 B\n",
    "sample_10000_B = loadJSON(\"sample-v2-10000-B.txt\")"
   ]
  },
  {
   "cell_type": "code",
   "execution_count": 47,
   "metadata": {
    "collapsed": true
   },
   "outputs": [],
   "source": [
    "# Sample 10000 C\n",
    "sample_10000_C = loadJSON(\"sample-v2-10000-C.txt\")"
   ]
  },
  {
   "cell_type": "code",
   "execution_count": 48,
   "metadata": {
    "collapsed": true
   },
   "outputs": [],
   "source": [
    "# Sample 10000 D\n",
    "sample_10000_D = loadJSON(\"sample-v2-10000-D.txt\")"
   ]
  },
  {
   "cell_type": "code",
   "execution_count": 49,
   "metadata": {},
   "outputs": [
    {
     "name": "stdout",
     "output_type": "stream",
     "text": [
      "[32805, 343102, 666213, 929213, 281028, 418473, 587272, 648286, 175840, 807055]\n"
     ]
    }
   ],
   "source": [
    "len(set(sample_10000_C) & set(sample_10000_D))\n",
    "\n",
    "print(sample_10000_A[:10])"
   ]
  },
  {
   "cell_type": "markdown",
   "metadata": {},
   "source": [
    "# How we do it\n",
    "\n",
    "#### Scoring functions to evaluate:\n",
    "    - BM25 \n",
    "    - BM25P10-top5-idf \n",
    "    - BM25P10-top5-tfidf \n",
    "    - BM25P10-top10-idf \n",
    "    - BM25P10-top10-tfidf\n",
    "\n",
    "For each scoring function result file we evaluate the 4 query types (A,B,C and D). We have some intermediate files from which we read the position of the corrent doc match. We evaluate if in top 1,10,100.\n",
    "\n",
    "What are the metrics we are interested in?\n",
    "- Win/loss ratio\n",
    "- Average rank\n",
    "- Precision @ 1,10,100\n",
    "- MRR\n",
    "\n",
    "There might be some queries in the input files with no results"
   ]
  },
  {
   "cell_type": "markdown",
   "metadata": {},
   "source": [
    "## Metrics"
   ]
  },
  {
   "cell_type": "code",
   "execution_count": 10,
   "metadata": {
    "collapsed": true
   },
   "outputs": [],
   "source": [
    "def averageRank(rank_list):\n",
    "    return np.mean(rank_list)"
   ]
  },
  {
   "cell_type": "code",
   "execution_count": 11,
   "metadata": {
    "collapsed": true
   },
   "outputs": [],
   "source": [
    "def winLossRatio(rank_list, interval = [0,1]):\n",
    "    correct_class = [r for r in rank_list if r >= interval[0] and r < interval[1]]\n",
    "#     print(len(correct_class),len(rank_list))\n",
    "    if len(correct_class) == len(rank_list): return \"-\"\n",
    "    else: return len(correct_class)/(len(rank_list) - len(correct_class))"
   ]
  },
  {
   "cell_type": "code",
   "execution_count": 12,
   "metadata": {
    "collapsed": true
   },
   "outputs": [],
   "source": [
    "def precision(rank, at=10):\n",
    "    n_rel_retrieved = 0\n",
    "    if rank <= at:\n",
    "        n_rel_retrieved = 1\n",
    "    return n_rel_retrieved/at"
   ]
  },
  {
   "cell_type": "code",
   "execution_count": 13,
   "metadata": {
    "collapsed": true
   },
   "outputs": [],
   "source": [
    "def avgPrecision(rank_list, at=1):\n",
    "    prec_list = [precision(r, at) for r in rank_list]\n",
    "    return np.mean(prec_list)"
   ]
  },
  {
   "cell_type": "code",
   "execution_count": 14,
   "metadata": {
    "collapsed": true
   },
   "outputs": [],
   "source": [
    "def MRR(rank_list, at=None):\n",
    "    if at is not None:\n",
    "        inverse_ranks = [1./x for x in rank_list if x <= at]\n",
    "    else:\n",
    "        inverse_ranks = [1./x for x in rank_list]\n",
    "#     print(len(rank_list))\n",
    "    return np.mean(inverse_ranks)"
   ]
  },
  {
   "cell_type": "code",
   "execution_count": 15,
   "metadata": {
    "collapsed": true
   },
   "outputs": [],
   "source": [
    "def RR(rank_list, at=None):\n",
    "    if at is not None:\n",
    "        inverse_ranks = [1./x for x in rank_list if x <= at]\n",
    "    else:\n",
    "        inverse_ranks = [1./x for x in rank_list]\n",
    "#     print(len(rank_list))\n",
    "    return inverse_ranks"
   ]
  },
  {
   "cell_type": "code",
   "execution_count": 16,
   "metadata": {
    "collapsed": true
   },
   "outputs": [],
   "source": [
    "### http://hamelg.blogspot.com/2015/11/python-for-data-analysis-part-24.html"
   ]
  },
  {
   "cell_type": "code",
   "execution_count": 17,
   "metadata": {
    "collapsed": true
   },
   "outputs": [],
   "source": [
    "def two_sample_ttest_ind(a,b):\n",
    "    return stats.ttest_ind(a, b, equal_var=False)"
   ]
  },
  {
   "cell_type": "code",
   "execution_count": 18,
   "metadata": {
    "collapsed": true
   },
   "outputs": [],
   "source": [
    "def paired_ttest_in_time(a, b):\n",
    "    return stats.ttest_reltest_rel(a, b)"
   ]
  },
  {
   "cell_type": "code",
   "execution_count": 19,
   "metadata": {
    "collapsed": true
   },
   "outputs": [],
   "source": [
    "intervals = [[0,1], [1,10], [10,100], [100,1000]]\n",
    "\n",
    "def getMetrics(ranks, positions, interval):\n",
    "    print(\"Avg. rank:\", averageRank(ranks))\n",
    "    print(\"Win/loss\", winLossRatio(positions, interval))\n",
    "    print(\"Avg. P@1\", avgPrecision(ranks, at=1))\n",
    "    print(\"Avg. P@10\", avgPrecision(ranks, at=10))\n",
    "    print(\"Avg. P@100\", avgPrecision(ranks, at=100))\n",
    "    print(\"Avg. P@1000\", avgPrecision(ranks, at=1000))\n",
    "    print(\"MRR\", MRR(ranks))"
   ]
  },
  {
   "cell_type": "markdown",
   "metadata": {},
   "source": [
    "# EVAL "
   ]
  },
  {
   "cell_type": "code",
   "execution_count": 20,
   "metadata": {
    "collapsed": true
   },
   "outputs": [],
   "source": [
    "queryTypes = [\"A\", \"B\", \"C\", \"D\"]"
   ]
  },
  {
   "cell_type": "code",
   "execution_count": 21,
   "metadata": {
    "collapsed": true
   },
   "outputs": [],
   "source": [
    "def getQueryTypeSets(positions):\n",
    "    A = [x for x in positions if x==0]\n",
    "    B = [x for x in positions if x>0 and x<10]\n",
    "    C = [x for x in positions if x>=10 and x<100]\n",
    "    D = [x for x in positions if x>=100 and x<1000]\n",
    "    print(\"A\",len(A))\n",
    "    print(\"B\", len(B))\n",
    "    print(\"C\",len(C))\n",
    "    print(\"D\", len(D))"
   ]
  },
  {
   "cell_type": "code",
   "execution_count": 22,
   "metadata": {
    "collapsed": true
   },
   "outputs": [],
   "source": [
    "def getQueryTypeSetsInline(positions):\n",
    "    A = [x for x in positions if x==0]\n",
    "    B = [x for x in positions if x>0 and x<10]\n",
    "    C = [x for x in positions if x>=10 and x<100]\n",
    "    D = [x for x in positions if x>=100 and x<1000]\n",
    "#     return \" , \".join([str(len(A)),str(len(B)),str(len(C)), str(len(D)), str(10000-len(A) -len(B)-len(C)-len(D))])\n",
    "    return len(A), len(B), len(C), len(D)\n"
   ]
  },
  {
   "cell_type": "markdown",
   "metadata": {},
   "source": [
    "### BM25"
   ]
  },
  {
   "cell_type": "code",
   "execution_count": 155,
   "metadata": {
    "collapsed": true
   },
   "outputs": [],
   "source": [
    "def evalBM25(filename, qt):\n",
    "    Bm25queryRankDict = loadJSON(filename)\n",
    "\n",
    "    positions = list(Bm25queryRankDict.values())\n",
    "    ranks = [x+1 for x in positions]\n",
    "#     getMetrics(ranks, positions, interval=intervals[queryTypes.index(qt)])\n",
    "\n",
    "    getMetrics(ranks, positions, interval=intervals[queryTypes.index(qt)])\n",
    "    getQueryTypeSets(positions)\n",
    "\n",
    "    #get some data\n",
    "    bm25_mrr = MRR(ranks)\n",
    "    bm25_avg_ranks = np.mean(ranks)\n",
    "    bm25_query_class = getQueryTypeSetsInline(positions)\n",
    "\n",
    "    return bm25_mrr, bm25_avg_ranks, bm25_query_class"
   ]
  },
  {
   "cell_type": "code",
   "execution_count": 156,
   "metadata": {},
   "outputs": [
    {
     "name": "stdout",
     "output_type": "stream",
     "text": [
      "A\n",
      "Avg. rank: 1.0\n",
      "Win/loss -\n",
      "Avg. P@1 1.0\n",
      "Avg. P@10 0.1\n",
      "Avg. P@100 0.01\n",
      "Avg. P@1000 0.001\n",
      "MRR 1.0\n",
      "A 10000\n",
      "B 0\n",
      "C 0\n",
      "D 0\n",
      "\n",
      "B\n",
      "Avg. rank: 3.9538\n",
      "Win/loss -\n",
      "Avg. P@1 0.0\n",
      "Avg. P@10 0.1\n",
      "Avg. P@100 0.01\n",
      "Avg. P@1000 0.001\n",
      "MRR 0.32496452381\n",
      "A 0\n",
      "B 10000\n",
      "C 0\n",
      "D 0\n",
      "\n",
      "C\n",
      "Avg. rank: 34.88\n",
      "Win/loss -\n",
      "Avg. P@1 0.0\n",
      "Avg. P@10 0.0\n",
      "Avg. P@100 0.01\n",
      "Avg. P@1000 0.001\n",
      "MRR 0.0416907718055\n",
      "A 0\n",
      "B 0\n",
      "C 10000\n",
      "D 0\n",
      "\n",
      "D\n",
      "Avg. rank: 364.3362\n",
      "Win/loss -\n",
      "Avg. P@1 0.0\n",
      "Avg. P@10 0.0\n",
      "Avg. P@100 0.0\n",
      "Avg. P@1000 0.001\n",
      "MRR 0.00404004666534\n",
      "A 0\n",
      "B 0\n",
      "C 0\n",
      "D 10000\n",
      "\n"
     ]
    }
   ],
   "source": [
    "bm25_mrr_dict = dict()\n",
    "bm25_avg_rank_dict = dict()\n",
    "for qt in queryTypes:\n",
    "    print(qt)\n",
    "    filename = \"evalOutput/BM25-signal-sample-10000-\"+qt+\".txt\"\n",
    "    bm25_mrr, bm25_avg_ranks, bm25_query_class = evalBM25(filename, qt)\n",
    "    bm25_mrr_dict[(\"bm25-plain\", qt)] = bm25_mrr\n",
    "    bm25_avg_rank_dict[(\"bm25-plain\", qt)] = bm25_avg_ranks\n",
    "    print()"
   ]
  },
  {
   "cell_type": "code",
   "execution_count": 157,
   "metadata": {},
   "outputs": [
    {
     "data": {
      "text/plain": [
       "{('bm25-plain', 'A'): 1.0,\n",
       " ('bm25-plain', 'B'): 0.32496452380952384,\n",
       " ('bm25-plain', 'C'): 0.041690771805544057,\n",
       " ('bm25-plain', 'D'): 0.0040400466653436112}"
      ]
     },
     "execution_count": 157,
     "metadata": {},
     "output_type": "execute_result"
    }
   ],
   "source": [
    "bm25_mrr_dict "
   ]
  },
  {
   "cell_type": "code",
   "execution_count": 158,
   "metadata": {},
   "outputs": [
    {
     "name": "stdout",
     "output_type": "stream",
     "text": [
      "101.0425\n"
     ]
    },
    {
     "data": {
      "text/plain": [
       "{('bm25-plain', 'A'): 1.0,\n",
       " ('bm25-plain', 'B'): 3.9538000000000002,\n",
       " ('bm25-plain', 'C'): 34.880000000000003,\n",
       " ('bm25-plain', 'D'): 364.33620000000002}"
      ]
     },
     "execution_count": 158,
     "metadata": {},
     "output_type": "execute_result"
    }
   ],
   "source": [
    "print(np.mean(list(bm25_avg_rank_dict.values())))\n",
    "bm25_avg_rank_dict"
   ]
  },
  {
   "cell_type": "markdown",
   "metadata": {},
   "source": [
    "### BM25P "
   ]
  },
  {
   "cell_type": "code",
   "execution_count": 179,
   "metadata": {
    "collapsed": true
   },
   "outputs": [],
   "source": [
    "# Settings\n",
    "dirEval = \"./TerrierOutput-grid-search-alpha-p/eval/\"\n",
    "baseTypes = [\"top5-idf\", \n",
    "             \"top5-tfidf\",\n",
    "             \"top10-idf\",\n",
    "             \"top10-tfidf\"]\n",
    "queryTypes = [\"A\", \"B\",\"C\", \"D\"]\n",
    "ending = \".txt\" # sometimes res\n",
    "\n",
    "\n",
    "prettyNames={\"top5-idf\":\"BM25P Top-5-IDF\", \"top5-tfidf\":\"BM25P Top-5-TFIDF\", \n",
    "            \"top10-idf\":\"BM25P Top-10-IDF\", \"top10-tfidf\":\"BM25P Top-10-TFIDF\"}"
   ]
  },
  {
   "cell_type": "markdown",
   "metadata": {},
   "source": [
    "### MRR plots for different alpha"
   ]
  },
  {
   "cell_type": "code",
   "execution_count": 162,
   "metadata": {
    "collapsed": true,
    "scrolled": false
   },
   "outputs": [],
   "source": [
    "import os\n",
    "\n",
    "mrr_dict = defaultdict(list)\n",
    "rr_dict = defaultdict(list)\n",
    "average_rank_dict = defaultdict(list)\n",
    "rank_dict = defaultdict(list)\n",
    "for filename in os.listdir(dirEval):\n",
    "    name_items = filename.split(\"-\")\n",
    "    baseType = name_items[2]+\"-\"+name_items[3]\n",
    "    alpha = filename.split(\".\")[0].split(\"-\")[10]\n",
    "    \n",
    "    queryRankDict = loadJSON(dirEval+filename)\n",
    "    positions = list(queryRankDict.values())\n",
    "    ranks = [x+1 for x in positions]\n",
    "    mrr_dict[(baseType, name_items[6])].append(((int(alpha)), MRR(ranks)))\n",
    "    rr_dict[(baseType, name_items[6])].append(((int(alpha)), RR(ranks)))\n",
    "    average_rank_dict[(baseType, name_items[6])].append(((int(alpha)), np.mean(ranks)))\n",
    "    rank_dict[(baseType, name_items[6])].append(((int(alpha)), ranks))"
   ]
  },
  {
   "cell_type": "code",
   "execution_count": 163,
   "metadata": {},
   "outputs": [
    {
     "name": "stdout",
     "output_type": "stream",
     "text": [
      "dict_keys([('top5-idf', 'B'), ('top5-tfidf', 'A'), ('top10-tfidf', 'A'), ('top10-tfidf', 'C'), ('bm25-plain', 'C'), ('top5-tfidf', 'D'), ('top10-idf', 'D'), ('top5-tfidf', 'C'), ('top5-idf', 'C'), ('bm25-plain', 'A'), ('top10-idf', 'A'), ('top5-idf', 'A'), ('top10-tfidf', 'B'), ('top10-tfidf', 'D'), ('top5-tfidf', 'B'), ('top10-idf', 'B'), ('top10-idf', 'C'), ('top5-idf', 'D'), ('bm25-plain', 'B'), ('bm25-plain', 'D')])\n"
     ]
    }
   ],
   "source": [
    "print(mrr_dict.keys())\n",
    "# print(mrr_dict['top5-idf', 'B'])"
   ]
  },
  {
   "cell_type": "code",
   "execution_count": 186,
   "metadata": {},
   "outputs": [
    {
     "name": "stdout",
     "output_type": "stream",
     "text": [
      "0.952 & 0.373 & 0.070 & 0.009\n",
      "0.982 & 0.366 & 0.055 & 0.005\n",
      "0.976 & 0.365 & 0.055 & 0.005\n",
      "0.988 & 0.359 & 0.051 & 0.005\n",
      "\n",
      "0.958 & 0.377 & 0.072 & 0.010\n",
      "0.980 & 0.370 & 0.060 & 0.006\n",
      "0.977 & 0.368 & 0.059 & 0.006\n",
      "0.984 & 0.364 & 0.055 & 0.005\n",
      "\n",
      "0.959 & 0.379 & 0.074 & 0.012\n",
      "0.976 & 0.369 & 0.063 & 0.008\n",
      "0.974 & 0.370 & 0.062 & 0.008\n",
      "0.980 & 0.366 & 0.059 & 0.007\n",
      "\n",
      "0.958 & 0.378 & 0.075 & 0.013\n",
      "0.973 & 0.369 & 0.065 & 0.009\n",
      "0.970 & 0.368 & 0.065 & 0.009\n",
      "0.975 & 0.362 & 0.061 & 0.008\n",
      "\n"
     ]
    }
   ],
   "source": [
    "# JUST FOR PRINTING \n",
    "\n",
    "for alpha in [10, 15, 20, 25]:\n",
    "    for baseType in baseTypes:\n",
    "#         print(alpha, baseType, end=\" \")\n",
    "        vals = []\n",
    "        for queryType in queryTypes:\n",
    "            key = (baseType, queryType)\n",
    "            mrr = [y for x,y in mrr_dict[baseType, queryType] if x==alpha]\n",
    "#             print(queryType, mrr, end=\" \")\n",
    "            vals.append(mrr[0])\n",
    "#         print()\n",
    "#         print(vals)\n",
    "#         print()\n",
    "        print(\" & \".join([str(\"{:.3f}\".format(i)) for i in vals]))\n",
    "#         print()\n",
    "    print()"
   ]
  },
  {
   "cell_type": "code",
   "execution_count": 180,
   "metadata": {
    "collapsed": true
   },
   "outputs": [],
   "source": [
    "def plot_and_sort(baseType, mrr_dict, queryTypes):\n",
    "    for queryType in queryTypes:\n",
    "        key = (baseType, queryType)\n",
    "        mrr_list = mrr_dict[key]\n",
    "        #print(sorted(mrr_list, key=lambda tup: tup[0]))\n",
    "        x = [x for x,y in sorted(mrr_list, key=lambda tup: tup[0])]\n",
    "        y = [y for x,y in sorted(mrr_list, key=lambda tup: tup[0])]\n",
    "#         print(y)\n",
    "        plt.plot(x,y , label=prettyNames[key[0]] + \" \" + key[1])\n",
    "        #print(max(y),x[y.index(max(y))])\n",
    "#         plt.plot(x[y.index(max(y))], max(y), \"or\")\n",
    "        baseline_y = [bm25_mrr_dict[(\"bm25-plain\", queryType)]] * len(x)\n",
    "#         print(baseline_y)\n",
    "        plt.plot(x, baseline_y, label=\"BM25 \" + str(queryType), linestyle=\"--\")\n",
    "#         print()\n",
    "#     plt.legend(loc='center left', bbox_to_anchor=(1, 0.5))\n",
    "    plt.legend(loc='upper right')\n",
    "#     plt.title(\"BM25P varying alpha\")\n",
    "    plt.xlabel(\"Alpha\")\n",
    "    plt.ylabel(\"MRR@1000\")\n",
    "    plt.savefig(\"Signal-BM25-vary-alpha-\"+baseType+\".pdf\", bbox_inches='tight')\n",
    "    plt.show()"
   ]
  },
  {
   "cell_type": "code",
   "execution_count": 181,
   "metadata": {
    "scrolled": false
   },
   "outputs": [
    {
     "data": {
      "image/png": "[encoded data removed]",
      "text/plain": [
       "<matplotlib.figure.Figure at 0x7fb493b97710>"
      ]
     },
     "metadata": {},
     "output_type": "display_data"
    },
    {
     "data": {
      "image/png": "[encoded data removed]",
      "text/plain": [
       "<matplotlib.figure.Figure at 0x7fb4ab3e1940>"
      ]
     },
     "metadata": {},
     "output_type": "display_data"
    },
    {
     "data": {
      "image/png": "[encoded data removed]",
      "text/plain": [
       "<matplotlib.figure.Figure at 0x7fb49ab7bb00>"
      ]
     },
     "metadata": {},
     "output_type": "display_data"
    },
    {
     "data": {
      "image/png": "[encoded data removed]",
      "text/plain": [
       "<matplotlib.figure.Figure at 0x7fb49863ee80>"
      ]
     },
     "metadata": {},
     "output_type": "display_data"
    }
   ],
   "source": [
    "plt.style.use(\"ggplot\")\n",
    "for baseType in baseTypes:\n",
    "    plot_and_sort(baseType, mrr_dict, queryTypes)"
   ]
  },
  {
   "cell_type": "markdown",
   "metadata": {},
   "source": [
    "### Statistical significance for MRR values"
   ]
  },
  {
   "cell_type": "code",
   "execution_count": 166,
   "metadata": {},
   "outputs": [
    {
     "name": "stdout",
     "output_type": "stream",
     "text": [
      "dict_keys([('top5-idf', 'B'), ('top5-tfidf', 'A'), ('top10-tfidf', 'A'), ('top10-tfidf', 'C'), ('bm25-plain', 'C'), ('top5-tfidf', 'D'), ('top10-idf', 'D'), ('top5-tfidf', 'C'), ('top5-idf', 'C'), ('bm25-plain', 'A'), ('top10-idf', 'A'), ('top5-idf', 'A'), ('top10-tfidf', 'B'), ('top10-tfidf', 'D'), ('top5-tfidf', 'B'), ('top10-idf', 'B'), ('top10-idf', 'C'), ('top5-idf', 'D'), ('bm25-plain', 'B'), ('bm25-plain', 'D')])\n"
     ]
    }
   ],
   "source": [
    "print(rr_dict.keys())"
   ]
  },
  {
   "cell_type": "code",
   "execution_count": 167,
   "metadata": {
    "collapsed": true
   },
   "outputs": [],
   "source": [
    "def check_statistical_significance(baseType, rr_dict, mrr_dict, queryTypes):\n",
    "    \"\"\"\n",
    "    base type : 'top5-idf' ...\n",
    "    query type : 'A', 'B' ...\n",
    "    \n",
    "    \"\"\"\n",
    "    for queryType in queryTypes:\n",
    "        key = (baseType, queryType)\n",
    "        print(key)\n",
    "        \n",
    "        rr_list = rr_dict[key]\n",
    "        sorted_rr_list = sorted(rr_list, key=lambda tup: tup[0])\n",
    "        \n",
    "        mrr_list = mrr_dict[key]\n",
    "        #print(sorted(mrr_list, key=lambda tup: tup[0]))\n",
    "        x = [x for x,y in sorted(mrr_list, key=lambda tup: tup[0])]\n",
    "        y = [y for x,y in sorted(mrr_list, key=lambda tup: tup[0])]\n",
    "        max_index = x[y.index(max(y))]\n",
    "        \n",
    "        for first, second in zip(sorted_rr_list, sorted_rr_list[1:]):\n",
    "            print(first[0], second[0])\n",
    "            print(y[x.index(first[0])], y[x.index(second[0])])\n",
    "            print(two_sample_ttest_ind(first[1], second[1]))"
   ]
  },
  {
   "cell_type": "code",
   "execution_count": 168,
   "metadata": {
    "collapsed": true
   },
   "outputs": [],
   "source": [
    "def check_statistical_significance_with_max(baseType, rr_dict, mrr_dict, queryTypes):\n",
    "    \"\"\"\n",
    "    base type : 'top5-idf' ...\n",
    "    query type : 'A', 'B' ...\n",
    "    \n",
    "    \"\"\"\n",
    "    for queryType in queryTypes:\n",
    "        key = (baseType, queryType)\n",
    "        print(key)\n",
    "        \n",
    "        rr_list = rr_dict[key]\n",
    "        sorted_rr_list = sorted(rr_list, key=lambda tup: tup[0])\n",
    "        \n",
    "        mrr_list = mrr_dict[key]\n",
    "        #print(sorted(mrr_list, key=lambda tup: tup[0]))\n",
    "        x = [x for x,y in sorted(mrr_list, key=lambda tup: tup[0])]\n",
    "        y = [y for x,y in sorted(mrr_list, key=lambda tup: tup[0])]\n",
    "        max_alpha = x[y.index(max(y))]\n",
    "        print(max_alpha)\n",
    "        max_rrs = sorted_rr_list[x.index(max_alpha)][1]\n",
    "        \n",
    "        for first in sorted_rr_list:\n",
    "            print(first[0], max_alpha)\n",
    "            print(y[x.index(first[0])], y[x.index(max_alpha)])\n",
    "            print(two_sample_ttest_ind(first[1], max_rrs))"
   ]
  },
  {
   "cell_type": "code",
   "execution_count": 174,
   "metadata": {
    "collapsed": true
   },
   "outputs": [],
   "source": [
    "def check_statistical_significance_with_baseline(baseType, rr_dict, mrr_dict, queryTypes):\n",
    "    \"\"\"\n",
    "    base type : 'top5-idf' ...\n",
    "    query type : 'A', 'B' ...\n",
    "    \n",
    "    \"\"\"\n",
    "    for queryType in queryTypes:\n",
    "        key = (baseType, queryType)\n",
    "        print(\"\\x1b[0m \" + str(key))\n",
    "        \n",
    "        rr_list = rr_dict[key]\n",
    "        sorted_rr_list = sorted(rr_list, key=lambda tup: tup[0])\n",
    "#         print(sorted_rr_list[:1]) # list of (alpha, rr_list)\n",
    "#         print([x for x,y in sorted_rr_list])\n",
    "        \n",
    "        \n",
    "        base_rr_list = rr_dict[(\"bm25-plain\", queryType)]\n",
    "        sorted_base_rr_list = sorted(base_rr_list, key=lambda tup: tup[0])\n",
    "#         print(sorted_base_rr_list) # list of (alpha, rr_list) \n",
    "#         print([x for x,y in sorted_base_rr_list])\n",
    "        \n",
    "        for first in sorted_rr_list:\n",
    "            print(\"\\x1b[0m \" + str(first[0]) + \" \" + str(sorted_base_rr_list[0][0]), end= \" \")\n",
    "            print(np.mean(first[1]), np.mean(sorted_base_rr_list[0][1]))\n",
    "            result = two_sample_ttest_ind(first[1], sorted_base_rr_list[0][1])\n",
    "            print(result)\n",
    "            print(\"\\x1b[31m Statistically diff\" if result[1]<0.05 else \"\\033[34m NOT statistically different\")\n",
    "        \n",
    "        print()"
   ]
  },
  {
   "cell_type": "code",
   "execution_count": 175,
   "metadata": {
    "collapsed": true,
    "scrolled": false
   },
   "outputs": [],
   "source": [
    "# check_statistical_significance_with_max('top5-idf', rr_dict, mrr_dict, queryTypes)"
   ]
  },
  {
   "cell_type": "code",
   "execution_count": 176,
   "metadata": {
    "scrolled": false
   },
   "outputs": [
    {
     "name": "stdout",
     "output_type": "stream",
     "text": [
      "\u001b[0m ('top5-idf', 'A')\n",
      "\u001b[0m 1 0 0.730923639428 1.0\n",
      "Ttest_indResult(statistic=-70.705378549265703, pvalue=0.0)\n",
      "\u001b[31m Statistically diff\n",
      "\u001b[0m 5 0 0.917882274567 1.0\n",
      "Ttest_indResult(statistic=-37.230787655950628, pvalue=3.0176752492063659e-284)\n",
      "\u001b[31m Statistically diff\n",
      "\u001b[0m 10 0 0.95221213023 1.0\n",
      "Ttest_indResult(statistic=-28.793406753219212, pvalue=3.2079481818520839e-175)\n",
      "\u001b[31m Statistically diff\n",
      "\u001b[0m 15 0 0.958245889011 1.0\n",
      "Ttest_indResult(statistic=-27.182806439779693, pvalue=4.82030117347e-157)\n",
      "\u001b[31m Statistically diff\n",
      "\u001b[0m 20 0 0.958864261523 1.0\n",
      "Ttest_indResult(statistic=-26.948518691137483, pvalue=1.7885651563691887e-154)\n",
      "\u001b[31m Statistically diff\n",
      "\u001b[0m 25 0 0.95790752766 1.0\n",
      "Ttest_indResult(statistic=-27.038039621667163, pvalue=1.8749526359441653e-155)\n",
      "\u001b[31m Statistically diff\n",
      "\u001b[0m 30 0 0.955453672596 1.0\n",
      "Ttest_indResult(statistic=-27.624663522723413, pvalue=6.099393919541549e-162)\n",
      "\u001b[31m Statistically diff\n",
      "\u001b[0m 35 0 0.952865271577 1.0\n",
      "Ttest_indResult(statistic=-28.268714939012678, pvalue=3.3536547364394933e-169)\n",
      "\u001b[31m Statistically diff\n",
      "\u001b[0m 40 0 0.94993465556 1.0\n",
      "Ttest_indResult(statistic=-28.992538097540933, pvalue=1.5750758611404137e-177)\n",
      "\u001b[31m Statistically diff\n",
      "\u001b[0m 45 0 0.947155010378 1.0\n",
      "Ttest_indResult(statistic=-29.671668537874943, pvalue=1.6683350754799521e-185)\n",
      "\u001b[31m Statistically diff\n",
      "\u001b[0m 50 0 0.944588785642 1.0\n",
      "Ttest_indResult(statistic=-30.3490502687327, pvalue=1.3011778227401694e-193)\n",
      "\u001b[31m Statistically diff\n",
      "\n",
      "\u001b[0m ('top5-idf', 'B')\n",
      "\u001b[0m 1 0 0.287096639965 0.32496452381\n",
      "Ttest_indResult(statistic=-12.344601476159831, pvalue=7.6668289016832959e-35)\n",
      "\u001b[31m Statistically diff\n",
      "\u001b[0m 5 0 0.360195188365 0.32496452381\n",
      "Ttest_indResult(statistic=11.714351054603089, pvalue=1.4643934281685073e-31)\n",
      "\u001b[31m Statistically diff\n",
      "\u001b[0m 10 0 0.373268830901 0.32496452381\n",
      "Ttest_indResult(statistic=16.347842685778705, pvalue=1.4069598118748164e-59)\n",
      "\u001b[31m Statistically diff\n",
      "\u001b[0m 15 0 0.377187085005 0.32496452381\n",
      "Ttest_indResult(statistic=17.698541515332003, pvalue=2.0428712497609951e-69)\n",
      "\u001b[31m Statistically diff\n",
      "\u001b[0m 20 0 0.378915414463 0.32496452381\n",
      "Ttest_indResult(statistic=18.134267796746467, pvalue=9.604576552864968e-73)\n",
      "\u001b[31m Statistically diff\n",
      "\u001b[0m 25 0 0.377903184653 0.32496452381\n",
      "Ttest_indResult(statistic=17.672537284614577, pvalue=3.2694297073598256e-69)\n",
      "\u001b[31m Statistically diff\n",
      "\u001b[0m 30 0 0.376714400329 0.32496452381\n",
      "Ttest_indResult(statistic=17.203661652185989, pvalue=1.0237477163516826e-65)\n",
      "\u001b[31m Statistically diff\n",
      "\u001b[0m 35 0 0.373673860866 0.32496452381\n",
      "Ttest_indResult(statistic=16.197140742614938, pvalue=1.6066578207615436e-58)\n",
      "\u001b[31m Statistically diff\n",
      "\u001b[0m 40 0 0.372860066523 0.32496452381\n",
      "Ttest_indResult(statistic=15.848629124754321, pvalue=4.0014363094878762e-56)\n",
      "\u001b[31m Statistically diff\n",
      "\u001b[0m 45 0 0.370371938182 0.32496452381\n",
      "Ttest_indResult(statistic=15.055687314300952, pvalue=7.2973439472318526e-51)\n",
      "\u001b[31m Statistically diff\n",
      "\u001b[0m 50 0 0.370000456089 0.32496452381\n",
      "Ttest_indResult(statistic=14.81635330406017, pvalue=2.524858618619896e-49)\n",
      "\u001b[31m Statistically diff\n",
      "\n",
      "\u001b[0m ('top5-idf', 'C')\n",
      "\u001b[0m 1 0 0.0472923232875 0.0416907718055\n",
      "Ttest_indResult(statistic=5.6031338212870878, pvalue=2.1579319929737721e-08)\n",
      "\u001b[31m Statistically diff\n",
      "\u001b[0m 5 0 0.0619685186873 0.0416907718055\n",
      "Ttest_indResult(statistic=19.44678791300225, pvalue=7.4782864495363697e-83)\n",
      "\u001b[31m Statistically diff\n",
      "\u001b[0m 10 0 0.0697577489451 0.0416907718055\n",
      "Ttest_indResult(statistic=23.012604831156196, pvalue=1.9492546556345067e-114)\n",
      "\u001b[31m Statistically diff\n",
      "\u001b[0m 15 0 0.0723826293524 0.0416907718055\n",
      "Ttest_indResult(statistic=24.035178307661329, pvalue=2.2699413727359946e-124)\n",
      "\u001b[31m Statistically diff\n",
      "\u001b[0m 20 0 0.074098289563 0.0416907718055\n",
      "Ttest_indResult(statistic=24.333460103209482, pvalue=2.5041466103186814e-127)\n",
      "\u001b[31m Statistically diff\n",
      "\u001b[0m 25 0 0.0752188660801 0.0416907718055\n",
      "Ttest_indResult(statistic=24.439898311079904, pvalue=2.196883392589062e-128)\n",
      "\u001b[31m Statistically diff\n",
      "\u001b[0m 30 0 0.0764489050998 0.0416907718055\n",
      "Ttest_indResult(statistic=24.156564357426952, pvalue=1.5716043174588955e-125)\n",
      "\u001b[31m Statistically diff\n",
      "\u001b[0m 35 0 0.0772132122424 0.0416907718055\n",
      "Ttest_indResult(statistic=23.924168914334082, pvalue=3.24771178084213e-123)\n",
      "\u001b[31m Statistically diff\n",
      "\u001b[0m 40 0 0.0774383150303 0.0416907718055\n",
      "Ttest_indResult(statistic=23.803387441863087, pvalue=5.0763029313225995e-122)\n",
      "\u001b[31m Statistically diff\n",
      "\u001b[0m 45 0 0.076659387096 0.0416907718055\n",
      "Ttest_indResult(statistic=23.515982752833303, pvalue=3.2499169168068406e-119)\n",
      "\u001b[31m Statistically diff\n",
      "\u001b[0m 50 0 0.0768086802594 0.0416907718055\n",
      "Ttest_indResult(statistic=23.315436014821877, pvalue=2.8737801756861562e-117)\n",
      "\u001b[31m Statistically diff\n",
      "\n",
      "\u001b[0m ('top5-idf', 'D')\n",
      "\u001b[0m 1 0 0.00853149810863 0.00404004666534\n",
      "Ttest_indResult(statistic=13.179094007335538, pvalue=3.5840062626147714e-39)\n",
      "\u001b[31m Statistically diff\n",
      "\u001b[0m 5 0 0.00700710513564 0.00404004666534\n",
      "Ttest_indResult(statistic=22.42806284720572, pvalue=1.7441229964740656e-108)\n",
      "\u001b[31m Statistically diff\n",
      "\u001b[0m 10 0 0.00861404428811 0.00404004666534\n",
      "Ttest_indResult(statistic=14.751436585644262, pvalue=1.0916968979448787e-48)\n",
      "\u001b[31m Statistically diff\n",
      "\u001b[0m 15 0 0.0104861016931 0.00404004666534\n",
      "Ttest_indResult(statistic=14.052268142184236, pvalue=2.1794167714241617e-44)\n",
      "\u001b[31m Statistically diff\n",
      "\u001b[0m 20 0 0.0121186013885 0.00404004666534\n",
      "Ttest_indResult(statistic=13.596420895941076, pvalue=1.0984313654259938e-41)\n",
      "\u001b[31m Statistically diff\n",
      "\u001b[0m 25 0 0.0134348393525 0.00404004666534\n",
      "Ttest_indResult(statistic=14.289983651362373, pvalue=8.3288470726736896e-46)\n",
      "\u001b[31m Statistically diff\n",
      "\u001b[0m 30 0 0.0144874732562 0.00404004666534\n",
      "Ttest_indResult(statistic=14.371014364002319, pvalue=2.729697792811243e-46)\n",
      "\u001b[31m Statistically diff\n",
      "\u001b[0m 35 0 0.0155246578643 0.00404004666534\n",
      "Ttest_indResult(statistic=14.596745280511055, pvalue=1.1352856687622656e-47)\n",
      "\u001b[31m Statistically diff\n",
      "\u001b[0m 40 0 0.0161228040013 0.00404004666534\n",
      "Ttest_indResult(statistic=14.772346503981334, pvalue=9.2844065714048886e-49)\n",
      "\u001b[31m Statistically diff\n",
      "\u001b[0m 45 0 0.016818311236 0.00404004666534\n",
      "Ttest_indResult(statistic=14.754080713557883, pvalue=1.234376648254592e-48)\n",
      "\u001b[31m Statistically diff\n",
      "\u001b[0m 50 0 0.0171473889007 0.00404004666534\n",
      "Ttest_indResult(statistic=14.928332610559526, pvalue=1.0049880451397309e-49)\n",
      "\u001b[31m Statistically diff\n",
      "\n",
      "\u001b[0m ('top5-tfidf', 'A')\n",
      "\u001b[0m 1 0 0.780104737856 1.0\n",
      "Ttest_indResult(statistic=-62.665874128718833, pvalue=0.0)\n",
      "\u001b[31m Statistically diff\n",
      "\u001b[0m 5 0 0.960267928868 1.0\n",
      "Ttest_indResult(statistic=-26.066006100063927, pvalue=5.7309734283519532e-145)\n",
      "\u001b[31m Statistically diff\n",
      "\u001b[0m 10 0 0.981584434524 1.0\n",
      "Ttest_indResult(statistic=-18.382641606904073, pvalue=3.0021243581744997e-74)\n",
      "\u001b[31m Statistically diff\n",
      "\u001b[0m 15 0 0.980366424466 1.0\n",
      "Ttest_indResult(statistic=-18.956265746183487, pvalue=9.3398306020734906e-79)\n",
      "\u001b[31m Statistically diff\n",
      "\u001b[0m 20 0 0.975934011544 1.0\n",
      "Ttest_indResult(statistic=-20.758275859502163, pvalue=9.6144970734806067e-94)\n",
      "\u001b[31m Statistically diff\n",
      "\u001b[0m 25 0 0.972708864123 1.0\n",
      "Ttest_indResult(statistic=-21.773004752702928, pvalue=9.9386207800226608e-103)\n",
      "\u001b[31m Statistically diff\n",
      "\u001b[0m 30 0 0.967589494495 1.0\n",
      "Ttest_indResult(statistic=-23.485078983842026, pvalue=9.1460406941102529e-119)\n",
      "\u001b[31m Statistically diff\n",
      "\u001b[0m 35 0 0.963869109892 1.0\n",
      "Ttest_indResult(statistic=-24.615259158864774, pvalue=6.0710839937899602e-130)\n",
      "\u001b[31m Statistically diff\n",
      "\u001b[0m 40 0 0.961028579332 1.0\n",
      "Ttest_indResult(statistic=-25.426747965317691, pvalue=2.962920810139295e-138)\n",
      "\u001b[31m Statistically diff\n",
      "\u001b[0m 45 0 0.95713353992 1.0\n",
      "Ttest_indResult(statistic=-26.615542731876232, pvalue=7.4341221252880985e-151)\n",
      "\u001b[31m Statistically diff\n",
      "\u001b[0m 50 0 0.95410565819 1.0\n",
      "Ttest_indResult(statistic=-27.335083253910064, pvalue=1.006480858499875e-158)\n",
      "\u001b[31m Statistically diff\n",
      "\n",
      "\u001b[0m ('top5-tfidf', 'B')\n",
      "\u001b[0m 1 0 0.288976526091 0.32496452381\n",
      "Ttest_indResult(statistic=-12.384574153939839, pvalue=4.6049804626768885e-35)\n",
      "\u001b[31m Statistically diff\n",
      "\u001b[0m 5 0 0.354700085778 0.32496452381\n",
      "Ttest_indResult(statistic=11.000597676988885, pvalue=4.7331673506248117e-28)\n",
      "\u001b[31m Statistically diff\n",
      "\u001b[0m 10 0 0.366060289436 0.32496452381\n",
      "Ttest_indResult(statistic=15.437177026484848, pvalue=2.1200343556860633e-53)\n",
      "\u001b[31m Statistically diff\n",
      "\u001b[0m 15 0 0.36965797639 0.32496452381\n",
      "Ttest_indResult(statistic=16.418932162162527, pvalue=4.1434889082643037e-60)\n",
      "\u001b[31m Statistically diff\n",
      "\u001b[0m 20 0 0.368973640467 0.32496452381\n",
      "Ttest_indResult(statistic=15.979555183222566, pvalue=4.7445130340360417e-57)\n",
      "\u001b[31m Statistically diff\n",
      "\u001b[0m 25 0 0.369038544376 0.32496452381\n",
      "Ttest_indResult(statistic=15.65959390619796, pvalue=7.1979910555371748e-55)\n",
      "\u001b[31m Statistically diff\n",
      "\u001b[0m 30 0 0.366665374905 0.32496452381\n",
      "Ttest_indResult(statistic=14.706685846294533, pvalue=1.205414604513442e-48)\n",
      "\u001b[31m Statistically diff\n",
      "\u001b[0m 35 0 0.365081663298 0.32496452381\n",
      "Ttest_indResult(statistic=14.073202340557266, pvalue=1.0226666261202118e-44)\n",
      "\u001b[31m Statistically diff\n",
      "\u001b[0m 40 0 0.363710476139 0.32496452381\n",
      "Ttest_indResult(statistic=13.473786912073265, pvalue=3.745352558547663e-41)\n",
      "\u001b[31m Statistically diff\n",
      "\u001b[0m 45 0 0.361703196138 0.32496452381\n",
      "Ttest_indResult(statistic=12.72053698067484, pvalue=6.8778945998649782e-37)\n",
      "\u001b[31m Statistically diff\n",
      "\u001b[0m 50 0 0.360366066796 0.32496452381\n",
      "Ttest_indResult(statistic=12.220151424390499, pvalue=3.4562857035994552e-34)\n",
      "\u001b[31m Statistically diff\n",
      "\n",
      "\u001b[0m ('top5-tfidf', 'C')\n",
      "\u001b[0m 1 0 0.0421436671993 0.0416907718055\n",
      "Ttest_indResult(statistic=0.52893438494821954, pvalue=0.59686130786477876)\n",
      "\u001b[34m NOT statistically different\n",
      "\u001b[0m 5 0 0.0509566183409 0.0416907718055\n",
      "Ttest_indResult(statistic=13.786634428495368, pvalue=6.2323453162276263e-43)\n",
      "\u001b[31m Statistically diff\n",
      "\u001b[0m 10 0 0.0551200072044 0.0416907718055\n",
      "Ttest_indResult(statistic=18.714840867341199, pvalue=4.3189262229176243e-77)\n",
      "\u001b[31m Statistically diff\n",
      "\u001b[0m 15 0 0.0598755412529 0.0416907718055\n",
      "Ttest_indResult(statistic=20.288018215686286, pvalue=6.1378970753536692e-90)\n",
      "\u001b[31m Statistically diff\n",
      "\u001b[0m 20 0 0.0627486363166 0.0416907718055\n",
      "Ttest_indResult(statistic=20.648674653953183, pvalue=5.4922164850982721e-93)\n",
      "\u001b[31m Statistically diff\n",
      "\u001b[0m 25 0 0.0652358499696 0.0416907718055\n",
      "Ttest_indResult(statistic=20.83334893333528, pvalue=1.4779434007376748e-94)\n",
      "\u001b[31m Statistically diff\n",
      "\u001b[0m 30 0 0.0666730950983 0.0416907718055\n",
      "Ttest_indResult(statistic=20.894945743970261, pvalue=4.4513867487281178e-95)\n",
      "\u001b[31m Statistically diff\n",
      "\u001b[0m 35 0 0.0673562472931 0.0416907718055\n",
      "Ttest_indResult(statistic=20.841860956876975, pvalue=1.3201325202931247e-94)\n",
      "\u001b[31m Statistically diff\n",
      "\u001b[0m 40 0 0.0682640218564 0.0416907718055\n",
      "Ttest_indResult(statistic=20.605311664933055, pvalue=1.5293861938582479e-92)\n",
      "\u001b[31m Statistically diff\n",
      "\u001b[0m 45 0 0.0682033709481 0.0416907718055\n",
      "Ttest_indResult(statistic=20.413592535425408, pvalue=6.8148090112933769e-91)\n",
      "\u001b[31m Statistically diff\n",
      "\u001b[0m 50 0 0.0687609566627 0.0416907718055\n",
      "Ttest_indResult(statistic=20.15044046011494, pvalue=1.1984053633650585e-88)\n",
      "\u001b[31m Statistically diff\n",
      "\n",
      "\u001b[0m ('top5-tfidf', 'D')\n",
      "\u001b[0m 1 0 0.0070451422375 0.00404004666534\n",
      "Ttest_indResult(statistic=10.919709896106404, pvalue=1.4999369389907758e-27)\n",
      "\u001b[31m Statistically diff\n",
      "\u001b[0m 5 0 0.00509000413675 0.00404004666534\n",
      "Ttest_indResult(statistic=19.60600534523094, pvalue=1.8649760938285009e-84)\n",
      "\u001b[31m Statistically diff\n",
      "\u001b[0m 10 0 0.00520709930894 0.00404004666534\n",
      "Ttest_indResult(statistic=17.952214537064947, pvalue=3.4406154662154678e-71)\n",
      "\u001b[31m Statistically diff\n",
      "\u001b[0m 15 0 0.00624356117015 0.00404004666534\n",
      "Ttest_indResult(statistic=11.919457841046313, pvalue=1.5707843122536203e-32)\n",
      "\u001b[31m Statistically diff\n",
      "\u001b[0m 20 0 0.00759514319487 0.00404004666534\n",
      "Ttest_indResult(statistic=11.868275101474808, pvalue=2.9554364859786298e-32)\n",
      "\u001b[31m Statistically diff\n",
      "\u001b[0m 25 0 0.00898894054667 0.00404004666534\n",
      "Ttest_indResult(statistic=11.448469461814939, pvalue=3.8709377719886852e-30)\n",
      "\u001b[31m Statistically diff\n",
      "\u001b[0m 30 0 0.0100241038538 0.00404004666534\n",
      "Ttest_indResult(statistic=11.881518704016683, pvalue=2.6205840615107933e-32)\n",
      "\u001b[31m Statistically diff\n",
      "\u001b[0m 35 0 0.0108235158914 0.00404004666534\n",
      "Ttest_indResult(statistic=12.233732206531997, pvalue=3.9700189626589111e-34)\n",
      "\u001b[31m Statistically diff\n",
      "\u001b[0m 40 0 0.011694615325 0.00404004666534\n",
      "Ttest_indResult(statistic=12.464826856394223, pvalue=2.3958283157799318e-35)\n",
      "\u001b[31m Statistically diff\n",
      "\u001b[0m 45 0 0.0123121649656 0.00404004666534\n",
      "Ttest_indResult(statistic=12.643789641251422, pvalue=2.6355213349092789e-36)\n",
      "\u001b[31m Statistically diff\n",
      "\u001b[0m 50 0 0.0129176175719 0.00404004666534\n",
      "Ttest_indResult(statistic=12.797327336400397, pvalue=3.8792621030822588e-37)\n",
      "\u001b[31m Statistically diff\n",
      "\n",
      "\u001b[0m ('top10-idf', 'A')\n",
      "\u001b[0m 1 0 0.77114114303 1.0\n",
      "Ttest_indResult(statistic=-64.102210199659524, pvalue=0.0)\n",
      "\u001b[31m Statistically diff\n",
      "\u001b[0m 5 0 0.953959532174 1.0\n",
      "Ttest_indResult(statistic=-27.949313465896694, pvalue=1.3920360259237557e-165)\n",
      "\u001b[31m Statistically diff\n",
      "\u001b[0m 10 0 0.975971360029 1.0\n",
      "Ttest_indResult(statistic=-20.927926725530828, pvalue=3.2196809652148776e-95)\n",
      "\u001b[31m Statistically diff\n",
      "\u001b[0m 15 0 0.97700719406 1.0\n",
      "Ttest_indResult(statistic=-20.570167846932872, pvalue=4.0337302901804101e-92)\n",
      "\u001b[31m Statistically diff\n",
      "\u001b[0m 20 0 0.973901169529 1.0\n",
      "Ttest_indResult(statistic=-21.674406410299163, pvalue=7.7179119737265743e-102)\n",
      "\u001b[31m Statistically diff\n",
      "\u001b[0m 25 0 0.969556092467 1.0\n",
      "Ttest_indResult(statistic=-23.106228602461755, pvalue=4.0130300323313963e-115)\n",
      "\u001b[31m Statistically diff\n",
      "\u001b[0m 30 0 0.966362408032 1.0\n",
      "Ttest_indResult(statistic=-23.962417389739663, pvalue=1.9816417919539815e-123)\n",
      "\u001b[31m Statistically diff\n",
      "\u001b[0m 35 0 0.961890832162 1.0\n",
      "Ttest_indResult(statistic=-25.400616978109728, pvalue=5.5341103540548462e-138)\n",
      "\u001b[31m Statistically diff\n",
      "\u001b[0m 40 0 0.95972916301 1.0\n",
      "Ttest_indResult(statistic=-25.825356223260226, pvalue=2.0072455246833669e-142)\n",
      "\u001b[31m Statistically diff\n",
      "\u001b[0m 45 0 0.955844455723 1.0\n",
      "Ttest_indResult(statistic=-26.964513780288954, pvalue=1.1959033114722765e-154)\n",
      "\u001b[31m Statistically diff\n",
      "\u001b[0m 50 0 0.952798194687 1.0\n",
      "Ttest_indResult(statistic=-27.790394046638305, pvalue=8.527235280662927e-164)\n",
      "\u001b[31m Statistically diff\n",
      "\n",
      "\u001b[0m ('top10-idf', 'B')\n",
      "\u001b[0m 1 0 0.283642793457 0.32496452381\n",
      "Ttest_indResult(statistic=-14.221114585822461, pvalue=1.294606276503915e-45)\n",
      "\u001b[31m Statistically diff\n",
      "\u001b[0m 5 0 0.352511045085 0.32496452381\n",
      "Ttest_indResult(statistic=10.063183951417917, pvalue=9.399082369952428e-24)\n",
      "\u001b[31m Statistically diff\n",
      "\u001b[0m 10 0 0.365066214655 0.32496452381\n",
      "Ttest_indResult(statistic=14.840845458908722, pvalue=1.642375165225302e-49)\n",
      "\u001b[31m Statistically diff\n",
      "\u001b[0m 15 0 0.368358911612 0.32496452381\n",
      "Ttest_indResult(statistic=15.835502612570153, pvalue=4.5556182863177227e-56)\n",
      "\u001b[31m Statistically diff\n",
      "\u001b[0m 20 0 0.369562491174 0.32496452381\n",
      "Ttest_indResult(statistic=15.940882911453819, pvalue=8.8434418922177904e-57)\n",
      "\u001b[31m Statistically diff\n",
      "\u001b[0m 25 0 0.367677250049 0.32496452381\n",
      "Ttest_indResult(statistic=15.146382294081143, pvalue=1.8011693319110805e-51)\n",
      "\u001b[31m Statistically diff\n",
      "\u001b[0m 30 0 0.365645216566 0.32496452381\n",
      "Ttest_indResult(statistic=14.322954153261243, pvalue=3.0234768897131436e-46)\n",
      "\u001b[31m Statistically diff\n",
      "\u001b[0m 35 0 0.364652578471 0.32496452381\n",
      "Ttest_indResult(statistic=13.843851716703957, pvalue=2.4634042222213938e-43)\n",
      "\u001b[31m Statistically diff\n",
      "\u001b[0m 40 0 0.363049439139 0.32496452381\n",
      "Ttest_indResult(statistic=13.187884872793449, pvalue=1.6607375067875626e-39)\n",
      "\u001b[31m Statistically diff\n",
      "\u001b[0m 45 0 0.361348777014 0.32496452381\n",
      "Ttest_indResult(statistic=12.582544027438187, pvalue=3.9165228210636939e-36)\n",
      "\u001b[31m Statistically diff\n",
      "\u001b[0m 50 0 0.361237316936 0.32496452381\n",
      "Ttest_indResult(statistic=12.423519620733646, pvalue=2.8486525598420908e-35)\n",
      "\u001b[31m Statistically diff\n",
      "\n",
      "\u001b[0m ('top10-idf', 'C')\n",
      "\u001b[0m 1 0 0.0412765480251 0.0416907718055\n",
      "Ttest_indResult(statistic=-0.49148268607097639, pvalue=0.62309459628944819)\n",
      "\u001b[34m NOT statistically different\n",
      "\u001b[0m 5 0 0.0500622587894 0.0416907718055\n",
      "Ttest_indResult(statistic=12.925370960374497, pvalue=5.5522610087578564e-38)\n",
      "\u001b[31m Statistically diff\n",
      "\u001b[0m 10 0 0.0551649634516 0.0416907718055\n",
      "Ttest_indResult(statistic=17.802121346586567, pvalue=5.2777980850287276e-70)\n",
      "\u001b[31m Statistically diff\n",
      "\u001b[0m 15 0 0.0594934259112 0.0416907718055\n",
      "Ttest_indResult(statistic=19.700738752971592, pvalue=5.3857302055416357e-85)\n",
      "\u001b[31m Statistically diff\n",
      "\u001b[0m 20 0 0.0622755223086 0.0416907718055\n",
      "Ttest_indResult(statistic=20.366368766558185, pvalue=1.4625404902616372e-90)\n",
      "\u001b[31m Statistically diff\n",
      "\u001b[0m 25 0 0.0653052994995 0.0416907718055\n"
     ]
    },
    {
     "name": "stdout",
     "output_type": "stream",
     "text": [
      "Ttest_indResult(statistic=20.647248440427948, pvalue=6.1601536806965352e-93)\n",
      "\u001b[31m Statistically diff\n",
      "\u001b[0m 30 0 0.0660946091886 0.0416907718055\n",
      "Ttest_indResult(statistic=20.557527620146541, pvalue=3.7533378239526314e-92)\n",
      "\u001b[31m Statistically diff\n",
      "\u001b[0m 35 0 0.0668268128519 0.0416907718055\n",
      "Ttest_indResult(statistic=20.454498987562395, pvalue=2.944844726092294e-91)\n",
      "\u001b[31m Statistically diff\n",
      "\u001b[0m 40 0 0.0674178930959 0.0416907718055\n",
      "Ttest_indResult(statistic=20.3758302173344, pvalue=1.4090481478478545e-90)\n",
      "\u001b[31m Statistically diff\n",
      "\u001b[0m 45 0 0.0682044745368 0.0416907718055\n",
      "Ttest_indResult(statistic=20.306667710003623, pvalue=5.5810277425097095e-90)\n",
      "\u001b[31m Statistically diff\n",
      "\u001b[0m 50 0 0.0684247181342 0.0416907718055\n",
      "Ttest_indResult(statistic=20.148051396080866, pvalue=1.248267718304355e-88)\n",
      "\u001b[31m Statistically diff\n",
      "\n",
      "\u001b[0m ('top10-idf', 'D')\n",
      "\u001b[0m 1 0 0.00719420124124 0.00404004666534\n",
      "Ttest_indResult(statistic=11.928155317866182, pvalue=1.6970612289342955e-32)\n",
      "\u001b[31m Statistically diff\n",
      "\u001b[0m 5 0 0.00512778797101 0.00404004666534\n",
      "Ttest_indResult(statistic=19.022709711142479, pvalue=1.2957323288310223e-79)\n",
      "\u001b[31m Statistically diff\n",
      "\u001b[0m 10 0 0.00527373668716 0.00404004666534\n",
      "Ttest_indResult(statistic=16.199723656272713, pvalue=2.1754848022773346e-58)\n",
      "\u001b[31m Statistically diff\n",
      "\u001b[0m 15 0 0.00638181427393 0.00404004666534\n",
      "Ttest_indResult(statistic=11.921313630877568, pvalue=1.5481254147998048e-32)\n",
      "\u001b[31m Statistically diff\n",
      "\u001b[0m 20 0 0.00768738097744 0.00404004666534\n",
      "Ttest_indResult(statistic=11.884570246634304, pvalue=2.4514887412034323e-32)\n",
      "\u001b[31m Statistically diff\n",
      "\u001b[0m 25 0 0.00903282878121 0.00404004666534\n",
      "Ttest_indResult(statistic=11.656489056274959, pvalue=3.5748781319808486e-31)\n",
      "\u001b[31m Statistically diff\n",
      "\u001b[0m 30 0 0.0101772669607 0.00404004666534\n",
      "Ttest_indResult(statistic=11.929399507693399, pvalue=1.4952578958120631e-32)\n",
      "\u001b[31m Statistically diff\n",
      "\u001b[0m 35 0 0.0109922485776 0.00404004666534\n",
      "Ttest_indResult(statistic=12.162406494411456, pvalue=9.414994536808441e-34)\n",
      "\u001b[31m Statistically diff\n",
      "\u001b[0m 40 0 0.0119123626622 0.00404004666534\n",
      "Ttest_indResult(statistic=12.292511440417481, pvalue=1.9771031991561679e-34)\n",
      "\u001b[31m Statistically diff\n",
      "\u001b[0m 45 0 0.0123613304902 0.00404004666534\n",
      "Ttest_indResult(statistic=12.623214893692634, pvalue=3.4153599417036073e-36)\n",
      "\u001b[31m Statistically diff\n",
      "\u001b[0m 50 0 0.0130457258064 0.00404004666534\n",
      "Ttest_indResult(statistic=12.805664142666492, pvalue=3.5054752058004564e-37)\n",
      "\u001b[31m Statistically diff\n",
      "\n",
      "\u001b[0m ('top10-tfidf', 'A')\n",
      "\u001b[0m 1 0 0.781972191162 1.0\n",
      "Ttest_indResult(statistic=-62.543108414163015, pvalue=0.0)\n",
      "\u001b[31m Statistically diff\n",
      "\u001b[0m 5 0 0.966056227914 1.0\n",
      "Ttest_indResult(statistic=-24.131398038623104, pvalue=4.2256157315789609e-125)\n",
      "\u001b[31m Statistically diff\n",
      "\u001b[0m 10 0 0.987736715686 1.0\n",
      "Ttest_indResult(statistic=-15.154435715261036, pvalue=2.6251956349034665e-51)\n",
      "\u001b[31m Statistically diff\n",
      "\u001b[0m 15 0 0.983933690476 1.0\n",
      "Ttest_indResult(statistic=-17.282138269015228, pvalue=5.7966523292935487e-66)\n",
      "\u001b[31m Statistically diff\n",
      "\u001b[0m 20 0 0.97957484238 1.0\n",
      "Ttest_indResult(statistic=-19.231318422993674, pvalue=5.8042880605405756e-81)\n",
      "\u001b[31m Statistically diff\n",
      "\u001b[0m 25 0 0.97517031271 1.0\n",
      "Ttest_indResult(statistic=-20.848387622055878, pvalue=1.5877011150115179e-94)\n",
      "\u001b[31m Statistically diff\n",
      "\u001b[0m 30 0 0.969885582277 1.0\n",
      "Ttest_indResult(statistic=-22.621918773521649, pvalue=1.5215719871810898e-110)\n",
      "\u001b[31m Statistically diff\n",
      "\u001b[0m 35 0 0.966485090185 1.0\n",
      "Ttest_indResult(statistic=-23.66019823719677, pvalue=1.8188449824526185e-120)\n",
      "\u001b[31m Statistically diff\n",
      "\u001b[0m 40 0 0.963468196533 1.0\n",
      "Ttest_indResult(statistic=-24.51906770587123, pvalue=5.6590785317223993e-129)\n",
      "\u001b[31m Statistically diff\n",
      "\u001b[0m 45 0 0.95915552419 1.0\n",
      "Ttest_indResult(statistic=-25.883319400641941, pvalue=4.9163183568008789e-143)\n",
      "\u001b[31m Statistically diff\n",
      "\u001b[0m 50 0 0.956255298092 1.0\n",
      "Ttest_indResult(statistic=-26.616359777798511, pvalue=7.2844666410979461e-151)\n",
      "\u001b[31m Statistically diff\n",
      "\n",
      "\u001b[0m ('top10-tfidf', 'B')\n",
      "\u001b[0m 1 0 0.284539902874 0.32496452381\n",
      "Ttest_indResult(statistic=-14.181644902190714, pvalue=2.2356396898463878e-45)\n",
      "\u001b[31m Statistically diff\n",
      "\u001b[0m 5 0 0.349189674628 0.32496452381\n",
      "Ttest_indResult(statistic=9.2367085640822477, pvalue=2.8314113891223275e-20)\n",
      "\u001b[31m Statistically diff\n",
      "\u001b[0m 10 0 0.358727255368 0.32496452381\n",
      "Ttest_indResult(statistic=13.29781056264404, pvalue=3.7165857098785136e-40)\n",
      "\u001b[31m Statistically diff\n",
      "\u001b[0m 15 0 0.363533492187 0.32496452381\n",
      "Ttest_indResult(statistic=14.710270752424476, pvalue=1.0938558800490419e-48)\n",
      "\u001b[31m Statistically diff\n",
      "\u001b[0m 20 0 0.365510944925 0.32496452381\n",
      "Ttest_indResult(statistic=14.999950026383098, pvalue=1.5615543638035104e-50)\n",
      "\u001b[31m Statistically diff\n",
      "\u001b[0m 25 0 0.362427082608 0.32496452381\n",
      "Ttest_indResult(statistic=13.742605686774626, pvalue=9.6461029579377811e-43)\n",
      "\u001b[31m Statistically diff\n",
      "\u001b[0m 30 0 0.362095788655 0.32496452381\n",
      "Ttest_indResult(statistic=13.424299483795581, pvalue=7.1457107460851327e-41)\n",
      "\u001b[31m Statistically diff\n",
      "\u001b[0m 35 0 0.360837663863 0.32496452381\n",
      "Ttest_indResult(statistic=12.85124496501974, pvalue=1.2872531651124883e-37)\n",
      "\u001b[31m Statistically diff\n",
      "\u001b[0m 40 0 0.358420466324 0.32496452381\n",
      "Ttest_indResult(statistic=11.93578236497612, pvalue=1.0543981067271409e-32)\n",
      "\u001b[31m Statistically diff\n",
      "\u001b[0m 45 0 0.356803421873 0.32496452381\n",
      "Ttest_indResult(statistic=11.273115700069402, pvalue=2.2919025005885708e-29)\n",
      "\u001b[31m Statistically diff\n",
      "\u001b[0m 50 0 0.354583443412 0.32496452381\n",
      "Ttest_indResult(statistic=10.4659354269843, pvalue=1.4947062452502152e-25)\n",
      "\u001b[31m Statistically diff\n",
      "\n",
      "\u001b[0m ('top10-tfidf', 'C')\n",
      "\u001b[0m 1 0 0.0407530388788 0.0416907718055\n",
      "Ttest_indResult(statistic=-1.1213053865342542, pvalue=0.26218143020115642)\n",
      "\u001b[34m NOT statistically different\n",
      "\u001b[0m 5 0 0.0474920898077 0.0416907718055\n",
      "Ttest_indResult(statistic=10.25326819752137, pvalue=1.3971391758480574e-24)\n",
      "\u001b[31m Statistically diff\n",
      "\u001b[0m 10 0 0.0506906574851 0.0416907718055\n",
      "Ttest_indResult(statistic=14.9694027513594, pvalue=2.939606300071867e-50)\n",
      "\u001b[31m Statistically diff\n",
      "\u001b[0m 15 0 0.055044311611 0.0416907718055\n",
      "Ttest_indResult(statistic=17.857043209401201, pvalue=2.0075035315395231e-70)\n",
      "\u001b[31m Statistically diff\n",
      "\u001b[0m 20 0 0.0589723386803 0.0416907718055\n",
      "Ttest_indResult(statistic=18.516892997901046, pvalue=1.9364982236613492e-75)\n",
      "\u001b[31m Statistically diff\n",
      "\u001b[0m 25 0 0.0611051285966 0.0416907718055\n",
      "Ttest_indResult(statistic=18.958843819470033, pvalue=6.5234226062602989e-79)\n",
      "\u001b[31m Statistically diff\n",
      "\u001b[0m 30 0 0.0628710089881 0.0416907718055\n",
      "Ttest_indResult(statistic=18.987660086676794, pvalue=4.020679311379797e-79)\n",
      "\u001b[31m Statistically diff\n",
      "\u001b[0m 35 0 0.0637995092356 0.0416907718055\n",
      "Ttest_indResult(statistic=18.923475030170241, pvalue=1.3407637789375939e-78)\n",
      "\u001b[31m Statistically diff\n",
      "\u001b[0m 40 0 0.0639100651266 0.0416907718055\n",
      "Ttest_indResult(statistic=18.711772631741344, pvalue=6.4714120708801225e-77)\n",
      "\u001b[31m Statistically diff\n",
      "\u001b[0m 45 0 0.0650046685266 0.0416907718055\n",
      "Ttest_indResult(statistic=18.770855608329789, pvalue=2.2512863030199234e-77)\n",
      "\u001b[31m Statistically diff\n",
      "\u001b[0m 50 0 0.0651242049973 0.0416907718055\n",
      "Ttest_indResult(statistic=18.535993151172729, pvalue=1.60018324306519e-75)\n",
      "\u001b[31m Statistically diff\n",
      "\n",
      "\u001b[0m ('top10-tfidf', 'D')\n",
      "\u001b[0m 1 0 0.00696927588881 0.00404004666534\n",
      "Ttest_indResult(statistic=9.9494195999666832, pvalue=3.5338820577190088e-23)\n",
      "\u001b[31m Statistically diff\n",
      "\u001b[0m 5 0 0.00478955007925 0.00404004666534\n",
      "Ttest_indResult(statistic=15.915588921020612, pvalue=1.3741065764738847e-56)\n",
      "\u001b[31m Statistically diff\n",
      "\u001b[0m 10 0 0.00470967390063 0.00404004666534\n",
      "Ttest_indResult(statistic=14.464016598748456, pvalue=3.9937897360763042e-47)\n",
      "\u001b[31m Statistically diff\n",
      "\u001b[0m 15 0 0.00539194624935 0.00404004666534\n",
      "Ttest_indResult(statistic=11.882427709418435, pvalue=2.3564052864296914e-32)\n",
      "\u001b[31m Statistically diff\n",
      "\u001b[0m 20 0 0.00655241437106 0.00404004666534\n",
      "Ttest_indResult(statistic=11.15906173599071, pvalue=9.7853359473030074e-29)\n",
      "\u001b[31m Statistically diff\n",
      "\u001b[0m 25 0 0.00789730042527 0.00404004666534\n",
      "Ttest_indResult(statistic=10.558515627420896, pvalue=6.5639557120182453e-26)\n",
      "\u001b[31m Statistically diff\n",
      "\u001b[0m 30 0 0.00884112145771 0.00404004666534\n",
      "Ttest_indResult(statistic=11.062012183716014, pvalue=2.9493876313098112e-28)\n",
      "\u001b[31m Statistically diff\n",
      "\u001b[0m 35 0 0.00967505919843 0.00404004666534\n",
      "Ttest_indResult(statistic=11.307603027616675, pvalue=1.947983573857423e-29)\n",
      "\u001b[31m Statistically diff\n",
      "\u001b[0m 40 0 0.0103141068265 0.00404004666534\n"
     ]
    },
    {
     "name": "stdout",
     "output_type": "stream",
     "text": [
      "Ttest_indResult(statistic=11.572868278977934, pvalue=9.6951104626149929e-31)\n",
      "\u001b[31m Statistically diff\n",
      "\u001b[0m 45 0 0.0110295923363 0.00404004666534\n",
      "Ttest_indResult(statistic=11.695996597594004, pvalue=2.3641072829859029e-31)\n",
      "\u001b[31m Statistically diff\n",
      "\u001b[0m 50 0 0.0115306472763 0.00404004666534\n",
      "Ttest_indResult(statistic=11.95539341102109, pvalue=1.142687214981935e-32)\n",
      "\u001b[31m Statistically diff\n",
      "\n"
     ]
    }
   ],
   "source": [
    "for baseType in baseTypes:\n",
    "    check_statistical_significance_with_baseline(baseType, rr_dict, mrr_dict, queryTypes)"
   ]
  },
  {
   "cell_type": "markdown",
   "metadata": {},
   "source": [
    "### WIN/LOSS ratio for varying alpha"
   ]
  },
  {
   "cell_type": "code",
   "execution_count": 53,
   "metadata": {
    "collapsed": true
   },
   "outputs": [],
   "source": [
    "import os\n",
    "\n",
    "class_dict = defaultdict(list)\n",
    "for filename in os.listdir(dirEval):\n",
    "    name_items = filename.split(\"-\")\n",
    "    baseType = name_items[2]+\"-\"+name_items[3]\n",
    "    alpha = filename.split(\".\")[0].split(\"-\")[10]\n",
    "    \n",
    "    queryRankDict = loadJSON(dirEval+filename)\n",
    "    positions = list(queryRankDict.values())\n",
    "    ranks = [x+1 for x in positions]\n",
    "    new_class = getQueryTypeSetsInline(positions)\n",
    "    class_dict[(baseType, name_items[6])].append(((int(alpha)), new_class))"
   ]
  },
  {
   "cell_type": "code",
   "execution_count": 54,
   "metadata": {
    "collapsed": true
   },
   "outputs": [],
   "source": [
    "def getWinLossRatio(baseType, queryType, alpha, class_dict):\n",
    "    line = [(x,y) for (x,y) in class_dict[(baseType, queryType)] if x == alpha][0]\n",
    "    if queryType == \"A\":\n",
    "        losses = sum(line[1][1:])\n",
    "        wins = []\n",
    "        for queryType in [\"B\",\"C\",\"D\"]:\n",
    "            line = [(x,y) for (x,y) in class_dict[(baseType, queryType)] if x == alpha][0]\n",
    "            wins.append(line[1][0])\n",
    "        return sum(wins)/losses\n",
    "    if queryType == \"B\":\n",
    "        losses = sum(line[1][2:])\n",
    "        wins = []\n",
    "        for queryType in [\"C\",\"D\"]:\n",
    "            line = [(x,y) for (x,y) in class_dict[(baseType, queryType)] if x == alpha][0]\n",
    "            wins.append(line[1][1])\n",
    "        return sum(wins)/losses\n",
    "    if queryType == \"C\":\n",
    "        losses = sum(line[1][3:])\n",
    "        wins = []\n",
    "        for queryType in [\"D\"]:\n",
    "            line = [(x,y) for (x,y) in class_dict[(baseType, queryType)] if x == alpha][0]\n",
    "            wins.append(line[1][2])\n",
    "        return sum(wins)/losses\n",
    "        "
   ]
  },
  {
   "cell_type": "code",
   "execution_count": 55,
   "metadata": {},
   "outputs": [
    {
     "data": {
      "text/plain": [
       "3.682730923694779"
      ]
     },
     "execution_count": 55,
     "metadata": {},
     "output_type": "execute_result"
    }
   ],
   "source": [
    "getWinLossRatio(\"top5-tfidf\", \"C\", 10, class_dict)"
   ]
  },
  {
   "cell_type": "code",
   "execution_count": 56,
   "metadata": {
    "collapsed": true
   },
   "outputs": [],
   "source": [
    "win_loss_dict = defaultdict(list) ### the list contains WL for multiple alpha\n",
    "\n",
    "for baseType in baseTypes:\n",
    "    for queryType in queryTypes:\n",
    "        if queryType is not \"D\":\n",
    "            for alpha,_ in class_dict[(baseType, queryType)]:\n",
    "                wl = getWinLossRatio(baseType, queryType, alpha, class_dict)\n",
    "                win_loss_dict[(baseType, queryType)].append(((int(alpha)), wl))"
   ]
  },
  {
   "cell_type": "code",
   "execution_count": 57,
   "metadata": {},
   "outputs": [
    {
     "name": "stdout",
     "output_type": "stream",
     "text": [
      "defaultdict(<class 'list'>, {('top5-idf', 'A'): [(15, 1.639777468706537), (5, 0.847758887171561), (30, 1.7476510067114095), (50, 1.4871220604703248), (40, 1.6136919315403424), (20, 1.747175141242938), (35, 1.6765083440308088), (45, 1.5134502923976607), (25, 1.7745098039215685), (10, 1.432129514321295), (1, 0.25191055759977354)], ('top5-idf', 'B'): [(10, 2.2531645569620253), (20, 2.6043276661514683), (30, 2.2433510638297873), (1, 0.35560344827586204), (45, 1.8280739934711643), (50, 1.7437759336099585), (35, 2.0754017305315204), (5, 1.361266294227188), (15, 2.561622464898596), (40, 1.962920046349942), (25, 2.4644412191582004)], ('top5-idf', 'C'): [(20, 1.4252747252747253), (1, 0.38395316804407714), (35, 0.9633867276887872), (40, 0.9038461538461539), (30, 1.060884070058382), (45, 0.8442513368983957), (5, 1.0517241379310345), (50, 0.8003814367450731), (25, 1.2282398452611218), (15, 1.6354799513973268), (10, 1.58675799086758)], ('top5-tfidf', 'A'): [(30, 1.819672131147541), (45, 1.5142857142857142), (40, 1.6401869158878504), (20, 2.055944055944056), (25, 2.059196617336152), (5, 1.0792227204783258), (1, 0.24331550802139038), (50, 1.4613297150610582), (15, 2.3240223463687153), (10, 2.169139465875371), (35, 1.6843853820598007)], ('top5-tfidf', 'B'): [(10, 3.988235294117647), (15, 3.973421926910299), (1, 0.3358239933582399), (20, 3.234718826405868), (35, 2.078055964653903), (25, 2.6130268199233715), (45, 1.7783312577833126), (30, 2.2945990180032734), (5, 1.7363465160075329), (50, 1.6526806526806528), (40, 1.967032967032967)], ('top5-tfidf', 'C'): [(5, 1.5432692307692308), (25, 1.3474065138721352), (1, 0.33308850532500917), (15, 2.6412213740458017), (45, 0.8288614938361131), (50, 0.7540322580645161), (30, 1.1373517786561265), (35, 1.005181347150259), (40, 0.8973354231974922), (10, 3.682730923694779), (20, 1.7705977382875606)], ('top10-idf', 'A'): [(40, 1.5990922844175492), (5, 0.9712418300653595), (20, 1.9935622317596566), (15, 2.016706443914081), (35, 1.6118935837245696), (10, 1.7834101382488479), (45, 1.4791086350974931), (25, 1.8320754716981131), (1, 0.2307443365695793), (30, 1.74430823117338), (50, 1.442838370565046)], ('top10-idf', 'B'): [(40, 1.8466579292267367), (10, 3.1094224924012157), (30, 2.190625), (50, 1.5844594594594594), (45, 1.7065217391304348), (1, 0.31299524564183834), (35, 1.9873060648801129), (25, 2.4131205673758864), (20, 2.9162995594713657), (5, 1.4831288343558282), (15, 3.4112676056338027)], ('top10-idf', 'C'): [(5, 1.2754569190600522), (20, 1.5576642335766424), (1, 0.31941544885177453), (45, 0.7964788732394367), (10, 2.56), (50, 0.735873850197109), (30, 1.048964218455744), (25, 1.2547914317925593), (35, 0.9598997493734336), (40, 0.8696969696969697), (15, 2.185501066098081)], ('top10-tfidf', 'A'): [(5, 1.076256499133449), (30, 1.7338551859099804), (40, 1.54), (45, 1.4360902255639099), (25, 1.9080459770114941), (35, 1.6457960644007155), (15, 2.2986577181208054), (20, 2.1734417344173442), (50, 1.3646723646723646), (10, 2.517391304347826), (1, 0.22237106496985934)], ('top10-tfidf', 'B'): [(1, 0.2952739439565036), (50, 1.5280095351609058), (35, 1.956656346749226), (40, 1.7638121546961325), (20, 3.0246575342465754), (5, 1.5845824411134903), (30, 2.107876712328767), (15, 4.317596566523605), (45, 1.6425806451612903), (10, 4.50920245398773), (25, 2.5176715176715176)], ('top10-tfidf', 'C'): [(25, 1.2670025188916876), (40, 0.8647573587907716), (15, 2.6832298136645965), (45, 0.7939661515820456), (10, 4.34), (50, 0.7364074328974536), (1, 0.3233444321124676), (35, 0.9512843224092117), (30, 1.0704081632653062), (5, 1.5145067698259187), (20, 1.7102473498233215)]})\n"
     ]
    }
   ],
   "source": [
    "print(win_loss_dict)"
   ]
  },
  {
   "cell_type": "code",
   "execution_count": 182,
   "metadata": {
    "collapsed": true
   },
   "outputs": [],
   "source": [
    "def plot_and_sort_WL(baseType, win_loss_dict, queryTypes):\n",
    "    for queryType in [\"A\",\"B\",\"C\"]:\n",
    "        key = (baseType, queryType)\n",
    "        wl_list = win_loss_dict[key]\n",
    "#         print(key)\n",
    "        #print(sorted(mrr_list, key=lambda tup: tup[0]))\n",
    "        x = [x for x,y in sorted(wl_list, key=lambda tup: tup[0])]\n",
    "#         print(x)\n",
    "        y = [y for x,y in sorted(wl_list, key=lambda tup: tup[0])]\n",
    "#         print(y)\n",
    "        plt.plot(x, y , label=prettyNames[key[0]]+\" \"+key[1])\n",
    "        #print(max(y),x[y.index(max(y))])\n",
    "#         plt.plot(x[y.index(max(y))], max(y), \"or\")\n",
    "    plt.plot(x, [1 for x in range(len(x))], \":k\", label=\"win-loss threshold\")\n",
    "#     plt.legend(loc='center left', bbox_to_anchor=(1, 0.5))\n",
    "    plt.legend(loc='upper right')\n",
    "#     plt.title(\"BM25P varying alpha\")\n",
    "    plt.xlabel(\"Alpha\")\n",
    "    plt.ylabel(\"WinLossRatio\")\n",
    "    plt.savefig(\"Signal-BM25-win-loss-\"+baseType+\".pdf\", bbox_inches='tight')\n",
    "\n",
    "    plt.show()"
   ]
  },
  {
   "cell_type": "code",
   "execution_count": 183,
   "metadata": {},
   "outputs": [
    {
     "data": {
      "image/png": "[encoded data removed]",
      "text/plain": [
       "<matplotlib.figure.Figure at 0x7fb4a388a828>"
      ]
     },
     "metadata": {},
     "output_type": "display_data"
    },
    {
     "data": {
      "image/png": "[encoded data removed]",
      "text/plain": [
       "<matplotlib.figure.Figure at 0x7fb49df86550>"
      ]
     },
     "metadata": {},
     "output_type": "display_data"
    },
    {
     "data": {
      "image/png": "[encoded data removed]",
      "text/plain": [
       "<matplotlib.figure.Figure at 0x7fb4ad81b518>"
      ]
     },
     "metadata": {},
     "output_type": "display_data"
    },
    {
     "data": {
      "image/png": "[encoded data removed]",
      "text/plain": [
       "<matplotlib.figure.Figure at 0x7fb49e54d3c8>"
      ]
     },
     "metadata": {},
     "output_type": "display_data"
    }
   ],
   "source": [
    "for baseType in baseTypes:\n",
    "    plot_and_sort_WL(baseType, win_loss_dict, queryTypes)"
   ]
  },
  {
   "cell_type": "markdown",
   "metadata": {},
   "source": [
    "## Todo:\n",
    "\n",
    "- intersect qid from wins of C for alpha 10 with wins of C for alpha 40"
   ]
  },
  {
   "cell_type": "markdown",
   "metadata": {
    "collapsed": true
   },
   "source": [
    "# Average rank"
   ]
  },
  {
   "cell_type": "code",
   "execution_count": 78,
   "metadata": {},
   "outputs": [
    {
     "name": "stdout",
     "output_type": "stream",
     "text": [
      "\u001b[0m ('top5-idf', 'A') 10 1.1844 1.0\u001b[0m \n",
      "\u001b[0m ('top5-idf', 'A') 15 1.1482 1.0\u001b[0m \n",
      "\u001b[0m ('top5-idf', 'A') 20 1.1479 1.0\u001b[0m \n",
      "\u001b[0m ('top5-idf', 'A') 25 1.1603 1.0\u001b[0m \n",
      "\u001b[0m ('top5-idf', 'A') 30 1.1805 1.0\u001b[0m \n",
      "\n",
      "\u001b[0m ('top5-idf', 'B') 10 4.756 3.9538\u001b[0m \n",
      "\u001b[0m ('top5-idf', 'B') 15 4.5066 3.9538\u001b[0m \n",
      "\u001b[0m ('top5-idf', 'B') 20 4.539 3.9538\u001b[0m \n",
      "\u001b[0m ('top5-idf', 'B') 25 4.6673 3.9538\u001b[0m \n",
      "\u001b[0m ('top5-idf', 'B') 30 4.8334 3.9538\u001b[0m \n",
      "\n",
      "\u001b[0m ('top5-idf', 'C') 10 41.897489749 34.88\u001b[0m \n",
      "\u001b[0m ('top5-idf', 'C') 15 40.2349 34.88\u001b[0m \n",
      "\u001b[0m ('top5-idf', 'C') 20 41.797 34.88\u001b[0m \n",
      "\u001b[0m ('top5-idf', 'C') 25 44.2254225423 34.88\u001b[0m \n",
      "\u001b[0m ('top5-idf', 'C') 30 47.1514151415 34.88\u001b[0m \n",
      "\n",
      "\u001b[0m ('top5-idf', 'D') 10 336.022608888 364.3362\u001b[31m WIN\n",
      "\u001b[0m ('top5-idf', 'D') 15 342.638312049 364.3362\u001b[31m WIN\n",
      "\u001b[0m ('top5-idf', 'D') 20 345.11172679 364.3362\u001b[31m WIN\n",
      "\u001b[0m ('top5-idf', 'D') 25 347.874466367 364.3362\u001b[31m WIN\n",
      "\u001b[0m ('top5-idf', 'D') 30 350.53006236 364.3362\u001b[31m WIN\n",
      "\n",
      "--------------------------------\n",
      "\u001b[0m ('top5-tfidf', 'A') 10 1.05 1.0\u001b[0m \n",
      "\u001b[0m ('top5-tfidf', 'A') 15 1.0529 1.0\u001b[0m \n",
      "\u001b[0m ('top5-tfidf', 'A') 20 1.0698 1.0\u001b[0m \n",
      "\u001b[0m ('top5-tfidf', 'A') 25 1.0933 1.0\u001b[0m \n",
      "\u001b[0m ('top5-tfidf', 'A') 30 1.1311 1.0\u001b[0m \n",
      "\n",
      "\u001b[0m ('top5-tfidf', 'B') 10 3.9541 3.9538\u001b[0m \n",
      "\u001b[0m ('top5-tfidf', 'B') 15 3.9932 3.9538\u001b[0m \n",
      "\u001b[0m ('top5-tfidf', 'B') 20 4.1461 3.9538\u001b[0m \n",
      "\u001b[0m ('top5-tfidf', 'B') 25 4.3525 3.9538\u001b[0m \n",
      "\u001b[0m ('top5-tfidf', 'B') 30 4.5839 3.9538\u001b[0m \n",
      "\n",
      "\u001b[0m ('top5-tfidf', 'C') 10 33.4124 34.88\u001b[31m WIN\n",
      "\u001b[0m ('top5-tfidf', 'C') 15 34.6349 34.88\u001b[31m WIN\n",
      "\u001b[0m ('top5-tfidf', 'C') 20 37.7234 34.88\u001b[0m \n",
      "\u001b[0m ('top5-tfidf', 'C') 25 41.1861186119 34.88\u001b[0m \n",
      "\u001b[0m ('top5-tfidf', 'C') 30 44.9885988599 34.88\u001b[0m \n",
      "\n",
      "\u001b[0m ('top5-tfidf', 'D') 10 335.292364608 364.3362\u001b[31m WIN\n",
      "\u001b[0m ('top5-tfidf', 'D') 15 340.550506116 364.3362\u001b[31m WIN\n",
      "\u001b[0m ('top5-tfidf', 'D') 20 344.613398693 364.3362\u001b[31m WIN\n",
      "\u001b[0m ('top5-tfidf', 'D') 25 349.72552095 364.3362\u001b[31m WIN\n",
      "\u001b[0m ('top5-tfidf', 'D') 30 351.538789625 364.3362\u001b[31m WIN\n",
      "\n",
      "--------------------------------\n",
      "\u001b[0m ('top10-idf', 'A') 10 1.0684 1.0\u001b[0m \n",
      "\u001b[0m ('top10-idf', 'A') 15 1.062 1.0\u001b[0m \n",
      "\u001b[0m ('top10-idf', 'A') 20 1.0776 1.0\u001b[0m \n",
      "\u001b[0m ('top10-idf', 'A') 25 1.1038 1.0\u001b[0m \n",
      "\u001b[0m ('top10-idf', 'A') 30 1.1357 1.0\u001b[0m \n",
      "\n",
      "\u001b[0m ('top10-idf', 'B') 10 4.0738 3.9538\u001b[0m \n",
      "\u001b[0m ('top10-idf', 'B') 15 4.0733 3.9538\u001b[0m \n",
      "\u001b[0m ('top10-idf', 'B') 20 4.2183 3.9538\u001b[0m \n",
      "\u001b[0m ('top10-idf', 'B') 25 4.427 3.9538\u001b[0m \n",
      "\u001b[0m ('top10-idf', 'B') 30 4.6397 3.9538\u001b[0m \n",
      "\n",
      "\u001b[0m ('top10-idf', 'C') 10 35.0798 34.88\u001b[0m \n",
      "\u001b[0m ('top10-idf', 'C') 15 35.881 34.88\u001b[0m \n",
      "\u001b[0m ('top10-idf', 'C') 20 38.7214 34.88\u001b[0m \n",
      "\u001b[0m ('top10-idf', 'C') 25 42.0940094009 34.88\u001b[0m \n",
      "\u001b[0m ('top10-idf', 'C') 30 45.7643764376 34.88\u001b[0m \n",
      "\n",
      "\u001b[0m ('top10-idf', 'D') 10 339.013231923 364.3362\u001b[31m WIN\n",
      "\u001b[0m ('top10-idf', 'D') 15 343.447629196 364.3362\u001b[31m WIN\n",
      "\u001b[0m ('top10-idf', 'D') 20 346.646263736 364.3362\u001b[31m WIN\n",
      "\u001b[0m ('top10-idf', 'D') 25 351.990189445 364.3362\u001b[31m WIN\n",
      "\u001b[0m ('top10-idf', 'D') 30 352.733905579 364.3362\u001b[31m WIN\n",
      "\n",
      "--------------------------------\n",
      "\u001b[0m ('top10-tfidf', 'A') 10 1.0303 1.0\u001b[0m \n",
      "\u001b[0m ('top10-tfidf', 'A') 15 1.0399 1.0\u001b[0m \n",
      "\u001b[0m ('top10-tfidf', 'A') 20 1.0563 1.0\u001b[0m \n",
      "\u001b[0m ('top10-tfidf', 'A') 25 1.0839 1.0\u001b[0m \n",
      "\u001b[0m ('top10-tfidf', 'A') 30 1.121 1.0\u001b[0m \n",
      "\n",
      "\u001b[0m ('top10-tfidf', 'B') 10 3.8866 3.9538\u001b[31m WIN\n",
      "\u001b[0m ('top10-tfidf', 'B') 15 3.9403 3.9538\u001b[31m WIN\n",
      "\u001b[0m ('top10-tfidf', 'B') 20 4.1085 3.9538\u001b[0m \n",
      "\u001b[0m ('top10-tfidf', 'B') 25 4.3287 3.9538\u001b[0m \n",
      "\u001b[0m ('top10-tfidf', 'B') 30 4.5673 3.9538\u001b[0m \n",
      "\n",
      "\u001b[0m ('top10-tfidf', 'C') 10 32.9317 34.88\u001b[31m WIN\n",
      "\u001b[0m ('top10-tfidf', 'C') 15 34.3693 34.88\u001b[31m WIN\n",
      "\u001b[0m ('top10-tfidf', 'C') 20 37.5786 34.88\u001b[0m \n",
      "\u001b[0m ('top10-tfidf', 'C') 25 41.1810181018 34.88\u001b[0m \n",
      "\u001b[0m ('top10-tfidf', 'C') 30 45.0895089509 34.88\u001b[0m \n",
      "\n",
      "\u001b[0m ('top10-tfidf', 'D') 10 339.97371359 364.3362\u001b[31m WIN\n",
      "\u001b[0m ('top10-tfidf', 'D') 15 344.627272727 364.3362\u001b[31m WIN\n",
      "\u001b[0m ('top10-tfidf', 'D') 20 346.510365787 364.3362\u001b[31m WIN\n",
      "\u001b[0m ('top10-tfidf', 'D') 25 352.472662352 364.3362\u001b[31m WIN\n",
      "\u001b[0m ('top10-tfidf', 'D') 30 353.93931732 364.3362\u001b[31m WIN\n",
      "\n",
      "--------------------------------\n"
     ]
    }
   ],
   "source": [
    "for baseType in baseTypes:\n",
    "\n",
    "    for queryType in queryTypes:\n",
    "        key = (baseType, queryType)\n",
    "        avg_rank_list = average_rank_dict[key]\n",
    "        x = [x for x,y in sorted(avg_rank_list, key=lambda tup: tup[0])]\n",
    "        y = [y for x,y in sorted(avg_rank_list, key=lambda tup: tup[0])]\n",
    "\n",
    "        avg_rank_bm25 = bm25_avg_rank_dict[(\"bm25-plain\", queryType)]\n",
    "        #for i in range(len(y)):\n",
    "        for i in [2,3,4,5,6]:\n",
    "            \n",
    "            print(\"\\x1b[0m \"+str(key), x[i], y[i], avg_rank_bm25, end='')\n",
    "            print(\"\\x1b[31m WIN\" if y[i]<avg_rank_bm25 else \"\\x1b[0m \") \n",
    "        print()\n",
    "        \n",
    "    print(\"--------------------------------\")"
   ]
  },
  {
   "cell_type": "code",
   "execution_count": 184,
   "metadata": {},
   "outputs": [
    {
     "name": "stdout",
     "output_type": "stream",
     "text": [
      "BM25 avg rank : 101.0425\n",
      "top5-idf avg rank[1-50] :  [ 128.427   98.083   95.965   97.132   98.149   99.482  100.924  101.98\n",
      "  103.343  104.463  105.35 ]\n",
      "top5-tfidf avg rank[1-50] :  [ 126.321   94.135   93.427   95.058   96.888   99.089  100.561  101.85\n",
      "  103.173  104.726  106.009]\n",
      "top10-idf avg rank[1-50] :  [ 128.467   96.086   94.809   96.116   97.666   99.904  101.068  102.568\n",
      "  103.974  105.396  106.421]\n",
      "top10-tfidf avg rank[1-50] :  [ 126.598   95.075   94.456   95.994   97.313   99.767  101.179  102.453\n",
      "  103.734  105.346  106.804]\n"
     ]
    },
    {
     "data": {
      "image/png": "[encoded data removed]",
      "text/plain": [
       "<matplotlib.figure.Figure at 0x7fb4a3838b00>"
      ]
     },
     "metadata": {},
     "output_type": "display_data"
    }
   ],
   "source": [
    "print(\"BM25 avg rank :\", np.mean(list(bm25_avg_rank_dict.values())))\n",
    "\n",
    "def plot_avg_rank():\n",
    "    for baseType in baseTypes:\n",
    "        all_avg_rank = np.zeros(11)\n",
    "        for queryType in queryTypes:\n",
    "            key = (baseType, queryType)\n",
    "            avg_rank_list = average_rank_dict[key]\n",
    "            x = [x for x,y in sorted(avg_rank_list, key=lambda tup: tup[0])]\n",
    "            y = [y for x,y in sorted(avg_rank_list, key=lambda tup: tup[0])]\n",
    "            all_avg_rank += np.array(y)\n",
    "        print(baseType+ \" avg rank[1-50] : \", all_avg_rank/4)\n",
    "        y_avg = all_avg_rank/4\n",
    "        \n",
    "        plt.plot(x,y_avg, label=prettyNames[baseType])\n",
    "        #print(max(y),x[y.index(max(y))])\n",
    "        plt.plot(x[list(y_avg).index(min(y_avg))], min(y_avg), \"or\")\n",
    "        # print bm25 as baseline\n",
    "    baseline_y = [np.mean(list(bm25_avg_rank_dict.values()))] * len(x)\n",
    "    plt.plot(x, baseline_y, label=\"BM25\", linestyle=\"--\")\n",
    "    plt.legend(loc='upper right')\n",
    "    plt.xlabel(\"Alpha\")\n",
    "    plt.ylabel(\"Average Rank\")\n",
    "    plt.savefig(\"Signal-BM25-avg-rank.pdf\", bbox_inches='tight')\n",
    "    plt.show()\n",
    "    \n",
    "plot_avg_rank()  "
   ]
  },
  {
   "cell_type": "code",
   "execution_count": 187,
   "metadata": {},
   "outputs": [
    {
     "name": "stdout",
     "output_type": "stream",
     "text": [
      "BM25 avg mrr : 0.34267383557\n",
      "top5-idf avg mrr[1-50] :  [ 0.268  0.337  0.351  0.355  0.356  0.356  0.356  0.355  0.354  0.353\n",
      "  0.352]\n",
      "top5-tfidf avg mrr[1-50] :  [ 0.28   0.343  0.352  0.354  0.354  0.354  0.353  0.352  0.351  0.35\n",
      "  0.349]\n",
      "top10-idf avg mrr[1-50] :  [ 0.276  0.34   0.35   0.353  0.353  0.353  0.352  0.351  0.351  0.349\n",
      "  0.349]\n",
      "top10-tfidf avg mrr[1-50] :  [ 0.279  0.342  0.35   0.352  0.353  0.352  0.351  0.35   0.349  0.348\n",
      "  0.347]\n"
     ]
    },
    {
     "data": {
      "image/png": "[encoded data removed]",
      "text/plain": [
       "<matplotlib.figure.Figure at 0x7fb4ad5bd240>"
      ]
     },
     "metadata": {},
     "output_type": "display_data"
    }
   ],
   "source": [
    "print(\"BM25 avg mrr :\", np.mean(list(bm25_mrr_dict.values())))\n",
    "\n",
    "def plot_avg_mrr():\n",
    "    for baseType in baseTypes:\n",
    "        all_avg_mrr = np.zeros(11)\n",
    "        for queryType in queryTypes:\n",
    "            key = (baseType, queryType)\n",
    "            mrr_list = mrr_dict[key]\n",
    "            x = [x for x,y in sorted(mrr_list, key=lambda tup: tup[0])]\n",
    "            y = [y for x,y in sorted(mrr_list, key=lambda tup: tup[0])]\n",
    "            all_avg_mrr += np.array(y)\n",
    "        print(baseType+ \" avg mrr[1-50] : \", all_avg_mrr/4)\n",
    "        y_avg = all_avg_mrr/4\n",
    "        \n",
    "        plt.plot(x[1:],y_avg[1:], label=prettyNames[baseType])\n",
    "        #print(max(y),x[y.index(max(y))])\n",
    "        plt.plot(x[list(y_avg).index(max(y_avg))], max(y_avg), \"or\")\n",
    "        # print bm25 as baseline\n",
    "    baseline_y = [np.mean(list(bm25_mrr_dict.values()))] * len(x)\n",
    "    plt.plot(x[1:], baseline_y[1:], label=\"BM25\", linestyle=\"--\")\n",
    "    plt.legend(loc='lower right')\n",
    "    plt.xlabel(\"Alpha\")\n",
    "    plt.ylabel(\"MRR\")\n",
    "    plt.savefig(\"Signal-BM25-avg-mrr.pdf\", bbox_inches='tight')\n",
    "    plt.show()\n",
    "    \n",
    "plot_avg_mrr() "
   ]
  },
  {
   "cell_type": "code",
   "execution_count": 188,
   "metadata": {
    "collapsed": true
   },
   "outputs": [],
   "source": [
    "def check_statistical_significance_avg_with_baseline(baseType, rr_dict, mrr_dict, queryTypes, alpha):\n",
    "    \"\"\"\n",
    "    base type : 'top5-idf' ...\n",
    "    query type : 'A', 'B' ...\n",
    "    \n",
    "    \"\"\"\n",
    "    accumulator_method = []\n",
    "    accumulator_base = []\n",
    "    \n",
    "    print(\"\\x1b[0m \" + str(baseType) + \" \" + str(alpha))\n",
    "    for queryType in queryTypes:\n",
    "        key = (baseType, queryType)\n",
    "        \n",
    "        rr_list = rr_dict[key]\n",
    "        sorted_rr_list = sorted(rr_list, key=lambda tup: tup[0])\n",
    "#         print(sorted_rr_list) # list of (alpha, rr_list)\n",
    "#         print([x for x,y in sorted_rr_list])\n",
    "        accumulator_method.extend([y for x,y in sorted_rr_list if x == alpha][0])\n",
    "#         print(\"M: \", len(accumulator_method))\n",
    "        \n",
    "        \n",
    "        \n",
    "        base_rr_list = rr_dict[(\"bm25-plain\", queryType)]\n",
    "        sorted_base_rr_list = sorted(base_rr_list, key=lambda tup: tup[0])\n",
    "#         print(sorted_base_rr_list) # list of (alpha, rr_list) \n",
    "#         print([x for x,y in sorted_base_rr_list])\n",
    "        accumulator_base.extend([y for x,y in sorted_base_rr_list if x == 0][0])\n",
    "#         print(\"B: \", len(accumulator_base))\n",
    "\n",
    "        \n",
    "\n",
    "    result = two_sample_ttest_ind(accumulator_method, accumulator_base)\n",
    "    print(np.mean(accumulator_method), np.mean(accumulator_base))\n",
    "    print(result)\n",
    "    print(\"\\x1b[31m Statistically diff\" if result[1]<0.05 else \"\\033[34m NOT statistically different\")"
   ]
  },
  {
   "cell_type": "code",
   "execution_count": 189,
   "metadata": {
    "scrolled": false
   },
   "outputs": [
    {
     "name": "stdout",
     "output_type": "stream",
     "text": [
      "\u001b[0m top5-idf 1\n",
      "0.296613005139 0.34267383557\n",
      "Ttest_indResult(statistic=-16.081961324203693, pvalue=4.2621810662873585e-58)\n",
      "\u001b[31m Statistically diff\n",
      "\u001b[0m top5-idf 5\n",
      "0.349616864947 0.34267383557\n",
      "Ttest_indResult(statistic=2.3956717522246174, pvalue=0.016592270481642815)\n",
      "\u001b[31m Statistically diff\n",
      "\u001b[0m top5-idf 10\n",
      "0.359541844719 0.34267383557\n",
      "Ttest_indResult(statistic=5.8113609593611564, pvalue=6.2204349637310246e-09)\n",
      "\u001b[31m Statistically diff\n",
      "\u001b[0m top5-idf 15\n",
      "0.363352990115 0.34267383557\n",
      "Ttest_indResult(statistic=7.1158245474198836, pvalue=1.121885505756486e-12)\n",
      "\u001b[31m Statistically diff\n",
      "\u001b[0m top5-idf 20\n",
      "0.366242165836 0.34267383557\n",
      "Ttest_indResult(statistic=8.0915451550719695, pvalue=5.9744601377282471e-16)\n",
      "\u001b[31m Statistically diff\n",
      "\u001b[0m top5-idf 25\n",
      "0.367937214031 0.34267383557\n",
      "Ttest_indResult(statistic=8.6568991082790507, pvalue=4.9375241022125102e-18)\n",
      "\u001b[31m Statistically diff\n",
      "\u001b[0m top5-idf 30\n",
      "0.36908988432 0.34267383557\n",
      "Ttest_indResult(statistic=9.0365124108856971, pvalue=1.6531591010173173e-19)\n",
      "\u001b[31m Statistically diff\n",
      "\u001b[0m top5-idf 35\n",
      "0.369578676576 0.34267383557\n",
      "Ttest_indResult(statistic=9.1927098475313898, pvalue=3.9213503460694105e-20)\n",
      "\u001b[31m Statistically diff\n",
      "\u001b[0m top5-idf 40\n",
      "0.369976646842 0.34267383557\n",
      "Ttest_indResult(statistic=9.3193658871885106, pvalue=1.1997024979064613e-20)\n",
      "\u001b[31m Statistically diff\n",
      "\u001b[0m top5-idf 45\n",
      "0.369657849361 0.34267383557\n",
      "Ttest_indResult(statistic=9.2071073274165247, pvalue=3.4304401396834079e-20)\n",
      "\u001b[31m Statistically diff\n",
      "\u001b[0m top5-idf 50\n",
      "0.370054956456 0.34267383557\n",
      "Ttest_indResult(statistic=9.3318077952327307, pvalue=1.0671232833132357e-20)\n",
      "\u001b[31m Statistically diff\n",
      "\u001b[0m top5-tfidf 1\n",
      "0.300686114146 0.34267383557\n",
      "Ttest_indResult(statistic=-14.723829172932474, pvalue=5.2851992997527267e-49)\n",
      "\u001b[31m Statistically diff\n",
      "\u001b[0m top5-tfidf 5\n",
      "0.347848755714 0.34267383557\n",
      "Ttest_indResult(statistic=1.793437676648054, pvalue=0.072906772939419454)\n",
      "\u001b[34m NOT statistically different\n",
      "\u001b[0m top5-tfidf 10\n",
      "0.354340882309 0.34267383557\n",
      "Ttest_indResult(statistic=4.0397361354021823, pvalue=5.3561450991353086e-05)\n",
      "\u001b[31m Statistically diff\n",
      "\u001b[0m top5-tfidf 15\n",
      "0.358581029157 0.34267383557\n",
      "Ttest_indResult(statistic=5.4924677446525818, pvalue=3.9756703604089827e-08)\n",
      "\u001b[31m Statistically diff\n",
      "\u001b[0m top5-tfidf 20\n",
      "0.36105886416 0.34267383557\n",
      "Ttest_indResult(statistic=6.3342405891966953, pvalue=2.3978959215683213e-10)\n",
      "\u001b[31m Statistically diff\n",
      "\u001b[0m top5-tfidf 25\n",
      "0.363519656574 0.34267383557\n",
      "Ttest_indResult(statistic=7.1602223506657721, pvalue=8.1246849369764509e-13)\n",
      "\u001b[31m Statistically diff\n",
      "\u001b[0m top5-tfidf 30\n",
      "0.364487047443 0.34267383557\n",
      "Ttest_indResult(statistic=7.480507604517709, pvalue=7.4804288783746769e-14)\n",
      "\u001b[31m Statistically diff\n",
      "\u001b[0m top5-tfidf 35\n",
      "0.36534634199 0.34267383557\n",
      "Ttest_indResult(statistic=7.7643332700091223, pvalue=8.3065733007322915e-15)\n",
      "\u001b[31m Statistically diff\n",
      "\u001b[0m top5-tfidf 40\n",
      "0.36619387802 0.34267383557\n",
      "Ttest_indResult(statistic=8.0407273440860401, pvalue=9.054744576515592e-16)\n",
      "\u001b[31m Statistically diff\n",
      "\u001b[0m top5-tfidf 45\n",
      "0.365929989834 0.34267383557\n",
      "Ttest_indResult(statistic=7.9459358735567989, pvalue=1.9528956861002395e-15)\n",
      "\u001b[31m Statistically diff\n",
      "\u001b[0m top5-tfidf 50\n",
      "0.366108268911 0.34267383557\n",
      "Ttest_indResult(statistic=7.9990657017608386, pvalue=1.2707951150409211e-15)\n",
      "\u001b[31m Statistically diff\n",
      "\u001b[0m top10-idf 1\n",
      "0.298514828243 0.34267383557\n",
      "Ttest_indResult(statistic=-15.476201115871481, pvalue=6.0614148901449878e-54)\n",
      "\u001b[31m Statistically diff\n",
      "\u001b[0m top10-idf 5\n",
      "0.346894563767 0.34267383557\n",
      "Ttest_indResult(statistic=1.4617562025977131, pvalue=0.14381199734929515)\n",
      "\u001b[34m NOT statistically different\n",
      "\u001b[0m top10-idf 10\n",
      "0.353872486138 0.34267383557\n",
      "Ttest_indResult(statistic=3.8751616442952521, pvalue=0.00010663930472167931)\n",
      "\u001b[31m Statistically diff\n",
      "\u001b[0m top10-idf 15\n",
      "0.358219846205 0.34267383557\n",
      "Ttest_indResult(statistic=5.3657442158658855, pvalue=8.0841414526078434e-08)\n",
      "\u001b[31m Statistically diff\n",
      "\u001b[0m top10-idf 20\n",
      "0.36131322243 0.34267383557\n",
      "Ttest_indResult(statistic=6.4150209220091936, pvalue=1.4159642225081835e-10)\n",
      "\u001b[31m Statistically diff\n",
      "\u001b[0m top10-idf 25\n",
      "0.362915178442 0.34267383557\n",
      "Ttest_indResult(statistic=6.9538362483465912, pvalue=3.5824166557684515e-12)\n",
      "\u001b[31m Statistically diff\n",
      "\u001b[0m top10-idf 30\n",
      "0.364285200977 0.34267383557\n",
      "Ttest_indResult(statistic=7.4092260330723629, pvalue=1.2830889167659465e-13)\n",
      "\u001b[31m Statistically diff\n",
      "\u001b[0m top10-idf 35\n",
      "0.364942174145 0.34267383557\n",
      "Ttest_indResult(statistic=7.6242715667471037, pvalue=2.4817194614978931e-14)\n",
      "\u001b[31m Statistically diff\n",
      "\u001b[0m top10-idf 40\n",
      "0.365751670865 0.34267383557\n",
      "Ttest_indResult(statistic=7.8881647220960875, pvalue=3.1061311979465655e-15)\n",
      "\u001b[31m Statistically diff\n",
      "\u001b[0m top10-idf 45\n",
      "0.365761732225 0.34267383557\n",
      "Ttest_indResult(statistic=7.8874617671354423, pvalue=3.1237358526542228e-15)\n",
      "\u001b[31m Statistically diff\n",
      "\u001b[0m top10-idf 50\n",
      "0.366285327145 0.34267383557\n",
      "Ttest_indResult(statistic=8.0562689946590069, pvalue=7.9764560641129766e-16)\n",
      "\u001b[31m Statistically diff\n",
      "\u001b[0m top10-tfidf 1\n",
      "0.29928442226 0.34267383557\n",
      "Ttest_indResult(statistic=-15.237872444968815, pvalue=2.3636101056566862e-52)\n",
      "\u001b[31m Statistically diff\n",
      "\u001b[0m top10-tfidf 5\n",
      "0.3460851512 0.34267383557\n",
      "Ttest_indResult(statistic=1.1831057982631712, pvalue=0.23677075876008782)\n",
      "\u001b[34m NOT statistically different\n",
      "\u001b[0m top10-tfidf 10\n",
      "0.351741417267 0.34267383557\n",
      "Ttest_indResult(statistic=3.1437461066817551, pvalue=0.0016686115856568466)\n",
      "\u001b[31m Statistically diff\n",
      "\u001b[0m top10-tfidf 15\n",
      "0.355742124547 0.34267383557\n",
      "Ttest_indResult(statistic=4.5193043523251992, pvalue=6.2132379186860583e-06)\n",
      "\u001b[31m Statistically diff\n",
      "\u001b[0m top10-tfidf 20\n",
      "0.359598823183 0.34267383557\n",
      "Ttest_indResult(statistic=5.8318245542562543, pvalue=5.503689499706558e-09)\n",
      "\u001b[31m Statistically diff\n",
      "\u001b[0m top10-tfidf 25\n",
      "0.36081568082 0.34267383557\n",
      "Ttest_indResult(statistic=6.2406180972528595, pvalue=4.3805274304790269e-10)\n",
      "\u001b[31m Statistically diff\n",
      "\u001b[0m top10-tfidf 30\n",
      "0.362413114367 0.34267383557\n",
      "Ttest_indResult(statistic=6.7755101839415346, pvalue=1.248383476283279e-11)\n",
      "\u001b[31m Statistically diff\n",
      "\u001b[0m top10-tfidf 35\n",
      "0.363561997261 0.34267383557\n",
      "Ttest_indResult(statistic=7.1566888177058647, pvalue=8.3371168908322284e-13)\n",
      "\u001b[31m Statistically diff\n",
      "\u001b[0m top10-tfidf 40\n",
      "0.363903607489 0.34267383557\n",
      "Ttest_indResult(statistic=7.2647056323627117, pvalue=3.7732632611558232e-13)\n",
      "\u001b[31m Statistically diff\n",
      "\u001b[0m top10-tfidf 45\n",
      "0.363953254289 0.34267383557\n",
      "Ttest_indResult(statistic=7.2756249558427957, pvalue=3.480508385284558e-13)\n",
      "\u001b[31m Statistically diff\n",
      "\u001b[0m top10-tfidf 50\n",
      "0.363739012284 0.34267383557\n",
      "Ttest_indResult(statistic=7.1974213393349169, pvalue=6.1913764507199535e-13)\n",
      "\u001b[31m Statistically diff\n"
     ]
    }
   ],
   "source": [
    "for baseType in baseTypes:\n",
    "    for alpha in [1, 5, 10, 15, 20, 25, 30, 35, 40, 45, 50]:\n",
    "        check_statistical_significance_avg_with_baseline(baseType, rr_dict, mrr_dict, queryTypes, alpha)"
   ]
  },
  {
   "cell_type": "code",
   "execution_count": null,
   "metadata": {
    "collapsed": true
   },
   "outputs": [],
   "source": []
  }
 ],
 "metadata": {
  "kernelspec": {
   "display_name": "Python 3",
   "language": "python",
   "name": "python3"
  },
  "language_info": {
   "codemirror_mode": {
    "name": "ipython",
    "version": 3
   },
   "file_extension": ".py",
   "mimetype": "text/x-python",
   "name": "python",
   "nbconvert_exporter": "python",
   "pygments_lexer": "ipython3",
   "version": "3.6.3"
  }
 },
 "nbformat": 4,
 "nbformat_minor": 2
}
