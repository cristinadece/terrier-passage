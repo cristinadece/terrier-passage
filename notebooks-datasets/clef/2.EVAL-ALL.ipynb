{
 "cells": [
  {
   "cell_type": "code",
   "execution_count": 2,
   "metadata": {
    "collapsed": true
   },
   "outputs": [],
   "source": [
    "%load_ext autoreload\n",
    "%autoreload 2\n",
    "import json\n",
    "from scipy import sparse\n",
    "from time import time\n",
    "import pandas as pd\n",
    "import numpy as np\n",
    "import matplotlib.pyplot as plt\n",
    "from collections import defaultdict\n",
    "import string\n",
    "import scipy.stats as stats"
   ]
  },
  {
   "cell_type": "markdown",
   "metadata": {},
   "source": [
    "# We must run scripts on Terrier with the parameters!"
   ]
  },
  {
   "cell_type": "markdown",
   "metadata": {},
   "source": [
    "### So we run:\n",
    "\n",
    "* Run the weights and queries in Terrier to get the reuslts file\n",
    "    - bash clef-run-top5-idf-p-alpha.sh and variants (in terrier-core-4.2)\n",
    "    - bin/trec_terrier.sh -r -Dtrec.model=models.BM25PAlpha  -Dbm25p.p=\\$p -Dbm25p.alpha=\\$alpha -Dbm25p.w\n",
    "* Use trec_eval tool"
   ]
  },
  {
   "cell_type": "markdown",
   "metadata": {},
   "source": [
    "# How we do it\n",
    "\n",
    "#### Scoring functions to evaluate:\n",
    "    - BM25 \n",
    "    - BM25P10-top5-idf \n",
    "    - BM25P10-top5-tfidf \n",
    "    - BM25P10-top10-idf \n",
    "    - BM25P10-top10-tfidf\n",
    "\n",
    "For each scoring function result file we evaluate the 4 query types (A,B,C and D). We have some intermediate files from which we read the position of the corrent doc match. We evaluate if in top 1,10,100.\n",
    "\n",
    "What are the metrics we are interested in?\n",
    "- Win/loss ratio\n",
    "- Average rank\n",
    "- Precision @ 1,10,100\n",
    "- MRR\n",
    "\n",
    "There might be some queries in the input files with no results"
   ]
  },
  {
   "cell_type": "markdown",
   "metadata": {},
   "source": [
    "## Load eval files"
   ]
  },
  {
   "cell_type": "code",
   "execution_count": 3,
   "metadata": {
    "collapsed": true
   },
   "outputs": [],
   "source": [
    "# Settings\n",
    "# dirEval = \"./results-2005-2006/\"\n",
    "dirEval = \"./results/\"\n",
    "baseTypes = [\"top5-idf\", \n",
    "             \"top5-tfidf\",\n",
    "             \"top10-idf\",\n",
    "             \"top10-tfidf\"]\n",
    "alphas = [1, 5, 10, 15, 20, 25, 30, 35, 40, 45, 50]\n",
    "ending = \".eval\""
   ]
  },
  {
   "cell_type": "markdown",
   "metadata": {},
   "source": [
    "### MRR plots for different alpha"
   ]
  },
  {
   "cell_type": "code",
   "execution_count": 5,
   "metadata": {
    "collapsed": true
   },
   "outputs": [],
   "source": [
    "def getMetric(file, metric):\n",
    "    qidMetricVal = dict()   # to do : change to defaultdict, with 0 for MRR!!!\n",
    "    with open(file) as inputFile:\n",
    "        for line in inputFile:\n",
    "            if metric in line:\n",
    "                qidMetricVal[line.split()[1]] =float(line.split()[2])\n",
    "    return qidMetricVal"
   ]
  },
  {
   "cell_type": "code",
   "execution_count": 6,
   "metadata": {
    "collapsed": true,
    "scrolled": false
   },
   "outputs": [],
   "source": [
    "# getMetric(dirEval+\"BM25P-CLEF-FR-top5-idf-all-queries-p-10-alpha-15.res.eval\", \"recip\") # HERE we change metric"
   ]
  },
  {
   "cell_type": "code",
   "execution_count": 7,
   "metadata": {
    "collapsed": true,
    "scrolled": false
   },
   "outputs": [],
   "source": [
    "import os\n",
    "\n",
    "metric_dict = defaultdict()\n",
    "for filename in os.listdir(dirEval):\n",
    "    if ending in filename:\n",
    "#         print(filename)\n",
    "        name_items = filename.split(\"-\")\n",
    "        baseType = name_items[3]+\"-\"+name_items[4]\n",
    "        alpha = filename.split(\".\")[0].split(\"-\")[10]\n",
    "        metric_value_dict = getMetric(dirEval+filename, \"recip\") # HERE we change the metric\n",
    "        metric_dict[(baseType, int(alpha))] = metric_value_dict[\"all\"]"
   ]
  },
  {
   "cell_type": "code",
   "execution_count": 8,
   "metadata": {},
   "outputs": [
    {
     "data": {
      "text/plain": [
       "0.3748"
      ]
     },
     "execution_count": 8,
     "metadata": {},
     "output_type": "execute_result"
    }
   ],
   "source": [
    "metric_dict[(\"top10-idf\", 1)]\n",
    "# metric_dict.keys()"
   ]
  },
  {
   "cell_type": "code",
   "execution_count": 16,
   "metadata": {
    "collapsed": true
   },
   "outputs": [],
   "source": [
    "def plot_and_sort(baseTypes, alphas, metric_dict, ylabel):\n",
    "    \n",
    "    for baseType in baseTypes:\n",
    "        y = []\n",
    "        for alph in alphas:\n",
    "            val = metric_dict[(baseType, alph)]\n",
    "#             print(val)\n",
    "            y.append(val)\n",
    "        print(alphas, y)\n",
    "        plt.plot(alphas,y , label=baseType)\n",
    "        #print(max(y),x[y.index(max(y))])\n",
    "        \n",
    "        plt.plot(alphas[y.index(max(y))], max(y), \"or\")\n",
    "        plt.axvline(x=10, color=\"k\", linestyle=\"--\")\n",
    "    \n",
    "    baseline_y = [metric_dict[(\"bm25-plain\", 0)]] * len(alphas)\n",
    "    print(baseline_y)\n",
    "    plt.plot(alphas, baseline_y , label=\"bm25-plain\")\n",
    "    \n",
    "    plt.legend(loc='center left', bbox_to_anchor=(1, 0.5))\n",
    "    plt.title(\"BM25P varying alpha\")\n",
    "    plt.xlabel(\"Alpha\")\n",
    "    plt.ylabel(ylabel)\n",
    "    \n",
    "    plt.show()"
   ]
  },
  {
   "cell_type": "code",
   "execution_count": 17,
   "metadata": {},
   "outputs": [
    {
     "name": "stdout",
     "output_type": "stream",
     "text": [
      "[1, 5, 10, 15, 20, 25, 30, 35, 40, 45, 50] [0.355, 0.3825, 0.3962, 0.4055, 0.4041, 0.4025, 0.4031, 0.4034, 0.4055, 0.4075, 0.408]\n",
      "[1, 5, 10, 15, 20, 25, 30, 35, 40, 45, 50] [0.3728, 0.3997, 0.4107, 0.4128, 0.4123, 0.4155, 0.4157, 0.4151, 0.417, 0.415, 0.415]\n",
      "[1, 5, 10, 15, 20, 25, 30, 35, 40, 45, 50] [0.3748, 0.401, 0.4123, 0.4146, 0.4091, 0.4112, 0.4083, 0.4084, 0.411, 0.4098, 0.4093]\n",
      "[1, 5, 10, 15, 20, 25, 30, 35, 40, 45, 50] [0.3644, 0.3975, 0.3995, 0.4031, 0.4041, 0.4037, 0.4071, 0.41, 0.4063, 0.4055, 0.4069]\n",
      "[0.3987, 0.3987, 0.3987, 0.3987, 0.3987, 0.3987, 0.3987, 0.3987, 0.3987, 0.3987, 0.3987]\n"
     ]
    },
    {
     "data": {
      "image/png": "[encoded data removed]",
      "text/plain": [
       "<matplotlib.figure.Figure at 0x7f375b8ea7b8>"
      ]
     },
     "metadata": {},
     "output_type": "display_data"
    }
   ],
   "source": [
    "plot_and_sort(baseTypes, alphas, metric_dict, \"Mean Reciprocal Rank for all test queries\")"
   ]
  },
  {
   "cell_type": "markdown",
   "metadata": {},
   "source": [
    "# Get more metrics from eval file"
   ]
  },
  {
   "cell_type": "code",
   "execution_count": 35,
   "metadata": {
    "collapsed": true
   },
   "outputs": [],
   "source": [
    "def getAllMetrics(file):\n",
    "    \"\"\"\n",
    "    The file has a list of metrics per query and \"all\".\n",
    "    \"\"\"\n",
    "    qidMetricVal = defaultdict(lambda: defaultdict(str))\n",
    "    with open(file) as inputFile:\n",
    "        for line in inputFile:\n",
    "            metric_dict = qidMetricVal[line.split()[1]]\n",
    "            metric_dict[line.split()[0]] = line.split()[2]\n",
    "    return qidMetricVal"
   ]
  },
  {
   "cell_type": "code",
   "execution_count": 36,
   "metadata": {},
   "outputs": [
    {
     "data": {
      "text/plain": [
       "defaultdict(str,\n",
       "            {'11pt_avg': '0.2145',\n",
       "             'G': '0.2042',\n",
       "             'P_10': '0.2233',\n",
       "             'P_100': '0.0950',\n",
       "             'P_1000': '0.0180',\n",
       "             'P_15': '0.1966',\n",
       "             'P_20': '0.1795',\n",
       "             'P_200': '0.0616',\n",
       "             'P_30': '0.1572',\n",
       "             'P_5': '0.2526',\n",
       "             'P_500': '0.0316',\n",
       "             'Rndcg': '0.3164',\n",
       "             'Rprec': '0.2016',\n",
       "             'Rprec_mult_0.20': '0.2501',\n",
       "             'Rprec_mult_0.40': '0.2354',\n",
       "             'Rprec_mult_0.60': '0.2221',\n",
       "             'Rprec_mult_0.80': '0.2100',\n",
       "             'Rprec_mult_1.00': '0.2016',\n",
       "             'Rprec_mult_1.20': '0.1835',\n",
       "             'Rprec_mult_1.40': '0.1722',\n",
       "             'Rprec_mult_1.60': '0.1636',\n",
       "             'Rprec_mult_1.80': '0.1568',\n",
       "             'Rprec_mult_2.00': '0.1506',\n",
       "             'binG': '0.2042',\n",
       "             'bpref': '0.2648',\n",
       "             'gm_bpref': '0.0153',\n",
       "             'gm_map': '0.0332',\n",
       "             'infAP': '0.2000',\n",
       "             'iprec_at_recall_0.00': '0.4351',\n",
       "             'iprec_at_recall_0.10': '0.3376',\n",
       "             'iprec_at_recall_0.20': '0.2940',\n",
       "             'iprec_at_recall_0.30': '0.2592',\n",
       "             'iprec_at_recall_0.40': '0.2293',\n",
       "             'iprec_at_recall_0.50': '0.2046',\n",
       "             'iprec_at_recall_0.60': '0.1732',\n",
       "             'iprec_at_recall_0.70': '0.1483',\n",
       "             'iprec_at_recall_0.80': '0.1199',\n",
       "             'iprec_at_recall_0.90': '0.0917',\n",
       "             'iprec_at_recall_1.00': '0.0662',\n",
       "             'map': '0.2000',\n",
       "             'map_cut_10': '0.1074',\n",
       "             'map_cut_100': '0.1813',\n",
       "             'map_cut_1000': '0.2000',\n",
       "             'map_cut_15': '0.1216',\n",
       "             'map_cut_20': '0.1311',\n",
       "             'map_cut_200': '0.1917',\n",
       "             'map_cut_30': '0.1451',\n",
       "             'map_cut_5': '0.0801',\n",
       "             'map_cut_500': '0.1980',\n",
       "             'ndcg': '0.4163',\n",
       "             'ndcg_cut_10': '0.2785',\n",
       "             'ndcg_cut_100': '0.3308',\n",
       "             'ndcg_cut_1000': '0.4163',\n",
       "             'ndcg_cut_15': '0.2753',\n",
       "             'ndcg_cut_20': '0.2757',\n",
       "             'ndcg_cut_200': '0.3617',\n",
       "             'ndcg_cut_30': '0.2824',\n",
       "             'ndcg_cut_5': '0.2789',\n",
       "             'ndcg_cut_500': '0.3958',\n",
       "             'ndcg_rel': '0.3543',\n",
       "             'num_nonrel_judged_ret': '37227',\n",
       "             'num_q': '331',\n",
       "             'num_rel': '9632',\n",
       "             'num_rel_ret': '5951',\n",
       "             'num_ret': '309713',\n",
       "             'recall_10': '0.1793',\n",
       "             'recall_100': '0.4488',\n",
       "             'recall_1000': '0.6962',\n",
       "             'recall_15': '0.2188',\n",
       "             'recall_20': '0.2464',\n",
       "             'recall_200': '0.5358',\n",
       "             'recall_30': '0.2900',\n",
       "             'recall_5': '0.1150',\n",
       "             'recall_500': '0.6277',\n",
       "             'recip_rank': '0.4055',\n",
       "             'relative_P_10': '0.2965',\n",
       "             'relative_P_100': '0.4527',\n",
       "             'relative_P_1000': '0.6962',\n",
       "             'relative_P_15': '0.3014',\n",
       "             'relative_P_20': '0.3087',\n",
       "             'relative_P_200': '0.5358',\n",
       "             'relative_P_30': '0.3297',\n",
       "             'relative_P_5': '0.2840',\n",
       "             'relative_P_500': '0.6277',\n",
       "             'runid': 'BM25PAlpha',\n",
       "             'set_F': '0.0447',\n",
       "             'set_P': '0.0251',\n",
       "             'set_map': '0.0213',\n",
       "             'set_recall': '0.6962',\n",
       "             'set_relative_P': '0.6962',\n",
       "             'success_1': '0.2991',\n",
       "             'success_10': '0.6314',\n",
       "             'success_5': '0.5438',\n",
       "             'utility': '-899.7311'})"
      ]
     },
     "execution_count": 36,
     "metadata": {},
     "output_type": "execute_result"
    }
   ],
   "source": [
    "all_metrics_dict = getAllMetrics(dirEval+\"BM25P-CLEF-FR-top5-idf-all-queries-p-10-alpha-15.res.eval\")\n",
    "len(all_metrics_dict.keys())\n",
    "all_metrics_dict.keys()\n",
    "all_metrics_dict[\"all\"]"
   ]
  },
  {
   "cell_type": "code",
   "execution_count": 37,
   "metadata": {
    "collapsed": true
   },
   "outputs": [],
   "source": [
    "def filterOneMetric(dirEval, metric_name):\n",
    "    metric_dict = defaultdict()\n",
    "    for filename in os.listdir(dirEval):\n",
    "        if ending in filename:\n",
    "    #         print(filename)\n",
    "            name_items = filename.split(\"-\")\n",
    "            baseType = name_items[3]+\"-\"+name_items[4]\n",
    "            alpha = filename.split(\".\")[0].split(\"-\")[10]\n",
    "            all_metrics_dict = getAllMetrics(dirEval+filename)\n",
    "            metric_dict[(baseType, int(alpha))] = float(all_metrics_dict[\"all\"][metric_name])\n",
    "    return metric_dict"
   ]
  },
  {
   "cell_type": "code",
   "execution_count": 38,
   "metadata": {},
   "outputs": [
    {
     "data": {
      "text/plain": [
       "defaultdict(None,\n",
       "            {('bm25-plain', 0): 0.2099,\n",
       "             ('bm25-plain', 1): 0.2099,\n",
       "             ('top10-idf', 1): 0.1717,\n",
       "             ('top10-idf', 5): 0.2003,\n",
       "             ('top10-idf', 10): 0.2093,\n",
       "             ('top10-idf', 15): 0.2121,\n",
       "             ('top10-idf', 20): 0.2097,\n",
       "             ('top10-idf', 25): 0.2095,\n",
       "             ('top10-idf', 30): 0.208,\n",
       "             ('top10-idf', 35): 0.208,\n",
       "             ('top10-idf', 40): 0.2101,\n",
       "             ('top10-idf', 45): 0.2094,\n",
       "             ('top10-idf', 50): 0.2088,\n",
       "             ('top10-tfidf', 1): 0.1732,\n",
       "             ('top10-tfidf', 5): 0.2049,\n",
       "             ('top10-tfidf', 10): 0.2108,\n",
       "             ('top10-tfidf', 15): 0.2133,\n",
       "             ('top10-tfidf', 20): 0.2129,\n",
       "             ('top10-tfidf', 25): 0.2118,\n",
       "             ('top10-tfidf', 30): 0.212,\n",
       "             ('top10-tfidf', 35): 0.214,\n",
       "             ('top10-tfidf', 40): 0.212,\n",
       "             ('top10-tfidf', 45): 0.2113,\n",
       "             ('top10-tfidf', 50): 0.2123,\n",
       "             ('top5-idf', 1): 0.1551,\n",
       "             ('top5-idf', 5): 0.1866,\n",
       "             ('top5-idf', 10): 0.195,\n",
       "             ('top5-idf', 15): 0.2,\n",
       "             ('top5-idf', 20): 0.2014,\n",
       "             ('top5-idf', 25): 0.2011,\n",
       "             ('top5-idf', 30): 0.2009,\n",
       "             ('top5-idf', 35): 0.2008,\n",
       "             ('top5-idf', 40): 0.201,\n",
       "             ('top5-idf', 45): 0.2032,\n",
       "             ('top5-idf', 50): 0.203,\n",
       "             ('top5-tfidf', 1): 0.1737,\n",
       "             ('top5-tfidf', 5): 0.203,\n",
       "             ('top5-tfidf', 10): 0.2106,\n",
       "             ('top5-tfidf', 15): 0.2127,\n",
       "             ('top5-tfidf', 20): 0.2138,\n",
       "             ('top5-tfidf', 25): 0.2137,\n",
       "             ('top5-tfidf', 30): 0.2124,\n",
       "             ('top5-tfidf', 35): 0.2119,\n",
       "             ('top5-tfidf', 40): 0.2136,\n",
       "             ('top5-tfidf', 45): 0.2125,\n",
       "             ('top5-tfidf', 50): 0.212})"
      ]
     },
     "execution_count": 38,
     "metadata": {},
     "output_type": "execute_result"
    }
   ],
   "source": [
    "a = filterOneMetric(dirEval, \"map\")\n",
    "a"
   ]
  },
  {
   "cell_type": "code",
   "execution_count": 39,
   "metadata": {},
   "outputs": [
    {
     "name": "stdout",
     "output_type": "stream",
     "text": [
      "[1, 5, 10, 15, 20, 25, 30, 35, 40, 45, 50] [0.1551, 0.1866, 0.195, 0.2, 0.2014, 0.2011, 0.2009, 0.2008, 0.201, 0.2032, 0.203]\n",
      "[1, 5, 10, 15, 20, 25, 30, 35, 40, 45, 50] [0.1737, 0.203, 0.2106, 0.2127, 0.2138, 0.2137, 0.2124, 0.2119, 0.2136, 0.2125, 0.212]\n",
      "[1, 5, 10, 15, 20, 25, 30, 35, 40, 45, 50] [0.1717, 0.2003, 0.2093, 0.2121, 0.2097, 0.2095, 0.208, 0.208, 0.2101, 0.2094, 0.2088]\n",
      "[1, 5, 10, 15, 20, 25, 30, 35, 40, 45, 50] [0.1732, 0.2049, 0.2108, 0.2133, 0.2129, 0.2118, 0.212, 0.214, 0.212, 0.2113, 0.2123]\n",
      "[0.2099, 0.2099, 0.2099, 0.2099, 0.2099, 0.2099, 0.2099, 0.2099, 0.2099, 0.2099, 0.2099]\n"
     ]
    },
    {
     "data": {
      "image/png": "[encoded data removed]",
      "text/plain": [
       "<matplotlib.figure.Figure at 0x7f375b5470f0>"
      ]
     },
     "metadata": {},
     "output_type": "display_data"
    }
   ],
   "source": [
    "plot_and_sort(baseTypes, alphas, a, \"MAP\")"
   ]
  },
  {
   "cell_type": "markdown",
   "metadata": {},
   "source": [
    "### Statistical significance for MRR values"
   ]
  },
  {
   "cell_type": "code",
   "execution_count": 41,
   "metadata": {
    "collapsed": true
   },
   "outputs": [],
   "source": [
    "def two_sample_ttest_ind(a,b):\n",
    "    return stats.ttest_ind(a, b, equal_var=False)\n",
    "\n",
    "def two_sample_ttest_rel(a,b):\n",
    "    return stats.ttest_rel(a, b)"
   ]
  },
  {
   "cell_type": "code",
   "execution_count": 42,
   "metadata": {
    "collapsed": true
   },
   "outputs": [],
   "source": [
    "def check_statistical_significance(all_metrics_dict_A, all_metrics_dict_B, metric):\n",
    "    \"\"\"\n",
    "    between 2 means of a specific metric\n",
    "    e.g. compare MAP / RR for top5-idf and bm25-plain for alpha 10\n",
    "    \n",
    "    \"\"\"\n",
    "    metric_values_per_query_A = []\n",
    "    metric_values_per_query_B = []\n",
    "    \n",
    "    for k in all_metrics_dict_A.keys():\n",
    "        if k!=\"all\":\n",
    "            metric_values_per_query_A.append(float(all_metrics_dict_A[k][metric]))\n",
    "            metric_values_per_query_B.append(float(all_metrics_dict_B[k][metric]))\n",
    "    \n",
    "#     print(metric_values_per_query_A)\n",
    "#     print(metric_values_per_query_B)\n",
    "    with open(\"/home/muntean/compare_2_distrib.txt\",\"w\") as f:\n",
    "        f.write(\",\".join([str(x) for x in metric_values_per_query_A]) + \"\\n\")\n",
    "        f.write(\",\".join([str(x) for x in metric_values_per_query_B]))\n",
    "\n",
    "    print(np.mean(metric_values_per_query_A))\n",
    "    print(np.mean(metric_values_per_query_B))\n",
    "    print(two_sample_ttest_rel(metric_values_per_query_A, metric_values_per_query_B))"
   ]
  },
  {
   "cell_type": "code",
   "execution_count": 57,
   "metadata": {
    "collapsed": true
   },
   "outputs": [],
   "source": [
    "base_type_A = \"top5-tfidf\"\n",
    "alpha_A = \"10\"\n",
    "base_type_B = \"bm25-plain\"\n",
    "alpha_B = \"1\"\n",
    "\n",
    "all_metrics_dict_A = getAllMetrics(dirEval+\"BM25P-CLEF-FR-\"+base_type_A+\"-all-queries-p-10-alpha-\"+alpha_A+\".res.eval\")\n",
    "all_metrics_dict_B = getAllMetrics(dirEval+\"BM25P-CLEF-FR-\"+base_type_B+\"-all-queries-p-10-alpha-\"+alpha_B+\".res.eval\")"
   ]
  },
  {
   "cell_type": "code",
   "execution_count": 58,
   "metadata": {},
   "outputs": [
    {
     "name": "stdout",
     "output_type": "stream",
     "text": [
      "0.410671601208\n",
      "0.398716616314\n",
      "Ttest_relResult(statistic=1.3349353767277776, pvalue=0.18281770448159407)\n"
     ]
    }
   ],
   "source": [
    "check_statistical_significance(all_metrics_dict_A, all_metrics_dict_B, \"recip_rank\")"
   ]
  },
  {
   "cell_type": "code",
   "execution_count": 59,
   "metadata": {},
   "outputs": [
    {
     "name": "stdout",
     "output_type": "stream",
     "text": [
      "0.155120543807\n",
      "0.154168882175\n",
      "Ttest_relResult(statistic=0.53388408453887226, pvalue=0.59378117076331938)\n"
     ]
    }
   ],
   "source": [
    "check_statistical_significance(all_metrics_dict_A, all_metrics_dict_B, \"map_cut_30\")"
   ]
  },
  {
   "cell_type": "code",
   "execution_count": 31,
   "metadata": {
    "collapsed": true
   },
   "outputs": [],
   "source": [
    "# https://rasbt.github.io/mlxtend/installation/\n",
    "# p_value = permutation_test(a, b,\n",
    "#                   method='approximate',\n",
    "#                   num_rounds=10000,\n",
    "#                   seed=10)\n",
    "# print(p_value)\n",
    "\n",
    "# 0.6237"
   ]
  },
  {
   "cell_type": "code",
   "execution_count": 33,
   "metadata": {
    "collapsed": true
   },
   "outputs": [],
   "source": [
    "### new comparison\n",
    "base_type_A = \"top10-idf\"\n",
    "alpha_A = \"15\"\n",
    "\n",
    "all_metrics_dict_A = getAllMetrics(dirEval+\"BM25P-CLEF-FR-\"+base_type_A+\"-all-queries-p-10-alpha-\"+alpha_A+\".res.eval\")"
   ]
  },
  {
   "cell_type": "code",
   "execution_count": 34,
   "metadata": {},
   "outputs": [
    {
     "name": "stdout",
     "output_type": "stream",
     "text": [
      "0.41463897281\n",
      "0.398716616314\n",
      "Ttest_indResult(statistic=0.49728201089289048, pvalue=0.61915588192514925)\n"
     ]
    }
   ],
   "source": [
    "check_statistical_significance(all_metrics_dict_A, all_metrics_dict_B, \"recip_rank\")\n",
    "# not even a 2 point difference is statistically significant :O"
   ]
  },
  {
   "cell_type": "code",
   "execution_count": null,
   "metadata": {
    "collapsed": true
   },
   "outputs": [],
   "source": []
  }
 ],
 "metadata": {
  "kernelspec": {
   "display_name": "Python 3",
   "language": "python",
   "name": "python3"
  },
  "language_info": {
   "codemirror_mode": {
    "name": "ipython",
    "version": 3
   },
   "file_extension": ".py",
   "mimetype": "text/x-python",
   "name": "python",
   "nbconvert_exporter": "python",
   "pygments_lexer": "ipython3",
   "version": "3.6.3"
  }
 },
 "nbformat": 4,
 "nbformat_minor": 2
}
