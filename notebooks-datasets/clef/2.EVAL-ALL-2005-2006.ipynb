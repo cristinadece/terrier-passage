{
 "cells": [
  {
   "cell_type": "code",
   "execution_count": 1,
   "metadata": {
    "collapsed": true
   },
   "outputs": [],
   "source": [
    "%load_ext autoreload\n",
    "%autoreload 2\n",
    "import json\n",
    "from scipy import sparse\n",
    "from time import time\n",
    "import pandas as pd\n",
    "import numpy as np\n",
    "import matplotlib.pyplot as plt\n",
    "from collections import defaultdict\n",
    "import string\n",
    "import scipy.stats as stats"
   ]
  },
  {
   "cell_type": "markdown",
   "metadata": {},
   "source": [
    "# We must run scripts on Terrier with the parameters!"
   ]
  },
  {
   "cell_type": "markdown",
   "metadata": {},
   "source": [
    "### So we run:\n",
    "\n",
    "* Run the weights and queries in Terrier to get the reuslts file\n",
    "    - bash clef-run-top5-idf-p-alpha.sh and variants (in terrier-core-4.2)\n",
    "    - bin/trec_terrier.sh -r -Dtrec.model=models.BM25PAlpha  -Dbm25p.p=\\$p -Dbm25p.alpha=\\$alpha -Dbm25p.w\n",
    "* Use trec_eval tool"
   ]
  },
  {
   "cell_type": "markdown",
   "metadata": {},
   "source": [
    "# How we do it\n",
    "\n",
    "#### Scoring functions to evaluate:\n",
    "    - BM25 \n",
    "    - BM25P10-top5-idf \n",
    "    - BM25P10-top5-tfidf \n",
    "    - BM25P10-top10-idf \n",
    "    - BM25P10-top10-tfidf\n",
    "\n",
    "For each scoring function result file we evaluate the 4 query types (A,B,C and D). We have some intermediate files from which we read the position of the corrent doc match. We evaluate if in top 1,10,100.\n",
    "\n",
    "What are the metrics we are interested in?\n",
    "- Win/loss ratio\n",
    "- Average rank\n",
    "- Precision @ 1,10,100\n",
    "- MRR\n",
    "\n",
    "There might be some queries in the input files with no results"
   ]
  },
  {
   "cell_type": "markdown",
   "metadata": {},
   "source": [
    "## Load eval files"
   ]
  },
  {
   "cell_type": "code",
   "execution_count": 2,
   "metadata": {
    "collapsed": true
   },
   "outputs": [],
   "source": [
    "# Settings\n",
    "dirEval = \"./results-2005-2006/\"\n",
    "baseTypes = [\"top5-idf\", \n",
    "             \"top5-tfidf\",\n",
    "             \"top10-idf\",\n",
    "             \"top10-tfidf\"]\n",
    "alphas = [1, 5, 10, 15, 20, 25, 30, 35, 40, 45, 50]\n",
    "ending = \".eval\""
   ]
  },
  {
   "cell_type": "markdown",
   "metadata": {},
   "source": [
    "### MRR plots for different alpha"
   ]
  },
  {
   "cell_type": "code",
   "execution_count": 3,
   "metadata": {
    "collapsed": true
   },
   "outputs": [],
   "source": [
    "def getMetric(file, metric):\n",
    "    qidMetricVal = dict()   # to do : change to defaultdict, with 0 for MRR!!!\n",
    "    with open(file) as inputFile:\n",
    "        for line in inputFile:\n",
    "            if metric in line:\n",
    "                qidMetricVal[line.split()[1]] =float(line.split()[2])\n",
    "    return qidMetricVal"
   ]
  },
  {
   "cell_type": "code",
   "execution_count": 4,
   "metadata": {
    "collapsed": true,
    "scrolled": false
   },
   "outputs": [],
   "source": [
    "# getMetric(dirEval+\"BM25P-CLEF-FR-top5-idf-all-queries-p-10-alpha-15.res.eval\", \"recip\") # HERE we change metric"
   ]
  },
  {
   "cell_type": "code",
   "execution_count": 12,
   "metadata": {
    "scrolled": false
   },
   "outputs": [
    {
     "name": "stdout",
     "output_type": "stream",
     "text": [
      "BM25P-CLEF-FR-top5-idf-2005-2006-queries-p-10-alpha-15.res.eval\n",
      "BM25P-CLEF-FR-top5-idf-2005-2006-queries-p-10-alpha-40.res.eval\n",
      "BM25P-CLEF-FR-top5-tfidf-2005-2006-queries-p-10-alpha-10.res.eval\n",
      "BM25P-CLEF-FR-top5-tfidf-2005-2006-queries-p-10-alpha-40.res.eval\n",
      "BM25P-CLEF-FR-top5-tfidf-2005-2006-queries-p-10-alpha-25.res.eval\n",
      "BM25P-CLEF-FR-top10-tfidf-2005-2006-queries-p-10-alpha-15.res.eval\n",
      "BM25P-CLEF-FR-top10-tfidf-2005-2006-queries-p-10-alpha-25.res.eval\n",
      "BM25P-CLEF-FR-top5-idf-2005-2006-queries-p-10-alpha-1.res.eval\n",
      "BM25P-CLEF-FR-top10-tfidf-2005-2006-queries-p-10-alpha-50.res.eval\n",
      "BM25P-CLEF-FR-top10-idf-2005-2006-queries-p-10-alpha-45.res.eval\n",
      "BM25P-CLEF-FR-top10-idf-2005-2006-queries-p-10-alpha-25.res.eval\n",
      "BM25P-CLEF-FR-top5-tfidf-2005-2006-queries-p-10-alpha-50.res.eval\n",
      "BM25P-CLEF-FR-top10-idf-2005-2006-queries-p-10-alpha-30.res.eval\n",
      "BM25P-CLEF-FR-top10-idf-2005-2006-queries-p-10-alpha-1.res.eval\n",
      "BM25P-CLEF-FR-top5-idf-2005-2006-queries-p-10-alpha-10.res.eval\n",
      "BM25P-CLEF-FR-top5-idf-2005-2006-queries-p-10-alpha-35.res.eval\n",
      "BM25P-CLEF-FR-bm25-plain-2005-2006-queries-p-10-alpha-1.res.eval\n",
      "BM25P-CLEF-FR-top5-tfidf-2005-2006-queries-p-10-alpha-20.res.eval\n",
      "BM25P-CLEF-FR-top5-idf-2005-2006-queries-p-10-alpha-5.res.eval\n",
      "BM25P-CLEF-FR-top5-tfidf-2005-2006-queries-p-10-alpha-35.res.eval\n",
      "BM25P-CLEF-FR-top5-idf-2005-2006-queries-p-10-alpha-25.res.eval\n",
      "BM25P-CLEF-FR-top5-idf-2005-2006-queries-p-10-alpha-45.res.eval\n",
      "BM25P-CLEF-FR-top10-tfidf-2005-2006-queries-p-10-alpha-5.res.eval\n",
      "BM25P-CLEF-FR-top10-tfidf-2005-2006-queries-p-10-alpha-30.res.eval\n",
      "BM25P-CLEF-FR-top10-tfidf-2005-2006-queries-p-10-alpha-20.res.eval\n",
      "BM25P-CLEF-FR-top10-idf-2005-2006-queries-p-10-alpha-5.res.eval\n",
      "BM25P-CLEF-FR-top10-idf-2005-2006-queries-p-10-alpha-10.res.eval\n",
      "BM25P-CLEF-FR-top10-idf-2005-2006-queries-p-10-alpha-15.res.eval\n",
      "BM25P-CLEF-FR-top10-idf-2005-2006-queries-p-10-alpha-40.res.eval\n",
      "BM25P-CLEF-FR-top10-tfidf-2005-2006-queries-p-10-alpha-1.res.eval\n",
      "BM25P-CLEF-FR-top10-idf-2005-2006-queries-p-10-alpha-35.res.eval\n",
      "BM25P-CLEF-FR-top5-tfidf-2005-2006-queries-p-10-alpha-15.res.eval\n",
      "BM25P-CLEF-FR-top5-tfidf-2005-2006-queries-p-10-alpha-5.res.eval\n",
      "BM25P-CLEF-FR-bm25-plain-2005-2006-queries-p-10-alpha-0.res.eval\n",
      "BM25P-CLEF-FR-top10-tfidf-2005-2006-queries-p-10-alpha-45.res.eval\n",
      "BM25P-CLEF-FR-top10-tfidf-2005-2006-queries-p-10-alpha-40.res.eval\n",
      "BM25P-CLEF-FR-top10-tfidf-2005-2006-queries-p-10-alpha-35.res.eval\n",
      "BM25P-CLEF-FR-top10-idf-2005-2006-queries-p-10-alpha-50.res.eval\n",
      "BM25P-CLEF-FR-top5-tfidf-2005-2006-queries-p-10-alpha-45.res.eval\n",
      "BM25P-CLEF-FR-top5-idf-2005-2006-queries-p-10-alpha-30.res.eval\n",
      "BM25P-CLEF-FR-top5-idf-2005-2006-queries-p-10-alpha-50.res.eval\n",
      "BM25P-CLEF-FR-top10-tfidf-2005-2006-queries-p-10-alpha-10.res.eval\n",
      "BM25P-CLEF-FR-top5-tfidf-2005-2006-queries-p-10-alpha-1.res.eval\n",
      "BM25P-CLEF-FR-top5-tfidf-2005-2006-queries-p-10-alpha-30.res.eval\n",
      "BM25P-CLEF-FR-top5-idf-2005-2006-queries-p-10-alpha-20.res.eval\n",
      "BM25P-CLEF-FR-top10-idf-2005-2006-queries-p-10-alpha-20.res.eval\n"
     ]
    }
   ],
   "source": [
    "import os\n",
    "\n",
    "metric_dict = defaultdict()\n",
    "for filename in os.listdir(dirEval):\n",
    "    if ending in filename:\n",
    "        print(filename)\n",
    "        name_items = filename.split(\"-\")\n",
    "        baseType = name_items[3]+\"-\"+name_items[4]\n",
    "        alpha = filename.split(\".\")[0].split(\"-\")[11]\n",
    "        metric_value_dict = getMetric(dirEval+filename, \"recip\") # HERE we change the metric\n",
    "        metric_dict[(baseType, int(alpha))] = metric_value_dict[\"all\"]"
   ]
  },
  {
   "cell_type": "code",
   "execution_count": 13,
   "metadata": {},
   "outputs": [
    {
     "data": {
      "text/plain": [
       "0.4553"
      ]
     },
     "execution_count": 13,
     "metadata": {},
     "output_type": "execute_result"
    }
   ],
   "source": [
    "metric_dict[(\"top10-idf\", 1)]\n",
    "# metric_dict.keys()"
   ]
  },
  {
   "cell_type": "code",
   "execution_count": 14,
   "metadata": {
    "collapsed": true
   },
   "outputs": [],
   "source": [
    "def plot_and_sort(baseTypes, alphas, metric_dict, ylabel):\n",
    "    \n",
    "    for baseType in baseTypes:\n",
    "        y = []\n",
    "        for alph in alphas:\n",
    "            val = metric_dict[(baseType, alph)]\n",
    "#             print(val)\n",
    "            y.append(val)\n",
    "        print(alphas, y)\n",
    "        plt.plot(alphas,y , label=baseType)\n",
    "        #print(max(y),x[y.index(max(y))])\n",
    "        \n",
    "        plt.plot(alphas[y.index(max(y))], max(y), \"or\")\n",
    "        plt.axvline(x=10, color=\"k\", linestyle=\"--\")\n",
    "    \n",
    "    baseline_y = [metric_dict[(\"bm25-plain\", 0)]] * len(alphas)\n",
    "    print(baseline_y)\n",
    "    plt.plot(alphas, baseline_y , label=\"bm25-plain\")\n",
    "    \n",
    "    plt.legend(loc='center left', bbox_to_anchor=(1, 0.5))\n",
    "    plt.title(\"BM25P varying alpha\")\n",
    "    plt.xlabel(\"Alpha\")\n",
    "    plt.ylabel(ylabel)\n",
    "    \n",
    "    plt.show()"
   ]
  },
  {
   "cell_type": "code",
   "execution_count": 15,
   "metadata": {},
   "outputs": [
    {
     "name": "stdout",
     "output_type": "stream",
     "text": [
      "[1, 5, 10, 15, 20, 25, 30, 35, 40, 45, 50] [0.4502, 0.488, 0.5029, 0.5239, 0.5198, 0.5131, 0.5132, 0.5134, 0.5132, 0.5211, 0.5212]\n",
      "[1, 5, 10, 15, 20, 25, 30, 35, 40, 45, 50] [0.4545, 0.485, 0.5034, 0.511, 0.5051, 0.5132, 0.5126, 0.5127, 0.5215, 0.5197, 0.5196]\n",
      "[1, 5, 10, 15, 20, 25, 30, 35, 40, 45, 50] [0.4553, 0.481, 0.5115, 0.5125, 0.5055, 0.5126, 0.5102, 0.5053, 0.5142, 0.5124, 0.5113]\n",
      "[1, 5, 10, 15, 20, 25, 30, 35, 40, 45, 50] [0.4503, 0.487, 0.4977, 0.5045, 0.505, 0.5046, 0.5102, 0.5196, 0.5143, 0.513, 0.5123]\n",
      "[0.5028, 0.5028, 0.5028, 0.5028, 0.5028, 0.5028, 0.5028, 0.5028, 0.5028, 0.5028, 0.5028]\n"
     ]
    },
    {
     "data": {
      "image/png": "[encoded data removed]",
      "text/plain": [
       "<matplotlib.figure.Figure at 0x7f99727eaac8>"
      ]
     },
     "metadata": {},
     "output_type": "display_data"
    }
   ],
   "source": [
    "plot_and_sort(baseTypes, alphas, metric_dict, \"Mean Reciprocal Rank for all test queries\")"
   ]
  },
  {
   "cell_type": "markdown",
   "metadata": {},
   "source": [
    "# Get more metrics from eval file"
   ]
  },
  {
   "cell_type": "code",
   "execution_count": 16,
   "metadata": {
    "collapsed": true
   },
   "outputs": [],
   "source": [
    "def getAllMetrics(file):\n",
    "    \"\"\"\n",
    "    The file has a list of metrics per query and \"all\".\n",
    "    \"\"\"\n",
    "    qidMetricVal = defaultdict(lambda: defaultdict(str))\n",
    "    with open(file) as inputFile:\n",
    "        for line in inputFile:\n",
    "            metric_dict = qidMetricVal[line.split()[1]]\n",
    "            metric_dict[line.split()[0]] = line.split()[2]\n",
    "    return qidMetricVal"
   ]
  },
  {
   "cell_type": "code",
   "execution_count": 26,
   "metadata": {},
   "outputs": [
    {
     "data": {
      "text/plain": [
       "defaultdict(str,\n",
       "            {'11pt_avg': '0.2384',\n",
       "             'G': '0.1865',\n",
       "             'P_10': '0.3121',\n",
       "             'P_100': '0.1430',\n",
       "             'P_1000': '0.0274',\n",
       "             'P_15': '0.2848',\n",
       "             'P_20': '0.2631',\n",
       "             'P_200': '0.0919',\n",
       "             'P_30': '0.2347',\n",
       "             'P_5': '0.3475',\n",
       "             'P_500': '0.0479',\n",
       "             'Rndcg': '0.3569',\n",
       "             'Rprec': '0.2331',\n",
       "             'Rprec_mult_0.20': '0.3344',\n",
       "             'Rprec_mult_0.40': '0.3004',\n",
       "             'Rprec_mult_0.60': '0.2691',\n",
       "             'Rprec_mult_0.80': '0.2522',\n",
       "             'Rprec_mult_1.00': '0.2331',\n",
       "             'Rprec_mult_1.20': '0.2182',\n",
       "             'Rprec_mult_1.40': '0.2060',\n",
       "             'Rprec_mult_1.60': '0.1932',\n",
       "             'Rprec_mult_1.80': '0.1817',\n",
       "             'Rprec_mult_2.00': '0.1722',\n",
       "             'binG': '0.1865',\n",
       "             'bpref': '0.2402',\n",
       "             'gm_bpref': '0.0233',\n",
       "             'gm_map': '0.0367',\n",
       "             'infAP': '0.2213',\n",
       "             'iprec_at_recall_0.00': '0.5473',\n",
       "             'iprec_at_recall_0.10': '0.4008',\n",
       "             'iprec_at_recall_0.20': '0.3285',\n",
       "             'iprec_at_recall_0.30': '0.2910',\n",
       "             'iprec_at_recall_0.40': '0.2559',\n",
       "             'iprec_at_recall_0.50': '0.2252',\n",
       "             'iprec_at_recall_0.60': '0.1861',\n",
       "             'iprec_at_recall_0.70': '0.1502',\n",
       "             'iprec_at_recall_0.80': '0.1170',\n",
       "             'iprec_at_recall_0.90': '0.0791',\n",
       "             'iprec_at_recall_1.00': '0.0413',\n",
       "             'map': '0.2213',\n",
       "             'map_cut_10': '0.0891',\n",
       "             'map_cut_100': '0.1932',\n",
       "             'map_cut_1000': '0.2213',\n",
       "             'map_cut_15': '0.1071',\n",
       "             'map_cut_20': '0.1196',\n",
       "             'map_cut_200': '0.2081',\n",
       "             'map_cut_30': '0.1407',\n",
       "             'map_cut_5': '0.0620',\n",
       "             'map_cut_500': '0.2181',\n",
       "             'ndcg': '0.4523',\n",
       "             'ndcg_cut_10': '0.3438',\n",
       "             'ndcg_cut_100': '0.3546',\n",
       "             'ndcg_cut_1000': '0.4523',\n",
       "             'ndcg_cut_15': '0.3343',\n",
       "             'ndcg_cut_20': '0.3254',\n",
       "             'ndcg_cut_200': '0.3852',\n",
       "             'ndcg_cut_30': '0.3238',\n",
       "             'ndcg_cut_5': '0.3634',\n",
       "             'ndcg_cut_500': '0.4288',\n",
       "             'ndcg_rel': '0.3916',\n",
       "             'num_nonrel_judged_ret': '13306',\n",
       "             'num_q': '99',\n",
       "             'num_rel': '4685',\n",
       "             'num_rel_ret': '2709',\n",
       "             'num_ret': '92986',\n",
       "             'recall_10': '0.1243',\n",
       "             'recall_100': '0.4034',\n",
       "             'recall_1000': '0.6587',\n",
       "             'recall_15': '0.1624',\n",
       "             'recall_20': '0.1902',\n",
       "             'recall_200': '0.4927',\n",
       "             'recall_30': '0.2402',\n",
       "             'recall_5': '0.0803',\n",
       "             'recall_500': '0.5949',\n",
       "             'recip_rank': '0.5239',\n",
       "             'relative_P_10': '0.3309',\n",
       "             'relative_P_100': '0.4126',\n",
       "             'relative_P_1000': '0.6587',\n",
       "             'relative_P_15': '0.3236',\n",
       "             'relative_P_20': '0.3161',\n",
       "             'relative_P_200': '0.4927',\n",
       "             'relative_P_30': '0.3255',\n",
       "             'relative_P_5': '0.3502',\n",
       "             'relative_P_500': '0.5949',\n",
       "             'runid': 'BM25PAlpha',\n",
       "             'set_F': '0.0591',\n",
       "             'set_P': '0.0326',\n",
       "             'set_map': '0.0277',\n",
       "             'set_recall': '0.6587',\n",
       "             'set_relative_P': '0.6587',\n",
       "             'success_1': '0.4343',\n",
       "             'success_10': '0.6768',\n",
       "             'success_5': '0.6364',\n",
       "             'utility': '-884.5253'})"
      ]
     },
     "execution_count": 26,
     "metadata": {},
     "output_type": "execute_result"
    }
   ],
   "source": [
    "all_metrics_dict = getAllMetrics(dirEval+\"BM25P-CLEF-FR-top5-idf-2005-2006-queries-p-10-alpha-15.res.eval\")\n",
    "len(all_metrics_dict.keys())\n",
    "all_metrics_dict.keys()\n",
    "all_metrics_dict[\"all\"]"
   ]
  },
  {
   "cell_type": "code",
   "execution_count": 27,
   "metadata": {
    "collapsed": true
   },
   "outputs": [],
   "source": [
    "def filterOneMetric(dirEval, metric_name):\n",
    "    metric_dict = defaultdict()\n",
    "    for filename in os.listdir(dirEval):\n",
    "        if ending in filename:\n",
    "    #         print(filename)\n",
    "            name_items = filename.split(\"-\")\n",
    "            baseType = name_items[3]+\"-\"+name_items[4]\n",
    "            alpha = filename.split(\".\")[0].split(\"-\")[11]\n",
    "            all_metrics_dict = getAllMetrics(dirEval+filename)\n",
    "            metric_dict[(baseType, int(alpha))] = float(all_metrics_dict[\"all\"][metric_name])\n",
    "    return metric_dict"
   ]
  },
  {
   "cell_type": "code",
   "execution_count": 28,
   "metadata": {},
   "outputs": [
    {
     "data": {
      "text/plain": [
       "defaultdict(None,\n",
       "            {('bm25-plain', 0): 0.2397,\n",
       "             ('bm25-plain', 1): 0.2397,\n",
       "             ('top10-idf', 1): 0.1829,\n",
       "             ('top10-idf', 5): 0.2226,\n",
       "             ('top10-idf', 10): 0.2308,\n",
       "             ('top10-idf', 15): 0.2335,\n",
       "             ('top10-idf', 20): 0.2317,\n",
       "             ('top10-idf', 25): 0.2328,\n",
       "             ('top10-idf', 30): 0.2326,\n",
       "             ('top10-idf', 35): 0.2327,\n",
       "             ('top10-idf', 40): 0.2407,\n",
       "             ('top10-idf', 45): 0.2398,\n",
       "             ('top10-idf', 50): 0.2391,\n",
       "             ('top10-tfidf', 1): 0.1898,\n",
       "             ('top10-tfidf', 5): 0.2306,\n",
       "             ('top10-tfidf', 10): 0.2391,\n",
       "             ('top10-tfidf', 15): 0.2413,\n",
       "             ('top10-tfidf', 20): 0.2408,\n",
       "             ('top10-tfidf', 25): 0.2396,\n",
       "             ('top10-tfidf', 30): 0.2412,\n",
       "             ('top10-tfidf', 35): 0.2497,\n",
       "             ('top10-tfidf', 40): 0.2467,\n",
       "             ('top10-tfidf', 45): 0.2455,\n",
       "             ('top10-tfidf', 50): 0.2447,\n",
       "             ('top5-idf', 1): 0.1636,\n",
       "             ('top5-idf', 5): 0.2033,\n",
       "             ('top5-idf', 10): 0.2153,\n",
       "             ('top5-idf', 15): 0.2213,\n",
       "             ('top5-idf', 20): 0.2237,\n",
       "             ('top5-idf', 25): 0.2239,\n",
       "             ('top5-idf', 30): 0.2237,\n",
       "             ('top5-idf', 35): 0.2237,\n",
       "             ('top5-idf', 40): 0.2236,\n",
       "             ('top5-idf', 45): 0.2329,\n",
       "             ('top5-idf', 50): 0.2322,\n",
       "             ('top5-tfidf', 1): 0.1861,\n",
       "             ('top5-tfidf', 5): 0.226,\n",
       "             ('top5-tfidf', 10): 0.2358,\n",
       "             ('top5-tfidf', 15): 0.2374,\n",
       "             ('top5-tfidf', 20): 0.237,\n",
       "             ('top5-tfidf', 25): 0.2381,\n",
       "             ('top5-tfidf', 30): 0.2361,\n",
       "             ('top5-tfidf', 35): 0.2366,\n",
       "             ('top5-tfidf', 40): 0.2444,\n",
       "             ('top5-tfidf', 45): 0.2434,\n",
       "             ('top5-tfidf', 50): 0.2423})"
      ]
     },
     "execution_count": 28,
     "metadata": {},
     "output_type": "execute_result"
    }
   ],
   "source": [
    "a = filterOneMetric(dirEval, \"map\")\n",
    "a"
   ]
  },
  {
   "cell_type": "code",
   "execution_count": 23,
   "metadata": {},
   "outputs": [
    {
     "name": "stdout",
     "output_type": "stream",
     "text": [
      "[1, 5, 10, 15, 20, 25, 30, 35, 40, 45, 50] [0.1636, 0.2033, 0.2153, 0.2213, 0.2237, 0.2239, 0.2237, 0.2237, 0.2236, 0.2329, 0.2322]\n",
      "[1, 5, 10, 15, 20, 25, 30, 35, 40, 45, 50] [0.1861, 0.226, 0.2358, 0.2374, 0.237, 0.2381, 0.2361, 0.2366, 0.2444, 0.2434, 0.2423]\n",
      "[1, 5, 10, 15, 20, 25, 30, 35, 40, 45, 50] [0.1829, 0.2226, 0.2308, 0.2335, 0.2317, 0.2328, 0.2326, 0.2327, 0.2407, 0.2398, 0.2391]\n",
      "[1, 5, 10, 15, 20, 25, 30, 35, 40, 45, 50] [0.1898, 0.2306, 0.2391, 0.2413, 0.2408, 0.2396, 0.2412, 0.2497, 0.2467, 0.2455, 0.2447]\n",
      "[0.2397, 0.2397, 0.2397, 0.2397, 0.2397, 0.2397, 0.2397, 0.2397, 0.2397, 0.2397, 0.2397]\n"
     ]
    },
    {
     "data": {
      "image/png": "[encoded data removed]",
      "text/plain": [
       "<matplotlib.figure.Figure at 0x7f996bcc49e8>"
      ]
     },
     "metadata": {},
     "output_type": "display_data"
    }
   ],
   "source": [
    "plot_and_sort(baseTypes, alphas, a, \"MAP\")"
   ]
  },
  {
   "cell_type": "markdown",
   "metadata": {},
   "source": [
    "### Statistical significance for MRR values"
   ]
  },
  {
   "cell_type": "code",
   "execution_count": 55,
   "metadata": {
    "collapsed": true
   },
   "outputs": [],
   "source": [
    "def two_sample_ttest_ind(a,b):\n",
    "    return stats.ttest_ind(a, b, equal_var=False)\n",
    "\n",
    "def two_sample_ttest_rel(a,b):\n",
    "    return stats.ttest_rel(a, b)"
   ]
  },
  {
   "cell_type": "code",
   "execution_count": 56,
   "metadata": {
    "collapsed": true
   },
   "outputs": [],
   "source": [
    "def check_statistical_significance(all_metrics_dict_A, all_metrics_dict_B, metric):\n",
    "    \"\"\"\n",
    "    between 2 means of a specific metric\n",
    "    e.g. compare MAP / RR for top5-idf and bm25-plain for alpha 10\n",
    "    \n",
    "    \"\"\"\n",
    "    metric_values_per_query_A = []\n",
    "    metric_values_per_query_B = []\n",
    "    \n",
    "    for k in all_metrics_dict_A.keys():\n",
    "        if k!=\"all\":\n",
    "            metric_values_per_query_A.append(float(all_metrics_dict_A[k][metric]))\n",
    "            metric_values_per_query_B.append(float(all_metrics_dict_B[k][metric]))\n",
    "    \n",
    "#     print(metric_values_per_query_A)\n",
    "#     print(metric_values_per_query_B)\n",
    "    with open(\"/home/muntean/compare_2_distrib.txt\",\"w\") as f:\n",
    "        f.write(\",\".join([str(x) for x in metric_values_per_query_A]) + \"\\n\")\n",
    "        f.write(\",\".join([str(x) for x in metric_values_per_query_B]))\n",
    "\n",
    "    print(np.mean(metric_values_per_query_A))\n",
    "    print(np.mean(metric_values_per_query_B))\n",
    "    print(two_sample_ttest_rel(metric_values_per_query_A, metric_values_per_query_B))"
   ]
  },
  {
   "cell_type": "code",
   "execution_count": 83,
   "metadata": {},
   "outputs": [],
   "source": [
    "base_type_A = \"top5-idf\"\n",
    "alpha_A = \"15\"\n",
    "base_type_B = \"bm25-plain\"\n",
    "alpha_B = \"1\"\n",
    "\n",
    "all_metrics_dict_A = getAllMetrics(dirEval+\"BM25P-CLEF-FR-\"+base_type_A+\"-2005-2006-queries-p-10-alpha-\"+alpha_A+\".res.eval\")\n",
    "all_metrics_dict_B = getAllMetrics(dirEval+\"BM25P-CLEF-FR-\"+base_type_B+\"-2005-2006-queries-p-10-alpha-\"+alpha_B+\".res.eval\")"
   ]
  },
  {
   "cell_type": "code",
   "execution_count": 84,
   "metadata": {},
   "outputs": [
    {
     "name": "stdout",
     "output_type": "stream",
     "text": [
      "0.523923232323\n",
      "0.502822222222\n",
      "Ttest_relResult(statistic=0.83133034432826269, pvalue=0.40780801072612261)\n"
     ]
    }
   ],
   "source": [
    "# print(all_metrics_dict_A.keys()) \n",
    "# print(all_metrics_dict_B.keys()) \n",
    "check_statistical_significance(all_metrics_dict_A, all_metrics_dict_B, \"recip_rank\")"
   ]
  },
  {
   "cell_type": "code",
   "execution_count": 85,
   "metadata": {},
   "outputs": [
    {
     "name": "stdout",
     "output_type": "stream",
     "text": [
      "0.221314141414\n",
      "0.239667676768\n",
      "Ttest_relResult(statistic=-2.551162538154423, pvalue=0.01228317038086865)\n"
     ]
    }
   ],
   "source": [
    "check_statistical_significance(all_metrics_dict_A, all_metrics_dict_B, \"map\")"
   ]
  },
  {
   "cell_type": "code",
   "execution_count": 79,
   "metadata": {
    "collapsed": true
   },
   "outputs": [],
   "source": [
    "# https://rasbt.github.io/mlxtend/installation/\n",
    "# p_value = permutation_test(a, b,\n",
    "#                   method='approximate',\n",
    "#                   num_rounds=10000,\n",
    "#                   seed=10)\n",
    "# print(p_value)\n",
    "\n",
    "# 0.6237"
   ]
  },
  {
   "cell_type": "code",
   "execution_count": 52,
   "metadata": {},
   "outputs": [],
   "source": [
    "### new comparison\n",
    "base_type_A = \"top10-tfidf\"\n",
    "alpha_A = \"10\"\n",
    "\n",
    "all_metrics_dict_A = getAllMetrics(dirEval+\"BM25P-CLEF-FR-\"+base_type_A+\"-2005-2006-queries-p-10-alpha-\"+alpha_A+\".res.eval\")"
   ]
  },
  {
   "cell_type": "code",
   "execution_count": 53,
   "metadata": {},
   "outputs": [
    {
     "name": "stdout",
     "output_type": "stream",
     "text": [
      "0.497694949495\n",
      "0.502822222222\n",
      "Ttest_relResult(statistic=-0.4866698339245451, pvalue=0.62757897723713219)\n"
     ]
    }
   ],
   "source": [
    "check_statistical_significance(all_metrics_dict_A, all_metrics_dict_B, \"recip_rank\")\n",
    "# not even a 2 point difference is statistically significant :O"
   ]
  },
  {
   "cell_type": "code",
   "execution_count": null,
   "metadata": {
    "collapsed": true
   },
   "outputs": [],
   "source": []
  }
 ],
 "metadata": {
  "kernelspec": {
   "display_name": "Python 3",
   "language": "python",
   "name": "python3"
  },
  "language_info": {
   "codemirror_mode": {
    "name": "ipython",
    "version": 3
   },
   "file_extension": ".py",
   "mimetype": "text/x-python",
   "name": "python",
   "nbconvert_exporter": "python",
   "pygments_lexer": "ipython3",
   "version": "3.6.3"
  }
 },
 "nbformat": 4,
 "nbformat_minor": 2
}
