{
 "cells": [
  {
   "cell_type": "code",
   "execution_count": 57,
   "metadata": {},
   "outputs": [
    {
     "name": "stdout",
     "output_type": "stream",
     "text": [
      "The autoreload extension is already loaded. To reload it, use:\n",
      "  %reload_ext autoreload\n"
     ]
    }
   ],
   "source": [
    "%load_ext autoreload\n",
    "%autoreload 2\n",
    "import json\n",
    "from scipy import sparse\n",
    "from time import time\n",
    "import pandas as pd\n",
    "import numpy as np\n",
    "import matplotlib.pyplot as plt\n",
    "import string\n",
    "\n",
    "from sklearn.feature_extraction.text import CountVectorizer\n",
    "from sklearn.feature_extraction.text import TfidfVectorizer"
   ]
  },
  {
   "cell_type": "markdown",
   "metadata": {},
   "source": [
    "# 1. Read the dataset with Pandas"
   ]
  },
  {
   "cell_type": "code",
   "execution_count": 58,
   "metadata": {
    "collapsed": true
   },
   "outputs": [],
   "source": [
    "%store -r docno2TextDict"
   ]
  },
  {
   "cell_type": "code",
   "execution_count": 59,
   "metadata": {},
   "outputs": [
    {
     "name": "stdout",
     "output_type": "stream",
     "text": [
      "<class 'pandas.core.frame.DataFrame'>\n"
     ]
    },
    {
     "data": {
      "text/html": [
       "<div>\n",
       "<style>\n",
       "    .dataframe thead tr:only-child th {\n",
       "        text-align: right;\n",
       "    }\n",
       "\n",
       "    .dataframe thead th {\n",
       "        text-align: left;\n",
       "    }\n",
       "\n",
       "    .dataframe tbody tr th {\n",
       "        vertical-align: top;\n",
       "    }\n",
       "</style>\n",
       "<table border=\"1\" class=\"dataframe\">\n",
       "  <thead>\n",
       "    <tr style=\"text-align: right;\">\n",
       "      <th></th>\n",
       "      <th>docno</th>\n",
       "      <th>content</th>\n",
       "    </tr>\n",
       "  </thead>\n",
       "  <tbody>\n",
       "    <tr>\n",
       "      <th>0</th>\n",
       "      <td>ATS.940414.0041</td>\n",
       "      <td>cc  Stuttgart, 14 avr (ats/afp) Les autorités...</td>\n",
       "    </tr>\n",
       "    <tr>\n",
       "      <th>1</th>\n",
       "      <td>ATS.940301.0067</td>\n",
       "      <td>hs  Jérusalem, 1er mars (ats/afp/reuter) Isra...</td>\n",
       "    </tr>\n",
       "    <tr>\n",
       "      <th>2</th>\n",
       "      <td>ATS.940315.0137</td>\n",
       "      <td>jq rp  Zurich, 15 mars (ats) Le fabricant de ...</td>\n",
       "    </tr>\n",
       "    <tr>\n",
       "      <th>3</th>\n",
       "      <td>ATS.940823.0019</td>\n",
       "      <td>ht ce sh  Golaten (BE), 23 août (ats) De l'he...</td>\n",
       "    </tr>\n",
       "    <tr>\n",
       "      <th>4</th>\n",
       "      <td>ATS.941121.0098</td>\n",
       "      <td>ni  Paris/Genève, 21 nov (ats/afp) Trois cent...</td>\n",
       "    </tr>\n",
       "    <tr>\n",
       "      <th>5</th>\n",
       "      <td>ATS.940724.0008</td>\n",
       "      <td>rf wi  Nyon, 24 juil (ats) Le champagne a cou...</td>\n",
       "    </tr>\n",
       "    <tr>\n",
       "      <th>6</th>\n",
       "      <td>ATS.941129.0117</td>\n",
       "      <td>pf wm uc  St-Gall, 29 nov (ats) La fusillade ...</td>\n",
       "    </tr>\n",
       "    <tr>\n",
       "      <th>7</th>\n",
       "      <td>ATS.940114.0039</td>\n",
       "      <td>ew tp jr  Genève, 14 jan (ats) Les appartemen...</td>\n",
       "    </tr>\n",
       "    <tr>\n",
       "      <th>8</th>\n",
       "      <td>ATS.940817.0111</td>\n",
       "      <td>rp  Londres, 17 août (ats/reuter) Le taux de ...</td>\n",
       "    </tr>\n",
       "    <tr>\n",
       "      <th>9</th>\n",
       "      <td>ATS.940111.0102</td>\n",
       "      <td>bb  Berne, 11 jan (ats) Les Archives littérai...</td>\n",
       "    </tr>\n",
       "    <tr>\n",
       "      <th>10</th>\n",
       "      <td>ATS.940808.0071</td>\n",
       "      <td>ah bl uc  Winterthour, 8 août (ats) Un automo...</td>\n",
       "    </tr>\n",
       "    <tr>\n",
       "      <th>11</th>\n",
       "      <td>ATS.940930.0076</td>\n",
       "      <td>bum an tp  Zoug, 30 sept (ats) Les cantons de...</td>\n",
       "    </tr>\n",
       "    <tr>\n",
       "      <th>12</th>\n",
       "      <td>ATS.940202.0140</td>\n",
       "      <td>bn  Rome, 2 fév (ats/afp) La statue du \"Bambi...</td>\n",
       "    </tr>\n",
       "    <tr>\n",
       "      <th>13</th>\n",
       "      <td>ATS.940216.0140</td>\n",
       "      <td>ss an wi  Frauenfeld, 16 fév (ats) Deux candi...</td>\n",
       "    </tr>\n",
       "    <tr>\n",
       "      <th>14</th>\n",
       "      <td>ATS.940526.0038</td>\n",
       "      <td>eh po  Zurich, 26 mai (ats) Walter Leu a été ...</td>\n",
       "    </tr>\n",
       "    <tr>\n",
       "      <th>15</th>\n",
       "      <td>ATS.940210.0142</td>\n",
       "      <td>cc  Londres, 10 fév (ats/reuter) Athènes a cr...</td>\n",
       "    </tr>\n",
       "    <tr>\n",
       "      <th>16</th>\n",
       "      <td>ATS.940213.0001</td>\n",
       "      <td>cc  Dresde, 13 fév (ats/reuter) Des milliers ...</td>\n",
       "    </tr>\n",
       "    <tr>\n",
       "      <th>17</th>\n",
       "      <td>ATS.940719.0133</td>\n",
       "      <td>cc  Séoul, 19 juil (ats/afp/reuter) Les obsèq...</td>\n",
       "    </tr>\n",
       "    <tr>\n",
       "      <th>18</th>\n",
       "      <td>ATS.941018.0092</td>\n",
       "      <td>hs  Sarajevo, 18 oct (ats/reuter) Les forces ...</td>\n",
       "    </tr>\n",
       "    <tr>\n",
       "      <th>19</th>\n",
       "      <td>ATS.940509.0031</td>\n",
       "      <td>al  Francfort, 9 mai (ats/afp) Le parquet de ...</td>\n",
       "    </tr>\n",
       "    <tr>\n",
       "      <th>20</th>\n",
       "      <td>ATS.940820.0072</td>\n",
       "      <td>ab  Kigali, 20 août (ats/reuter) Les forces r...</td>\n",
       "    </tr>\n",
       "    <tr>\n",
       "      <th>21</th>\n",
       "      <td>ATS.940921.0123</td>\n",
       "      <td>cc  Stockholm, 21 sept (ats/reuter) Le camp d...</td>\n",
       "    </tr>\n",
       "    <tr>\n",
       "      <th>22</th>\n",
       "      <td>ATS.940429.0106</td>\n",
       "      <td>hs  Cité du Vatican, 29 avr (ats/afp) Le pape...</td>\n",
       "    </tr>\n",
       "    <tr>\n",
       "      <th>23</th>\n",
       "      <td>ATS.941109.0019</td>\n",
       "      <td>hm ll ce  Bâle, 9 nov (ats) Le Grand conseil ...</td>\n",
       "    </tr>\n",
       "    <tr>\n",
       "      <th>24</th>\n",
       "      <td>ATS.941024.0012</td>\n",
       "      <td>az  Kinshasa 24, oct (ats/afp) Un accord trip...</td>\n",
       "    </tr>\n",
       "    <tr>\n",
       "      <th>25</th>\n",
       "      <td>ATS.940420.0037</td>\n",
       "      <td>mf al  Genève, 20 avril (ats) Le groupe banca...</td>\n",
       "    </tr>\n",
       "    <tr>\n",
       "      <th>26</th>\n",
       "      <td>ATS.940126.0044</td>\n",
       "      <td>ht hc pi  Berne, 26 jan (ats) Les procédures ...</td>\n",
       "    </tr>\n",
       "    <tr>\n",
       "      <th>27</th>\n",
       "      <td>ATS.941214.0121</td>\n",
       "      <td>ab  Moscou, 14 déc (ats/afp) La Confédération...</td>\n",
       "    </tr>\n",
       "    <tr>\n",
       "      <th>28</th>\n",
       "      <td>ATS.941223.0088</td>\n",
       "      <td>pz jq al  Uster (ZH), 23 déc (ats) Le groupe ...</td>\n",
       "    </tr>\n",
       "    <tr>\n",
       "      <th>29</th>\n",
       "      <td>ATS.940626.0055</td>\n",
       "      <td>bn  Paris, 26 juin (ats/afp) L'Ukraine, où a ...</td>\n",
       "    </tr>\n",
       "    <tr>\n",
       "      <th>...</th>\n",
       "      <td>...</td>\n",
       "      <td>...</td>\n",
       "    </tr>\n",
       "    <tr>\n",
       "      <th>177422</th>\n",
       "      <td>LEMONDE95-002965</td>\n",
       "      <td>1 APRÈS une décennie d'accalmie, pelleteuses e...</td>\n",
       "    </tr>\n",
       "    <tr>\n",
       "      <th>177423</th>\n",
       "      <td>LEMONDE95-013335</td>\n",
       "      <td>CERTAINS parlent, d'autres comptent. Les mots...</td>\n",
       "    </tr>\n",
       "    <tr>\n",
       "      <th>177424</th>\n",
       "      <td>LEMONDE95-045632</td>\n",
       "      <td>\" Claude Heymann, portrait d'un illustre incon...</td>\n",
       "    </tr>\n",
       "    <tr>\n",
       "      <th>177425</th>\n",
       "      <td>LEMONDE95-029157</td>\n",
       "      <td>La chaîne cryptée dirigée par Pierre Lescure ...</td>\n",
       "    </tr>\n",
       "    <tr>\n",
       "      <th>177426</th>\n",
       "      <td>LEMONDE95-044335</td>\n",
       "      <td>NANCYde notre correspondante \" Depuis quatre-v...</td>\n",
       "    </tr>\n",
       "    <tr>\n",
       "      <th>177427</th>\n",
       "      <td>LEMONDE95-041046</td>\n",
       "      <td>\"L'AGEFIPH n'est pas un organisme à vocation ...</td>\n",
       "    </tr>\n",
       "    <tr>\n",
       "      <th>177428</th>\n",
       "      <td>LEMONDE95-035208</td>\n",
       "      <td>1 C'ÉTAIT une satisfaction attendue, mais elle...</td>\n",
       "    </tr>\n",
       "    <tr>\n",
       "      <th>177429</th>\n",
       "      <td>LEMONDE95-024906</td>\n",
       "      <td>ATHÈNES correspondance Pour Antoine Rigaudeau,...</td>\n",
       "    </tr>\n",
       "    <tr>\n",
       "      <th>177430</th>\n",
       "      <td>LEMONDE95-041371</td>\n",
       "      <td>Professeur de littérature française et comparé...</td>\n",
       "    </tr>\n",
       "    <tr>\n",
       "      <th>177431</th>\n",
       "      <td>LEMONDE95-021762</td>\n",
       "      <td>HENRI BOUDIN, ANCIEN TRÉSORIER de la fédératio...</td>\n",
       "    </tr>\n",
       "    <tr>\n",
       "      <th>177432</th>\n",
       "      <td>LEMONDE95-013562</td>\n",
       "      <td>HERVÉ BOURGES, président du CSA, a commenté...</td>\n",
       "    </tr>\n",
       "    <tr>\n",
       "      <th>177433</th>\n",
       "      <td>LEMONDE95-014871</td>\n",
       "      <td>Le taux d'avortement en 1992 a été deux fois ...</td>\n",
       "    </tr>\n",
       "    <tr>\n",
       "      <th>177434</th>\n",
       "      <td>LEMONDE95-030304</td>\n",
       "      <td>L'opposition a levé son boycott du Parlement, ...</td>\n",
       "    </tr>\n",
       "    <tr>\n",
       "      <th>177435</th>\n",
       "      <td>LEMONDE95-018223</td>\n",
       "      <td>AUCKLAND de notre correspondante L'arrivée de ...</td>\n",
       "    </tr>\n",
       "    <tr>\n",
       "      <th>177436</th>\n",
       "      <td>LEMONDE95-006766</td>\n",
       "      <td>LES TROUPES présidentielles ont lancé, dans l...</td>\n",
       "    </tr>\n",
       "    <tr>\n",
       "      <th>177437</th>\n",
       "      <td>LEMONDE95-040352</td>\n",
       "      <td>\" Longue distance \", RFI, jusqu'au vendredi 3 ...</td>\n",
       "    </tr>\n",
       "    <tr>\n",
       "      <th>177438</th>\n",
       "      <td>LEMONDE95-009832</td>\n",
       "      <td>Le Salon des artistes décorateurs (SAD), qui...</td>\n",
       "    </tr>\n",
       "    <tr>\n",
       "      <th>177439</th>\n",
       "      <td>LEMONDE95-028350</td>\n",
       "      <td>Le premier quotidien de Californie va supprime...</td>\n",
       "    </tr>\n",
       "    <tr>\n",
       "      <th>177440</th>\n",
       "      <td>LEMONDE95-044897</td>\n",
       "      <td>BP : l'Etat britannique a vendu ses dernières...</td>\n",
       "    </tr>\n",
       "    <tr>\n",
       "      <th>177441</th>\n",
       "      <td>LEMONDE95-037215</td>\n",
       "      <td>Plus de 400 enfants, dont de nombreux handicap...</td>\n",
       "    </tr>\n",
       "    <tr>\n",
       "      <th>177442</th>\n",
       "      <td>LEMONDE95-043363</td>\n",
       "      <td>1(1) La capitale, Séoul, regroupe, à elle seul...</td>\n",
       "    </tr>\n",
       "    <tr>\n",
       "      <th>177443</th>\n",
       "      <td>LEMONDE95-012107</td>\n",
       "      <td>IL ARRIVE à Lionel Jospin de sourire. C'est r...</td>\n",
       "    </tr>\n",
       "    <tr>\n",
       "      <th>177444</th>\n",
       "      <td>LEMONDE95-016192</td>\n",
       "      <td>VENDOME (LOIR-ET-CHER) Le mouvement féministe ...</td>\n",
       "    </tr>\n",
       "    <tr>\n",
       "      <th>177445</th>\n",
       "      <td>LEMONDE95-037468</td>\n",
       "      <td>1LE RETOUR AU DÉSERT, de Bernard-Marie Koltès....</td>\n",
       "    </tr>\n",
       "    <tr>\n",
       "      <th>177446</th>\n",
       "      <td>LEMONDE95-047216</td>\n",
       "      <td>LE MINISTRE DE LA DÉFENSE, Charles Millon, a ...</td>\n",
       "    </tr>\n",
       "    <tr>\n",
       "      <th>177447</th>\n",
       "      <td>LEMONDE95-025624</td>\n",
       "      <td>Le quotidien populaire allemand Bild, qui co...</td>\n",
       "    </tr>\n",
       "    <tr>\n",
       "      <th>177448</th>\n",
       "      <td>LEMONDE95-035142</td>\n",
       "      <td>1 À UNE EXCEPTION PRÈS, tous les anciens minis...</td>\n",
       "    </tr>\n",
       "    <tr>\n",
       "      <th>177449</th>\n",
       "      <td>LEMONDE95-006003</td>\n",
       "      <td>C'EST par une présence silencieuse que le pré...</td>\n",
       "    </tr>\n",
       "    <tr>\n",
       "      <th>177450</th>\n",
       "      <td>LEMONDE95-007475</td>\n",
       "      <td>Printemps culturel avec Koré (86, boulevard d...</td>\n",
       "    </tr>\n",
       "    <tr>\n",
       "      <th>177451</th>\n",
       "      <td>LEMONDE95-026151</td>\n",
       "      <td>L'accord qu'Israël et l'Autorité palestinienn...</td>\n",
       "    </tr>\n",
       "  </tbody>\n",
       "</table>\n",
       "<p>177452 rows × 2 columns</p>\n",
       "</div>"
      ],
      "text/plain": [
       "                   docno                                            content\n",
       "0        ATS.940414.0041   cc  Stuttgart, 14 avr (ats/afp) Les autorités...\n",
       "1        ATS.940301.0067   hs  Jérusalem, 1er mars (ats/afp/reuter) Isra...\n",
       "2        ATS.940315.0137   jq rp  Zurich, 15 mars (ats) Le fabricant de ...\n",
       "3        ATS.940823.0019   ht ce sh  Golaten (BE), 23 août (ats) De l'he...\n",
       "4        ATS.941121.0098   ni  Paris/Genève, 21 nov (ats/afp) Trois cent...\n",
       "5        ATS.940724.0008   rf wi  Nyon, 24 juil (ats) Le champagne a cou...\n",
       "6        ATS.941129.0117   pf wm uc  St-Gall, 29 nov (ats) La fusillade ...\n",
       "7        ATS.940114.0039   ew tp jr  Genève, 14 jan (ats) Les appartemen...\n",
       "8        ATS.940817.0111   rp  Londres, 17 août (ats/reuter) Le taux de ...\n",
       "9        ATS.940111.0102   bb  Berne, 11 jan (ats) Les Archives littérai...\n",
       "10       ATS.940808.0071   ah bl uc  Winterthour, 8 août (ats) Un automo...\n",
       "11       ATS.940930.0076   bum an tp  Zoug, 30 sept (ats) Les cantons de...\n",
       "12       ATS.940202.0140   bn  Rome, 2 fév (ats/afp) La statue du \"Bambi...\n",
       "13       ATS.940216.0140   ss an wi  Frauenfeld, 16 fév (ats) Deux candi...\n",
       "14       ATS.940526.0038   eh po  Zurich, 26 mai (ats) Walter Leu a été ...\n",
       "15       ATS.940210.0142   cc  Londres, 10 fév (ats/reuter) Athènes a cr...\n",
       "16       ATS.940213.0001   cc  Dresde, 13 fév (ats/reuter) Des milliers ...\n",
       "17       ATS.940719.0133   cc  Séoul, 19 juil (ats/afp/reuter) Les obsèq...\n",
       "18       ATS.941018.0092   hs  Sarajevo, 18 oct (ats/reuter) Les forces ...\n",
       "19       ATS.940509.0031   al  Francfort, 9 mai (ats/afp) Le parquet de ...\n",
       "20       ATS.940820.0072   ab  Kigali, 20 août (ats/reuter) Les forces r...\n",
       "21       ATS.940921.0123   cc  Stockholm, 21 sept (ats/reuter) Le camp d...\n",
       "22       ATS.940429.0106   hs  Cité du Vatican, 29 avr (ats/afp) Le pape...\n",
       "23       ATS.941109.0019   hm ll ce  Bâle, 9 nov (ats) Le Grand conseil ...\n",
       "24       ATS.941024.0012   az  Kinshasa 24, oct (ats/afp) Un accord trip...\n",
       "25       ATS.940420.0037   mf al  Genève, 20 avril (ats) Le groupe banca...\n",
       "26       ATS.940126.0044   ht hc pi  Berne, 26 jan (ats) Les procédures ...\n",
       "27       ATS.941214.0121   ab  Moscou, 14 déc (ats/afp) La Confédération...\n",
       "28       ATS.941223.0088   pz jq al  Uster (ZH), 23 déc (ats) Le groupe ...\n",
       "29       ATS.940626.0055   bn  Paris, 26 juin (ats/afp) L'Ukraine, où a ...\n",
       "...                  ...                                                ...\n",
       "177422  LEMONDE95-002965  1 APRÈS une décennie d'accalmie, pelleteuses e...\n",
       "177423  LEMONDE95-013335   CERTAINS parlent, d'autres comptent. Les mots...\n",
       "177424  LEMONDE95-045632  \" Claude Heymann, portrait d'un illustre incon...\n",
       "177425  LEMONDE95-029157   La chaîne cryptée dirigée par Pierre Lescure ...\n",
       "177426  LEMONDE95-044335  NANCYde notre correspondante \" Depuis quatre-v...\n",
       "177427  LEMONDE95-041046   \"L'AGEFIPH n'est pas un organisme à vocation ...\n",
       "177428  LEMONDE95-035208  1 C'ÉTAIT une satisfaction attendue, mais elle...\n",
       "177429  LEMONDE95-024906  ATHÈNES correspondance Pour Antoine Rigaudeau,...\n",
       "177430  LEMONDE95-041371  Professeur de littérature française et comparé...\n",
       "177431  LEMONDE95-021762  HENRI BOUDIN, ANCIEN TRÉSORIER de la fédératio...\n",
       "177432  LEMONDE95-013562     HERVÉ BOURGES, président du CSA, a commenté...\n",
       "177433  LEMONDE95-014871   Le taux d'avortement en 1992 a été deux fois ...\n",
       "177434  LEMONDE95-030304  L'opposition a levé son boycott du Parlement, ...\n",
       "177435  LEMONDE95-018223  AUCKLAND de notre correspondante L'arrivée de ...\n",
       "177436  LEMONDE95-006766   LES TROUPES présidentielles ont lancé, dans l...\n",
       "177437  LEMONDE95-040352  \" Longue distance \", RFI, jusqu'au vendredi 3 ...\n",
       "177438  LEMONDE95-009832    Le Salon des artistes décorateurs (SAD), qui...\n",
       "177439  LEMONDE95-028350  Le premier quotidien de Californie va supprime...\n",
       "177440  LEMONDE95-044897   BP : l'Etat britannique a vendu ses dernières...\n",
       "177441  LEMONDE95-037215  Plus de 400 enfants, dont de nombreux handicap...\n",
       "177442  LEMONDE95-043363  1(1) La capitale, Séoul, regroupe, à elle seul...\n",
       "177443  LEMONDE95-012107   IL ARRIVE à Lionel Jospin de sourire. C'est r...\n",
       "177444  LEMONDE95-016192  VENDOME (LOIR-ET-CHER) Le mouvement féministe ...\n",
       "177445  LEMONDE95-037468  1LE RETOUR AU DÉSERT, de Bernard-Marie Koltès....\n",
       "177446  LEMONDE95-047216   LE MINISTRE DE LA DÉFENSE, Charles Millon, a ...\n",
       "177447  LEMONDE95-025624    Le quotidien populaire allemand Bild, qui co...\n",
       "177448  LEMONDE95-035142  1 À UNE EXCEPTION PRÈS, tous les anciens minis...\n",
       "177449  LEMONDE95-006003   C'EST par une présence silencieuse que le pré...\n",
       "177450  LEMONDE95-007475   Printemps culturel avec Koré (86, boulevard d...\n",
       "177451  LEMONDE95-026151   L'accord qu'Israël et l'Autorité palestinienn...\n",
       "\n",
       "[177452 rows x 2 columns]"
      ]
     },
     "execution_count": 59,
     "metadata": {},
     "output_type": "execute_result"
    }
   ],
   "source": [
    "dataset = pd.DataFrame(list(docno2TextDict.items()), columns = [\"docno\", \"content\"])\n",
    "print(type(dataset))\n",
    "dataset"
   ]
  },
  {
   "cell_type": "markdown",
   "metadata": {},
   "source": [
    "# 2. Tokeninzing, computing IDF and TFIDF term-document matrix"
   ]
  },
  {
   "cell_type": "code",
   "execution_count": 60,
   "metadata": {},
   "outputs": [
    {
     "name": "stdout",
     "output_type": "stream",
     "text": [
      "FIT done in 87.591s.\n"
     ]
    }
   ],
   "source": [
    "#tfidf_vectorizer = TfidfVectorizer(max_df=0.95, min_df=2, stop_words='english')\n",
    "\n",
    "tfidf_vectorizer = TfidfVectorizer(min_df=2, norm=None, stop_words='english') \n",
    "t0 = time()\n",
    "clef_features_idf = tfidf_vectorizer.fit(dataset[\"content\"])\n",
    "print(\"FIT done in %0.3fs.\" % (time() - t0))"
   ]
  },
  {
   "cell_type": "code",
   "execution_count": 61,
   "metadata": {},
   "outputs": [
    {
     "name": "stdout",
     "output_type": "stream",
     "text": [
      "FIT-TRANSFORM done in 180.149s.\n"
     ]
    }
   ],
   "source": [
    "clef_tfidf_matrix = tfidf_vectorizer.transform(dataset[\"content\"])\n",
    "print(\"FIT-TRANSFORM done in %0.3fs.\" % (time() - t0))"
   ]
  },
  {
   "cell_type": "code",
   "execution_count": 62,
   "metadata": {},
   "outputs": [
    {
     "name": "stdout",
     "output_type": "stream",
     "text": [
      "FIT-TRANSFORM done in 90.572s.\n"
     ]
    }
   ],
   "source": [
    "idf_vectorizer = TfidfVectorizer(min_df=2, binary=True, norm=None, stop_words='english')\n",
    "t0 = time()\n",
    "clef_idf_matrix = idf_vectorizer.fit_transform(dataset[\"content\"])\n",
    "print(\"FIT-TRANSFORM done in %0.3fs.\" % (time() - t0))"
   ]
  },
  {
   "cell_type": "code",
   "execution_count": 63,
   "metadata": {
    "collapsed": true
   },
   "outputs": [],
   "source": [
    "# %store clef_features_idf\n",
    "# %store clef_tfidf_matrix\n",
    "# %store clef_idf_matrix"
   ]
  },
  {
   "cell_type": "markdown",
   "metadata": {},
   "source": [
    "# 3. Terms and IDF"
   ]
  },
  {
   "cell_type": "code",
   "execution_count": 64,
   "metadata": {},
   "outputs": [
    {
     "name": "stdout",
     "output_type": "stream",
     "text": [
      "Number of terms in dictionary: 195539\n",
      "\n",
      "[195538 113587 113567 113568 113569 113571 113576 113577   8755 113479\n",
      " 113593 113604 113610 113616 113622 113632 113565 113563 113559 113552\n",
      " 113549   8757 113541 113538 113537 113533 113526 113520 113518 113510\n",
      " 113505 113486 113481 113639 113640 113641 113718 113797 113785 113779\n",
      " 113764 113760 113759 113756 113753 113747 113746 113740 113735 113727\n",
      " 113721 113717 113645 113715 113712 113711 113709 113698 113695 113692\n",
      " 113682 113671 113670 113663 113662 113654 113653 113480   8762 113802\n",
      " 113267 113241 113247 113248 113249 113251 113256 113268 113459 113271\n",
      " 113273 113282 113289 113290 113294 113236 113235 113224   8800 113209\n",
      " 113196 113193 113185 113184 113180 113178 113173 113171 113169 113166]\n",
      "[ 11.98784878  11.98784878  11.98784878  11.98784878  11.98784878\n",
      "  11.98784878  11.98784878  11.98784878  11.98784878  11.98784878\n",
      "  11.98784878  11.98784878  11.98784878  11.98784878  11.98784878\n",
      "  11.98784878  11.98784878  11.98784878  11.98784878  11.98784878\n",
      "  11.98784878  11.98784878  11.98784878  11.98784878  11.98784878\n",
      "  11.98784878  11.98784878  11.98784878  11.98784878  11.98784878\n",
      "  11.98784878  11.98784878  11.98784878  11.98784878  11.98784878\n",
      "  11.98784878  11.98784878  11.98784878  11.98784878  11.98784878\n",
      "  11.98784878  11.98784878  11.98784878  11.98784878  11.98784878\n",
      "  11.98784878  11.98784878  11.98784878  11.98784878  11.98784878\n",
      "  11.98784878  11.98784878  11.98784878  11.98784878  11.98784878\n",
      "  11.98784878  11.98784878  11.98784878  11.98784878  11.98784878\n",
      "  11.98784878  11.98784878  11.98784878  11.98784878  11.98784878\n",
      "  11.98784878  11.98784878  11.98784878  11.98784878  11.98784878\n",
      "  11.98784878  11.98784878  11.98784878  11.98784878  11.98784878\n",
      "  11.98784878  11.98784878  11.98784878  11.98784878  11.98784878\n",
      "  11.98784878  11.98784878  11.98784878  11.98784878  11.98784878\n",
      "  11.98784878  11.98784878  11.98784878  11.98784878  11.98784878\n",
      "  11.98784878  11.98784878  11.98784878  11.98784878  11.98784878\n",
      "  11.98784878  11.98784878  11.98784878  11.98784878  11.98784878]\n"
     ]
    }
   ],
   "source": [
    "print(\"Number of terms in dictionary:\", len(clef_features_idf.idf_))\n",
    "print()\n",
    "\n",
    "top10IDFTerm_idx = clef_features_idf.idf_.argsort()[::-1][:100]\n",
    "print(top10IDFTerm_idx)\n",
    "print(clef_features_idf.idf_[top10IDFTerm_idx])"
   ]
  },
  {
   "cell_type": "code",
   "execution_count": 65,
   "metadata": {},
   "outputs": [
    {
     "name": "stdout",
     "output_type": "stream",
     "text": [
      "üs 11.9878487754\n",
      "manquais 11.9878487754\n",
      "manonviller 11.9878487754\n",
      "manonvillier 11.9878487754\n",
      "manoplax 11.9878487754\n",
      "manorama 11.9878487754\n",
      "manouchehr 11.9878487754\n",
      "manoucher 11.9878487754\n",
      "accommodeur 11.9878487754\n",
      "manisero 11.9878487754\n"
     ]
    }
   ],
   "source": [
    "inv_vocab = {v: k for k, v in clef_features_idf.vocabulary_.items()}\n",
    "for term_id in top10IDFTerm_idx[:10]:\n",
    "    print(inv_vocab[term_id], clef_features_idf.idf_[term_id])"
   ]
  },
  {
   "cell_type": "code",
   "execution_count": 66,
   "metadata": {},
   "outputs": [
    {
     "data": {
      "image/png": "[encoded data removed]",
      "text/plain": [
       "<matplotlib.figure.Figure at 0x7fc4994170f0>"
      ]
     },
     "metadata": {},
     "output_type": "display_data"
    }
   ],
   "source": [
    "plt.plot(sorted(clef_features_idf.idf_, reverse=True))\n",
    "plt.show()"
   ]
  },
  {
   "cell_type": "markdown",
   "metadata": {},
   "source": [
    "# 4. Top 10 IDF terms and their TFIDF"
   ]
  },
  {
   "cell_type": "code",
   "execution_count": 67,
   "metadata": {
    "scrolled": false
   },
   "outputs": [
    {
     "name": "stdout",
     "output_type": "stream",
     "text": [
      "-----------------\n",
      "Document:  0\n",
      "\n",
      "Top 10 Highest IDF\n",
      "[ 71  66 142  68  24  18 124 127 121  15]\n",
      "['toluène', 'grit', 'détergent', 'benzène', 'cancérigènes', 'pressées', 'conditionnement', 'analysées', 'négligences', 'olive']\n",
      "[178134  84807  63545  25507  34823 141377  45015  14285 127556 129180]\n",
      "IDF values:  [ 11.98784878  11.47702315  10.60155441  10.04193863   9.39758161\n",
      "   9.32526095   8.64380981   8.60912425   8.37693086   8.18118629]\n",
      "TFIDF values:  [ 2.77391487  4.11083088  4.75415271  6.06627036  2.25921076  7.12288172\n",
      "  6.12991562  3.97384378  8.64380981  6.30540344]\n",
      "\n",
      "Top 10 Highest TFIDF\n",
      "[ 59  84  83 131 130  86  85  14  87 106]\n",
      "['olive', 'huiles', 'hydrocarbures', 'benzène', 'cancérigènes', 'hambourg', 'huile', 'toluène', 'grit', 'détergent']\n",
      "[129180  90916  91340  25507  34823  87366  90912 178134  84807  63545]\n",
      "TFIDF values:  [ 49.08711771  38.9657812   22.56582197  20.08387725  18.79516322\n",
      "  13.73970993  12.74700973  11.98784878  11.47702315  10.60155441]\n",
      "IDF values:  [ 2.85058101  2.10318733  2.10974741  2.13127814  3.03714306  4.11959451\n",
      "  6.59270722  7.79315624  6.0208477   6.48523095]\n",
      "\n",
      "-----------------\n",
      "Document:  1\n",
      "\n",
      "Top 10 Highest IDF\n",
      "[141  81  78 120 204  48 212 134 156 140]\n",
      "['soufiane', 'ketziot', 'convoyé', 'dressées', 'rafah', 'secouée', 'peuplement', 'jihad', 'dérisoires', 'fatah']\n",
      "[168111 102655  47174  57986 147052 163209 136198 100098  62650  73157]\n",
      "IDF values:  [ 11.29470159  10.52151171   9.62072516   8.86695336   8.75572772\n",
      "   8.29896932   7.94479751   7.87697491   7.8083464    7.7881437 ]\n",
      "TFIDF values:  [  7.31814007   3.61722397  27.99923875   6.32257616   4.14478476\n",
      "   7.73460293   3.86172481  17.06669859   3.10703151   5.35540792]\n",
      "\n",
      "Top 10 Highest TFIDF\n",
      "[150  72  78 117  79  18 129 112 134 162]\n",
      "['détenus', 'palestiniens', 'olp', 'israël', 'occupés', 'territoires', 'hébron', 'la', 'gaza', 'des']\n",
      "[ 63544 131956 129241  98682 128380 176361  91671 104994  80749  53649]\n",
      "TFIDF values:  [ 32.28719154  32.22267478  27.99923875  24.14797108  23.31783343\n",
      "  21.14683098  19.84234431  18.52771956  17.06669859  15.60810571]\n",
      "IDF values:  [ 3.24564711  4.87226665  9.62072516  5.04183478  6.13660461  2.85058101\n",
      "  5.59984775  3.45675268  7.87697491  3.47996545]\n",
      "\n",
      "-----------------\n",
      "Document:  2\n",
      "\n",
      "Top 10 Highest IDF\n",
      "[65 41 40 42 90 71 93 79 74 38]\n",
      "['extrapolé', 'kardex', 'entreposage', 'ressenti', 'débouché', 'améliorée', 'touchées', '08', 'affiché', 'fabricant']\n",
      "[ 71935 101955  68334 152569  59359  14150 178783    608  10572  72194]\n",
      "IDF values:  [ 11.14055092  10.14202208   8.2344308    6.95089617   6.7408247\n",
      "   6.6648388    6.3845007    6.26535359   6.21848666   6.1978886 ]\n",
      "TFIDF values:  [  6.7408247    7.20522427   6.26118643  30.42606625   5.00344114\n",
      "   4.40239842   5.94558725   8.050634     1.25581668   4.97904225]\n",
      "\n",
      "Top 10 Highest TFIDF\n",
      "[42 22 33 18 55 32 14 63 61 79]\n",
      "['kardex', 'précédent', 'millions', 'ressenti', 'extrapolé', 'mois', 'sept', 'effets', 'entreposage', 'chiffre']\n",
      "[101955 143443 118140 152569  71935 119514 163909  64748  68334  39871]\n",
      "TFIDF values:  [ 30.42606625  14.12076611  13.92098696  13.90179235  11.14055092\n",
      "  10.75274324   9.50588075   9.19081306   8.2344308    8.050634  ]\n",
      "IDF values:  [ 6.95089617  3.80706116  2.28220259  3.44362424  2.78419739  1.70692986\n",
      "  2.85058101  4.97904225  3.16862692  6.26535359]\n",
      "\n",
      "-----------------\n",
      "Document:  3\n",
      "\n",
      "Top 10 Highest IDF\n",
      "[83 75 56 67 60 57 55 59 58 39]\n",
      "['inspectorat', 'roseaux', 'explosives', 'étendues', '203', 'régiment', 'grenades', 'rs', 'infanterie', 'herbe']\n",
      "[ 96211 155373  71585 194854   2753 157742  84448 156107  95105  88877]\n",
      "IDF values:  [ 9.30227143  8.52211287  8.47134055  7.68378368  7.43748683  7.28434269\n",
      "  7.05097963  6.95741085  6.91476047  6.89819694]\n",
      "TFIDF values:  [ 6.19077837  3.30564975  8.74280221  6.52826326  3.02537165  6.15303804\n",
      "  1.30896608  3.88163587  3.10647554  6.91476047]\n",
      "\n",
      "Top 10 Highest TFIDF\n",
      "[62  7 37 53 56 14 52 31 50  1]\n",
      "['dmf', 'tir', 'inspectorat', 'exercice', 'environnement', 'roseaux', 'explosives', 'lors', 'feu', 'étendues']\n",
      "[ 56616 177663  96211  71169  68608 155373  71585 109992  74153 194854]\n",
      "TFIDF values:  [ 20.29707831  18.12466784   9.30227143   9.02350793   8.74280221\n",
      "   8.52211287   8.47134055   8.3217446    7.75784924   7.68378368]\n",
      "IDF values:  [ 3.84840825  1.02931775  3.57712783  3.02665376  8.47134055  4.28378822\n",
      "  3.04473447  1.42330689  6.13660461  1.12308438]\n",
      "\n",
      "-----------------\n",
      "Document:  4\n",
      "\n",
      "Top 10 Highest IDF\n",
      "[197 177  66 125 211 180 192 247 151 179]\n",
      "['cirey', 'chateaux', 'arouet', 'zadig', 'postdam', '1728', '1734', 'calas', 'explicatives', '1726']\n",
      "[ 41317  39031  17739 191068 140316   1990   1999  34125  71479   1988]\n",
      "IDF values:  [ 11.7001667   11.47702315  11.00701952  11.00701952  10.78387597\n",
      "  10.52151171  10.52151171  10.52151171  10.19608931  10.19608931]\n",
      "TFIDF values:  [ 13.75977027   3.64461222   3.36797867   7.51051196  17.10050823\n",
      "   6.98062844  19.73517048   4.94994281   7.30360064  11.52863808]\n",
      "\n",
      "Top 10 Highest TFIDF\n",
      "[ 15 319 121 280  94 173 192 302 188 105]\n",
      "['voltaire', '1694', 'né', 'baptême', 'philosophiques', 'il', 'ferney', 'acte', 'foundation', 'paris']\n",
      "[187728   1901 127451  23208 136544  92662  73961   9477  76919 133148]\n",
      "TFIDF values:  [ 86.0754967   38.48290065  26.88095219  23.03786788  22.95821718\n",
      "  19.89488858  19.73517048  19.08455715  17.61958989  17.44661376]\n",
      "IDF values:  [  1.04353107   2.97669132   6.42716714   7.4028813    3.34855595\n",
      "   8.72975224  10.52151171   7.38936758   5.11158416   5.18175715]\n",
      "\n",
      "-----------------\n",
      "Document:  5\n",
      "\n",
      "Top 10 Highest IDF\n",
      "[ 93  84 128 107  95  71 130  91 108 120]\n",
      "['rosselat', 'asse', 'campaient', 'parcage', 'phénoménal', 'paléo', 'vendaient', 'boss', 'encombrement', 'répercuté']\n",
      "[155463  18698  34628 132946 136896 132135 185127  29099  66725 158310]\n",
      "IDF values:  [ 11.14055092  10.09072879   9.86758524   9.7906242    9.25781967\n",
      "   9.13521735   8.83796582   8.80979495   8.79600162   8.64380981]\n",
      "TFIDF values:  [  2.13127814  15.17891246   6.0259847    4.45945877   2.45968517\n",
      "   3.49597339   2.6209321    5.80645281   2.1491131    6.65835579]\n",
      "\n",
      "Top 10 Highest TFIDF\n",
      "[ 31  17 111  84  64  12 139 123  57  49]\n",
      "['rosselat', 'succès', 'daniel', 'festival', 'nyon', 'tous', 'asse', 'campaient', 'parcage', 'phénoménal']\n",
      "[155463 171231  51869  74118 127394 179051  18698  34628 132946 136896]\n",
      "TFIDF values:  [ 33.42165275  19.81984391  15.17989238  15.17891246  14.961318\n",
      "  10.75615902  10.09072879   9.86758524   9.7906242    9.25781967]\n",
      "IDF values:  [  1.30577056   1.75741036   6.85597962  10.09072879   3.51043645\n",
      "   1.21142346   7.5491268    5.09284107   3.96396878   5.32174052]\n",
      "\n",
      "-----------------\n",
      "Document:  6\n",
      "\n",
      "Top 10 Highest IDF\n",
      "[ 67  66 117  72  93 102  54 112  53 123]\n",
      "['troesch', 'sanitas', 'thurgoviens', 'forcené', 'éclaircissements', 'enfui', 'wm', 'domicilié', 'pf', '19h00']\n",
      "[180839 160758 177084  76398 192619  67157 189877  56942 136279   2455]\n",
      "IDF values:  [ 10.60155441   9.86758524   9.15463543   8.22664866   7.97447328\n",
      "   7.89907526   7.47698927   7.39272893   7.36614929   7.30263588]\n",
      "TFIDF values:  [ 2.78742407  7.02967705  2.57947755  2.79587606  3.71783571  6.45841969\n",
      "  6.78018578  6.2952396   3.30440695  5.26562018]\n",
      "\n",
      "Top 10 Highest TFIDF\n",
      "[ 29  79  82 126  94  16  37  22 115 122]\n",
      "['st', 'gall', 'forcené', 'agresseur', 'entreprise', 'troesch', 'sanitas', 'thurgoviens', 'blessés', 'arrêté']\n",
      "[169458  79704  76398  11269  68373 180839 160758 177084  27636  18026]\n",
      "TFIDF values:  [ 21.33994298  16.99226209  16.45329732  14.31907008  11.15017992\n",
      "  10.60155441   9.86758524   9.15463543   9.08876031   8.97943519]\n",
      "IDF values:  [ 1.30896608  5.00097429  4.55437926  3.43651184  5.14837234  1.75741036\n",
      "  3.20073023  2.80573642  6.78935174  4.58702459]\n",
      "\n",
      "-----------------\n",
      "Document:  7\n",
      "\n",
      "Top 10 Highest IDF\n",
      "[100 163 249 158 222 117 156 233 187 177]\n",
      "['logeront', 'habitera', 'dégusté', 'jacuzzi', 'dégourdir', 'queux', 'luxueusement', 'repartiront', 'épluché', 'schott']\n",
      "[109608  86844  61146  99142  61030 146168 110947 151822 194328 162428]\n",
      "IDF values:  [ 10.78387597  10.68856579  10.60155441  10.52151171  10.44740373\n",
      "  10.31387234  10.31387234  10.04193863   9.86758524   9.71916523]\n",
      "TFIDF values:  [  8.28776085   6.09344594  21.74619185   4.41723372   4.95522451\n",
      "  10.78387597   8.92757798   9.39758161   6.84020329   6.07852571]\n",
      "\n",
      "Top 10 Highest TFIDF\n",
      "[226  51 211 249 134 127 146 161 110 264]\n",
      "['clinton', 'schott', 'cuisiniers', 'assad', 'jogging', 'laisseront', 'ils', 'genève', 'mets', '18e']\n",
      "[ 42042 162428  50553  18609 100262 105529  92863  81201 117284   2266]\n",
      "TFIDF values:  [ 33.25552825  29.1574957   25.38446475  21.74619185  17.85515596\n",
      "  16.43785323  15.84260126  15.37151743  15.19504668  14.96868449]\n",
      "IDF values:  [  5.17330588   3.38692737   6.98166783  10.60155441   4.95522451\n",
      "   4.56149814   5.59258718   5.92483906   3.35263554   8.44207016]\n",
      "\n",
      "-----------------\n",
      "Document:  8\n",
      "\n",
      "Top 10 Highest IDF\n",
      "[61 66 64 54 59 51 62 58 38 45]\n",
      "['notant', 'sommets', '340', 'demandeurs', 'félicité', 'statistique', 'comptait', 'trésor', '63', 'diminué']\n",
      "[126660 167532   4137  53169  79109 169780  44473 181377   6115  55229]\n",
      "IDF values:  [ 7.87152531  6.74610176  6.67628618  6.19179102  6.04943345  5.84581137\n",
      "  5.80095452  5.58427458  5.42823354  5.41045113]\n",
      "TFIDF values:  [  5.21667716   3.35702932   6.67628618   2.01401149   6.08581454\n",
      "   4.43438739   5.01118952   3.26727946   3.88163587  12.38358205]\n",
      "\n",
      "Top 10 Highest TFIDF\n",
      "[49 45  3 27 34 35 26 16 24  6]\n",
      "['chômage', 'demandeurs', 'taux', 'juillet', 'en', 'emplois', 'juin', 'notant', 'le', 'sommets']\n",
      "[ 40825  53169 175271 100985  66488  66254 100991 126660 107024 167532]\n",
      "TFIDF values:  [ 12.88492511  12.38358205  11.60296984  10.21291861   9.12027106\n",
      "   8.78626415   8.77304098   7.87152531   7.3047175    6.74610176]\n",
      "IDF values:  [ 2.92434699  5.41045113  4.2101958   3.04368994  2.76294825  3.09679582\n",
      "  3.35702932  2.1491131   3.97759986  1.21142346]\n",
      "\n",
      "-----------------\n",
      "Document:  9\n",
      "\n",
      "Top 10 Highest IDF\n",
      "[39 42 38 40 51 44 33 27 43 48]\n",
      "['hohl', 'conservées', 'ludwig', '1904', 'prématurée', 'décédée', 'bb', 'littéraires', 'veuve', 'rédigé']\n",
      "[ 89944  45851 110569   2328 143755  60476  24513 109205 185836 157413]\n",
      "IDF values:  [ 10.60155441   8.09602848   7.8500191    7.84471405   7.52194066\n",
      "   6.81169904   6.5411114    6.53252766   6.49753459   6.27742176]\n",
      "TFIDF values:  [ 6.6112995   2.57947755  5.81336847  6.5411114   3.47292482  1.69769391\n",
      "  1.09778601  2.05863551  2.84073223  5.65043325]\n",
      "\n",
      "Top 10 Highest TFIDF\n",
      "[30 24 46 37 50 11 35 39 40 25]\n",
      "['hohl', 'ludwig', 'archives', 'conservées', '1904', 'prématurée', 'décédée', 'berne', 'bb', 'littéraires']\n",
      "[ 89944 110569  17170  45851   2328 143755  60476  25807  24513 109205]\n",
      "TFIDF values:  [ 21.20310883  15.7000382   11.63787127   8.09602848   7.84471405\n",
      "   7.52194066   6.81169904   6.6112995    6.5411114    6.53252766]\n",
      "IDF values:  [  4.15874889   2.4435393    5.4506742    5.53369898   5.89804833\n",
      "   3.10647554   5.65043325  10.60155441   7.84471405   4.050117  ]\n",
      "\n"
     ]
    }
   ],
   "source": [
    "for i in range(clef_idf_matrix.shape[0]):\n",
    "    if i==10:\n",
    "        break\n",
    "#     print(dataset[\"title\"].iloc[i])\n",
    "#     print(dataset[\"content\"].iloc[i])\n",
    "    idf_row = clef_idf_matrix.getrow(i) # this is a 1 x 659255 csr matrix\n",
    "    tfidf_row = clef_tfidf_matrix.getrow(i) # this is a 1 x 659255 csr matrix\n",
    "    top10Terms_tfidf_idx = tfidf_row.data.argsort()[::-1][:10] # index of top 10 terms in the small array with nonzeros \n",
    "    top10Terms_idf_idx = idf_row.data.argsort()[::-1][:10]\n",
    "    \n",
    "#     print(row.data) # give only nonzero values so the array is much less than 659255, e.g. 30\n",
    "#     print(row.indices) # gives the actual indices of the non zero terms\n",
    "    \n",
    "    print(\"-----------------\")\n",
    "    print(\"Document: \",i)\n",
    "    print()\n",
    "    \n",
    "    print(\"Top 10 Highest IDF\")\n",
    "    print(top10Terms_idf_idx)\n",
    "    print([inv_vocab[term_id] for term_id in idf_row.indices[top10Terms_idf_idx]])\n",
    "    print(idf_row.indices[top10Terms_idf_idx])\n",
    "    print(\"IDF values: \",idf_row.data[top10Terms_idf_idx])\n",
    "    print(\"TFIDF values: \", tfidf_row.data[top10Terms_idf_idx])\n",
    "    print()\n",
    "    \n",
    "    print(\"Top 10 Highest TFIDF\")\n",
    "    print(top10Terms_tfidf_idx)\n",
    "    print([inv_vocab[term_id] for term_id in tfidf_row.indices[top10Terms_tfidf_idx]])\n",
    "    print(tfidf_row.indices[top10Terms_tfidf_idx])\n",
    "    print(\"TFIDF values: \", tfidf_row.data[top10Terms_tfidf_idx])\n",
    "    print(\"IDF values: \", idf_row.data[top10Terms_tfidf_idx])\n",
    "    print()"
   ]
  },
  {
   "cell_type": "markdown",
   "metadata": {},
   "source": [
    "# 5. Position of High terms in Docs"
   ]
  },
  {
   "cell_type": "code",
   "execution_count": 68,
   "metadata": {
    "collapsed": true
   },
   "outputs": [],
   "source": [
    "# do some regression to find alpha for each (buckets with freqs?)\n",
    "\n",
    "# as described here: https://www.nltk.org/_modules/nltk/tokenize.html\n",
    "# the default analyzer used in scikit is called \"word\": \n",
    "# https://towardsdatascience.com/hacking-scikit-learns-vectorizers-9ef26a7170af\n",
    "\n",
    "def find_positions_term(term, token_text):\n",
    "    pos = [k for k,v in enumerate(token_text) if v==term]\n",
    "    return pos\n",
    "\n",
    "def find_positions_termlist(terms, token_text):\n",
    "    term_set = set(terms)\n",
    "    pos = [k for k,v in enumerate(token_text) if v in term_set]\n",
    "    return pos"
   ]
  },
  {
   "cell_type": "code",
   "execution_count": 69,
   "metadata": {
    "collapsed": true
   },
   "outputs": [],
   "source": [
    "analyzer = tfidf_vectorizer.build_analyzer()"
   ]
  },
  {
   "cell_type": "code",
   "execution_count": 70,
   "metadata": {
    "collapsed": true
   },
   "outputs": [],
   "source": [
    "def getDistributionForRows(row_idxs, matrix, dataset, num_passage=10, n_terms=5):\n",
    "    cum_sum = np.zeros(num_passage)\n",
    "    #for i in progress_bar.iter_progress(row_idxs):\n",
    "    for i in row_idxs:\n",
    "\n",
    "        row = matrix.getrow(i) # this is a 1 x 659255 csr matrix\n",
    "        top10Terms_idx = row.data.argsort()[::-1][:10]\n",
    "\n",
    "        # find the positions of high idf/tfidf terms in the text\n",
    "        top_10_terms = [inv_vocab[term_id] for term_id in row.indices[top10Terms_idx]]\n",
    "\n",
    "        # inside the document\n",
    "        all_text = dataset[\"content\"].iloc[i]\n",
    "        token_text = analyzer(all_text.lower())\n",
    "\n",
    "        all_pos = find_positions_termlist(top_10_terms[:n_terms], token_text)\n",
    "        all_pos.append(len(token_text))\n",
    "        n,_ = np.histogram(all_pos, bins=num_passage, density=False, weights=np.ones(len(all_pos)) / len(all_pos))\n",
    "        cum_sum += n\n",
    "\n",
    "    return cum_sum/len(row_idxs) "
   ]
  },
  {
   "cell_type": "markdown",
   "metadata": {},
   "source": [
    "## 5.1. IDF"
   ]
  },
  {
   "cell_type": "code",
   "execution_count": 71,
   "metadata": {},
   "outputs": [
    {
     "data": {
      "text/plain": [
       "array([ 0.22368271,  0.07118132,  0.07173065,  0.07106639,  0.07022747,\n",
       "        0.07191093,  0.07020056,  0.0691341 ,  0.06879176,  0.21207411])"
      ]
     },
     "execution_count": 71,
     "metadata": {},
     "output_type": "execute_result"
    }
   ],
   "source": [
    "# Default: 10 passages\n",
    "# Number of terms to be considered: 5 \n",
    "getDistributionForRows(range(clef_idf_matrix.shape[0]), clef_idf_matrix, dataset)"
   ]
  },
  {
   "cell_type": "code",
   "execution_count": 72,
   "metadata": {},
   "outputs": [
    {
     "data": {
      "text/plain": [
       "array([ 0.16351071,  0.08371114,  0.08482932,  0.08444579,  0.08465376,\n",
       "        0.08704715,  0.08617426,  0.08380754,  0.08337399,  0.15844634])"
      ]
     },
     "execution_count": 72,
     "metadata": {},
     "output_type": "execute_result"
    }
   ],
   "source": [
    "# Default: 10 passages\n",
    "# Number of terms to be considered: 10 \n",
    "getDistributionForRows(range(clef_idf_matrix.shape[0]), clef_idf_matrix, dataset, n_terms=10)"
   ]
  },
  {
   "cell_type": "code",
   "execution_count": 73,
   "metadata": {
    "collapsed": true
   },
   "outputs": [],
   "source": [
    "# for num_passage in [2,4,8,16]:\n",
    "#     distrib = getDistributionForRows(range(idf_matrix.shape[0]), idf_matrix, dataset, num_passage)\n",
    "#     print(\"Num passage\", num_passage)\n",
    "#     print(distrib)"
   ]
  },
  {
   "cell_type": "markdown",
   "metadata": {},
   "source": [
    "## 5.2. TFDIF"
   ]
  },
  {
   "cell_type": "code",
   "execution_count": 74,
   "metadata": {},
   "outputs": [
    {
     "data": {
      "text/plain": [
       "array([ 0.16886757,  0.09170658,  0.08795911,  0.08602898,  0.08568068,\n",
       "        0.08748719,  0.08588956,  0.08414135,  0.08246093,  0.13977805])"
      ]
     },
     "execution_count": 74,
     "metadata": {},
     "output_type": "execute_result"
    }
   ],
   "source": [
    "# 10 passages on top 5 terms in the text\n",
    "getDistributionForRows(range(clef_tfidf_matrix.shape[0]), clef_tfidf_matrix, dataset)"
   ]
  },
  {
   "cell_type": "code",
   "execution_count": 75,
   "metadata": {},
   "outputs": [
    {
     "data": {
      "text/plain": [
       "array([ 0.14231813,  0.09694768,  0.09345881,  0.09149088,  0.09118856,\n",
       "        0.09348764,  0.09239727,  0.09047912,  0.088962  ,  0.11926992])"
      ]
     },
     "execution_count": 75,
     "metadata": {},
     "output_type": "execute_result"
    }
   ],
   "source": [
    "# 10 passages on top 10 terms in the text\n",
    "getDistributionForRows(range(clef_tfidf_matrix.shape[0]), clef_tfidf_matrix, dataset, n_terms=10)"
   ]
  },
  {
   "cell_type": "code",
   "execution_count": null,
   "metadata": {
    "collapsed": true
   },
   "outputs": [],
   "source": [
    "# for num_passage in [2,4,8,16]:\n",
    "#     distrib = getDistributionForRows(range(tfidf_matrix.shape[0]), tfidf_matrix, dataset, num_passage)\n",
    "#     print(\"Num passage\", num_passage)\n",
    "#     print(distrib)"
   ]
  },
  {
   "cell_type": "code",
   "execution_count": 88,
   "metadata": {
    "collapsed": true
   },
   "outputs": [],
   "source": [
    "import matplotlib as mpl\n",
    "mpl.rcParams.update(mpl.rcParamsDefault)\n",
    "\n",
    "ind = [x+0.5 for x in range(0,11)]\n",
    "vals = [x+1 for x in range(0,10)]\n",
    "\n",
    "\n",
    "def plotSteps(style):\n",
    "    plt.style.use(style)\n",
    "    histogram=plt.figure()\n",
    "    \n",
    "    # we add the first element twice to make x,y match\n",
    "    top10_idf = [0.16351071, 0.16351071,  0.08371114,  0.08482932,  0.08444579,  0.08465376,  0.08704715,  0.08617426,  0.08380754,  0.08337399,  0.15844634]\n",
    "    top10_tfidf = [0.14231813, 0.14231813,  0.09694768,  0.09345881,  0.09149088,  0.09118856, 0.09348764,  0.09239727,  0.09047912,  0.088962  ,  0.11926992]\n",
    "\n",
    "    top5_idf = [0.22368271, 0.22368271,  0.07118132,  0.07173065,  0.07106639,  0.07022747, 0.07191093,  0.07020056,  0.0691341 ,  0.06879176,  0.21207411]\n",
    "    top5_tfidf = [0.16886757, 0.16886757, 0.09170658,  0.08795911,  0.08602898,  0.08568068, 0.08748719,  0.08588956,  0.08414135,  0.08246093,  0.13977805]\n",
    "\n",
    "    plt.step(range(0,11),top10_idf, label=\"Top 10 IDF\", linewidth=2.0)\n",
    "    plt.step(range(0,11),top10_tfidf, label=\"Top 10 TFIDF\", linewidth=2.0)\n",
    "    plt.step(range(0,11),top5_idf, label=\"Top 5 IDF\", linewidth=2.0)\n",
    "    plt.step(range(0,11),top5_tfidf, label=\"Top 5 TFIDF\", linewidth=2.0)\n",
    "    plt.xticks(ind, vals)\n",
    "#     plt.title(\"Distribution of important terms in the documents\")\n",
    "    plt.xlabel(\"Passage ID\")\n",
    "    plt.ylabel(\"Probability\")\n",
    "    plt.legend(loc=\"best\")\n",
    "    plt.savefig(\"probabDistribCLEF.pdf\")\n",
    "    #plt.grid(False)\n",
    "    plt.show()"
   ]
  },
  {
   "cell_type": "code",
   "execution_count": 89,
   "metadata": {},
   "outputs": [
    {
     "data": {
      "image/png": "[encoded data removed]",
      "text/plain": [
       "<matplotlib.figure.Figure at 0x7fc48a0e56d8>"
      ]
     },
     "metadata": {},
     "output_type": "display_data"
    }
   ],
   "source": [
    "for style in [\"ggplot\"]:\n",
    "    plotSteps(style)"
   ]
  },
  {
   "cell_type": "code",
   "execution_count": null,
   "metadata": {
    "collapsed": true
   },
   "outputs": [],
   "source": []
  }
 ],
 "metadata": {
  "kernelspec": {
   "display_name": "Python 3",
   "language": "python",
   "name": "python3"
  },
  "language_info": {
   "codemirror_mode": {
    "name": "ipython",
    "version": 3
   },
   "file_extension": ".py",
   "mimetype": "text/x-python",
   "name": "python",
   "nbconvert_exporter": "python",
   "pygments_lexer": "ipython3",
   "version": "3.6.3"
  }
 },
 "nbformat": 4,
 "nbformat_minor": 2
}
