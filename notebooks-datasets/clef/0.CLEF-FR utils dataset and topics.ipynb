{
 "cells": [
  {
   "cell_type": "code",
   "execution_count": 12,
   "metadata": {},
   "outputs": [
    {
     "name": "stdout",
     "output_type": "stream",
     "text": [
      "The autoreload extension is already loaded. To reload it, use:\n",
      "  %reload_ext autoreload\n"
     ]
    }
   ],
   "source": [
    "%load_ext autoreload\n",
    "%autoreload 2\n",
    "import json\n",
    "from scipy import sparse\n",
    "from scipy import stats\n",
    "from time import time\n",
    "import pandas as pd\n",
    "import numpy as np\n",
    "import matplotlib.pyplot as plt\n",
    "from collections import defaultdict\n",
    "import string\n",
    "from sys import getsizeof\n",
    "import random\n",
    "import sys\n",
    "import os\n",
    "import getopt\n",
    "import xml.etree.ElementTree as xmltree\n",
    "import re"
   ]
  },
  {
   "cell_type": "markdown",
   "metadata": {},
   "source": [
    "# 1. Convert docs to TREC format, remove everything except text"
   ]
  },
  {
   "cell_type": "code",
   "execution_count": 3,
   "metadata": {
    "collapsed": true
   },
   "outputs": [],
   "source": [
    "dir_list = [\"/home/muntean/clef-corpora/promise/ims/experimental-collections/CLEF/corpora/ATS1994\", \n",
    "            \"/home/muntean/clef-corpora/promise/ims/experimental-collections/CLEF/corpora/ATS1995\", \n",
    "            \"/home/muntean/clef-corpora/promise/ims/experimental-collections/CLEF/corpora/LEMONDE1994\",\n",
    "            \"/home/muntean/clef-corpora/promise/ims/experimental-collections/CLEF/corpora/LEMONDE1995\"]"
   ]
  },
  {
   "cell_type": "code",
   "execution_count": 4,
   "metadata": {
    "collapsed": true
   },
   "outputs": [],
   "source": [
    "def merge_file_in_dir(dirName, fout, docno2TextDict, fileType=\"ATS\"):\n",
    "    i=0\n",
    "    for filename in os.listdir(dirName):\n",
    "        xml_data = xmltree.parse(dirName + \"/\" + filename)\n",
    "        i += 1\n",
    "        root = xml_data.getroot()\n",
    "        trecdoc = u\"<DOC>\\n\"\n",
    "        docno = \"\"\n",
    "        text = \"\"\n",
    "        for child in root:\n",
    "\n",
    "            if child.tag == \"DOCNO\":\n",
    "                trecdoc += u\"<DOCNO>{}</DOCNO>\\n\".format(child.text)\n",
    "                docno = child.text\n",
    "            if fileType == \"ATS\" and child.tag in [\"LD\", \"TX\", \"ST\", \"TB\", \"AU\"]:\n",
    "                trecdoc += u\"{}\\n\".format(child.text)\n",
    "                text += child.text.replace(\"\\n\", \" \")\n",
    "            if fileType == \"LEMON\" and child.tag in [\"TEXT\", \"CHA1\", \"NOTE\", \"ORI1\"]: \n",
    "                #LEAD1 - subtitle\n",
    "                trecdoc += u\"{}\\n\".format(child.text)\n",
    "                if child.text is not None:\n",
    "                    text += child.text\n",
    "        trecdoc += u\"</DOC>\\n\"\n",
    "        fout.write(trecdoc)\n",
    "        docno2TextDict[docno] = text\n",
    "    \n",
    "        if i % 10000 == 0:\n",
    "            print(\"Number of docs in file {} : {}\".format(filename, i))\n",
    "    return docno2TextDict"
   ]
  },
  {
   "cell_type": "code",
   "execution_count": 5,
   "metadata": {
    "scrolled": false
   },
   "outputs": [
    {
     "name": "stdout",
     "output_type": "stream",
     "text": [
      "Number of docs in file ATS.940203.0119.xml : 10000\n",
      "Number of docs in file ATS.940106.0055.xml : 20000\n",
      "Number of docs in file ATS.940318.0134.xml : 30000\n",
      "Number of docs in file ATS.941117.0006.xml : 40000\n",
      "Number of docs in file ATS.950829.0086.xml : 10000\n",
      "Number of docs in file ATS.951115.0129.xml : 20000\n",
      "Number of docs in file ATS.951225.0011.xml : 30000\n",
      "Number of docs in file ATS.951012.0001.xml : 40000\n",
      "Number of docs in file LEMONDE94-001172-19940815.xml : 10000\n",
      "Number of docs in file LEMONDE94-002018-19941216.xml : 20000\n",
      "Number of docs in file LEMONDE94-000450-19940705.xml : 30000\n",
      "Number of docs in file LEMONDE94-002112-19941118.xml : 40000\n",
      "Number of docs in file LEMONDE95-016651.xml : 10000\n",
      "Number of docs in file LEMONDE95-007956.xml : 20000\n",
      "Number of docs in file LEMONDE95-001309.xml : 30000\n",
      "Number of docs in file LEMONDE95-047522.xml : 40000\n",
      "177452\n"
     ]
    }
   ],
   "source": [
    "### The parsing works aproximately, some docs are left out - TO REDO\n",
    "\n",
    "docno2TextDict = dict()\n",
    "with open(\"/home/muntean/CLEF-Adhoc-topics-pools/clef_FR_docs.trec\", 'w') as fout:\n",
    "    fout.write(\"<TRECDOCs>\" + \"\\n\")\n",
    "    for path in dir_list:\n",
    "        if \"ATS\" in path:\n",
    "            docno2TextDict = merge_file_in_dir(path, fout, docno2TextDict, \"ATS\")\n",
    "        else:\n",
    "            docno2TextDict = merge_file_in_dir(path, fout, docno2TextDict, \"LEMON\")\n",
    "    fout.write(\"</TRECDOCs>\" + \"\\n\")\n",
    "    print(len(docno2TextDict))"
   ]
  },
  {
   "cell_type": "code",
   "execution_count": 100,
   "metadata": {},
   "outputs": [
    {
     "name": "stdout",
     "output_type": "stream",
     "text": [
      "Stored 'docno2TextDict' (dict)\n"
     ]
    }
   ],
   "source": [
    "%store docno2TextDict"
   ]
  },
  {
   "cell_type": "markdown",
   "metadata": {},
   "source": [
    "# 2. Clean and format topics"
   ]
  },
  {
   "cell_type": "code",
   "execution_count": 6,
   "metadata": {
    "collapsed": true
   },
   "outputs": [],
   "source": [
    "def get_topic_dict_per_year(dirName, output):\n",
    "    qidTopic = dict()\n",
    "    with open(output, \"w\") as outputFile:\n",
    "        for filename in os.listdir(dirName):\n",
    "            if \"French\" in filename and \"MONO\" in filename:\n",
    "                print()\n",
    "                print(filename)\n",
    "\n",
    "                xml_data = xmltree.parse(dirName + \"/\" + filename)\n",
    "                root = xml_data.getroot()\n",
    "                for child in root:\n",
    "                    if child[0].tag == \"identifier\":\n",
    "                        qid = child[0].text.replace(\"-AH\", \"\")\n",
    "                    if child[1].tag == \"title\":\n",
    "                        title = child[1].text.replace(\".\", \"\").replace(\"(\", \"\").replace(\")\", \"\").replace(\":\", \"\")\n",
    "#                         title = re.sub('[^0-9a-zA-Z ]+', '', child[1].text)\n",
    "                    outputFile.write(qid+\":\"+title+\"\\n\")\n",
    "                    print(qid+\":\"+title)\n",
    "                    qidTopic[qid] = title\n",
    "    return qidTopic\n",
    "               "
   ]
  },
  {
   "cell_type": "code",
   "execution_count": 14,
   "metadata": {},
   "outputs": [
    {
     "name": "stdout",
     "output_type": "stream",
     "text": [
      "\n",
      "French_topics_AH-MONO-FR-CLEF2000.xml\n",
      "1:Architecture à Berlin\n",
      "3:La drogue en Hollande\n",
      "5:L'adhésion à l'Union Européenne\n",
      "6:Objecteurs de conscience français\n",
      "7:Dopage et football\n",
      "8:Le suicide de Pierre Bérégovoy\n",
      "9:Gisements de méthane\n",
      "10:Guerre et radio\n",
      "11:Une nouvelle constitution pour l'Afrique du Sud\n",
      "12:Temple solaire\n",
      "13:Conférence sur le contrôle des naissances au Caire\n",
      "15:Compétitivité de l'industrie européenne\n",
      "16:L'Académie Française\n",
      "17:Feux de brousse près de Sydney\n",
      "18:Accidents chez les pompiers\n",
      "19:Le syndrome de la guerre du Golfe\n",
      "20:La monnaie unique européenne\n",
      "21:L'Espace Economique Européen\n",
      "22:Accidents d'avions sur la piste\n",
      "23:Grossesses post-ménopausiques\n",
      "24:Organisation Mondiale du Commerce\n",
      "25:Corruption en Italie\n",
      "26:L'utilisation de la force éolienne\n",
      "29:Le Prix Nobel d'économie\n",
      "30:Effondrement du plafond d'un supermarché à Nice\n",
      "31:La protection des consommateurs dans l'UE\n",
      "32:Femmes prêtres\n",
      "33:Tumeurs et génétique\n",
      "34:Consommation d'alcool en Europe\n",
      "35:Loups en Italie\n",
      "37:Naufrage du ferry-boat Estonia\n",
      "38:Le rapatriement de dépouilles militaires\n",
      "39:Investissements en Europe de l'Est ou en Russie\n",
      "40:Privatisation des chemins de fer allemands Deutsche Bundesbahn\n",
      "\n",
      "French_topics_AH-MONO-FR-CLEF2001.xml\n",
      "41:Des pesticides dans la nourriture pour bébés\n",
      "42:ONU/Etats-Unis invasion d' Haïti\n",
      "43:El Niño et le temps\n",
      "44:Indurain gagne le Tour\n",
      "45:Traité de paix entre Israël et la Jordanie\n",
      "46:Embargo sur l'Iraq\n",
      "47:L'intervention russe en Tchéchénie\n",
      "48:Forces de maintien de la paix en Bosnie\n",
      "49:Japon exportations d'automobiles en baisse\n",
      "50:Révolte au Chiapas\n",
      "51:Coupe du monde de football\n",
      "52:Dévaluation de la monnaie chinoise\n",
      "53:Gènes et maladies\n",
      "54:Résultats des demi-finales\n",
      "55:Initiative suisse pour les Alpes\n",
      "56:Campagnes européennes contre le racisme\n",
      "57:L'affaire du sang contaminé\n",
      "58:L'euthanasie\n",
      "59:Les virus d'ordinateur\n",
      "60:Les affaires en France\n",
      "61:Catastrophe petrolière en Sibérie\n",
      "62:Tremblement de terre au nord du Japon\n",
      "63:Baleines réserve naturelle\n",
      "65:Chasse au trésor\n",
      "66:Retrait des troupes russes de Lettonie\n",
      "67:Collisions de navires\n",
      "68:Attaques contre des synagogues européennes\n",
      "69:Clonage et éthique\n",
      "70:Mort de Kim Il Sung\n",
      "71:Légumes, fruits et cancer\n",
      "72:Sommet du G7 à Naples\n",
      "73:Référendum norvégien à propos de l'UE\n",
      "74:L' inauguration d'Eurotunnel\n",
      "75:Tuerie au tribunal d'Euskirchen\n",
      "76:L'énergie solaire\n",
      "77:Suicides chez les adolescents\n",
      "78:Le festival du film de Venise\n",
      "79:La sonde spatiale Ulysse\n",
      "80:Grèves de la faim\n",
      "81:Prise d'otages dans un Airbus\n",
      "82:Attentats de l'IRA contre des aéroports\n",
      "83:Vente aux enchères de souvenirs de Lennon\n",
      "84:Attaques de requins\n",
      "85:L´opération \"Turquoise\" au Rwanda\n",
      "86:Energie renouvelable\n",
      "87:Inflation et élections brésiliennes\n",
      "88:La vache folle en Europe\n",
      "89:Faillite de M Schneider\n",
      "90:Les exportateurs de légumes\n",
      "\n",
      "French_topics_AH-MONO-FR-CLEF2002.xml\n",
      "91:AI en Amérique latine\n",
      "92:Les sanctions des Nations Unies sur l'Irak\n",
      "93:Eurofighter\n",
      "94:Le retour de Soljénitsyne\n",
      "95:Le conflit en Palestine\n",
      "96:Gonzales devrait-il donner sa démission?\n",
      "97:Le vote pour l'indépendance de la Moldavie\n",
      "98:Les films des frères Kaurismäki\n",
      "99:Nier l'Holocauste\n",
      "100:L'affaire d'espionnage Aldrich Ames\n",
      "101:Chypre et l'UE\n",
      "102:Les victoires d'Alberto Tomba\n",
      "103:Conflits d'intérêt en Italie\n",
      "104:La médaille d'or du Super-G\n",
      "105:Asthme bronchique\n",
      "106:L'industrie automobile en Europe\n",
      "107:Ingénierie génétique\n",
      "108:La sécession du Yémen du Sud\n",
      "109:La sécurité informatique\n",
      "110:Suspects iraniens extradés\n",
      "111:Les films d'animation\n",
      "112:Pulp Fiction\n",
      "113:Coupe d'Europe de football\n",
      "114:La guerre civile en Afghanistan\n",
      "115:Les statistiques du divorce\n",
      "116:Le snowboard\n",
      "117:Elections parlementaires européennes\n",
      "118:Le premier commissaire européen finlandais à l'UE\n",
      "119:La destruction des armes nucléaires en Ukraine\n",
      "120:Edouard Balladur\n",
      "121:Les succès d'Ayrton Senna\n",
      "122:L'industrie automobile nord-américaine\n",
      "123:Le mariage Jackson-Presley\n",
      "124:La Politique Étrangère et de Sécurité Commune PESC\n",
      "125:La monnaie unique européenne\n",
      "126:Actions menées contre l'industrie de la fourrure\n",
      "127:L'évasion de Roldan\n",
      "128:La sexualité dans la publicité\n",
      "129:La découverte de 100 milliards d'étoiles\n",
      "130:La mort du chanteur de Nirvana\n",
      "131:Les droits de propriété intellectuelle\n",
      "132:Kaliningrad\n",
      "133:Les forces armées allemandes hors du territoire national\n",
      "134:La sonde spatiale Clémentine\n",
      "135:Les candidats à la présidence de la CE\n",
      "136:La Tour de Pise\n",
      "137:Concours de beauté internationaux\n",
      "138:Les mots d'origine étrangère en français\n",
      "139:Quotas de pêche imposés par l'UE\n",
      "140:Les téléphones portables\n",
      "\n",
      "French_topics_AH-MONO-FR-CLEF2003.xml\n",
      "141:Une lettre piégée pour Arabella Kiesbauer\n",
      "142:Le Reichstag emballé par Christo\n",
      "143:La conférence de Pékin sur les femmes\n",
      "144:Diamants et rébellion en Sierra Leone\n",
      "145:Le Japon et ses importations de riz\n",
      "147:Les accidents pétroliers et les oiseaux\n",
      "148:Dommages à la couche d'ozone\n",
      "149:La visite du Pape au Sri Lanka\n",
      "150:AI contre la peine de mort\n",
      "151:Les sept merveilles du monde\n",
      "152:Les droits de l'enfant\n",
      "153:Les jeux olympiques et la paix\n",
      "154:Liberté de parole sur Internet\n",
      "155:Les risques du téléphone portable\n",
      "156:Les syndicats en Europe\n",
      "157:Les gagnantes féminines à Wimbledon\n",
      "158:Emeutes pendant un match de football à Dublin\n",
      "159:Mer du Nord, Pétrole et environnement\n",
      "162:l'Union Européenne et les douanes turques\n",
      "163:Restrictions sur le tabac\n",
      "164:Les condamnations pour trafic de drogue en Europe\n",
      "165:Golden Globes 1994\n",
      "167:Les relations Chine-Mongolie\n",
      "168:Assassinat de Rabin\n",
      "170:Langues officielles de l'Union Européenne\n",
      "171:La finale de hockey de Lillehamer\n",
      "173:Preuve de l'existence des Quarks Top\n",
      "174:La querelle bavaroise sur les crucifix\n",
      "175:Dommages écologiques aux Everglades\n",
      "176:Shoemaker-Levy et Jupiter\n",
      "177:La consommation de lait en Europe\n",
      "178:Refus de service militaire\n",
      "179:Démission du secrétaire général de l'OTAN\n",
      "180:La faillite de Barings\n",
      "181:Essais nucléaires français\n",
      "182:50ème anniversaire du débarquement en Normandie\n",
      "183:Restes asiatiques de dinosaure\n",
      "184:Le congé de maternité en Europe\n",
      "185:Photos néerlandaises de Srebrenica\n",
      "186:Gouvernement de coalition néerlandais\n",
      "187:Le transport nucléaire en Allemagne\n",
      "188:La réforme allemande de l'orthographe\n",
      "189:Hubble et les trous noirs\n",
      "190:Le travail des enfants en Asie\n",
      "192:Assassinat d'un directeur de la télévision russe\n",
      "193:L'Union Européenne et les Pays Baltes\n",
      "195:Grèves des personnels de bord italiens\n",
      "196:Fusion de banques japonaises\n",
      "197:Traité de paix de Dayton\n",
      "198:Oscar honorifique pour des réalisateurs italiens\n",
      "199:L'épidémie d'Ebola au Zaïre\n",
      "200:Innondationeurs en Hollande et en Allemagne\n",
      "\n",
      "French_topics_AH-MONO-FR-CLEF2004.xml\n",
      "201:Incendies domestiques\n",
      "202:Arrestation de Nick Leeson\n",
      "203:Guerrilla au Timor Oriental\n",
      "204:Victimes d'avalanches\n",
      "205:Attentats-suicide Tamoul\n",
      "206:Le sommet du G7 à Halifax\n",
      "207:Accidents causés par les feux d'artifice\n",
      "208:Le monde de Sophie\n",
      "209:Le vainqueur du Tour de France\n",
      "210:Candidats au prix Nobel de la paix\n",
      "211:Conflit à la frontière Pérou-Equateur\n",
      "212:Le dopage chez les femmes\n",
      "213:Voyages du Pape\n",
      "214:Les multi-milliardaires\n",
      "215:La réélection du président péruvien\n",
      "216:Inhalation de colle chez les jeunes\n",
      "217:Le SIDA en Afrique\n",
      "218:Andreotti et la mafia\n",
      "219:Candidats à la fonction de commissaire européen\n",
      "220:Voitures européennes en Russie\n",
      "221:Jeux Olympiques d'hiver 2002\n",
      "222:Election présidentielle en France\n",
      "223:La catastrophe de Tchernobyl en dehors de l'ex-URSS\n",
      "224:Une femme en solo sur l'Everest\n",
      "225:La centrale nucléaire de Sosnovy Bor\n",
      "226:Opérations de changement de sexe\n",
      "228:Art préhistorique\n",
      "229:Construction de barrages\n",
      "230:Arrimage Atlantis-Mir\n",
      "231:Nouveau premier ministre portugais\n",
      "232:Systèmes de retraite en Europe\n",
      "233:Effet de serre\n",
      "234:Les sourds et la société\n",
      "235:La chasse au phoque\n",
      "236:Typhon aux Philippines\n",
      "237:Le Panchen Lama\n",
      "238:Lady Diana\n",
      "239:La santé mentale chez les jeunes\n",
      "240:Chemise sacrée des Sioux\n",
      "241:Nouveaux partis politiques\n",
      "242:Record de permanence dans l'espace\n",
      "243:Les films de Kieslowski\n",
      "244:Meilleur footballeur de l'année 1994\n",
      "245:Christopher Reeve\n",
      "246:La visite de Castro aux Nations Unies\n",
      "247:Le tombeau d'Alexandre le Grand\n",
      "248:Dispute sur le nom de la Macédoine\n",
      "249:Championne du 10000 mètres féminin\n",
      "250:La rage humaine\n",
      "\n",
      "French_topics_AH-MONO-FR-CLEF2005.xml\n",
      "251:Médecines douces\n",
      "252:Régimes de retraite en Europe\n",
      "253:Pays appliquant la peine de mort\n",
      "254:Dégâts causés par les tremblements de terre\n",
      "255:Dépendance et Internet\n",
      "256:Maladie de Creutzfeldt-Jakob\n",
      "257:Epuration ethnique dans les Balkans\n",
      "258:Impact sur la fuite des cerveaux\n",
      "259:Lions d'Or\n",
      "260:Loi contre le tabagisme\n",
      "261:Diseurs de bonne aventure\n",
      "262:Concerts de charité\n",
      "263:Remise en cause de décisions d'arbitrage en matière de football\n",
      "264:Trafic de substances radioactives\n",
      "265:Prise de pouvoir de la Deutsche Bank\n",
      "266:Discrimination envers les tsiganes européens\n",
      "267:Les films nominés « meilleur film étranger » \n",
      "268:Le clonage humain et la bio-éthique\n",
      "269:Traités de ratification\n",
      "270:Concurrents de Microsoft\n",
      "271:Mariages homosexuels\n",
      "272:La formation du président Tchèque\n",
      "273:Expansion de l'OTAN\n",
      "274:Bombes actives de la Seconde Guerre Mondiale\n",
      "275:Maladies liées au tabagisme\n",
      "276:Subventions agricoles de l'UE\n",
      "277:L'euthanasie\n",
      "278:Les moyens de transport pour handicapés\n",
      "279:Référendums en Suisse\n",
      "280:Crimes à New-York\n",
      "281:Radovan Karadzic\n",
      "282:Abus en prison\n",
      "283:Films de James Bond\n",
      "284:Missions de navettes spatiales\n",
      "285:Mouvements anti-avortement\n",
      "286:Blessures au football\n",
      "287:Prises d'otages  cas de terrorisme\n",
      "288:Importation de voitures américaines\n",
      "289:Les Îles Malouines\n",
      "290:Variations du prix du pétrole\n",
      "291:Immigrants clandestins en Europe\n",
      "292:Reconstruction des villes en Allemagne\n",
      "293:Relations entre la Chine et Taiwan\n",
      "294:La puissance des Ouragans\n",
      "295:Blanchiment d'argent\n",
      "296:Les représentations publiques de Liszt\n",
      "297:Expulsions de diplomates\n",
      "298:Centrales nucléaires\n",
      "299:Risques encourus par les gardiens de la paix de l'ONU\n",
      "300:Gains de la loterie\n",
      "\n",
      "French_topics_AH-MONO-FR-CLEF2006.xml\n",
      "301:Les Produits Nestlé\n",
      "302:Les Boycotts de Consommateurs\n",
      "303:Les Peintures Italiennes\n",
      "304:Le Patrimoine Mondial\n",
      "305:Les Prix du Pétrole\n",
      "306:Les Activités de l'ETA en France\n",
      "307:Les Films qui se déroulent en Ecosse\n",
      "308:Eclipse Solaire\n",
      "309:Les Drogues \"Dures\"\n",
      "310:Le Traitement des Déchets Industriels\n",
      "311:Le Chômage en Europe\n",
      "312:Les Attaques de Chiens\n",
      "313:Les Célébrations de Centenaire\n",
      "314:Les Espèces en Danger\n",
      "315:Le Dopage dans le Sport\n",
      "316:Les Grèves\n",
      "317:Les Drogues Anti-cancer\n",
      "318:L'Education Sexuelle\n",
      "319:La Production Mondiale d'Opium\n",
      "320:Les Crises de l'Energie\n",
      "321:Les Talibans en Afghanistan\n",
      "322:L'Energie Atomique\n",
      "323:Le Renforcement des Conditions d'Obtention de Visa\n",
      "324:Les Grands Mannequins\n",
      "325:Les Bourses d'Etudes\n",
      "326:Les International Emmy Awards\n",
      "327:Tremblements de Terre à Mexico\n",
      "328:Les Kurdes Irakiens et la Turquie\n",
      "329:Conséquences d'un Divorce entre Charles et Diana\n",
      "330:Films avec Keanu Reeves\n",
      "331:Les Politiques Economiques de Zedillo\n",
      "333:Le Procès de Paul Touvier\n",
      "334:L'Election de George W Bush\n",
      "335:Les Travaillistes après John Smith\n",
      "336:Les Conflits de Travail de la NBA\n",
      "337:La Guerre Civile au Yémen\n",
      "338:L'Extradition et le Procès de Carlos\n",
      "339:Sinn Fein et la Déclaration Anglo-Irlandaise\n",
      "340:Le Nouveau Premier Ministre du Québec\n",
      "341:Le Vol du \"Cri\"\n",
      "342:Quatre Mariages et un Enterrement\n",
      "343:Le Parti National d'Afrique du Sud\n",
      "344:Le Brésil contre la Suède en Demi-finales de la Coupe du Monde\n",
      "345:Le Ski de Fond aux Jeux Olympiques\n",
      "346:Les Vainqueurs du Grand Chelem\n",
      "347:L'Oscar du Meilleur Film 1994\n",
      "348:L'Assassinat de Yann Piat\n",
      "349:Le Décès de Nixon\n",
      "350:Le Décès d'Ayrton Senna\n"
     ]
    }
   ],
   "source": [
    "qidTopic = {}\n",
    "for year in range(2000,2007):\n",
    "    dirName = \"AH-CLEF\"+str(year)\n",
    "    qidTopicY = get_topic_dict_per_year(\"/home/muntean/CLEF-Adhoc-topics-pools/\" + dirName + \"/topics\",\n",
    "                           \"/home/muntean/CLEF-Adhoc-topics-pools/clef-fr-\"+\n",
    "                            str(year)+\"-title-queries.txt\")\n",
    "    qidTopic.update(qidTopicY)"
   ]
  },
  {
   "cell_type": "markdown",
   "metadata": {},
   "source": [
    "# 3. Distrib, media, varianza di lunghezze - simple tokenization\n",
    "\n",
    "\n",
    "### lunghezza media in Terrier\n",
    " index.meta.entry-length=121\n",
    " index.meta.entries=177452"
   ]
  },
  {
   "cell_type": "markdown",
   "metadata": {},
   "source": [
    "## 3.1. Titles"
   ]
  },
  {
   "cell_type": "code",
   "execution_count": 19,
   "metadata": {},
   "outputs": [
    {
     "name": "stdout",
     "output_type": "stream",
     "text": [
      "333\n",
      "DescribeResult(nobs=333, minmax=(1, 7), mean=2.828828828828829, variance=0.7868772386844676, skewness=0.8333186949453206, kurtosis=1.6099776610805883)\n",
      "DescribeResult(nobs=333, minmax=(1, 12), mean=4.5225225225225225, variance=2.8767502442201245, skewness=0.5770334937878648, kurtosis=0.6979881833629471)\n"
     ]
    },
    {
     "data": {
      "image/png": "[encoded data removed]",
      "text/plain": [
       "<matplotlib.figure.Figure at 0x7f11d7b14668>"
      ]
     },
     "metadata": {},
     "output_type": "display_data"
    },
    {
     "data": {
      "image/png": "[encoded data removed]",
      "text/plain": [
       "<matplotlib.figure.Figure at 0x7f11d7d89ef0>"
      ]
     },
     "metadata": {},
     "output_type": "display_data"
    }
   ],
   "source": [
    "# load stopwords\n",
    "stopwords = []\n",
    "with open(\"/home/muntean//terrier-core-4.2/share/fr_sl.txt\") as f:\n",
    "    for line in f:\n",
    "        stopwords.append(line.replace(\"\\n\",\"\"))\n",
    "# print(stopwords)\n",
    "#stopwords = []\n",
    "topic_len = []\n",
    "for k,v in qidTopic.items():\n",
    "    i = 0 \n",
    "    j = 0\n",
    "    for w in v.lower().split():\n",
    "        if w not in stopwords:\n",
    "            i+=1\n",
    "        j+=1\n",
    "    topic_len.append((i,j))\n",
    "print(len(topic_len))\n",
    "# print(topic_len)\n",
    "\n",
    "x = [x for x,y in topic_len]\n",
    "y = [y for x,y in topic_len]\n",
    "print(stats.describe(x))\n",
    "print(stats.describe(y))\n",
    "\n",
    "\n",
    "plt.style.use(\"ggplot\")\n",
    "\n",
    "plt.plot(sorted(x, reverse=True))\n",
    "plt.title(\"without stopwords\")\n",
    "plt.show()\n",
    "\n",
    "plt.plot(sorted(y, reverse=True))\n",
    "plt.title(\"with stopwords\")\n",
    "plt.show()"
   ]
  },
  {
   "cell_type": "code",
   "execution_count": 16,
   "metadata": {},
   "outputs": [
    {
     "name": "stdout",
     "output_type": "stream",
     "text": [
      "{'1': 'Architecture à Berlin', '3': 'La drogue en Hollande', '5': \"L'adhésion à l'Union Européenne\", '6': 'Objecteurs de conscience français', '7': 'Dopage et football', '8': 'Le suicide de Pierre Bérégovoy', '9': 'Gisements de méthane', '10': 'Guerre et radio', '11': \"Une nouvelle constitution pour l'Afrique du Sud\", '12': 'Temple solaire', '13': 'Conférence sur le contrôle des naissances au Caire', '15': \"Compétitivité de l'industrie européenne\", '16': \"L'Académie Française\", '17': 'Feux de brousse près de Sydney', '18': 'Accidents chez les pompiers', '19': 'Le syndrome de la guerre du Golfe', '20': 'La monnaie unique européenne', '21': \"L'Espace Economique Européen\", '22': \"Accidents d'avions sur la piste\", '23': 'Grossesses post-ménopausiques', '24': 'Organisation Mondiale du Commerce', '25': 'Corruption en Italie', '26': \"L'utilisation de la force éolienne\", '29': \"Le Prix Nobel d'économie\", '30': \"Effondrement du plafond d'un supermarché à Nice\", '31': \"La protection des consommateurs dans l'UE\", '32': 'Femmes prêtres', '33': 'Tumeurs et génétique', '34': \"Consommation d'alcool en Europe\", '35': 'Loups en Italie', '37': 'Naufrage du ferry-boat Estonia', '38': 'Le rapatriement de dépouilles militaires', '39': \"Investissements en Europe de l'Est ou en Russie\", '40': 'Privatisation des chemins de fer allemands Deutsche Bundesbahn', '41': 'Des pesticides dans la nourriture pour bébés', '42': \"ONU/Etats-Unis invasion d' Haïti\", '43': 'El Niño et le temps', '44': 'Indurain gagne le Tour', '45': 'Traité de paix entre Israël et la Jordanie', '46': \"Embargo sur l'Iraq\", '47': \"L'intervention russe en Tchéchénie\", '48': 'Forces de maintien de la paix en Bosnie', '49': \"Japon exportations d'automobiles en baisse\", '50': 'Révolte au Chiapas', '51': 'Coupe du monde de football', '52': 'Dévaluation de la monnaie chinoise', '53': 'Gènes et maladies', '54': 'Résultats des demi-finales', '55': 'Initiative suisse pour les Alpes', '56': 'Campagnes européennes contre le racisme', '57': \"L'affaire du sang contaminé\", '58': \"L'euthanasie\", '59': \"Les virus d'ordinateur\", '60': 'Les affaires en France', '61': 'Catastrophe petrolière en Sibérie', '62': 'Tremblement de terre au nord du Japon', '63': 'Baleines réserve naturelle', '65': 'Chasse au trésor', '66': 'Retrait des troupes russes de Lettonie', '67': 'Collisions de navires', '68': 'Attaques contre des synagogues européennes', '69': 'Clonage et éthique', '70': 'Mort de Kim Il Sung', '71': 'Légumes, fruits et cancer', '72': 'Sommet du G7 à Naples', '73': \"Référendum norvégien à propos de l'UE\", '74': \"L' inauguration d'Eurotunnel\", '75': \"Tuerie au tribunal d'Euskirchen\", '76': \"L'énergie solaire\", '77': 'Suicides chez les adolescents', '78': 'Le festival du film de Venise', '79': 'La sonde spatiale Ulysse', '80': 'Grèves de la faim', '81': \"Prise d'otages dans un Airbus\", '82': \"Attentats de l'IRA contre des aéroports\", '83': 'Vente aux enchères de souvenirs de Lennon', '84': 'Attaques de requins', '85': 'L´opération \"Turquoise\" au Rwanda', '86': 'Energie renouvelable', '87': 'Inflation et élections brésiliennes', '88': 'La vache folle en Europe', '89': 'Faillite de M Schneider', '90': 'Les exportateurs de légumes', '91': 'AI en Amérique latine', '92': \"Les sanctions des Nations Unies sur l'Irak\", '93': 'Eurofighter', '94': 'Le retour de Soljénitsyne', '95': 'Le conflit en Palestine', '96': 'Gonzales devrait-il donner sa démission?', '97': \"Le vote pour l'indépendance de la Moldavie\", '98': 'Les films des frères Kaurismäki', '99': \"Nier l'Holocauste\", '100': \"L'affaire d'espionnage Aldrich Ames\", '101': \"Chypre et l'UE\", '102': \"Les victoires d'Alberto Tomba\", '103': \"Conflits d'intérêt en Italie\", '104': \"La médaille d'or du Super-G\", '105': 'Asthme bronchique', '106': \"L'industrie automobile en Europe\", '107': 'Ingénierie génétique', '108': 'La sécession du Yémen du Sud', '109': 'La sécurité informatique', '110': 'Suspects iraniens extradés', '111': \"Les films d'animation\", '112': 'Pulp Fiction', '113': \"Coupe d'Europe de football\", '114': 'La guerre civile en Afghanistan', '115': 'Les statistiques du divorce', '116': 'Le snowboard', '117': 'Elections parlementaires européennes', '118': \"Le premier commissaire européen finlandais à l'UE\", '119': 'La destruction des armes nucléaires en Ukraine', '120': 'Edouard Balladur', '121': \"Les succès d'Ayrton Senna\", '122': \"L'industrie automobile nord-américaine\", '123': 'Le mariage Jackson-Presley', '124': 'La Politique Étrangère et de Sécurité Commune PESC', '125': 'La monnaie unique européenne', '126': \"Actions menées contre l'industrie de la fourrure\", '127': \"L'évasion de Roldan\", '128': 'La sexualité dans la publicité', '129': \"La découverte de 100 milliards d'étoiles\", '130': 'La mort du chanteur de Nirvana', '131': 'Les droits de propriété intellectuelle', '132': 'Kaliningrad', '133': 'Les forces armées allemandes hors du territoire national', '134': 'La sonde spatiale Clémentine', '135': 'Les candidats à la présidence de la CE', '136': 'La Tour de Pise', '137': 'Concours de beauté internationaux', '138': \"Les mots d'origine étrangère en français\", '139': \"Quotas de pêche imposés par l'UE\", '140': 'Les téléphones portables', '141': 'Une lettre piégée pour Arabella Kiesbauer', '142': 'Le Reichstag emballé par Christo', '143': 'La conférence de Pékin sur les femmes', '144': 'Diamants et rébellion en Sierra Leone', '145': 'Le Japon et ses importations de riz', '147': 'Les accidents pétroliers et les oiseaux', '148': \"Dommages à la couche d'ozone\", '149': 'La visite du Pape au Sri Lanka', '150': 'AI contre la peine de mort', '151': 'Les sept merveilles du monde', '152': \"Les droits de l'enfant\", '153': 'Les jeux olympiques et la paix', '154': 'Liberté de parole sur Internet', '155': 'Les risques du téléphone portable', '156': 'Les syndicats en Europe', '157': 'Les gagnantes féminines à Wimbledon', '158': 'Emeutes pendant un match de football à Dublin', '159': 'Mer du Nord, Pétrole et environnement', '162': \"l'Union Européenne et les douanes turques\", '163': 'Restrictions sur le tabac', '164': 'Les condamnations pour trafic de drogue en Europe', '165': 'Golden Globes 1994', '167': 'Les relations Chine-Mongolie', '168': 'Assassinat de Rabin', '170': \"Langues officielles de l'Union Européenne\", '171': 'La finale de hockey de Lillehamer', '173': \"Preuve de l'existence des Quarks Top\", '174': 'La querelle bavaroise sur les crucifix', '175': 'Dommages écologiques aux Everglades', '176': 'Shoemaker-Levy et Jupiter', '177': 'La consommation de lait en Europe', '178': 'Refus de service militaire', '179': \"Démission du secrétaire général de l'OTAN\", '180': 'La faillite de Barings', '181': 'Essais nucléaires français', '182': '50ème anniversaire du débarquement en Normandie', '183': 'Restes asiatiques de dinosaure', '184': 'Le congé de maternité en Europe', '185': 'Photos néerlandaises de Srebrenica', '186': 'Gouvernement de coalition néerlandais', '187': 'Le transport nucléaire en Allemagne', '188': \"La réforme allemande de l'orthographe\", '189': 'Hubble et les trous noirs', '190': 'Le travail des enfants en Asie', '192': \"Assassinat d'un directeur de la télévision russe\", '193': \"L'Union Européenne et les Pays Baltes\", '195': 'Grèves des personnels de bord italiens', '196': 'Fusion de banques japonaises', '197': 'Traité de paix de Dayton', '198': 'Oscar honorifique pour des réalisateurs italiens', '199': \"L'épidémie d'Ebola au Zaïre\", '200': 'Innondationeurs en Hollande et en Allemagne', '201': 'Incendies domestiques', '202': 'Arrestation de Nick Leeson', '203': 'Guerrilla au Timor Oriental', '204': \"Victimes d'avalanches\", '205': 'Attentats-suicide Tamoul', '206': 'Le sommet du G7 à Halifax', '207': \"Accidents causés par les feux d'artifice\", '208': 'Le monde de Sophie', '209': 'Le vainqueur du Tour de France', '210': 'Candidats au prix Nobel de la paix', '211': 'Conflit à la frontière Pérou-Equateur', '212': 'Le dopage chez les femmes', '213': 'Voyages du Pape', '214': 'Les multi-milliardaires', '215': 'La réélection du président péruvien', '216': 'Inhalation de colle chez les jeunes', '217': 'Le SIDA en Afrique', '218': 'Andreotti et la mafia', '219': 'Candidats à la fonction de commissaire européen', '220': 'Voitures européennes en Russie', '221': \"Jeux Olympiques d'hiver 2002\", '222': 'Election présidentielle en France', '223': \"La catastrophe de Tchernobyl en dehors de l'ex-URSS\", '224': \"Une femme en solo sur l'Everest\", '225': 'La centrale nucléaire de Sosnovy Bor', '226': 'Opérations de changement de sexe', '228': 'Art préhistorique', '229': 'Construction de barrages', '230': 'Arrimage Atlantis-Mir', '231': 'Nouveau premier ministre portugais', '232': 'Systèmes de retraite en Europe', '233': 'Effet de serre', '234': 'Les sourds et la société', '235': 'La chasse au phoque', '236': 'Typhon aux Philippines', '237': 'Le Panchen Lama', '238': 'Lady Diana', '239': 'La santé mentale chez les jeunes', '240': 'Chemise sacrée des Sioux', '241': 'Nouveaux partis politiques', '242': \"Record de permanence dans l'espace\", '243': 'Les films de Kieslowski', '244': \"Meilleur footballeur de l'année 1994\", '245': 'Christopher Reeve', '246': 'La visite de Castro aux Nations Unies', '247': \"Le tombeau d'Alexandre le Grand\", '248': 'Dispute sur le nom de la Macédoine', '249': 'Championne du 10000 mètres féminin', '250': 'La rage humaine', '251': 'Médecines douces', '252': 'Régimes de retraite en Europe', '253': 'Pays appliquant la peine de mort', '254': 'Dégâts causés par les tremblements de terre', '255': 'Dépendance et Internet', '256': 'Maladie de Creutzfeldt-Jakob', '257': 'Epuration ethnique dans les Balkans', '258': 'Impact sur la fuite des cerveaux', '259': \"Lions d'Or\", '260': 'Loi contre le tabagisme', '261': 'Diseurs de bonne aventure', '262': 'Concerts de charité', '263': \"Remise en cause de décisions d'arbitrage en matière de football\", '264': 'Trafic de substances radioactives', '265': 'Prise de pouvoir de la Deutsche Bank', '266': 'Discrimination envers les tsiganes\\xa0européens', '267': 'Les films nominés «\\xa0meilleur film étranger\\xa0»\\xa0', '268': 'Le clonage humain et la bio-éthique', '269': 'Traités de ratification', '270': 'Concurrents de Microsoft', '271': 'Mariages homosexuels', '272': 'La formation du président Tchèque', '273': \"Expansion de l'OTAN\", '274': 'Bombes actives de la Seconde Guerre Mondiale', '275': 'Maladies liées au tabagisme', '276': \"Subventions agricoles de l'UE\", '277': \"L'euthanasie\", '278': 'Les moyens de transport pour handicapés', '279': 'Référendums en Suisse', '280': 'Crimes à New-York', '281': 'Radovan Karadzic', '282': 'Abus en prison', '283': 'Films de James Bond', '284': 'Missions de navettes spatiales', '285': 'Mouvements anti-avortement', '286': 'Blessures au football', '287': \"Prises d'otages \\x96 cas de terrorisme\", '288': 'Importation de voitures américaines', '289': 'Les Îles Malouines', '290': 'Variations du prix du pétrole', '291': 'Immigrants clandestins en Europe', '292': 'Reconstruction des villes en Allemagne', '293': 'Relations entre la Chine et Taiwan', '294': 'La puissance des Ouragans', '295': \"Blanchiment d'argent\", '296': 'Les représentations publiques de Liszt', '297': 'Expulsions de diplomates', '298': 'Centrales nucléaires', '299': \"Risques encourus par les gardiens de la paix de l'ONU\", '300': 'Gains de la loterie', '301': 'Les Produits Nestlé', '302': 'Les Boycotts de Consommateurs', '303': 'Les Peintures Italiennes', '304': 'Le Patrimoine Mondial', '305': 'Les Prix du Pétrole', '306': \"Les Activités de l'ETA en France\", '307': 'Les Films qui se déroulent en Ecosse', '308': 'Eclipse Solaire', '309': 'Les Drogues \"Dures\"', '310': 'Le Traitement des Déchets Industriels', '311': 'Le Chômage en Europe', '312': 'Les Attaques de Chiens', '313': 'Les Célébrations de Centenaire', '314': 'Les Espèces en Danger', '315': 'Le Dopage dans le Sport', '316': 'Les Grèves', '317': 'Les Drogues Anti-cancer', '318': \"L'Education Sexuelle\", '319': \"La Production Mondiale d'Opium\", '320': \"Les Crises de l'Energie\", '321': 'Les Talibans en Afghanistan', '322': \"L'Energie Atomique\", '323': \"Le Renforcement des Conditions d'Obtention de Visa\", '324': 'Les Grands Mannequins', '325': \"Les Bourses d'Etudes\", '326': 'Les International Emmy Awards', '327': 'Tremblements de Terre à Mexico', '328': 'Les Kurdes Irakiens et la Turquie', '329': \"Conséquences d'un Divorce entre Charles et Diana\", '330': 'Films avec Keanu Reeves', '331': 'Les Politiques Economiques de Zedillo', '333': 'Le Procès de Paul Touvier', '334': \"L'Election de George W Bush\", '335': 'Les Travaillistes après John Smith', '336': 'Les Conflits de Travail de la NBA', '337': 'La Guerre Civile au Yémen', '338': \"L'Extradition et le Procès de Carlos\", '339': 'Sinn Fein et la Déclaration Anglo-Irlandaise', '340': 'Le Nouveau Premier Ministre du Québec', '341': 'Le Vol du \"Cri\"', '342': 'Quatre Mariages et un Enterrement', '343': \"Le Parti National d'Afrique du Sud\", '344': 'Le Brésil contre la Suède en Demi-finales de la Coupe du Monde', '345': 'Le Ski de Fond aux Jeux Olympiques', '346': 'Les Vainqueurs du Grand Chelem', '347': \"L'Oscar du Meilleur Film 1994\", '348': \"L'Assassinat de Yann Piat\", '349': 'Le Décès de Nixon', '350': \"Le Décès d'Ayrton Senna\"}\n"
     ]
    }
   ],
   "source": [
    "print (qidTopic)"
   ]
  },
  {
   "cell_type": "markdown",
   "metadata": {},
   "source": [
    "## 3.2. Documents"
   ]
  },
  {
   "cell_type": "code",
   "execution_count": 9,
   "metadata": {},
   "outputs": [
    {
     "name": "stdout",
     "output_type": "stream",
     "text": [
      "177452\n"
     ]
    },
    {
     "data": {
      "text/plain": [
       "DescribeResult(nobs=177452, minmax=(array([0, 0]), array([ 8199, 14702])), mean=array([201.40860627, 355.01887834]), variance=array([ 40601.80582119, 122243.56938398]), skewness=array([3.99020503, 3.38224273]), kurtosis=array([47.24913498, 38.63551877]))"
      ]
     },
     "execution_count": 9,
     "metadata": {},
     "output_type": "execute_result"
    }
   ],
   "source": [
    "doc_len = []\n",
    "for k,v in docno2TextDict.items():\n",
    "    i = 0 \n",
    "    j = 0\n",
    "    for w in v.lower().split():\n",
    "        if w not in stopwords:\n",
    "            i+=1\n",
    "        j+=1\n",
    "    doc_len.append((i,j))\n",
    "print(len(doc_len))\n",
    "# print(doc_len)\n",
    "\n",
    "stats.describe(doc_len)"
   ]
  },
  {
   "cell_type": "code",
   "execution_count": 10,
   "metadata": {},
   "outputs": [
    {
     "name": "stdout",
     "output_type": "stream",
     "text": [
      "DescribeResult(nobs=177452, minmax=(0, 8199), mean=201.40860627099158, variance=40601.80582119291, skewness=3.9902050271945497, kurtosis=47.249134984057655)\n",
      "DescribeResult(nobs=177452, minmax=(0, 14702), mean=355.0188783445664, variance=122243.56938398513, skewness=3.3822427263516497, kurtosis=38.63551876791355)\n"
     ]
    }
   ],
   "source": [
    "x = [x for x,y in doc_len]\n",
    "y = [y for x,y in doc_len]\n",
    "print(stats.describe(x))\n",
    "print(stats.describe(y))"
   ]
  },
  {
   "cell_type": "code",
   "execution_count": 11,
   "metadata": {},
   "outputs": [
    {
     "data": {
      "image/png": "[encoded data removed]",
      "text/plain": [
       "<matplotlib.figure.Figure at 0x7f11e0459e80>"
      ]
     },
     "metadata": {},
     "output_type": "display_data"
    },
    {
     "data": {
      "image/png": "[encoded data removed]",
      "text/plain": [
       "<matplotlib.figure.Figure at 0x7f11e0fe2048>"
      ]
     },
     "metadata": {},
     "output_type": "display_data"
    }
   ],
   "source": [
    "plt.semilogx(sorted(x, reverse=True))\n",
    "plt.title(\"without stopwords\")\n",
    "plt.show()\n",
    "\n",
    "plt.semilogx(sorted(y, reverse=True))\n",
    "plt.title(\"with stopwords\")\n",
    "plt.show()"
   ]
  },
  {
   "cell_type": "code",
   "execution_count": null,
   "metadata": {
    "collapsed": true
   },
   "outputs": [],
   "source": []
  }
 ],
 "metadata": {
  "kernelspec": {
   "display_name": "Python 3",
   "language": "python",
   "name": "python3"
  },
  "language_info": {
   "codemirror_mode": {
    "name": "ipython",
    "version": 3
   },
   "file_extension": ".py",
   "mimetype": "text/x-python",
   "name": "python",
   "nbconvert_exporter": "python",
   "pygments_lexer": "ipython3",
   "version": "3.6.3"
  }
 },
 "nbformat": 4,
 "nbformat_minor": 2
}
