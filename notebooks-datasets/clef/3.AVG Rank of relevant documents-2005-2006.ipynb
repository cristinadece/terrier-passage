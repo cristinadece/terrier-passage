{
 "cells": [
  {
   "cell_type": "code",
   "execution_count": 1,
   "metadata": {},
   "outputs": [],
   "source": [
    "%load_ext autoreload\n",
    "%autoreload 2\n",
    "import json\n",
    "from scipy import sparse\n",
    "from time import time\n",
    "import pandas as pd\n",
    "import numpy as np\n",
    "import matplotlib.pyplot as plt\n",
    "from collections import defaultdict\n",
    "import string\n",
    "import os\n",
    "import scipy.stats as stats\n",
    "\n",
    "np.random.seed(12345678) # fix random seed to get same numbers"
   ]
  },
  {
   "cell_type": "markdown",
   "metadata": {},
   "source": [
    "# 1. Read qrels - map qid to list of relevant docs"
   ]
  },
  {
   "cell_type": "code",
   "execution_count": 18,
   "metadata": {
    "collapsed": true
   },
   "outputs": [],
   "source": [
    "def loadQidRelDocs(inputFile):\n",
    "    qidRelDocs = defaultdict(list) \n",
    "\n",
    "    i = 0 \n",
    "    with open(inputFile) as f:\n",
    "        for line in f:\n",
    "#             print(line)\n",
    "            i+=1\n",
    "            if i % 1000000 ==0 :\n",
    "                print(\"Processed lines: \", i, time.ctime())\n",
    "            resultLine = line.split()\n",
    "            queryId = int(resultLine[0])\n",
    "            current_docid = resultLine[2]\n",
    "            relevance = int(resultLine[3])\n",
    "            \n",
    "            if relevance == 1:  \n",
    "                qidRelDocs[queryId].append(current_docid) \n",
    "                \n",
    "    return qidRelDocs"
   ]
  },
  {
   "cell_type": "code",
   "execution_count": 19,
   "metadata": {},
   "outputs": [],
   "source": [
    "relDocAll = loadQidRelDocs(\"AH-MONO-FR-CLEF-2005-2006.qrel.sorted\")"
   ]
  },
  {
   "cell_type": "code",
   "execution_count": 21,
   "metadata": {},
   "outputs": [
    {
     "name": "stdout",
     "output_type": "stream",
     "text": [
      "99\n"
     ]
    },
    {
     "data": {
      "text/plain": [
       "['ATS.940102.0014',\n",
       " 'ATS.940405.0090',\n",
       " 'ATS.940420.0125',\n",
       " 'ATS.940501.0060',\n",
       " 'ATS.940912.0113',\n",
       " 'ATS.941121.0142',\n",
       " 'ATS.941203.0042',\n",
       " 'ATS.941215.0159',\n",
       " 'ATS.941216.0154',\n",
       " 'ATS.941218.0057',\n",
       " 'ATS.941219.0101',\n",
       " 'ATS.950104.0099',\n",
       " 'ATS.950214.0056',\n",
       " 'ATS.950215.0061',\n",
       " 'ATS.950305.0005',\n",
       " 'ATS.950329.0145',\n",
       " 'ATS.950410.0004',\n",
       " 'ATS.950727.0083',\n",
       " 'ATS.950918.0022',\n",
       " 'ATS.950919.0083',\n",
       " 'ATS.951203.0042',\n",
       " 'LEMONDE94-000110-19941201',\n",
       " 'LEMONDE94-000239-19940104',\n",
       " 'LEMONDE95-011360']"
      ]
     },
     "execution_count": 21,
     "metadata": {},
     "output_type": "execute_result"
    }
   ],
   "source": [
    "print(len(relDocAll))\n",
    "relDocAll.keys()\n",
    "relDocAll[300]"
   ]
  },
  {
   "cell_type": "markdown",
   "metadata": {},
   "source": [
    "# 2. Read res files and collect rank (inc by 1, because they start from 0)"
   ]
  },
  {
   "cell_type": "code",
   "execution_count": 37,
   "metadata": {
    "collapsed": true
   },
   "outputs": [],
   "source": [
    "def getRelDocRanks(inputFile, relDocAll):\n",
    "    qidRelDocRanks = defaultdict(list) \n",
    "\n",
    "    i = 0 \n",
    "    with open(inputFile) as f:\n",
    "        for line in f:\n",
    "            i+=1\n",
    "            if i % 1000000 ==0 :\n",
    "                print(\"Processed lines: \", i, time.ctime())\n",
    "            resultLine = line.split()\n",
    "            queryId = int(resultLine[0])\n",
    "            current_docid = resultLine[2]\n",
    "            rank = int(resultLine[3]) + 1\n",
    "            \n",
    "            if current_docid in relDocAll[queryId]:  \n",
    "                qidRelDocRanks[queryId].append(rank) \n",
    "                \n",
    "    return qidRelDocRanks"
   ]
  },
  {
   "cell_type": "code",
   "execution_count": 24,
   "metadata": {
    "collapsed": true
   },
   "outputs": [],
   "source": [
    "qidRelDocRanks = getRelDocRanks(\"results-2005-2006/BM25P-CLEF-FR-bm25-plain-2005-2006-queries-p-10-alpha-0.res\", relDocAll)"
   ]
  },
  {
   "cell_type": "code",
   "execution_count": 25,
   "metadata": {
    "collapsed": true
   },
   "outputs": [],
   "source": [
    "def avgRank(qidRelDocRanks, over_all_queries=True):\n",
    "    if over_all_queries:\n",
    "        suma = 0\n",
    "        for k, v in qidRelDocRanks.items():\n",
    "            suma += np.mean(v)\n",
    "        return (suma/len(qidRelDocRanks))\n",
    "    else:\n",
    "        avgRankPerQuery = dict()\n",
    "        for k, v in qidRelDocRanks.items():\n",
    "            avgRankPerQuery[k] = np.mean(v)\n",
    "        return avgRankPerQuery"
   ]
  },
  {
   "cell_type": "code",
   "execution_count": 26,
   "metadata": {},
   "outputs": [
    {
     "data": {
      "text/plain": [
       "181.10730822516308"
      ]
     },
     "execution_count": 26,
     "metadata": {},
     "output_type": "execute_result"
    }
   ],
   "source": [
    "query_rank = avgRank(qidRelDocRanks, False)\n",
    "np.mean(list(query_rank.values()))"
   ]
  },
  {
   "cell_type": "code",
   "execution_count": 27,
   "metadata": {
    "collapsed": true
   },
   "outputs": [],
   "source": [
    "query_rank = avgRank(qidRelDocRanks)"
   ]
  },
  {
   "cell_type": "markdown",
   "metadata": {},
   "source": [
    "# 3. DO it for all files"
   ]
  },
  {
   "cell_type": "code",
   "execution_count": 29,
   "metadata": {
    "collapsed": true
   },
   "outputs": [],
   "source": [
    "# Settings\n",
    "dirEval = \"./results-2005-2006/\"\n",
    "baseTypes = [\"top5-idf\", \n",
    "             \"top5-tfidf\",\n",
    "             \"top10-idf\",\n",
    "             \"top10-tfidf\"]\n",
    "alphas = [1, 5, 10, 15, 20, 25, 30, 35, 40, 45, 50]\n",
    "ending = \".res\""
   ]
  },
  {
   "cell_type": "code",
   "execution_count": 30,
   "metadata": {
    "collapsed": true
   },
   "outputs": [],
   "source": [
    "metric_dict = defaultdict()\n",
    "\n",
    "for filename in os.listdir(dirEval):\n",
    "    if filename.endswith(ending):\n",
    "#         print(filename)\n",
    "        name_items = filename.split(\"-\")\n",
    "        baseType = name_items[3]+\"-\"+name_items[4]\n",
    "        alpha = filename.split(\".\")[0].split(\"-\")[11]\n",
    "        qidRelDocRanks = getRelDocRanks(dirEval+filename, relDocAll)\n",
    "        metric_dict[(baseType, int(alpha))] = avgRank(qidRelDocRanks)"
   ]
  },
  {
   "cell_type": "code",
   "execution_count": 31,
   "metadata": {},
   "outputs": [
    {
     "data": {
      "text/plain": [
       "defaultdict(None,\n",
       "            {('bm25-plain', 0): 181.10730822516317,\n",
       "             ('bm25-plain', 1): 181.10730822516317,\n",
       "             ('top10-idf', 1): 231.565525974754,\n",
       "             ('top10-idf', 5): 213.30380311906535,\n",
       "             ('top10-idf', 10): 203.22338505741868,\n",
       "             ('top10-idf', 15): 189.87767060309719,\n",
       "             ('top10-idf', 20): 189.62952002913849,\n",
       "             ('top10-idf', 25): 190.97021780113596,\n",
       "             ('top10-idf', 30): 192.36397143925387,\n",
       "             ('top10-idf', 35): 194.09495704284797,\n",
       "             ('top10-idf', 40): 194.97989924272457,\n",
       "             ('top10-idf', 45): 194.20967723473458,\n",
       "             ('top10-idf', 50): 195.47581510191137,\n",
       "             ('top10-tfidf', 1): 230.65917409766618,\n",
       "             ('top10-tfidf', 5): 206.9306949494688,\n",
       "             ('top10-tfidf', 10): 194.97061013629002,\n",
       "             ('top10-tfidf', 15): 188.01568557451313,\n",
       "             ('top10-tfidf', 20): 190.61725011532084,\n",
       "             ('top10-tfidf', 25): 186.50774609307027,\n",
       "             ('top10-tfidf', 30): 189.59516073000029,\n",
       "             ('top10-tfidf', 35): 191.07608913349242,\n",
       "             ('top10-tfidf', 40): 191.56619712476729,\n",
       "             ('top10-tfidf', 45): 192.38356165797043,\n",
       "             ('top10-tfidf', 50): 193.23763906742431,\n",
       "             ('top5-idf', 1): 258.16989599727606,\n",
       "             ('top5-idf', 5): 221.17341920830134,\n",
       "             ('top5-idf', 10): 212.86989974052179,\n",
       "             ('top5-idf', 15): 194.10541932463221,\n",
       "             ('top5-idf', 20): 193.16742939496788,\n",
       "             ('top5-idf', 25): 191.19064785701823,\n",
       "             ('top5-idf', 30): 192.38387808548839,\n",
       "             ('top5-idf', 35): 194.04963268204187,\n",
       "             ('top5-idf', 40): 196.94199985005159,\n",
       "             ('top5-idf', 45): 198.94328170886183,\n",
       "             ('top5-idf', 50): 198.45516595638824,\n",
       "             ('top5-tfidf', 1): 224.73849963130411,\n",
       "             ('top5-tfidf', 5): 208.47620572997502,\n",
       "             ('top5-tfidf', 10): 198.360820259056,\n",
       "             ('top5-tfidf', 15): 186.67730549181653,\n",
       "             ('top5-tfidf', 20): 184.21491978870819,\n",
       "             ('top5-tfidf', 25): 185.11096143955999,\n",
       "             ('top5-tfidf', 30): 186.86572163592186,\n",
       "             ('top5-tfidf', 35): 189.25486901289133,\n",
       "             ('top5-tfidf', 40): 190.54818974845642,\n",
       "             ('top5-tfidf', 45): 191.56124242026283,\n",
       "             ('top5-tfidf', 50): 192.39016836630756})"
      ]
     },
     "execution_count": 31,
     "metadata": {},
     "output_type": "execute_result"
    }
   ],
   "source": [
    "metric_dict"
   ]
  },
  {
   "cell_type": "code",
   "execution_count": 32,
   "metadata": {
    "collapsed": true
   },
   "outputs": [],
   "source": [
    "for k,v in metric_dict.items():\n",
    "    if v < metric_dict[(\"bm25-plain\",0)]:\n",
    "        print(k,v)"
   ]
  },
  {
   "cell_type": "code",
   "execution_count": 34,
   "metadata": {},
   "outputs": [],
   "source": [
    "metric_dict_per_query = defaultdict()\n",
    "\n",
    "for filename in os.listdir(dirEval):\n",
    "    if filename.endswith(ending):\n",
    "#         print(filename)\n",
    "        name_items = filename.split(\"-\")\n",
    "        baseType = name_items[3]+\"-\"+name_items[4]\n",
    "        alpha = filename.split(\".\")[0].split(\"-\")[11]\n",
    "        qidRelDocRanks = getRelDocRanks(dirEval+filename, relDocAll)\n",
    "        metric_dict_per_query[(baseType, int(alpha))] = avgRank(qidRelDocRanks, False)"
   ]
  },
  {
   "cell_type": "markdown",
   "metadata": {},
   "source": [
    "# Check if statistically significant"
   ]
  },
  {
   "cell_type": "code",
   "execution_count": 39,
   "metadata": {},
   "outputs": [
    {
     "name": "stdout",
     "output_type": "stream",
     "text": [
      "182.278155003\n",
      "181.107308225\n",
      "Ttest_indResult(statistic=0.050689978014932829, pvalue=0.95962876866641234)\n",
      "Ttest_relResult(statistic=0.12528729197625801, pvalue=0.90057554805061968)\n"
     ]
    }
   ],
   "source": [
    "# compare BM25 with  ('top5-tfidf', 20)\n",
    "# data comes from dictionary which is not ordered. we MUST order values according to queryID\n",
    "\n",
    "a_metric_dict = metric_dict_per_query[('top5-tfidf', 15)]\n",
    "a_metric_list = sorted(list(a_metric_dict.items()), key=lambda x: x[0])\n",
    "\n",
    "\n",
    "b_metric_dict = metric_dict_per_query[('bm25-plain', 0)]\n",
    "b_metric_list = sorted(list(b_metric_dict.items()), key=lambda x: x[0])\n",
    "\n",
    "\n",
    "intersection = a_metric_dict.keys() & b_metric_dict.keys()\n",
    "# print(len(intersection))\n",
    "a = [v for k,v in a_metric_list if k in intersection]\n",
    "print(np.mean(a))\n",
    "b = [v for k,v in b_metric_list if k in intersection]\n",
    "print(np.mean(b))\n",
    "\n",
    "\n",
    "print(stats.ttest_ind(a, b))\n",
    "print(stats.ttest_rel(a, b))"
   ]
  },
  {
   "cell_type": "code",
   "execution_count": 41,
   "metadata": {},
   "outputs": [
    {
     "name": "stdout",
     "output_type": "stream",
     "text": [
      "\u001b[0m ('top10-idf', 25)  \u001b[0m 185.969890524 181.107308225  \u001b[0m Ttest_relResult(statistic=0.44138113149119562, pvalue=0.65999569843657691) \u001b[0m \n",
      "\u001b[0m ('top5-idf', 35)  \u001b[0m 192.368859415 181.107308225  \u001b[0m Ttest_relResult(statistic=0.95136622757495615, pvalue=0.34396646716069867) \u001b[0m \n",
      "\u001b[0m ('top5-idf', 50)  \u001b[0m 196.822805143 181.107308225  \u001b[0m Ttest_relResult(statistic=1.2427890355035986, pvalue=0.21717374688356383) \u001b[0m \n",
      "\u001b[0m ('top5-tfidf', 30)  \u001b[0m 182.468641654 181.107308225  \u001b[0m Ttest_relResult(statistic=0.12486730508768772, pvalue=0.90090708724020052) \u001b[0m \n",
      "\u001b[0m ('top10-tfidf', 30)  \u001b[0m 181.634667991 181.107308225  \u001b[0m Ttest_relResult(statistic=0.052452113181520682, pvalue=0.95828469832226415) \u001b[0m \n",
      "\u001b[0m ('top10-idf', 45)  \u001b[0m 189.244948413 181.107308225  \u001b[0m Ttest_relResult(statistic=0.69886286454887703, pvalue=0.48643982286613929) \u001b[0m \n",
      "\u001b[0m ('top10-idf', 35)  \u001b[0m 189.12896756 181.107308225  \u001b[0m Ttest_relResult(statistic=0.67416296425205069, pvalue=0.50193564309211136) \u001b[0m \n",
      "\u001b[0m ('top10-idf', 5)  \u001b[0m 208.559888868 181.107308225  \u001b[0m Ttest_relResult(statistic=2.4095679856491103, pvalue=0.018007525199963157) \u001b[31m Statistically diff\n",
      "\u001b[0m ('top5-idf', 25)  \u001b[0m 189.478457174 181.107308225  \u001b[0m Ttest_relResult(statistic=0.76638093099400117, pvalue=0.44545519286381485) \u001b[0m \n",
      "\u001b[0m ('top5-tfidf', 25)  \u001b[0m 180.694598378 181.107308225  \u001b[0m Ttest_relResult(statistic=-0.040007758080566787, pvalue=0.96817555801742827) \u001b[0m \n",
      "\u001b[0m ('top5-tfidf', 20)  \u001b[0m 179.788710116 181.107308225  \u001b[0m Ttest_relResult(statistic=-0.13611343752926958, pvalue=0.89203560111970748) \u001b[0m \n",
      "\u001b[0m ('top10-tfidf', 35)  \u001b[0m 183.131870333 181.107308225  \u001b[0m Ttest_relResult(statistic=0.19338573975920512, pvalue=0.84709265377892229) \u001b[0m \n",
      "\u001b[0m ('top10-idf', 20)  \u001b[0m 184.61445981 181.107308225  \u001b[0m Ttest_relResult(statistic=0.33760900909862329, pvalue=0.7364440112349866) \u001b[0m \n",
      "\u001b[0m ('top10-idf', 10)  \u001b[0m 198.35770797 181.107308225  \u001b[0m Ttest_relResult(statistic=2.5214609335373814, pvalue=0.01344641102377964) \u001b[31m Statistically diff\n",
      "\u001b[0m ('top5-idf', 45)  \u001b[0m 197.316284805 181.107308225  \u001b[0m Ttest_relResult(statistic=1.2859344072810233, pvalue=0.20176459833889471) \u001b[0m \n",
      "\u001b[0m ('top10-idf', 1)  \u001b[0m 226.920194806 181.654663466  \u001b[0m Ttest_relResult(statistic=3.5296937183393493, pvalue=0.00066420999090924812) \u001b[31m Statistically diff\n",
      "\u001b[0m ('top5-tfidf', 15)  \u001b[0m 182.278155003 181.107308225  \u001b[0m Ttest_relResult(statistic=0.12528729197625801, pvalue=0.90057554805061968) \u001b[0m \n",
      "\u001b[0m ('top10-tfidf', 10)  \u001b[0m 187.06918827 181.107308225  \u001b[0m Ttest_relResult(statistic=1.6233888595185226, pvalue=0.10800395969254685) \u001b[0m \n",
      "\u001b[0m ('top5-tfidf', 10)  \u001b[0m 194.090060042 181.107308225  \u001b[0m Ttest_relResult(statistic=2.1080559200406079, pvalue=0.037805846993128493) \u001b[31m Statistically diff\n",
      "\u001b[0m ('top5-tfidf', 50)  \u001b[0m 188.05379659 181.107308225  \u001b[0m Ttest_relResult(statistic=0.57572231234859828, pvalue=0.56623967973112621) \u001b[0m \n",
      "\u001b[0m ('bm25-plain', 1)  \u001b[0m 181.107308225 181.107308225  \u001b[0m Ttest_relResult(statistic=nan, pvalue=nan) \u001b[0m \n",
      "\u001b[0m ('top5-idf', 40)  \u001b[0m 195.293010837 181.107308225  \u001b[0m Ttest_relResult(statistic=1.151865296012005, pvalue=0.25242708121587026) \u001b[0m \n",
      "\u001b[0m ('top10-tfidf', 1)  \u001b[0m 215.8987061 181.654663466  \u001b[0m Ttest_relResult(statistic=2.8145760329668912, pvalue=0.006025509133456672) \u001b[31m Statistically diff\n",
      "\u001b[0m ('bm25-plain', 0)  \u001b[0m 181.107308225 181.107308225  \u001b[0m Ttest_relResult(statistic=nan, pvalue=nan) \u001b[0m \n",
      "\u001b[0m ('top5-tfidf', 5)  \u001b[0m 204.327592606 181.107308225  \u001b[0m Ttest_relResult(statistic=2.2454023886857639, pvalue=0.027191388479936435) \u001b[31m Statistically diff\n",
      "\u001b[0m ('top10-tfidf', 25)  \u001b[0m 178.51332572 181.107308225  \u001b[0m Ttest_relResult(statistic=-0.27421854506928744, pvalue=0.78454509229363456) \u001b[0m \n",
      "\u001b[0m ('top5-idf', 10)  \u001b[0m 211.406931606 181.107308225  \u001b[0m Ttest_relResult(statistic=2.9090632945501507, pvalue=0.004566436597535424) \u001b[31m Statistically diff\n",
      "\u001b[0m ('top5-idf', 1)  \u001b[0m 248.960230739 181.654663466  \u001b[0m Ttest_relResult(statistic=5.0732509559431023, pvalue=2.1545249499519063e-06) \u001b[31m Statistically diff\n",
      "\u001b[0m ('top5-tfidf', 1)  \u001b[0m 220.67938165 181.654663466  \u001b[0m Ttest_relResult(statistic=2.9204562933351288, pvalue=0.0044390455888523297) \u001b[31m Statistically diff\n",
      "\u001b[0m ('top5-tfidf', 35)  \u001b[0m 184.884043398 181.107308225  \u001b[0m Ttest_relResult(statistic=0.33537581675653572, pvalue=0.73812210118611887) \u001b[0m \n",
      "\u001b[0m ('top5-idf', 20)  \u001b[0m 191.476961586 181.107308225  \u001b[0m Ttest_relResult(statistic=0.99918631470513208, pvalue=0.32038334725734086) \u001b[0m \n",
      "\u001b[0m ('top5-idf', 30)  \u001b[0m 190.684799823 181.107308225  \u001b[0m Ttest_relResult(statistic=0.83614323243422306, pvalue=0.40528881862039123) \u001b[0m \n",
      "\u001b[0m ('top10-idf', 50)  \u001b[0m 190.524999883 181.107308225  \u001b[0m Ttest_relResult(statistic=0.78618609287464047, pvalue=0.43382357841119457) \u001b[0m \n",
      "\u001b[0m ('top5-tfidf', 40)  \u001b[0m 186.191576449 181.107308225  \u001b[0m Ttest_relResult(statistic=0.43933002067013649, pvalue=0.66147546440240479) \u001b[0m \n",
      "\u001b[0m ('top10-tfidf', 15)  \u001b[0m 180.037835965 181.107308225  \u001b[0m Ttest_relResult(statistic=-0.13603965887175273, pvalue=0.89209375776209088) \u001b[0m \n",
      "\u001b[0m ('top5-tfidf', 45)  \u001b[0m 187.215761568 181.107308225  \u001b[0m Ttest_relResult(statistic=0.52103276346555261, pvalue=0.60362359999919657) \u001b[0m \n",
      "\u001b[0m ('top5-idf', 5)  \u001b[0m 219.7864572 180.96961165  \u001b[0m Ttest_relResult(statistic=3.2365558143022306, pvalue=0.0016998619711163909) \u001b[31m Statistically diff\n",
      "\u001b[0m ('top10-idf', 15)  \u001b[0m 184.865337313 181.107308225  \u001b[0m Ttest_relResult(statistic=0.39169031557145206, pvalue=0.69621294188319349) \u001b[0m \n",
      "\u001b[0m ('top5-idf', 15)  \u001b[0m 192.425259097 181.107308225  \u001b[0m Ttest_relResult(statistic=1.0895127250969121, pvalue=0.27883651220457734) \u001b[0m \n",
      "\u001b[0m ('top10-tfidf', 20)  \u001b[0m 182.667989128 181.107308225  \u001b[0m Ttest_relResult(statistic=0.18123172646947086, pvalue=0.85659321259605126) \u001b[0m \n",
      "\u001b[0m ('top10-idf', 40)  \u001b[0m 190.023634399 181.107308225  \u001b[0m Ttest_relResult(statistic=0.75730468120024319, pvalue=0.45084551969477016) \u001b[0m \n",
      "\u001b[0m ('top10-tfidf', 40)  \u001b[0m 183.627364126 181.107308225  \u001b[0m Ttest_relResult(statistic=0.23452775463667361, pvalue=0.81510801651471654) \u001b[0m \n",
      "\u001b[0m ('top10-tfidf', 45)  \u001b[0m 184.453710687 181.107308225  \u001b[0m Ttest_relResult(statistic=0.3028200040360976, pvalue=0.76272584497455864) \u001b[0m \n",
      "\u001b[0m ('top10-idf', 30)  \u001b[0m 187.378960136 181.107308225  \u001b[0m Ttest_relResult(statistic=0.53977780138297404, pvalue=0.5906833381296499) \u001b[0m \n",
      "\u001b[0m ('top10-tfidf', 5)  \u001b[0m 199.160702586 181.107308225  \u001b[0m Ttest_relResult(statistic=1.9581753180931143, pvalue=0.053306471551348183) \u001b[0m \n",
      "\u001b[0m ('top10-tfidf', 50)  \u001b[0m 185.317173563 181.107308225  \u001b[0m Ttest_relResult(statistic=0.37539555077251718, pvalue=0.70824959237431717) \u001b[0m \n"
     ]
    }
   ],
   "source": [
    "# compare BM25 with  ('top5-tfidf', 20)\n",
    "\n",
    "baseline_metric_dict = metric_dict_per_query[('bm25-plain', 0)]\n",
    "baseline_metric_list = sorted(list(b_metric_dict.items()), key=lambda x: x[0])\n",
    "\n",
    "for k in metric_dict_per_query.keys():\n",
    "    print(\"\\x1b[0m \"+str(k), end=\"  \")\n",
    "    a_metric_dict = metric_dict_per_query[k]\n",
    "    a_metric_list = sorted(list(a_metric_dict.items()), key=lambda x: x[0])\n",
    "    \n",
    "    intersection = a_metric_dict.keys() & baseline_metric_dict.keys()\n",
    "    a = [v for k,v in a_metric_list if k in intersection]\n",
    "    b = [v for k,v in baseline_metric_list if k in intersection]\n",
    "\n",
    "    print(\"\\x1b[0m \"+str(np.mean(a))+ \" \"+ str(np.mean(b)), end=\"  \") \n",
    "    \n",
    "#     result = stats.ttest_ind(a, b, equal_var=False)\n",
    "    result = stats.ttest_rel(a, b)\n",
    "    print(\"\\x1b[0m \"+str(result), end=\" \")\n",
    "    print(\"\\x1b[31m Statistically diff\" if result[1]<0.05 else \"\\x1b[0m \")"
   ]
  },
  {
   "cell_type": "code",
   "execution_count": null,
   "metadata": {
    "collapsed": true
   },
   "outputs": [],
   "source": []
  }
 ],
 "metadata": {
  "kernelspec": {
   "display_name": "Python 3",
   "language": "python",
   "name": "python3"
  },
  "language_info": {
   "codemirror_mode": {
    "name": "ipython",
    "version": 3
   },
   "file_extension": ".py",
   "mimetype": "text/x-python",
   "name": "python",
   "nbconvert_exporter": "python",
   "pygments_lexer": "ipython3",
   "version": "3.6.3"
  }
 },
 "nbformat": 4,
 "nbformat_minor": 2
}
